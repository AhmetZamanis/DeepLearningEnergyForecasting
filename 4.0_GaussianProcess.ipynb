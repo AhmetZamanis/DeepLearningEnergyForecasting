{
 "cells": [
  {
   "cell_type": "markdown",
   "id": "62bd4214-e9ea-4058-bd70-e97ab19ac65c",
   "metadata": {},
   "source": [
    "This notebook uses the GPyTorch package to apply Gaussian Process regression to the multi-step energy consumption forecasting problem."
   ]
  },
  {
   "cell_type": "markdown",
   "id": "08149750-e8ab-40e7-bbe8-fc184e72c1be",
   "metadata": {},
   "source": [
    "## Setup"
   ]
  },
  {
   "cell_type": "code",
   "execution_count": 1,
   "id": "4a418d22-4023-4f4d-93bc-8280ed0a961d",
   "metadata": {},
   "outputs": [],
   "source": [
    "import pandas as pd\n",
    "import numpy as np\n",
    "import matplotlib.pyplot as plt\n",
    "import seaborn as sns\n",
    "import gpytorch\n",
    "import torch\n",
    "\n",
    "from gpytorch.kernels import ScaleKernel, LinearKernel, PeriodicKernel, AdditiveKernel, ProductKernel\n",
    "from gpytorch.constraints import Interval\n",
    "from gpytorch.priors import NormalPrior\n",
    "from sklearn.preprocessing import MinMaxScaler"
   ]
  },
  {
   "cell_type": "code",
   "execution_count": 2,
   "id": "669d2852-8794-427f-9d0a-d240d55cb141",
   "metadata": {},
   "outputs": [],
   "source": [
    "random_seed = 1923"
   ]
  },
  {
   "cell_type": "code",
   "execution_count": 3,
   "id": "7f8a6d62-f05e-4689-afde-6edd36dac68b",
   "metadata": {},
   "outputs": [],
   "source": [
    "# Set Torch settings\n",
    "torch.set_default_dtype(torch.float32)\n",
    "torch.set_float32_matmul_precision('medium')"
   ]
  },
  {
   "cell_type": "code",
   "execution_count": 4,
   "id": "fedd871b-5f69-4cab-8583-d5a58dad00fd",
   "metadata": {},
   "outputs": [],
   "source": [
    "# Plot settings\n",
    "plt.rcParams[\"figure.autolayout\"] = True\n",
    "plt.rcParams['figure.dpi'] = 100\n",
    "sns.set_style(\"darkgrid\")"
   ]
  },
  {
   "cell_type": "code",
   "execution_count": 5,
   "id": "5dcbe585-0804-4a60-a97e-2d3a957c0a61",
   "metadata": {},
   "outputs": [],
   "source": [
    "output_dir = \"./OutputData/\""
   ]
  },
  {
   "cell_type": "code",
   "execution_count": 6,
   "id": "d20e98cf-95b1-477f-966d-83d1d5064616",
   "metadata": {},
   "outputs": [],
   "source": [
    "df = pd.read_csv(output_dir + \"full_data.csv\")\n",
    "df[\"time\"] = pd.to_datetime(df[\"time\"], format = \"%d:%m:%Y:%H:%M\")"
   ]
  },
  {
   "cell_type": "code",
   "execution_count": 7,
   "id": "21ac72c8-f4b5-4cce-bcc3-439640f338dd",
   "metadata": {},
   "outputs": [],
   "source": [
    "# Drop generation columns\n",
    "gen_cols = df.columns.values[2:].tolist()\n",
    "df = df.drop(gen_cols, axis = 1)"
   ]
  },
  {
   "cell_type": "code",
   "execution_count": 8,
   "id": "ec1d9ff2-4bf8-41ca-a272-a601006d0932",
   "metadata": {},
   "outputs": [
    {
     "data": {
      "text/html": [
       "<div>\n",
       "<style scoped>\n",
       "    .dataframe tbody tr th:only-of-type {\n",
       "        vertical-align: middle;\n",
       "    }\n",
       "\n",
       "    .dataframe tbody tr th {\n",
       "        vertical-align: top;\n",
       "    }\n",
       "\n",
       "    .dataframe thead th {\n",
       "        text-align: right;\n",
       "    }\n",
       "</style>\n",
       "<table border=\"1\" class=\"dataframe\">\n",
       "  <thead>\n",
       "    <tr style=\"text-align: right;\">\n",
       "      <th></th>\n",
       "      <th>time</th>\n",
       "      <th>consumption_MWh</th>\n",
       "    </tr>\n",
       "  </thead>\n",
       "  <tbody>\n",
       "    <tr>\n",
       "      <th>0</th>\n",
       "      <td>2018-01-01 00:00:00</td>\n",
       "      <td>27412.81</td>\n",
       "    </tr>\n",
       "    <tr>\n",
       "      <th>1</th>\n",
       "      <td>2018-01-01 01:00:00</td>\n",
       "      <td>26324.39</td>\n",
       "    </tr>\n",
       "    <tr>\n",
       "      <th>2</th>\n",
       "      <td>2018-01-01 02:00:00</td>\n",
       "      <td>24635.32</td>\n",
       "    </tr>\n",
       "    <tr>\n",
       "      <th>3</th>\n",
       "      <td>2018-01-01 03:00:00</td>\n",
       "      <td>23872.12</td>\n",
       "    </tr>\n",
       "    <tr>\n",
       "      <th>4</th>\n",
       "      <td>2018-01-01 04:00:00</td>\n",
       "      <td>23194.89</td>\n",
       "    </tr>\n",
       "    <tr>\n",
       "      <th>...</th>\n",
       "      <td>...</td>\n",
       "      <td>...</td>\n",
       "    </tr>\n",
       "    <tr>\n",
       "      <th>52579</th>\n",
       "      <td>2023-12-31 19:00:00</td>\n",
       "      <td>35090.93</td>\n",
       "    </tr>\n",
       "    <tr>\n",
       "      <th>52580</th>\n",
       "      <td>2023-12-31 20:00:00</td>\n",
       "      <td>33310.94</td>\n",
       "    </tr>\n",
       "    <tr>\n",
       "      <th>52581</th>\n",
       "      <td>2023-12-31 21:00:00</td>\n",
       "      <td>32083.96</td>\n",
       "    </tr>\n",
       "    <tr>\n",
       "      <th>52582</th>\n",
       "      <td>2023-12-31 22:00:00</td>\n",
       "      <td>30469.49</td>\n",
       "    </tr>\n",
       "    <tr>\n",
       "      <th>52583</th>\n",
       "      <td>2023-12-31 23:00:00</td>\n",
       "      <td>30029.91</td>\n",
       "    </tr>\n",
       "  </tbody>\n",
       "</table>\n",
       "<p>52584 rows × 2 columns</p>\n",
       "</div>"
      ],
      "text/plain": [
       "                     time  consumption_MWh\n",
       "0     2018-01-01 00:00:00         27412.81\n",
       "1     2018-01-01 01:00:00         26324.39\n",
       "2     2018-01-01 02:00:00         24635.32\n",
       "3     2018-01-01 03:00:00         23872.12\n",
       "4     2018-01-01 04:00:00         23194.89\n",
       "...                   ...              ...\n",
       "52579 2023-12-31 19:00:00         35090.93\n",
       "52580 2023-12-31 20:00:00         33310.94\n",
       "52581 2023-12-31 21:00:00         32083.96\n",
       "52582 2023-12-31 22:00:00         30469.49\n",
       "52583 2023-12-31 23:00:00         30029.91\n",
       "\n",
       "[52584 rows x 2 columns]"
      ]
     },
     "execution_count": 8,
     "metadata": {},
     "output_type": "execute_result"
    }
   ],
   "source": [
    "df"
   ]
  },
  {
   "cell_type": "markdown",
   "id": "a7ae553b-5c8b-49c7-a486-6c5185bf111e",
   "metadata": {},
   "source": [
    "## Data prep"
   ]
  },
  {
   "cell_type": "raw",
   "id": "9a92aba0-eac9-4eb3-a5f5-2bc7ebbd3c28",
   "metadata": {},
   "source": [
    "# Using the consumption lag as a predictor would require the model to be applied autoregressively for multi-horizon forecasts.\n",
    "df[\"consumption_lag2\"] = df[\"consumption_MWh\"].shift(2)\n",
    "df = df.dropna()"
   ]
  },
  {
   "cell_type": "markdown",
   "id": "0196c616-a1ce-4339-8ab7-c83406f0dd4e",
   "metadata": {},
   "source": [
    "We do not need to cyclical encode seasonal features, as we will apply a periodic kernel to them."
   ]
  },
  {
   "cell_type": "code",
   "execution_count": 9,
   "id": "8aac49c4-dc2f-4768-8449-6b723c6127bc",
   "metadata": {},
   "outputs": [],
   "source": [
    "# Add time columns\n",
    "\n",
    "# Trend\n",
    "df[\"trend\"] = df.index.values\n",
    "\n",
    "# Hour of day\n",
    "df[\"hour\"] = df.time.dt.hour + 1\n",
    "\n",
    "# Day of week\n",
    "df[\"dayofweek\"] = df.time.dt.dayofweek + 1\n",
    "\n",
    "# Month\n",
    "df[\"month\"] = df.time.dt.month"
   ]
  },
  {
   "cell_type": "code",
   "execution_count": 10,
   "id": "82996eeb-c9ae-4f26-92ca-752ed658a964",
   "metadata": {},
   "outputs": [
    {
     "data": {
      "text/html": [
       "<div>\n",
       "<style scoped>\n",
       "    .dataframe tbody tr th:only-of-type {\n",
       "        vertical-align: middle;\n",
       "    }\n",
       "\n",
       "    .dataframe tbody tr th {\n",
       "        vertical-align: top;\n",
       "    }\n",
       "\n",
       "    .dataframe thead th {\n",
       "        text-align: right;\n",
       "    }\n",
       "</style>\n",
       "<table border=\"1\" class=\"dataframe\">\n",
       "  <thead>\n",
       "    <tr style=\"text-align: right;\">\n",
       "      <th></th>\n",
       "      <th>time</th>\n",
       "      <th>consumption_MWh</th>\n",
       "      <th>trend</th>\n",
       "      <th>hour</th>\n",
       "      <th>dayofweek</th>\n",
       "      <th>month</th>\n",
       "    </tr>\n",
       "  </thead>\n",
       "  <tbody>\n",
       "    <tr>\n",
       "      <th>0</th>\n",
       "      <td>2018-01-01 00:00:00</td>\n",
       "      <td>27412.81</td>\n",
       "      <td>0</td>\n",
       "      <td>1</td>\n",
       "      <td>1</td>\n",
       "      <td>1</td>\n",
       "    </tr>\n",
       "    <tr>\n",
       "      <th>1</th>\n",
       "      <td>2018-01-01 01:00:00</td>\n",
       "      <td>26324.39</td>\n",
       "      <td>1</td>\n",
       "      <td>2</td>\n",
       "      <td>1</td>\n",
       "      <td>1</td>\n",
       "    </tr>\n",
       "    <tr>\n",
       "      <th>2</th>\n",
       "      <td>2018-01-01 02:00:00</td>\n",
       "      <td>24635.32</td>\n",
       "      <td>2</td>\n",
       "      <td>3</td>\n",
       "      <td>1</td>\n",
       "      <td>1</td>\n",
       "    </tr>\n",
       "    <tr>\n",
       "      <th>3</th>\n",
       "      <td>2018-01-01 03:00:00</td>\n",
       "      <td>23872.12</td>\n",
       "      <td>3</td>\n",
       "      <td>4</td>\n",
       "      <td>1</td>\n",
       "      <td>1</td>\n",
       "    </tr>\n",
       "    <tr>\n",
       "      <th>4</th>\n",
       "      <td>2018-01-01 04:00:00</td>\n",
       "      <td>23194.89</td>\n",
       "      <td>4</td>\n",
       "      <td>5</td>\n",
       "      <td>1</td>\n",
       "      <td>1</td>\n",
       "    </tr>\n",
       "    <tr>\n",
       "      <th>...</th>\n",
       "      <td>...</td>\n",
       "      <td>...</td>\n",
       "      <td>...</td>\n",
       "      <td>...</td>\n",
       "      <td>...</td>\n",
       "      <td>...</td>\n",
       "    </tr>\n",
       "    <tr>\n",
       "      <th>52579</th>\n",
       "      <td>2023-12-31 19:00:00</td>\n",
       "      <td>35090.93</td>\n",
       "      <td>52579</td>\n",
       "      <td>20</td>\n",
       "      <td>7</td>\n",
       "      <td>12</td>\n",
       "    </tr>\n",
       "    <tr>\n",
       "      <th>52580</th>\n",
       "      <td>2023-12-31 20:00:00</td>\n",
       "      <td>33310.94</td>\n",
       "      <td>52580</td>\n",
       "      <td>21</td>\n",
       "      <td>7</td>\n",
       "      <td>12</td>\n",
       "    </tr>\n",
       "    <tr>\n",
       "      <th>52581</th>\n",
       "      <td>2023-12-31 21:00:00</td>\n",
       "      <td>32083.96</td>\n",
       "      <td>52581</td>\n",
       "      <td>22</td>\n",
       "      <td>7</td>\n",
       "      <td>12</td>\n",
       "    </tr>\n",
       "    <tr>\n",
       "      <th>52582</th>\n",
       "      <td>2023-12-31 22:00:00</td>\n",
       "      <td>30469.49</td>\n",
       "      <td>52582</td>\n",
       "      <td>23</td>\n",
       "      <td>7</td>\n",
       "      <td>12</td>\n",
       "    </tr>\n",
       "    <tr>\n",
       "      <th>52583</th>\n",
       "      <td>2023-12-31 23:00:00</td>\n",
       "      <td>30029.91</td>\n",
       "      <td>52583</td>\n",
       "      <td>24</td>\n",
       "      <td>7</td>\n",
       "      <td>12</td>\n",
       "    </tr>\n",
       "  </tbody>\n",
       "</table>\n",
       "<p>52584 rows × 6 columns</p>\n",
       "</div>"
      ],
      "text/plain": [
       "                     time  consumption_MWh  trend  hour  dayofweek  month\n",
       "0     2018-01-01 00:00:00         27412.81      0     1          1      1\n",
       "1     2018-01-01 01:00:00         26324.39      1     2          1      1\n",
       "2     2018-01-01 02:00:00         24635.32      2     3          1      1\n",
       "3     2018-01-01 03:00:00         23872.12      3     4          1      1\n",
       "4     2018-01-01 04:00:00         23194.89      4     5          1      1\n",
       "...                   ...              ...    ...   ...        ...    ...\n",
       "52579 2023-12-31 19:00:00         35090.93  52579    20          7     12\n",
       "52580 2023-12-31 20:00:00         33310.94  52580    21          7     12\n",
       "52581 2023-12-31 21:00:00         32083.96  52581    22          7     12\n",
       "52582 2023-12-31 22:00:00         30469.49  52582    23          7     12\n",
       "52583 2023-12-31 23:00:00         30029.91  52583    24          7     12\n",
       "\n",
       "[52584 rows x 6 columns]"
      ]
     },
     "execution_count": 10,
     "metadata": {},
     "output_type": "execute_result"
    }
   ],
   "source": [
    "df"
   ]
  },
  {
   "cell_type": "code",
   "execution_count": 11,
   "id": "d18ff6f2-7ef9-4bde-9082-b24a1b1d2206",
   "metadata": {},
   "outputs": [],
   "source": [
    "# Split features & target, create tensors\n",
    "X = torch.tensor(\n",
    "        df.drop([\"time\", \"consumption_MWh\",\n",
    "                 #\"hour\", \"dayofweek\", \"month\"\n",
    "                ], axis = 1).values, dtype = torch.float32)\n",
    "y = torch.tensor(\n",
    "        df[\"consumption_MWh\"].values, dtype = torch.float32)"
   ]
  },
  {
   "cell_type": "code",
   "execution_count": 12,
   "id": "e1cf01c5-706c-44a3-93fc-bbb5147eabbd",
   "metadata": {},
   "outputs": [],
   "source": [
    "# Evaluation parameters that match the sequence2sequence testing scheme\n",
    "horizon = 32 # Forecast horizon\n",
    "first_t = df[df[\"time\"] == '2022-10-18 16:00:00'].index[0] # First prediction point\n",
    "stride = 24 # Number of timesteps between each prediction point"
   ]
  },
  {
   "cell_type": "raw",
   "id": "39c95005-b489-4e60-a831-45f7aaddfd79",
   "metadata": {},
   "source": [
    "# Initial train - test split\n",
    "X_train, X_test = X[:first_t, :], X[first_t:, :]\n",
    "y_train, y_test = y[:first_t], y[first_t:]"
   ]
  },
  {
   "cell_type": "code",
   "execution_count": 66,
   "id": "f7e420b3-8d4f-4fa9-9435-134f061ed85e",
   "metadata": {},
   "outputs": [],
   "source": [
    "# Initial train - test split, subset\n",
    "X_train, X_test = X[40000:first_t, :], X[first_t:-10000, :]\n",
    "y_train, y_test = y[40000:first_t], y[first_t:-10000:]"
   ]
  },
  {
   "cell_type": "code",
   "execution_count": 67,
   "id": "29d6ebe0-cf5f-4839-a464-f410efd0259c",
   "metadata": {},
   "outputs": [],
   "source": [
    "# Feature & target scaling\n",
    "scaler = MinMaxScaler()\n",
    "X_train = torch.tensor(scaler.fit_transform(X_train))\n",
    "X_test = torch.tensor(scaler.transform(X_test))\n",
    "\n",
    "scaler_target = MinMaxScaler()\n",
    "y_train = torch.tensor(scaler_target.fit_transform(y_train.unsqueeze(-1))).squeeze()\n",
    "y_test = torch.tensor(scaler_target.transform(y_test.unsqueeze(-1))).squeeze()"
   ]
  },
  {
   "cell_type": "markdown",
   "id": "2f308b11-7d99-4cda-8e92-b0bfa245137f",
   "metadata": {},
   "source": [
    "Clean up the data splitting & scaling code."
   ]
  },
  {
   "cell_type": "markdown",
   "id": "85695f2d-70d5-4c31-a16e-61dddb183f55",
   "metadata": {},
   "source": [
    "## Model & wrapper definition"
   ]
  },
  {
   "cell_type": "markdown",
   "id": "5727d65f-006f-418b-bcb0-964639f8cd1a",
   "metadata": {},
   "source": [
    "Switch to sparse / variational inference with minibatch optimization.\n",
    "Covariance kernel is likely fine."
   ]
  },
  {
   "cell_type": "code",
   "execution_count": 68,
   "id": "76fd89e6-4c21-452f-96ca-e06f9db81c34",
   "metadata": {},
   "outputs": [],
   "source": [
    "# ExactGP model class\n",
    "class ExactGPModel(gpytorch.models.ExactGP):\n",
    "\n",
    "    def __init__(self, X_train, y_train, likelihood):\n",
    "        super().__init__(X_train, y_train, likelihood)\n",
    "        self.mean_module = gpytorch.means.ConstantMean()\n",
    "        #self.mean_module = gpytorch.means.ZeroMean()\n",
    "        self.covariance_module = AdditiveKernel(\n",
    "            LinearKernel(active_dims = 0),\n",
    "            #ScaleKernel(LinearKernel(active_dims = 0)),\n",
    "            ScaleKernel(PeriodicKernel(\n",
    "                active_dims = (1),\n",
    "                period_length_prior = NormalPrior(24, 1)\n",
    "                #period_length_constraint = Interval(23, 25) \n",
    "            )),\n",
    "            ScaleKernel(PeriodicKernel(\n",
    "                active_dims = (2),\n",
    "                period_length_prior = NormalPrior(7, 1),\n",
    "                #period_length_constraint = Interval(6, 8) \n",
    "            )),\n",
    "            ScaleKernel(PeriodicKernel(\n",
    "                active_dims = (3),\n",
    "                period_length_prior = NormalPrior(12, 1)\n",
    "                #period_length_constraint = Interval(11, 13) \n",
    "            )),\n",
    "        )\n",
    "\n",
    "    def forward(self, x):\n",
    "        mean = self.mean_module(x)\n",
    "        covar = self.covariance_module(x)\n",
    "        return gpytorch.distributions.MultivariateNormal(mean, covar)"
   ]
  },
  {
   "cell_type": "code",
   "execution_count": 69,
   "id": "74554259-6cfc-4e2f-b1ef-c62fc4c06d86",
   "metadata": {},
   "outputs": [],
   "source": [
    "# ExactGP wrapper class\n",
    "class ExactGP:\n",
    "    \n",
    "    def __init__(self, model, likelihood, cuda = True):\n",
    "        self.model = model\n",
    "        self.likelihood = likelihood\n",
    "        self.cuda = cuda\n",
    "\n",
    "    # Training method\n",
    "    def train(self, X_train, y_train, max_epochs, learning_rate = 0.1, early_stop = 10, early_stop_tol = 1e-4):\n",
    "\n",
    "        # Put tensors on GPU if cuda is enabled\n",
    "        if self.cuda:\n",
    "            X_train = X_train.cuda()\n",
    "            y_train = y_train.cuda()\n",
    "            self.model = self.model.cuda()\n",
    "            self.likelihood = self.likelihood.cuda()\n",
    "\n",
    "        # Find optimal kernel hyperparameters\n",
    "        self.model.train()\n",
    "        self.likelihood.train()\n",
    "\n",
    "        # Create Adam optimizer with model parameters\n",
    "        optimizer = torch.optim.Adam(self.model.parameters(), lr = learning_rate)\n",
    "\n",
    "        # Create marginal log likelihood loss\n",
    "        mll = gpytorch.mlls.ExactMarginalLogLikelihood(self.likelihood, self.model)\n",
    "\n",
    "        # Training loop\n",
    "        for epoch in range(max_epochs):\n",
    "\n",
    "            # Reset gradients\n",
    "            optimizer.zero_grad()\n",
    "\n",
    "            # Get outputs from model\n",
    "            output = self.model(X_train)\n",
    "\n",
    "            # Calculate loss and perform backpropagation\n",
    "            loss = -mll(output, y_train)\n",
    "            loss.backward()\n",
    "\n",
    "            # Print epoch info & update model parameters\n",
    "            loss_scalar = loss.item()\n",
    "            noise = self.model.likelihood.noise.item()\n",
    "            print(f\"Epoch: {epoch+1}/{max_epochs}, Loss: {loss_scalar}, Noise: {noise}\")\n",
    "            optimizer.step()\n",
    "\n",
    "            # Initialize best loss & rounds with no improvement if first epoch\n",
    "            if epoch == 0:\n",
    "                self._best_epoch = epoch\n",
    "                self._best_loss = loss_scalar\n",
    "                self._epochs_no_improvement = 0\n",
    "\n",
    "            # Record an epoch with no improvement\n",
    "            if self._best_loss < loss_scalar - early_stop_tol:\n",
    "                self._epochs_no_improvement += 1\n",
    "\n",
    "            # Early stop if necessary\n",
    "            if self._epochs_no_improvement >= early_stop:\n",
    "                print(f\"Early stopping at epoch {epoch+1}\")\n",
    "                break\n",
    "\n",
    "            # Record an improvement in the loss\n",
    "            if self._best_loss > loss_scalar:\n",
    "                self.best_epoch = epoch\n",
    "                self._best_loss = loss_scalar\n",
    "                self._epochs_no_improvement = 0\n",
    "                \n",
    "    # Method to update model training data (kernel hyperparameters unchanged, no additional training)\n",
    "    def update_train(self, X_update, y_update):\n",
    "        \n",
    "        # Put tensors on GPU if cuda is enabled\n",
    "        if self.cuda:\n",
    "            X_update = X_update.cuda()\n",
    "            y_update = y_update.cuda()\n",
    "\n",
    "        # Update model training data\n",
    "        self.model = self.model.get_fantasy_model(X_update, y_update)\n",
    "\n",
    "    # Predict method\n",
    "    def predict(self, X_test, cpu = True, fast_preds = False):\n",
    "\n",
    "        # Test data to GPU, if cuda enabled\n",
    "        if self.cuda:\n",
    "            X_test = X_test.cuda()\n",
    "\n",
    "        # Activate eval mode\n",
    "        self.model.eval()\n",
    "        self.likelihood.eval()\n",
    "\n",
    "        # Make predictions without gradient calculation\n",
    "        with torch.no_grad(), gpytorch.settings.fast_pred_var(state = fast_preds):\n",
    "\n",
    "            # Returns the model posterior distribution over functions p(f*|x*, X, y)\n",
    "            # Noise is not yet added to the functions\n",
    "            f_posterior = self.model(X_test)\n",
    "\n",
    "            # Returns the predictive posterior distribution p(y*|x*, X, y)\n",
    "            # Noise is added to the functions\n",
    "            y_posterior = self.likelihood(f_posterior)\n",
    "\n",
    "            # Get posterior predictive mean & prediction intervals\n",
    "            # By default, 2 standard deviations around the mean\n",
    "            y_mean = y_posterior.mean\n",
    "            y_lower, y_upper = y_posterior.confidence_region()\n",
    "\n",
    "        # Return data to CPU if desired\n",
    "        if cpu:\n",
    "            y_mean = y_mean.cpu()\n",
    "            y_lower = y_lower.cpu()\n",
    "            y_upper = y_upper.cpu()\n",
    "\n",
    "        return y_mean, y_lower, y_upper"
   ]
  },
  {
   "cell_type": "code",
   "execution_count": 70,
   "id": "1c7a3109-e1ca-4b1c-a95d-2e2e1d0f7264",
   "metadata": {},
   "outputs": [],
   "source": [
    "# Create model & likelihood\n",
    "likelihood = gpytorch.likelihoods.GaussianLikelihood()\n",
    "model = ExactGPModel(X_train, y_train, likelihood)\n",
    "trainer = ExactGP(model, likelihood)"
   ]
  },
  {
   "cell_type": "code",
   "execution_count": 71,
   "id": "cecc1647-243c-4799-9a85-d16bf9ae9743",
   "metadata": {},
   "outputs": [
    {
     "name": "stdout",
     "output_type": "stream",
     "text": [
      "Epoch: 1/100, Loss: 0.9445879915642358, Noise: 0.6932471990585327\n",
      "Epoch: 2/100, Loss: 0.9062479114870796, Noise: 0.644496738910675\n",
      "Epoch: 3/100, Loss: 0.8666427273158757, Noise: 0.5982131958007812\n",
      "Epoch: 4/100, Loss: 0.8249832275357154, Noise: 0.5543709993362427\n",
      "Epoch: 5/100, Loss: 0.7838463849901982, Noise: 0.5129239559173584\n",
      "Epoch: 6/100, Loss: 0.7424737054144235, Noise: 0.4738294780254364\n",
      "Epoch: 7/100, Loss: 0.7007097631765906, Noise: 0.43703821301460266\n",
      "Epoch: 8/100, Loss: 0.6590601354232414, Noise: 0.40249547362327576\n",
      "Epoch: 9/100, Loss: 0.6163981242978228, Noise: 0.3701397180557251\n",
      "Epoch: 10/100, Loss: 0.573811960828974, Noise: 0.33990100026130676\n",
      "Epoch: 11/100, Loss: 0.530883292572477, Noise: 0.3117045760154724\n",
      "Epoch: 12/100, Loss: 0.4869515001819623, Noise: 0.2854703962802887\n",
      "Epoch: 13/100, Loss: 0.44225272024159396, Noise: 0.2611136734485626\n",
      "Epoch: 14/100, Loss: 0.39723513873242217, Noise: 0.23854684829711914\n",
      "Epoch: 15/100, Loss: 0.352029964793505, Noise: 0.21768006682395935\n",
      "Epoch: 16/100, Loss: 0.3064775483834764, Noise: 0.19842250645160675\n",
      "Epoch: 17/100, Loss: 0.2603893206584687, Noise: 0.18068331480026245\n",
      "Epoch: 18/100, Loss: 0.21391426729113985, Noise: 0.16437187790870667\n",
      "Epoch: 19/100, Loss: 0.16745315251962103, Noise: 0.14939874410629272\n",
      "Epoch: 20/100, Loss: 0.12072920108847666, Noise: 0.135676771402359\n",
      "Epoch: 21/100, Loss: 0.07397304130580673, Noise: 0.12312106043100357\n",
      "Epoch: 22/100, Loss: 0.026897733268569646, Noise: 0.11164958029985428\n",
      "Epoch: 23/100, Loss: -0.02019001511597246, Noise: 0.10118322819471359\n",
      "Epoch: 24/100, Loss: -0.0672529984898232, Noise: 0.0916464552283287\n",
      "Epoch: 25/100, Loss: -0.1143008518206014, Noise: 0.08296744525432587\n",
      "Epoch: 26/100, Loss: -0.16146067346359522, Noise: 0.07507824897766113\n",
      "Epoch: 27/100, Loss: -0.20846964448504104, Noise: 0.0679146870970726\n",
      "Epoch: 28/100, Loss: -0.255222103416959, Noise: 0.06141652911901474\n",
      "Epoch: 29/100, Loss: -0.30195458252075247, Noise: 0.055527567863464355\n",
      "Epoch: 30/100, Loss: -0.3483209746271658, Noise: 0.05019522085785866\n",
      "Epoch: 31/100, Loss: -0.39439510670494654, Noise: 0.04537077993154526\n",
      "Epoch: 32/100, Loss: -0.4400671250706685, Noise: 0.04100906103849411\n",
      "Epoch: 33/100, Loss: -0.4853995640510926, Noise: 0.037068355828523636\n",
      "Epoch: 34/100, Loss: -0.5300983643836178, Noise: 0.03351021558046341\n",
      "Epoch: 35/100, Loss: -0.5741741828117399, Noise: 0.03029935620725155\n",
      "Epoch: 36/100, Loss: -0.6175884475842434, Noise: 0.027403485029935837\n",
      "Epoch: 37/100, Loss: -0.660234735221095, Noise: 0.024793032556772232\n",
      "Epoch: 38/100, Loss: -0.701633049172861, Noise: 0.022440990433096886\n",
      "Epoch: 39/100, Loss: -0.742448883463936, Noise: 0.020322883501648903\n",
      "Epoch: 40/100, Loss: -0.7814353052377198, Noise: 0.018416281789541245\n",
      "Epoch: 41/100, Loss: -0.8185929941170739, Noise: 0.016700947657227516\n",
      "Epoch: 42/100, Loss: -0.8558185565379116, Noise: 0.015158500522375107\n",
      "Epoch: 43/100, Loss: -0.8904969530694599, Noise: 0.013772057369351387\n",
      "Epoch: 44/100, Loss: -0.9245486668651403, Noise: 0.012526399455964565\n",
      "Epoch: 45/100, Loss: -0.9581636714368045, Noise: 0.011407594196498394\n",
      "Epoch: 46/100, Loss: -0.9902189191350536, Noise: 0.010402887128293514\n",
      "Epoch: 47/100, Loss: -1.0201488969227397, Noise: 0.009500725194811821\n",
      "Epoch: 48/100, Loss: -1.0509934675607877, Noise: 0.008690651506185532\n",
      "Epoch: 49/100, Loss: -1.0792001433441556, Noise: 0.007963210344314575\n",
      "Epoch: 50/100, Loss: -1.1019676173091604, Noise: 0.007310188841074705\n",
      "Epoch: 51/100, Loss: -1.1257155047697636, Noise: 0.00672453548759222\n",
      "Epoch: 52/100, Loss: -1.1427531602276817, Noise: 0.006199873983860016\n",
      "Epoch: 53/100, Loss: -1.154407419329168, Noise: 0.005730638280510902\n",
      "Epoch: 54/100, Loss: -1.1709870430819065, Noise: 0.005311839748173952\n",
      "Epoch: 55/100, Loss: -1.1790422657400303, Noise: 0.0049388050101697445\n",
      "Epoch: 56/100, Loss: -1.1883061533647967, Noise: 0.004607440438121557\n",
      "Epoch: 57/100, Loss: -1.1955627002015272, Noise: 0.004313914570957422\n",
      "Epoch: 58/100, Loss: -1.2012126218205808, Noise: 0.004054839722812176\n",
      "Epoch: 59/100, Loss: -1.2052610274412427, Noise: 0.00382715230807662\n",
      "Epoch: 60/100, Loss: -1.2092257109292965, Noise: 0.003628059756010771\n",
      "Epoch: 61/100, Loss: -1.2085094294274006, Noise: 0.0034550693817436695\n",
      "Epoch: 62/100, Loss: -1.20637449541278, Noise: 0.003305984428152442\n",
      "Epoch: 63/100, Loss: -1.2095580698449264, Noise: 0.0031788183841854334\n",
      "Epoch: 64/100, Loss: -1.205057974558954, Noise: 0.003071704413741827\n",
      "Epoch: 65/100, Loss: -1.205287336039218, Noise: 0.0029830036219209433\n",
      "Epoch: 66/100, Loss: -1.201240257753817, Noise: 0.0029111774638295174\n",
      "Epoch: 67/100, Loss: -1.2053331556413338, Noise: 0.0028548622503876686\n",
      "Epoch: 68/100, Loss: -1.1986921615732042, Noise: 0.0028126786928623915\n",
      "Epoch: 69/100, Loss: -1.2019854735773816, Noise: 0.0027835993096232414\n",
      "Epoch: 70/100, Loss: -1.204013803587111, Noise: 0.002766495104879141\n",
      "Epoch: 71/100, Loss: -1.2028882082908257, Noise: 0.0027603553608059883\n",
      "Epoch: 72/100, Loss: -1.2014334008492373, Noise: 0.0027642170898616314\n",
      "Epoch: 73/100, Loss: -1.2042313266547768, Noise: 0.0027772006578743458\n",
      "Early stopping at epoch 73\n"
     ]
    }
   ],
   "source": [
    "trainer.train(X_train, y_train, max_epochs = 100, early_stop_tol = 1e-4)"
   ]
  },
  {
   "cell_type": "code",
   "execution_count": 72,
   "id": "39a3b36a-27f8-4139-9d8c-a4de2007a1b7",
   "metadata": {},
   "outputs": [],
   "source": [
    "preds_mean, preds_upper, preds_lower = trainer.predict(X_test)"
   ]
  },
  {
   "cell_type": "code",
   "execution_count": 73,
   "id": "f129f253-74bb-4d2c-b337-8ef16ae40ba2",
   "metadata": {},
   "outputs": [
    {
     "data": {
      "text/plain": [
       "<matplotlib.collections.PolyCollection at 0x2a73119f260>"
      ]
     },
     "execution_count": 73,
     "metadata": {},
     "output_type": "execute_result"
    },
    {
     "data": {
      "image/png": "[encoded data removed]",
      "text/plain": [
       "<Figure size 640x480 with 1 Axes>"
      ]
     },
     "metadata": {},
     "output_type": "display_data"
    }
   ],
   "source": [
    "plt.plot(X_test[:, 0], y_test)\n",
    "plt.plot(X_test[:, 0], preds_mean)\n",
    "plt.fill_between(X_test[:, 0], preds_lower, preds_upper, alpha = 0.2)"
   ]
  },
  {
   "cell_type": "markdown",
   "id": "09a84582-096d-49dc-9ae2-32165b646a80",
   "metadata": {},
   "source": [
    "## Model testing"
   ]
  },
  {
   "cell_type": "markdown",
   "id": "7b064d59-c047-4531-9b3c-f2d2bbbc1df0",
   "metadata": {},
   "source": [
    "Use get_fantasy_model method to update trained model's training data with new input sequences. Hyperparameters are not updated, which kind of mirrors the usage of input sequnces in NN models."
   ]
  },
  {
   "cell_type": "code",
   "execution_count": null,
   "id": "3f3d0c39-64ec-44f8-8c96-53f1d7ef5e86",
   "metadata": {},
   "outputs": [],
   "source": [
    "# Evaluation pseudocode:\n",
    "Create preds list\n",
    "Perform feature scaling\n",
    "Train until [:first_t]\n",
    "Predict on first_t + horizon\n",
    "Save preds\n",
    "For pred points in [first_t:] // stride:\n",
    "    Perform feature scaling\n",
    "    Expand training set & online train\n",
    "    Predict on first_t + eval index * stride + horizon\n",
    "    Save preds\n",
    "Concat & return preds, actual targets[first_t:]"
   ]
  },
  {
   "cell_type": "code",
   "execution_count": null,
   "id": "9e2d49a9-6589-4055-86cd-0325490f5feb",
   "metadata": {},
   "outputs": [],
   "source": [
    "# Plot predicted vs. actual, entire test set"
   ]
  },
  {
   "cell_type": "code",
   "execution_count": null,
   "id": "4d716194-ebbe-4faf-b5d1-9fafaf4e077f",
   "metadata": {},
   "outputs": [],
   "source": [
    "# Plot predicted vs. actual, select sequences"
   ]
  },
  {
   "cell_type": "code",
   "execution_count": null,
   "id": "f946400b-88a9-4cb3-8397-186e8f8b6579",
   "metadata": {},
   "outputs": [],
   "source": [
    "# Calculate performance metrics"
   ]
  }
 ],
 "metadata": {
  "kernelspec": {
   "display_name": "Python 3 (ipykernel)",
   "language": "python",
   "name": "python3"
  },
  "language_info": {
   "codemirror_mode": {
    "name": "ipython",
    "version": 3
   },
   "file_extension": ".py",
   "mimetype": "text/x-python",
   "name": "python",
   "nbconvert_exporter": "python",
   "pygments_lexer": "ipython3",
   "version": "3.12.2"
  }
 },
 "nbformat": 4,
 "nbformat_minor": 5
}
