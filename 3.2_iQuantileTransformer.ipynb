{
 "cells": [
  {
   "cell_type": "code",
   "execution_count": 1,
   "id": "b6ef11cc-56ac-42e0-98bc-d8e5baa08288",
   "metadata": {},
   "outputs": [
    {
     "name": "stderr",
     "output_type": "stream",
     "text": [
      "C:\\Users\\PC\\Documents\\WorkLocal\\DataScience\\GitHub\\DeepLearningEnergyForecasting\\venv\\Lib\\site-packages\\tqdm\\auto.py:21: TqdmWarning: IProgress not found. Please update jupyter and ipywidgets. See https://ipywidgets.readthedocs.io/en/stable/user_install.html\n",
      "  from .autonotebook import tqdm as notebook_tqdm\n"
     ]
    }
   ],
   "source": [
    "import pandas as pd\n",
    "import numpy as np\n",
    "import matplotlib.pyplot as plt\n",
    "import seaborn as sns\n",
    "import torch\n",
    "import lightning as L\n",
    "import optuna\n",
    "import warnings\n",
    "\n",
    "from lightning.pytorch.callbacks import Callback\n",
    "from optuna.integration import PyTorchLightningPruningCallback\n",
    "from sklearn.metrics import mean_absolute_error as mae, mean_absolute_percentage_error as mape, root_mean_squared_log_error as rmsle, mean_pinball_loss as pinball"
   ]
  },
  {
   "cell_type": "code",
   "execution_count": 2,
   "id": "cbb5262f-36ee-4d06-9457-771df657d8ab",
   "metadata": {},
   "outputs": [],
   "source": [
    "random_seed = 1923"
   ]
  },
  {
   "cell_type": "code",
   "execution_count": 3,
   "id": "f0b59f93-6e6e-4fdb-8a8b-53a7551ba5b7",
   "metadata": {},
   "outputs": [
    {
     "name": "stderr",
     "output_type": "stream",
     "text": [
      "Seed set to 1923\n"
     ]
    }
   ],
   "source": [
    "# Set Torch settings\n",
    "torch.set_default_dtype(torch.float32)\n",
    "torch.set_float32_matmul_precision('medium')\n",
    "L.seed_everything(random_seed, workers = True)\n",
    "warnings.filterwarnings(\"ignore\", \".*does not have many workers.*\")"
   ]
  },
  {
   "cell_type": "code",
   "execution_count": 4,
   "id": "4f04ab1c-13d2-43b0-9fef-de865238c890",
   "metadata": {},
   "outputs": [],
   "source": [
    "# Plot settings\n",
    "plt.rcParams[\"figure.autolayout\"] = True\n",
    "plt.rcParams['figure.dpi'] = 100\n",
    "sns.set_style(\"darkgrid\")"
   ]
  },
  {
   "cell_type": "code",
   "execution_count": 5,
   "id": "759916b7-9291-4bdd-b0f8-14eabca92e50",
   "metadata": {},
   "outputs": [],
   "source": [
    "output_dir = \"./OutputData/\""
   ]
  },
  {
   "cell_type": "code",
   "execution_count": 6,
   "id": "3595e22d-ad5e-4523-be32-1e0f06c7917b",
   "metadata": {},
   "outputs": [],
   "source": [
    "df = pd.read_csv(output_dir + \"train_data.csv\")\n",
    "df[\"time\"] = pd.to_datetime(df[\"time\"])"
   ]
  },
  {
   "cell_type": "code",
   "execution_count": 7,
   "id": "57ab82ca-f92d-4c00-9b57-aff3d00637fb",
   "metadata": {},
   "outputs": [
    {
     "data": {
      "text/html": [
       "<div>\n",
       "<style scoped>\n",
       "    .dataframe tbody tr th:only-of-type {\n",
       "        vertical-align: middle;\n",
       "    }\n",
       "\n",
       "    .dataframe tbody tr th {\n",
       "        vertical-align: top;\n",
       "    }\n",
       "\n",
       "    .dataframe thead th {\n",
       "        text-align: right;\n",
       "    }\n",
       "</style>\n",
       "<table border=\"1\" class=\"dataframe\">\n",
       "  <thead>\n",
       "    <tr style=\"text-align: right;\">\n",
       "      <th></th>\n",
       "      <th>time</th>\n",
       "      <th>consumption_MWh</th>\n",
       "      <th>consumption_lag2</th>\n",
       "      <th>trend</th>\n",
       "      <th>hour_sin</th>\n",
       "      <th>hour_cos</th>\n",
       "      <th>day_sin</th>\n",
       "      <th>day_cos</th>\n",
       "      <th>month_sin</th>\n",
       "      <th>month_cos</th>\n",
       "    </tr>\n",
       "  </thead>\n",
       "  <tbody>\n",
       "    <tr>\n",
       "      <th>0</th>\n",
       "      <td>2018-01-01 02:00:00</td>\n",
       "      <td>24635.32</td>\n",
       "      <td>27412.81</td>\n",
       "      <td>2</td>\n",
       "      <td>7.071068e-01</td>\n",
       "      <td>7.071068e-01</td>\n",
       "      <td>7.818315e-01</td>\n",
       "      <td>0.62349</td>\n",
       "      <td>5.000000e-01</td>\n",
       "      <td>0.866025</td>\n",
       "    </tr>\n",
       "    <tr>\n",
       "      <th>1</th>\n",
       "      <td>2018-01-01 03:00:00</td>\n",
       "      <td>23872.12</td>\n",
       "      <td>26324.39</td>\n",
       "      <td>3</td>\n",
       "      <td>8.660254e-01</td>\n",
       "      <td>5.000000e-01</td>\n",
       "      <td>7.818315e-01</td>\n",
       "      <td>0.62349</td>\n",
       "      <td>5.000000e-01</td>\n",
       "      <td>0.866025</td>\n",
       "    </tr>\n",
       "    <tr>\n",
       "      <th>2</th>\n",
       "      <td>2018-01-01 04:00:00</td>\n",
       "      <td>23194.89</td>\n",
       "      <td>24635.32</td>\n",
       "      <td>4</td>\n",
       "      <td>9.659258e-01</td>\n",
       "      <td>2.588190e-01</td>\n",
       "      <td>7.818315e-01</td>\n",
       "      <td>0.62349</td>\n",
       "      <td>5.000000e-01</td>\n",
       "      <td>0.866025</td>\n",
       "    </tr>\n",
       "    <tr>\n",
       "      <th>3</th>\n",
       "      <td>2018-01-01 05:00:00</td>\n",
       "      <td>23071.96</td>\n",
       "      <td>23872.12</td>\n",
       "      <td>5</td>\n",
       "      <td>1.000000e+00</td>\n",
       "      <td>6.123234e-17</td>\n",
       "      <td>7.818315e-01</td>\n",
       "      <td>0.62349</td>\n",
       "      <td>5.000000e-01</td>\n",
       "      <td>0.866025</td>\n",
       "    </tr>\n",
       "    <tr>\n",
       "      <th>4</th>\n",
       "      <td>2018-01-01 06:00:00</td>\n",
       "      <td>23267.90</td>\n",
       "      <td>23194.89</td>\n",
       "      <td>6</td>\n",
       "      <td>9.659258e-01</td>\n",
       "      <td>-2.588190e-01</td>\n",
       "      <td>7.818315e-01</td>\n",
       "      <td>0.62349</td>\n",
       "      <td>5.000000e-01</td>\n",
       "      <td>0.866025</td>\n",
       "    </tr>\n",
       "    <tr>\n",
       "      <th>...</th>\n",
       "      <td>...</td>\n",
       "      <td>...</td>\n",
       "      <td>...</td>\n",
       "      <td>...</td>\n",
       "      <td>...</td>\n",
       "      <td>...</td>\n",
       "      <td>...</td>\n",
       "      <td>...</td>\n",
       "      <td>...</td>\n",
       "      <td>...</td>\n",
       "    </tr>\n",
       "    <tr>\n",
       "      <th>52577</th>\n",
       "      <td>2023-12-31 19:00:00</td>\n",
       "      <td>35090.93</td>\n",
       "      <td>34549.42</td>\n",
       "      <td>52579</td>\n",
       "      <td>-8.660254e-01</td>\n",
       "      <td>5.000000e-01</td>\n",
       "      <td>-2.449294e-16</td>\n",
       "      <td>1.00000</td>\n",
       "      <td>-2.449294e-16</td>\n",
       "      <td>1.000000</td>\n",
       "    </tr>\n",
       "    <tr>\n",
       "      <th>52578</th>\n",
       "      <td>2023-12-31 20:00:00</td>\n",
       "      <td>33310.94</td>\n",
       "      <td>36193.59</td>\n",
       "      <td>52580</td>\n",
       "      <td>-7.071068e-01</td>\n",
       "      <td>7.071068e-01</td>\n",
       "      <td>-2.449294e-16</td>\n",
       "      <td>1.00000</td>\n",
       "      <td>-2.449294e-16</td>\n",
       "      <td>1.000000</td>\n",
       "    </tr>\n",
       "    <tr>\n",
       "      <th>52579</th>\n",
       "      <td>2023-12-31 21:00:00</td>\n",
       "      <td>32083.96</td>\n",
       "      <td>35090.93</td>\n",
       "      <td>52581</td>\n",
       "      <td>-5.000000e-01</td>\n",
       "      <td>8.660254e-01</td>\n",
       "      <td>-2.449294e-16</td>\n",
       "      <td>1.00000</td>\n",
       "      <td>-2.449294e-16</td>\n",
       "      <td>1.000000</td>\n",
       "    </tr>\n",
       "    <tr>\n",
       "      <th>52580</th>\n",
       "      <td>2023-12-31 22:00:00</td>\n",
       "      <td>30469.49</td>\n",
       "      <td>33310.94</td>\n",
       "      <td>52582</td>\n",
       "      <td>-2.588190e-01</td>\n",
       "      <td>9.659258e-01</td>\n",
       "      <td>-2.449294e-16</td>\n",
       "      <td>1.00000</td>\n",
       "      <td>-2.449294e-16</td>\n",
       "      <td>1.000000</td>\n",
       "    </tr>\n",
       "    <tr>\n",
       "      <th>52581</th>\n",
       "      <td>2023-12-31 23:00:00</td>\n",
       "      <td>30029.91</td>\n",
       "      <td>32083.96</td>\n",
       "      <td>52583</td>\n",
       "      <td>-2.449294e-16</td>\n",
       "      <td>1.000000e+00</td>\n",
       "      <td>-2.449294e-16</td>\n",
       "      <td>1.00000</td>\n",
       "      <td>-2.449294e-16</td>\n",
       "      <td>1.000000</td>\n",
       "    </tr>\n",
       "  </tbody>\n",
       "</table>\n",
       "<p>52582 rows × 10 columns</p>\n",
       "</div>"
      ],
      "text/plain": [
       "                     time  consumption_MWh  consumption_lag2  trend  \\\n",
       "0     2018-01-01 02:00:00         24635.32          27412.81      2   \n",
       "1     2018-01-01 03:00:00         23872.12          26324.39      3   \n",
       "2     2018-01-01 04:00:00         23194.89          24635.32      4   \n",
       "3     2018-01-01 05:00:00         23071.96          23872.12      5   \n",
       "4     2018-01-01 06:00:00         23267.90          23194.89      6   \n",
       "...                   ...              ...               ...    ...   \n",
       "52577 2023-12-31 19:00:00         35090.93          34549.42  52579   \n",
       "52578 2023-12-31 20:00:00         33310.94          36193.59  52580   \n",
       "52579 2023-12-31 21:00:00         32083.96          35090.93  52581   \n",
       "52580 2023-12-31 22:00:00         30469.49          33310.94  52582   \n",
       "52581 2023-12-31 23:00:00         30029.91          32083.96  52583   \n",
       "\n",
       "           hour_sin      hour_cos       day_sin  day_cos     month_sin  \\\n",
       "0      7.071068e-01  7.071068e-01  7.818315e-01  0.62349  5.000000e-01   \n",
       "1      8.660254e-01  5.000000e-01  7.818315e-01  0.62349  5.000000e-01   \n",
       "2      9.659258e-01  2.588190e-01  7.818315e-01  0.62349  5.000000e-01   \n",
       "3      1.000000e+00  6.123234e-17  7.818315e-01  0.62349  5.000000e-01   \n",
       "4      9.659258e-01 -2.588190e-01  7.818315e-01  0.62349  5.000000e-01   \n",
       "...             ...           ...           ...      ...           ...   \n",
       "52577 -8.660254e-01  5.000000e-01 -2.449294e-16  1.00000 -2.449294e-16   \n",
       "52578 -7.071068e-01  7.071068e-01 -2.449294e-16  1.00000 -2.449294e-16   \n",
       "52579 -5.000000e-01  8.660254e-01 -2.449294e-16  1.00000 -2.449294e-16   \n",
       "52580 -2.588190e-01  9.659258e-01 -2.449294e-16  1.00000 -2.449294e-16   \n",
       "52581 -2.449294e-16  1.000000e+00 -2.449294e-16  1.00000 -2.449294e-16   \n",
       "\n",
       "       month_cos  \n",
       "0       0.866025  \n",
       "1       0.866025  \n",
       "2       0.866025  \n",
       "3       0.866025  \n",
       "4       0.866025  \n",
       "...          ...  \n",
       "52577   1.000000  \n",
       "52578   1.000000  \n",
       "52579   1.000000  \n",
       "52580   1.000000  \n",
       "52581   1.000000  \n",
       "\n",
       "[52582 rows x 10 columns]"
      ]
     },
     "execution_count": 7,
     "metadata": {},
     "output_type": "execute_result"
    }
   ],
   "source": [
    "df"
   ]
  },
  {
   "cell_type": "markdown",
   "id": "13991eef-1a7f-4130-b82b-7ab15df29afe",
   "metadata": {},
   "source": [
    "## Data prep: Getting input & output sequences"
   ]
  },
  {
   "cell_type": "markdown",
   "id": "af0a1558-0aa0-43d1-8f60-248847198b84",
   "metadata": {},
   "source": [
    "We will create a \"shifted dataset\" where each row at time T contains the following columns:\n",
    "- Target value at T (consumption lead T+1),\n",
    "- Past value at T (consumption lag T-2),\n",
    "- Time covariates at T."
   ]
  },
  {
   "cell_type": "code",
   "execution_count": 8,
   "id": "b3c0e34c-d389-40ce-a095-9e155eb9f61f",
   "metadata": {},
   "outputs": [],
   "source": [
    "# Get shifted dataset, drop last row due to unknown target\n",
    "df_shifted = df.copy()\n",
    "df_shifted[\"consumption_MWh\"] = df_shifted.consumption_MWh.shift(-1)\n",
    "df_shifted = df_shifted.dropna()"
   ]
  },
  {
   "cell_type": "code",
   "execution_count": 9,
   "id": "35fd1b24-47bd-4f7f-bd98-e20dea7700d6",
   "metadata": {},
   "outputs": [
    {
     "data": {
      "text/html": [
       "<div>\n",
       "<style scoped>\n",
       "    .dataframe tbody tr th:only-of-type {\n",
       "        vertical-align: middle;\n",
       "    }\n",
       "\n",
       "    .dataframe tbody tr th {\n",
       "        vertical-align: top;\n",
       "    }\n",
       "\n",
       "    .dataframe thead th {\n",
       "        text-align: right;\n",
       "    }\n",
       "</style>\n",
       "<table border=\"1\" class=\"dataframe\">\n",
       "  <thead>\n",
       "    <tr style=\"text-align: right;\">\n",
       "      <th></th>\n",
       "      <th>time</th>\n",
       "      <th>consumption_MWh</th>\n",
       "      <th>consumption_lag2</th>\n",
       "      <th>trend</th>\n",
       "      <th>hour_sin</th>\n",
       "      <th>hour_cos</th>\n",
       "      <th>day_sin</th>\n",
       "      <th>day_cos</th>\n",
       "      <th>month_sin</th>\n",
       "      <th>month_cos</th>\n",
       "    </tr>\n",
       "  </thead>\n",
       "  <tbody>\n",
       "    <tr>\n",
       "      <th>0</th>\n",
       "      <td>2018-01-01 02:00:00</td>\n",
       "      <td>23872.12</td>\n",
       "      <td>27412.81</td>\n",
       "      <td>2</td>\n",
       "      <td>0.707107</td>\n",
       "      <td>7.071068e-01</td>\n",
       "      <td>7.818315e-01</td>\n",
       "      <td>0.62349</td>\n",
       "      <td>5.000000e-01</td>\n",
       "      <td>0.866025</td>\n",
       "    </tr>\n",
       "    <tr>\n",
       "      <th>1</th>\n",
       "      <td>2018-01-01 03:00:00</td>\n",
       "      <td>23194.89</td>\n",
       "      <td>26324.39</td>\n",
       "      <td>3</td>\n",
       "      <td>0.866025</td>\n",
       "      <td>5.000000e-01</td>\n",
       "      <td>7.818315e-01</td>\n",
       "      <td>0.62349</td>\n",
       "      <td>5.000000e-01</td>\n",
       "      <td>0.866025</td>\n",
       "    </tr>\n",
       "    <tr>\n",
       "      <th>2</th>\n",
       "      <td>2018-01-01 04:00:00</td>\n",
       "      <td>23071.96</td>\n",
       "      <td>24635.32</td>\n",
       "      <td>4</td>\n",
       "      <td>0.965926</td>\n",
       "      <td>2.588190e-01</td>\n",
       "      <td>7.818315e-01</td>\n",
       "      <td>0.62349</td>\n",
       "      <td>5.000000e-01</td>\n",
       "      <td>0.866025</td>\n",
       "    </tr>\n",
       "    <tr>\n",
       "      <th>3</th>\n",
       "      <td>2018-01-01 05:00:00</td>\n",
       "      <td>23267.90</td>\n",
       "      <td>23872.12</td>\n",
       "      <td>5</td>\n",
       "      <td>1.000000</td>\n",
       "      <td>6.123234e-17</td>\n",
       "      <td>7.818315e-01</td>\n",
       "      <td>0.62349</td>\n",
       "      <td>5.000000e-01</td>\n",
       "      <td>0.866025</td>\n",
       "    </tr>\n",
       "    <tr>\n",
       "      <th>4</th>\n",
       "      <td>2018-01-01 06:00:00</td>\n",
       "      <td>23875.44</td>\n",
       "      <td>23194.89</td>\n",
       "      <td>6</td>\n",
       "      <td>0.965926</td>\n",
       "      <td>-2.588190e-01</td>\n",
       "      <td>7.818315e-01</td>\n",
       "      <td>0.62349</td>\n",
       "      <td>5.000000e-01</td>\n",
       "      <td>0.866025</td>\n",
       "    </tr>\n",
       "    <tr>\n",
       "      <th>...</th>\n",
       "      <td>...</td>\n",
       "      <td>...</td>\n",
       "      <td>...</td>\n",
       "      <td>...</td>\n",
       "      <td>...</td>\n",
       "      <td>...</td>\n",
       "      <td>...</td>\n",
       "      <td>...</td>\n",
       "      <td>...</td>\n",
       "      <td>...</td>\n",
       "    </tr>\n",
       "    <tr>\n",
       "      <th>52576</th>\n",
       "      <td>2023-12-31 18:00:00</td>\n",
       "      <td>35090.93</td>\n",
       "      <td>32670.06</td>\n",
       "      <td>52578</td>\n",
       "      <td>-0.965926</td>\n",
       "      <td>2.588190e-01</td>\n",
       "      <td>-2.449294e-16</td>\n",
       "      <td>1.00000</td>\n",
       "      <td>-2.449294e-16</td>\n",
       "      <td>1.000000</td>\n",
       "    </tr>\n",
       "    <tr>\n",
       "      <th>52577</th>\n",
       "      <td>2023-12-31 19:00:00</td>\n",
       "      <td>33310.94</td>\n",
       "      <td>34549.42</td>\n",
       "      <td>52579</td>\n",
       "      <td>-0.866025</td>\n",
       "      <td>5.000000e-01</td>\n",
       "      <td>-2.449294e-16</td>\n",
       "      <td>1.00000</td>\n",
       "      <td>-2.449294e-16</td>\n",
       "      <td>1.000000</td>\n",
       "    </tr>\n",
       "    <tr>\n",
       "      <th>52578</th>\n",
       "      <td>2023-12-31 20:00:00</td>\n",
       "      <td>32083.96</td>\n",
       "      <td>36193.59</td>\n",
       "      <td>52580</td>\n",
       "      <td>-0.707107</td>\n",
       "      <td>7.071068e-01</td>\n",
       "      <td>-2.449294e-16</td>\n",
       "      <td>1.00000</td>\n",
       "      <td>-2.449294e-16</td>\n",
       "      <td>1.000000</td>\n",
       "    </tr>\n",
       "    <tr>\n",
       "      <th>52579</th>\n",
       "      <td>2023-12-31 21:00:00</td>\n",
       "      <td>30469.49</td>\n",
       "      <td>35090.93</td>\n",
       "      <td>52581</td>\n",
       "      <td>-0.500000</td>\n",
       "      <td>8.660254e-01</td>\n",
       "      <td>-2.449294e-16</td>\n",
       "      <td>1.00000</td>\n",
       "      <td>-2.449294e-16</td>\n",
       "      <td>1.000000</td>\n",
       "    </tr>\n",
       "    <tr>\n",
       "      <th>52580</th>\n",
       "      <td>2023-12-31 22:00:00</td>\n",
       "      <td>30029.91</td>\n",
       "      <td>33310.94</td>\n",
       "      <td>52582</td>\n",
       "      <td>-0.258819</td>\n",
       "      <td>9.659258e-01</td>\n",
       "      <td>-2.449294e-16</td>\n",
       "      <td>1.00000</td>\n",
       "      <td>-2.449294e-16</td>\n",
       "      <td>1.000000</td>\n",
       "    </tr>\n",
       "  </tbody>\n",
       "</table>\n",
       "<p>52581 rows × 10 columns</p>\n",
       "</div>"
      ],
      "text/plain": [
       "                     time  consumption_MWh  consumption_lag2  trend  hour_sin  \\\n",
       "0     2018-01-01 02:00:00         23872.12          27412.81      2  0.707107   \n",
       "1     2018-01-01 03:00:00         23194.89          26324.39      3  0.866025   \n",
       "2     2018-01-01 04:00:00         23071.96          24635.32      4  0.965926   \n",
       "3     2018-01-01 05:00:00         23267.90          23872.12      5  1.000000   \n",
       "4     2018-01-01 06:00:00         23875.44          23194.89      6  0.965926   \n",
       "...                   ...              ...               ...    ...       ...   \n",
       "52576 2023-12-31 18:00:00         35090.93          32670.06  52578 -0.965926   \n",
       "52577 2023-12-31 19:00:00         33310.94          34549.42  52579 -0.866025   \n",
       "52578 2023-12-31 20:00:00         32083.96          36193.59  52580 -0.707107   \n",
       "52579 2023-12-31 21:00:00         30469.49          35090.93  52581 -0.500000   \n",
       "52580 2023-12-31 22:00:00         30029.91          33310.94  52582 -0.258819   \n",
       "\n",
       "           hour_cos       day_sin  day_cos     month_sin  month_cos  \n",
       "0      7.071068e-01  7.818315e-01  0.62349  5.000000e-01   0.866025  \n",
       "1      5.000000e-01  7.818315e-01  0.62349  5.000000e-01   0.866025  \n",
       "2      2.588190e-01  7.818315e-01  0.62349  5.000000e-01   0.866025  \n",
       "3      6.123234e-17  7.818315e-01  0.62349  5.000000e-01   0.866025  \n",
       "4     -2.588190e-01  7.818315e-01  0.62349  5.000000e-01   0.866025  \n",
       "...             ...           ...      ...           ...        ...  \n",
       "52576  2.588190e-01 -2.449294e-16  1.00000 -2.449294e-16   1.000000  \n",
       "52577  5.000000e-01 -2.449294e-16  1.00000 -2.449294e-16   1.000000  \n",
       "52578  7.071068e-01 -2.449294e-16  1.00000 -2.449294e-16   1.000000  \n",
       "52579  8.660254e-01 -2.449294e-16  1.00000 -2.449294e-16   1.000000  \n",
       "52580  9.659258e-01 -2.449294e-16  1.00000 -2.449294e-16   1.000000  \n",
       "\n",
       "[52581 rows x 10 columns]"
      ]
     },
     "execution_count": 9,
     "metadata": {},
     "output_type": "execute_result"
    }
   ],
   "source": [
    "df_shifted"
   ]
  },
  {
   "cell_type": "markdown",
   "id": "2699147e-7f37-4017-861c-6674868d35d0",
   "metadata": {},
   "source": [
    "Every source sequence will be the last 72 hours before 16:00, and every target sequence will be the next 32 hours after 16:00."
   ]
  },
  {
   "cell_type": "code",
   "execution_count": 10,
   "id": "2cf65954-517b-4712-97aa-42e089573017",
   "metadata": {},
   "outputs": [],
   "source": [
    "# Set fixed parameters\n",
    "n_steps = len(df_shifted) \n",
    "source_length = 72 # T-L to T hours\n",
    "source_dims = 8 # Consumption lag 2, trend, 6 cyclical columns as features\n",
    "target_length = 32 # We are only interested in predicting T+8 to 32, but we'll make this a model parameter\n",
    "horizon_start = 0 # Output step to start loss calculation from\n",
    "quantiles = [0.025, 0.5, 0.975] # Quantiles to predict"
   ]
  },
  {
   "cell_type": "code",
   "execution_count": 11,
   "id": "da695753-60ee-4d17-8481-e27c42529c78",
   "metadata": {},
   "outputs": [],
   "source": [
    "# Find the index of the first 16:00 row in the data, where the index is bigger than source_length - 1. This will be the first T.\n",
    "first_t = df_shifted.loc[(df_shifted.time.dt.hour == 16) & (df_shifted.index >= source_length - 1)].index.values[0]"
   ]
  },
  {
   "cell_type": "code",
   "execution_count": 12,
   "id": "efba5029-5fc0-4ab2-8f63-8c7925b9b97d",
   "metadata": {},
   "outputs": [
    {
     "data": {
      "text/plain": [
       "86"
      ]
     },
     "execution_count": 12,
     "metadata": {},
     "output_type": "execute_result"
    }
   ],
   "source": [
    "first_t "
   ]
  },
  {
   "cell_type": "code",
   "execution_count": 13,
   "id": "1ae7dd17-e961-4cb9-8d6f-a5d25db5aeae",
   "metadata": {},
   "outputs": [],
   "source": [
    "# Find the index of the last 16:00 row in the data, with 32 time steps after it. This will be the last T.\n",
    "last_t = df_shifted.loc[(df_shifted.time.dt.hour == 16) & (df_shifted.index + target_length - 1 <= df.index.values[-1])].index.values[-2]"
   ]
  },
  {
   "cell_type": "code",
   "execution_count": 14,
   "id": "a509444b-8535-44d9-8b41-da8e04dd2040",
   "metadata": {},
   "outputs": [
    {
     "data": {
      "text/plain": [
       "52526"
      ]
     },
     "execution_count": 14,
     "metadata": {},
     "output_type": "execute_result"
    }
   ],
   "source": [
    "last_t "
   ]
  },
  {
   "cell_type": "markdown",
   "id": "4d49c1ac-3f13-4df7-a39a-26b63e14dfac",
   "metadata": {},
   "source": [
    "Each source sequence will contain the following:\n",
    "- Consumption lag 2 at [T - source_length, T] (past targets),\n",
    "- Time covariates at [T - source_length, T] (past covariates)."
   ]
  },
  {
   "cell_type": "code",
   "execution_count": 15,
   "id": "355e1fee-bb5a-410f-8c90-a7cd433c8209",
   "metadata": {},
   "outputs": [],
   "source": [
    "# One source sequence\n",
    "source_seq = pd.concat([\n",
    "    df_shifted.iloc[(first_t - source_length):first_t, 0], # Time\n",
    "    df_shifted.iloc[(first_t - source_length):first_t, 2], # Past target\n",
    "    df_shifted.iloc[(first_t - source_length):(first_t), 3:] # Past covariates\n",
    "], axis = 1)"
   ]
  },
  {
   "cell_type": "markdown",
   "id": "c2532030-85c4-4e5a-86b7-1f1e95b14f2e",
   "metadata": {},
   "source": [
    "Each output sequence will contain the following:\n",
    "- Consumption at [T+1, T + output_length] (future targets),\n",
    "- Time covariates at [T+1, T + output_length] (future known covariates)"
   ]
  },
  {
   "cell_type": "code",
   "execution_count": 16,
   "id": "0cddc494-b847-408a-a20f-8455c331ebc7",
   "metadata": {},
   "outputs": [],
   "source": [
    "# One output sequence\n",
    "target_seq = pd.concat([\n",
    "    df_shifted.iloc[first_t:(first_t + target_length), 0], # Time \n",
    "    df_shifted.iloc[first_t:(first_t + target_length), 1], # Future target\n",
    "    df_shifted.iloc[first_t:(first_t + target_length), 3:] # Future known covariates\n",
    "], axis = 1)"
   ]
  },
  {
   "cell_type": "code",
   "execution_count": 17,
   "id": "9e8775f4-3693-4062-b8b0-c2b8932c4f7a",
   "metadata": {},
   "outputs": [
    {
     "data": {
      "text/html": [
       "<div>\n",
       "<style scoped>\n",
       "    .dataframe tbody tr th:only-of-type {\n",
       "        vertical-align: middle;\n",
       "    }\n",
       "\n",
       "    .dataframe tbody tr th {\n",
       "        vertical-align: top;\n",
       "    }\n",
       "\n",
       "    .dataframe thead th {\n",
       "        text-align: right;\n",
       "    }\n",
       "</style>\n",
       "<table border=\"1\" class=\"dataframe\">\n",
       "  <thead>\n",
       "    <tr style=\"text-align: right;\">\n",
       "      <th></th>\n",
       "      <th>time</th>\n",
       "      <th>consumption_lag2</th>\n",
       "      <th>trend</th>\n",
       "      <th>hour_sin</th>\n",
       "      <th>hour_cos</th>\n",
       "      <th>day_sin</th>\n",
       "      <th>day_cos</th>\n",
       "      <th>month_sin</th>\n",
       "      <th>month_cos</th>\n",
       "    </tr>\n",
       "  </thead>\n",
       "  <tbody>\n",
       "    <tr>\n",
       "      <th>81</th>\n",
       "      <td>2018-01-04 11:00:00</td>\n",
       "      <td>39641.36</td>\n",
       "      <td>83</td>\n",
       "      <td>1.224647e-16</td>\n",
       "      <td>-1.000000</td>\n",
       "      <td>-0.433884</td>\n",
       "      <td>-0.900969</td>\n",
       "      <td>0.5</td>\n",
       "      <td>0.866025</td>\n",
       "    </tr>\n",
       "    <tr>\n",
       "      <th>82</th>\n",
       "      <td>2018-01-04 12:00:00</td>\n",
       "      <td>40593.83</td>\n",
       "      <td>84</td>\n",
       "      <td>-2.588190e-01</td>\n",
       "      <td>-0.965926</td>\n",
       "      <td>-0.433884</td>\n",
       "      <td>-0.900969</td>\n",
       "      <td>0.5</td>\n",
       "      <td>0.866025</td>\n",
       "    </tr>\n",
       "    <tr>\n",
       "      <th>83</th>\n",
       "      <td>2018-01-04 13:00:00</td>\n",
       "      <td>40955.07</td>\n",
       "      <td>85</td>\n",
       "      <td>-5.000000e-01</td>\n",
       "      <td>-0.866025</td>\n",
       "      <td>-0.433884</td>\n",
       "      <td>-0.900969</td>\n",
       "      <td>0.5</td>\n",
       "      <td>0.866025</td>\n",
       "    </tr>\n",
       "    <tr>\n",
       "      <th>84</th>\n",
       "      <td>2018-01-04 14:00:00</td>\n",
       "      <td>39505.55</td>\n",
       "      <td>86</td>\n",
       "      <td>-7.071068e-01</td>\n",
       "      <td>-0.707107</td>\n",
       "      <td>-0.433884</td>\n",
       "      <td>-0.900969</td>\n",
       "      <td>0.5</td>\n",
       "      <td>0.866025</td>\n",
       "    </tr>\n",
       "    <tr>\n",
       "      <th>85</th>\n",
       "      <td>2018-01-04 15:00:00</td>\n",
       "      <td>39635.29</td>\n",
       "      <td>87</td>\n",
       "      <td>-8.660254e-01</td>\n",
       "      <td>-0.500000</td>\n",
       "      <td>-0.433884</td>\n",
       "      <td>-0.900969</td>\n",
       "      <td>0.5</td>\n",
       "      <td>0.866025</td>\n",
       "    </tr>\n",
       "  </tbody>\n",
       "</table>\n",
       "</div>"
      ],
      "text/plain": [
       "                  time  consumption_lag2  trend      hour_sin  hour_cos  \\\n",
       "81 2018-01-04 11:00:00          39641.36     83  1.224647e-16 -1.000000   \n",
       "82 2018-01-04 12:00:00          40593.83     84 -2.588190e-01 -0.965926   \n",
       "83 2018-01-04 13:00:00          40955.07     85 -5.000000e-01 -0.866025   \n",
       "84 2018-01-04 14:00:00          39505.55     86 -7.071068e-01 -0.707107   \n",
       "85 2018-01-04 15:00:00          39635.29     87 -8.660254e-01 -0.500000   \n",
       "\n",
       "     day_sin   day_cos  month_sin  month_cos  \n",
       "81 -0.433884 -0.900969        0.5   0.866025  \n",
       "82 -0.433884 -0.900969        0.5   0.866025  \n",
       "83 -0.433884 -0.900969        0.5   0.866025  \n",
       "84 -0.433884 -0.900969        0.5   0.866025  \n",
       "85 -0.433884 -0.900969        0.5   0.866025  "
      ]
     },
     "execution_count": 17,
     "metadata": {},
     "output_type": "execute_result"
    }
   ],
   "source": [
    "source_seq.iloc[-5:]"
   ]
  },
  {
   "cell_type": "code",
   "execution_count": 18,
   "id": "b8c3e0d5-59de-467f-8562-4a13c85e0e76",
   "metadata": {},
   "outputs": [
    {
     "data": {
      "text/html": [
       "<div>\n",
       "<style scoped>\n",
       "    .dataframe tbody tr th:only-of-type {\n",
       "        vertical-align: middle;\n",
       "    }\n",
       "\n",
       "    .dataframe tbody tr th {\n",
       "        vertical-align: top;\n",
       "    }\n",
       "\n",
       "    .dataframe thead th {\n",
       "        text-align: right;\n",
       "    }\n",
       "</style>\n",
       "<table border=\"1\" class=\"dataframe\">\n",
       "  <thead>\n",
       "    <tr style=\"text-align: right;\">\n",
       "      <th></th>\n",
       "      <th>time</th>\n",
       "      <th>consumption_MWh</th>\n",
       "      <th>trend</th>\n",
       "      <th>hour_sin</th>\n",
       "      <th>hour_cos</th>\n",
       "      <th>day_sin</th>\n",
       "      <th>day_cos</th>\n",
       "      <th>month_sin</th>\n",
       "      <th>month_cos</th>\n",
       "    </tr>\n",
       "  </thead>\n",
       "  <tbody>\n",
       "    <tr>\n",
       "      <th>86</th>\n",
       "      <td>2018-01-04 16:00:00</td>\n",
       "      <td>40487.65</td>\n",
       "      <td>88</td>\n",
       "      <td>-0.965926</td>\n",
       "      <td>-2.588190e-01</td>\n",
       "      <td>-0.433884</td>\n",
       "      <td>-0.900969</td>\n",
       "      <td>0.5</td>\n",
       "      <td>0.866025</td>\n",
       "    </tr>\n",
       "    <tr>\n",
       "      <th>87</th>\n",
       "      <td>2018-01-04 17:00:00</td>\n",
       "      <td>39936.25</td>\n",
       "      <td>89</td>\n",
       "      <td>-1.000000</td>\n",
       "      <td>-1.836970e-16</td>\n",
       "      <td>-0.433884</td>\n",
       "      <td>-0.900969</td>\n",
       "      <td>0.5</td>\n",
       "      <td>0.866025</td>\n",
       "    </tr>\n",
       "    <tr>\n",
       "      <th>88</th>\n",
       "      <td>2018-01-04 18:00:00</td>\n",
       "      <td>38772.68</td>\n",
       "      <td>90</td>\n",
       "      <td>-0.965926</td>\n",
       "      <td>2.588190e-01</td>\n",
       "      <td>-0.433884</td>\n",
       "      <td>-0.900969</td>\n",
       "      <td>0.5</td>\n",
       "      <td>0.866025</td>\n",
       "    </tr>\n",
       "    <tr>\n",
       "      <th>89</th>\n",
       "      <td>2018-01-04 19:00:00</td>\n",
       "      <td>38113.86</td>\n",
       "      <td>91</td>\n",
       "      <td>-0.866025</td>\n",
       "      <td>5.000000e-01</td>\n",
       "      <td>-0.433884</td>\n",
       "      <td>-0.900969</td>\n",
       "      <td>0.5</td>\n",
       "      <td>0.866025</td>\n",
       "    </tr>\n",
       "    <tr>\n",
       "      <th>90</th>\n",
       "      <td>2018-01-04 20:00:00</td>\n",
       "      <td>36758.94</td>\n",
       "      <td>92</td>\n",
       "      <td>-0.707107</td>\n",
       "      <td>7.071068e-01</td>\n",
       "      <td>-0.433884</td>\n",
       "      <td>-0.900969</td>\n",
       "      <td>0.5</td>\n",
       "      <td>0.866025</td>\n",
       "    </tr>\n",
       "  </tbody>\n",
       "</table>\n",
       "</div>"
      ],
      "text/plain": [
       "                  time  consumption_MWh  trend  hour_sin      hour_cos  \\\n",
       "86 2018-01-04 16:00:00         40487.65     88 -0.965926 -2.588190e-01   \n",
       "87 2018-01-04 17:00:00         39936.25     89 -1.000000 -1.836970e-16   \n",
       "88 2018-01-04 18:00:00         38772.68     90 -0.965926  2.588190e-01   \n",
       "89 2018-01-04 19:00:00         38113.86     91 -0.866025  5.000000e-01   \n",
       "90 2018-01-04 20:00:00         36758.94     92 -0.707107  7.071068e-01   \n",
       "\n",
       "     day_sin   day_cos  month_sin  month_cos  \n",
       "86 -0.433884 -0.900969        0.5   0.866025  \n",
       "87 -0.433884 -0.900969        0.5   0.866025  \n",
       "88 -0.433884 -0.900969        0.5   0.866025  \n",
       "89 -0.433884 -0.900969        0.5   0.866025  \n",
       "90 -0.433884 -0.900969        0.5   0.866025  "
      ]
     },
     "execution_count": 18,
     "metadata": {},
     "output_type": "execute_result"
    }
   ],
   "source": [
    "target_seq[:5]"
   ]
  },
  {
   "cell_type": "code",
   "execution_count": 19,
   "id": "84267ded-5c7c-4228-8b1e-4257d92be8f2",
   "metadata": {},
   "outputs": [
    {
     "data": {
      "text/html": [
       "<div>\n",
       "<style scoped>\n",
       "    .dataframe tbody tr th:only-of-type {\n",
       "        vertical-align: middle;\n",
       "    }\n",
       "\n",
       "    .dataframe tbody tr th {\n",
       "        vertical-align: top;\n",
       "    }\n",
       "\n",
       "    .dataframe thead th {\n",
       "        text-align: right;\n",
       "    }\n",
       "</style>\n",
       "<table border=\"1\" class=\"dataframe\">\n",
       "  <thead>\n",
       "    <tr style=\"text-align: right;\">\n",
       "      <th></th>\n",
       "      <th>time</th>\n",
       "      <th>consumption_MWh</th>\n",
       "      <th>consumption_lag2</th>\n",
       "      <th>trend</th>\n",
       "      <th>hour_sin</th>\n",
       "      <th>hour_cos</th>\n",
       "      <th>day_sin</th>\n",
       "      <th>day_cos</th>\n",
       "      <th>month_sin</th>\n",
       "      <th>month_cos</th>\n",
       "    </tr>\n",
       "  </thead>\n",
       "  <tbody>\n",
       "    <tr>\n",
       "      <th>81</th>\n",
       "      <td>2018-01-04 11:00:00</td>\n",
       "      <td>39505.55</td>\n",
       "      <td>39641.36</td>\n",
       "      <td>83</td>\n",
       "      <td>1.224647e-16</td>\n",
       "      <td>-1.000000e+00</td>\n",
       "      <td>-0.433884</td>\n",
       "      <td>-0.900969</td>\n",
       "      <td>0.5</td>\n",
       "      <td>0.866025</td>\n",
       "    </tr>\n",
       "    <tr>\n",
       "      <th>82</th>\n",
       "      <td>2018-01-04 12:00:00</td>\n",
       "      <td>39635.29</td>\n",
       "      <td>40593.83</td>\n",
       "      <td>84</td>\n",
       "      <td>-2.588190e-01</td>\n",
       "      <td>-9.659258e-01</td>\n",
       "      <td>-0.433884</td>\n",
       "      <td>-0.900969</td>\n",
       "      <td>0.5</td>\n",
       "      <td>0.866025</td>\n",
       "    </tr>\n",
       "    <tr>\n",
       "      <th>83</th>\n",
       "      <td>2018-01-04 13:00:00</td>\n",
       "      <td>39952.75</td>\n",
       "      <td>40955.07</td>\n",
       "      <td>85</td>\n",
       "      <td>-5.000000e-01</td>\n",
       "      <td>-8.660254e-01</td>\n",
       "      <td>-0.433884</td>\n",
       "      <td>-0.900969</td>\n",
       "      <td>0.5</td>\n",
       "      <td>0.866025</td>\n",
       "    </tr>\n",
       "    <tr>\n",
       "      <th>84</th>\n",
       "      <td>2018-01-04 14:00:00</td>\n",
       "      <td>39649.45</td>\n",
       "      <td>39505.55</td>\n",
       "      <td>86</td>\n",
       "      <td>-7.071068e-01</td>\n",
       "      <td>-7.071068e-01</td>\n",
       "      <td>-0.433884</td>\n",
       "      <td>-0.900969</td>\n",
       "      <td>0.5</td>\n",
       "      <td>0.866025</td>\n",
       "    </tr>\n",
       "    <tr>\n",
       "      <th>85</th>\n",
       "      <td>2018-01-04 15:00:00</td>\n",
       "      <td>40063.17</td>\n",
       "      <td>39635.29</td>\n",
       "      <td>87</td>\n",
       "      <td>-8.660254e-01</td>\n",
       "      <td>-5.000000e-01</td>\n",
       "      <td>-0.433884</td>\n",
       "      <td>-0.900969</td>\n",
       "      <td>0.5</td>\n",
       "      <td>0.866025</td>\n",
       "    </tr>\n",
       "    <tr>\n",
       "      <th>86</th>\n",
       "      <td>2018-01-04 16:00:00</td>\n",
       "      <td>40487.65</td>\n",
       "      <td>39952.75</td>\n",
       "      <td>88</td>\n",
       "      <td>-9.659258e-01</td>\n",
       "      <td>-2.588190e-01</td>\n",
       "      <td>-0.433884</td>\n",
       "      <td>-0.900969</td>\n",
       "      <td>0.5</td>\n",
       "      <td>0.866025</td>\n",
       "    </tr>\n",
       "    <tr>\n",
       "      <th>87</th>\n",
       "      <td>2018-01-04 17:00:00</td>\n",
       "      <td>39936.25</td>\n",
       "      <td>39649.45</td>\n",
       "      <td>89</td>\n",
       "      <td>-1.000000e+00</td>\n",
       "      <td>-1.836970e-16</td>\n",
       "      <td>-0.433884</td>\n",
       "      <td>-0.900969</td>\n",
       "      <td>0.5</td>\n",
       "      <td>0.866025</td>\n",
       "    </tr>\n",
       "    <tr>\n",
       "      <th>88</th>\n",
       "      <td>2018-01-04 18:00:00</td>\n",
       "      <td>38772.68</td>\n",
       "      <td>40063.17</td>\n",
       "      <td>90</td>\n",
       "      <td>-9.659258e-01</td>\n",
       "      <td>2.588190e-01</td>\n",
       "      <td>-0.433884</td>\n",
       "      <td>-0.900969</td>\n",
       "      <td>0.5</td>\n",
       "      <td>0.866025</td>\n",
       "    </tr>\n",
       "    <tr>\n",
       "      <th>89</th>\n",
       "      <td>2018-01-04 19:00:00</td>\n",
       "      <td>38113.86</td>\n",
       "      <td>40487.65</td>\n",
       "      <td>91</td>\n",
       "      <td>-8.660254e-01</td>\n",
       "      <td>5.000000e-01</td>\n",
       "      <td>-0.433884</td>\n",
       "      <td>-0.900969</td>\n",
       "      <td>0.5</td>\n",
       "      <td>0.866025</td>\n",
       "    </tr>\n",
       "  </tbody>\n",
       "</table>\n",
       "</div>"
      ],
      "text/plain": [
       "                  time  consumption_MWh  consumption_lag2  trend  \\\n",
       "81 2018-01-04 11:00:00         39505.55          39641.36     83   \n",
       "82 2018-01-04 12:00:00         39635.29          40593.83     84   \n",
       "83 2018-01-04 13:00:00         39952.75          40955.07     85   \n",
       "84 2018-01-04 14:00:00         39649.45          39505.55     86   \n",
       "85 2018-01-04 15:00:00         40063.17          39635.29     87   \n",
       "86 2018-01-04 16:00:00         40487.65          39952.75     88   \n",
       "87 2018-01-04 17:00:00         39936.25          39649.45     89   \n",
       "88 2018-01-04 18:00:00         38772.68          40063.17     90   \n",
       "89 2018-01-04 19:00:00         38113.86          40487.65     91   \n",
       "\n",
       "        hour_sin      hour_cos   day_sin   day_cos  month_sin  month_cos  \n",
       "81  1.224647e-16 -1.000000e+00 -0.433884 -0.900969        0.5   0.866025  \n",
       "82 -2.588190e-01 -9.659258e-01 -0.433884 -0.900969        0.5   0.866025  \n",
       "83 -5.000000e-01 -8.660254e-01 -0.433884 -0.900969        0.5   0.866025  \n",
       "84 -7.071068e-01 -7.071068e-01 -0.433884 -0.900969        0.5   0.866025  \n",
       "85 -8.660254e-01 -5.000000e-01 -0.433884 -0.900969        0.5   0.866025  \n",
       "86 -9.659258e-01 -2.588190e-01 -0.433884 -0.900969        0.5   0.866025  \n",
       "87 -1.000000e+00 -1.836970e-16 -0.433884 -0.900969        0.5   0.866025  \n",
       "88 -9.659258e-01  2.588190e-01 -0.433884 -0.900969        0.5   0.866025  \n",
       "89 -8.660254e-01  5.000000e-01 -0.433884 -0.900969        0.5   0.866025  "
      ]
     },
     "execution_count": 19,
     "metadata": {},
     "output_type": "execute_result"
    }
   ],
   "source": [
    "df_shifted.iloc[81:90]"
   ]
  },
  {
   "cell_type": "markdown",
   "id": "8636db66-7ab4-490c-923f-09e1e1d84190",
   "metadata": {},
   "source": [
    "In the source sequence, we pair every past target value at T with the past covariates at T.\n",
    "\\\n",
    "In the output sequence, we pair every future target value at T+1 with the future covariates at T+1.\n",
    "\\\n",
    "This is more straightforward than the LSTM sequencing in notebook 3.1, because we will make our predictions in one go, and don't need to combine predictions at T+1 with future covariates at T+2 to get the input sequence for T+2. \n",
    "\\\n",
    "We will simply initialize the future targets from T+1 onwards as a linear extrapolation of the past targets from T - source_length to T. We'll do this in training as well as validation & prediction. \n",
    "\\\n",
    "The idea is that the model should learn to \"enrich\" a simple linear extrapolation given additional future known covariates."
   ]
  },
  {
   "cell_type": "code",
   "execution_count": 20,
   "id": "159827b9-f633-435f-88e9-4a3effda324f",
   "metadata": {},
   "outputs": [
    {
     "name": "stdout",
     "output_type": "stream",
     "text": [
      "Number of possible sequences: 2186\n"
     ]
    }
   ],
   "source": [
    "n_sequences = (last_t - first_t) // 24 + 1 # Number of 16:00 rows followed by a sufficient length source / target sequence\n",
    "print(\"Number of possible sequences: \" + f\"{n_sequences}\")"
   ]
  },
  {
   "cell_type": "code",
   "execution_count": 21,
   "id": "860bb74a-cf1f-405c-be9a-2d1871b8f678",
   "metadata": {},
   "outputs": [],
   "source": [
    "# Get all sequences\n",
    "for t in range(first_t, last_t + 1, 24):\n",
    "\n",
    "    # Get source sequence\n",
    "    new_source = pd.concat([\n",
    "        df_shifted.iloc[(t - source_length):t, 0], # Time\n",
    "        df_shifted.iloc[(t - source_length):t, 2], # Past target\n",
    "        df_shifted.iloc[(t - source_length):t, 3:] # Past covariates\n",
    "        ], axis = 1)\n",
    "    new_source = new_source.set_index(\"time\")\n",
    "\n",
    "    # Get target sequence\n",
    "    new_target = pd.concat([\n",
    "        df_shifted.iloc[t:(t + target_length), 0], # Time \n",
    "        df_shifted.iloc[t:(t + target_length), 1], # Future target\n",
    "        df_shifted.iloc[t:(t + target_length), 3:] # Future known covariates\n",
    "        ], axis = 1)\n",
    "    new_target = new_target.set_index(\"time\")\n",
    "\n",
    "    if t == first_t:\n",
    "\n",
    "        # Initialize lists of sequences\n",
    "        source_sequences = [new_source]\n",
    "        target_sequences = [new_target]\n",
    "        \n",
    "    else:\n",
    "        # Concatenate to arrays of sequences\n",
    "        source_sequences.append(new_source)\n",
    "        target_sequences.append(new_target)\n"
   ]
  },
  {
   "cell_type": "code",
   "execution_count": 22,
   "id": "253bf525-8f95-43af-9c5c-356248ae6cc9",
   "metadata": {},
   "outputs": [
    {
     "data": {
      "text/plain": [
       "2186"
      ]
     },
     "execution_count": 22,
     "metadata": {},
     "output_type": "execute_result"
    }
   ],
   "source": [
    "len(source_sequences)"
   ]
  },
  {
   "cell_type": "code",
   "execution_count": 23,
   "id": "45ecfbe6-7de0-46bc-8435-5fc5ae5ecaf5",
   "metadata": {},
   "outputs": [
    {
     "data": {
      "text/plain": [
       "2186"
      ]
     },
     "execution_count": 23,
     "metadata": {},
     "output_type": "execute_result"
    }
   ],
   "source": [
    "len(target_sequences)"
   ]
  },
  {
   "cell_type": "markdown",
   "id": "ff2a79ac-10d9-4de2-b973-99d6d60421cc",
   "metadata": {},
   "source": [
    "## Preprocessing: Custom scaler, Torch datasets & dataloaders"
   ]
  },
  {
   "cell_type": "code",
   "execution_count": 24,
   "id": "3016ec43-cb1b-4f43-a5e8-b1650b7eebde",
   "metadata": {},
   "outputs": [],
   "source": [
    "# Get indices for train - val - test split\n",
    "sixty_percent = int(len(source_sequences) * 0.6)\n",
    "twenty_percent = int(len(target_sequences) * 0.2)\n",
    "train_end = sixty_percent\n",
    "val_end = sixty_percent + twenty_percent"
   ]
  },
  {
   "cell_type": "markdown",
   "id": "653354da-4abb-4dd0-b6de-b4c8b1c5e490",
   "metadata": {},
   "source": [
    "We'll keep batch sizes constant to match the evaluation scheme with the stateful LSTM in notebook 3.1, though there should be no need with this model. \n",
    "\\\n",
    "We'll divide the lengths of each data fold with the batch size, drop the remainder from the start of the training folds & the end of the val. & test folds."
   ]
  },
  {
   "cell_type": "code",
   "execution_count": 25,
   "id": "3e763f7b-0356-4795-b1fe-63431e6bb7e0",
   "metadata": {},
   "outputs": [],
   "source": [
    "# Perform train - val - test split\n",
    "batch_size = 64\n",
    "\n",
    "# Training data at validation step\n",
    "tr_source, tr_target = source_sequences[0:train_end], target_sequences[0:train_end]\n",
    "remainder = len(tr_source) % batch_size\n",
    "tr_source, tr_target = tr_source[remainder:], tr_target[remainder:]\n",
    "\n",
    "# Training data at testing step\n",
    "train_source, train_target = source_sequences[0:val_end], target_sequences[0:val_end]\n",
    "remainder = len(train_source) % batch_size\n",
    "train_source, train_target = train_source[remainder:], train_target[remainder:]\n",
    "\n",
    "# Validation data\n",
    "val_source, val_target = source_sequences[train_end:val_end], target_sequences[train_end:val_end]\n",
    "remainder = len(val_source) % batch_size\n",
    "val_source, val_target = val_source[:-remainder], val_target[:-remainder]\n",
    "\n",
    "# Testing data\n",
    "test_source, test_target = source_sequences[val_end:], target_sequences[val_end:]\n",
    "remainder = len(test_source) % batch_size\n",
    "test_source, test_target = test_source[:-remainder], test_target[:-remainder]"
   ]
  },
  {
   "cell_type": "code",
   "execution_count": 26,
   "id": "c9878f96-914f-428b-b462-c040ced739f2",
   "metadata": {},
   "outputs": [
    {
     "data": {
      "text/html": [
       "<div>\n",
       "<style scoped>\n",
       "    .dataframe tbody tr th:only-of-type {\n",
       "        vertical-align: middle;\n",
       "    }\n",
       "\n",
       "    .dataframe tbody tr th {\n",
       "        vertical-align: top;\n",
       "    }\n",
       "\n",
       "    .dataframe thead th {\n",
       "        text-align: right;\n",
       "    }\n",
       "</style>\n",
       "<table border=\"1\" class=\"dataframe\">\n",
       "  <thead>\n",
       "    <tr style=\"text-align: right;\">\n",
       "      <th></th>\n",
       "      <th>consumption_lag2</th>\n",
       "      <th>trend</th>\n",
       "      <th>hour_sin</th>\n",
       "      <th>hour_cos</th>\n",
       "      <th>day_sin</th>\n",
       "      <th>day_cos</th>\n",
       "      <th>month_sin</th>\n",
       "      <th>month_cos</th>\n",
       "    </tr>\n",
       "    <tr>\n",
       "      <th>time</th>\n",
       "      <th></th>\n",
       "      <th></th>\n",
       "      <th></th>\n",
       "      <th></th>\n",
       "      <th></th>\n",
       "      <th></th>\n",
       "      <th></th>\n",
       "      <th></th>\n",
       "    </tr>\n",
       "  </thead>\n",
       "  <tbody>\n",
       "    <tr>\n",
       "      <th>2022-10-15 16:00:00</th>\n",
       "      <td>36626.13</td>\n",
       "      <td>41968</td>\n",
       "      <td>-9.659258e-01</td>\n",
       "      <td>-2.588190e-01</td>\n",
       "      <td>-0.781831</td>\n",
       "      <td>0.623490</td>\n",
       "      <td>-0.866025</td>\n",
       "      <td>0.5</td>\n",
       "    </tr>\n",
       "    <tr>\n",
       "      <th>2022-10-15 17:00:00</th>\n",
       "      <td>35781.60</td>\n",
       "      <td>41969</td>\n",
       "      <td>-1.000000e+00</td>\n",
       "      <td>-1.836970e-16</td>\n",
       "      <td>-0.781831</td>\n",
       "      <td>0.623490</td>\n",
       "      <td>-0.866025</td>\n",
       "      <td>0.5</td>\n",
       "    </tr>\n",
       "    <tr>\n",
       "      <th>2022-10-15 18:00:00</th>\n",
       "      <td>35326.54</td>\n",
       "      <td>41970</td>\n",
       "      <td>-9.659258e-01</td>\n",
       "      <td>2.588190e-01</td>\n",
       "      <td>-0.781831</td>\n",
       "      <td>0.623490</td>\n",
       "      <td>-0.866025</td>\n",
       "      <td>0.5</td>\n",
       "    </tr>\n",
       "    <tr>\n",
       "      <th>2022-10-15 19:00:00</th>\n",
       "      <td>35455.95</td>\n",
       "      <td>41971</td>\n",
       "      <td>-8.660254e-01</td>\n",
       "      <td>5.000000e-01</td>\n",
       "      <td>-0.781831</td>\n",
       "      <td>0.623490</td>\n",
       "      <td>-0.866025</td>\n",
       "      <td>0.5</td>\n",
       "    </tr>\n",
       "    <tr>\n",
       "      <th>2022-10-15 20:00:00</th>\n",
       "      <td>36296.82</td>\n",
       "      <td>41972</td>\n",
       "      <td>-7.071068e-01</td>\n",
       "      <td>7.071068e-01</td>\n",
       "      <td>-0.781831</td>\n",
       "      <td>0.623490</td>\n",
       "      <td>-0.866025</td>\n",
       "      <td>0.5</td>\n",
       "    </tr>\n",
       "    <tr>\n",
       "      <th>...</th>\n",
       "      <td>...</td>\n",
       "      <td>...</td>\n",
       "      <td>...</td>\n",
       "      <td>...</td>\n",
       "      <td>...</td>\n",
       "      <td>...</td>\n",
       "      <td>...</td>\n",
       "      <td>...</td>\n",
       "    </tr>\n",
       "    <tr>\n",
       "      <th>2022-10-18 11:00:00</th>\n",
       "      <td>38067.75</td>\n",
       "      <td>42035</td>\n",
       "      <td>1.224647e-16</td>\n",
       "      <td>-1.000000e+00</td>\n",
       "      <td>0.974928</td>\n",
       "      <td>-0.222521</td>\n",
       "      <td>-0.866025</td>\n",
       "      <td>0.5</td>\n",
       "    </tr>\n",
       "    <tr>\n",
       "      <th>2022-10-18 12:00:00</th>\n",
       "      <td>38820.67</td>\n",
       "      <td>42036</td>\n",
       "      <td>-2.588190e-01</td>\n",
       "      <td>-9.659258e-01</td>\n",
       "      <td>0.974928</td>\n",
       "      <td>-0.222521</td>\n",
       "      <td>-0.866025</td>\n",
       "      <td>0.5</td>\n",
       "    </tr>\n",
       "    <tr>\n",
       "      <th>2022-10-18 13:00:00</th>\n",
       "      <td>39206.44</td>\n",
       "      <td>42037</td>\n",
       "      <td>-5.000000e-01</td>\n",
       "      <td>-8.660254e-01</td>\n",
       "      <td>0.974928</td>\n",
       "      <td>-0.222521</td>\n",
       "      <td>-0.866025</td>\n",
       "      <td>0.5</td>\n",
       "    </tr>\n",
       "    <tr>\n",
       "      <th>2022-10-18 14:00:00</th>\n",
       "      <td>37449.27</td>\n",
       "      <td>42038</td>\n",
       "      <td>-7.071068e-01</td>\n",
       "      <td>-7.071068e-01</td>\n",
       "      <td>0.974928</td>\n",
       "      <td>-0.222521</td>\n",
       "      <td>-0.866025</td>\n",
       "      <td>0.5</td>\n",
       "    </tr>\n",
       "    <tr>\n",
       "      <th>2022-10-18 15:00:00</th>\n",
       "      <td>37962.48</td>\n",
       "      <td>42039</td>\n",
       "      <td>-8.660254e-01</td>\n",
       "      <td>-5.000000e-01</td>\n",
       "      <td>0.974928</td>\n",
       "      <td>-0.222521</td>\n",
       "      <td>-0.866025</td>\n",
       "      <td>0.5</td>\n",
       "    </tr>\n",
       "  </tbody>\n",
       "</table>\n",
       "<p>72 rows × 8 columns</p>\n",
       "</div>"
      ],
      "text/plain": [
       "                     consumption_lag2  trend      hour_sin      hour_cos  \\\n",
       "time                                                                       \n",
       "2022-10-15 16:00:00          36626.13  41968 -9.659258e-01 -2.588190e-01   \n",
       "2022-10-15 17:00:00          35781.60  41969 -1.000000e+00 -1.836970e-16   \n",
       "2022-10-15 18:00:00          35326.54  41970 -9.659258e-01  2.588190e-01   \n",
       "2022-10-15 19:00:00          35455.95  41971 -8.660254e-01  5.000000e-01   \n",
       "2022-10-15 20:00:00          36296.82  41972 -7.071068e-01  7.071068e-01   \n",
       "...                               ...    ...           ...           ...   \n",
       "2022-10-18 11:00:00          38067.75  42035  1.224647e-16 -1.000000e+00   \n",
       "2022-10-18 12:00:00          38820.67  42036 -2.588190e-01 -9.659258e-01   \n",
       "2022-10-18 13:00:00          39206.44  42037 -5.000000e-01 -8.660254e-01   \n",
       "2022-10-18 14:00:00          37449.27  42038 -7.071068e-01 -7.071068e-01   \n",
       "2022-10-18 15:00:00          37962.48  42039 -8.660254e-01 -5.000000e-01   \n",
       "\n",
       "                      day_sin   day_cos  month_sin  month_cos  \n",
       "time                                                           \n",
       "2022-10-15 16:00:00 -0.781831  0.623490  -0.866025        0.5  \n",
       "2022-10-15 17:00:00 -0.781831  0.623490  -0.866025        0.5  \n",
       "2022-10-15 18:00:00 -0.781831  0.623490  -0.866025        0.5  \n",
       "2022-10-15 19:00:00 -0.781831  0.623490  -0.866025        0.5  \n",
       "2022-10-15 20:00:00 -0.781831  0.623490  -0.866025        0.5  \n",
       "...                       ...       ...        ...        ...  \n",
       "2022-10-18 11:00:00  0.974928 -0.222521  -0.866025        0.5  \n",
       "2022-10-18 12:00:00  0.974928 -0.222521  -0.866025        0.5  \n",
       "2022-10-18 13:00:00  0.974928 -0.222521  -0.866025        0.5  \n",
       "2022-10-18 14:00:00  0.974928 -0.222521  -0.866025        0.5  \n",
       "2022-10-18 15:00:00  0.974928 -0.222521  -0.866025        0.5  \n",
       "\n",
       "[72 rows x 8 columns]"
      ]
     },
     "execution_count": 26,
     "metadata": {},
     "output_type": "execute_result"
    }
   ],
   "source": [
    "test_source[0]"
   ]
  },
  {
   "cell_type": "code",
   "execution_count": 27,
   "id": "67864f4c-7d4a-4cd2-8d81-5eaad02a786a",
   "metadata": {},
   "outputs": [
    {
     "data": {
      "text/plain": [
       "Timestamp('2022-10-18 16:00:00')"
      ]
     },
     "execution_count": 27,
     "metadata": {},
     "output_type": "execute_result"
    }
   ],
   "source": [
    "# First prediction point in testing data\n",
    "test_target[0].index[0]"
   ]
  },
  {
   "cell_type": "markdown",
   "id": "83fbb6dc-8bb4-488f-aa19-98c76dfe73d0",
   "metadata": {},
   "source": [
    "We have to scale the past consumption & trend values in the source & sequences. We need to scale the target consumption values because they are used in the loss calculation, even if not passed to the model.\n",
    "\\\n",
    "We also need the ability to backtransform the network's final predictions accordingly. We need a class instead of a function."
   ]
  },
  {
   "cell_type": "code",
   "execution_count": 28,
   "id": "b699628a-d604-4623-8446-23eafd41770c",
   "metadata": {
    "jupyter": {
     "source_hidden": true
    }
   },
   "outputs": [],
   "source": [
    "# Define scaling class for sequence data\n",
    "class sequence_scaler:\n",
    "\n",
    "    def __init__(self, feature_range = (-1, 1)):\n",
    "        self.lower = feature_range[0]\n",
    "        self.upper = feature_range[1]\n",
    "\n",
    "    def fit(self, source_df, target_df):\n",
    "\n",
    "        # Get source & target sequences as 3D arrays\n",
    "        # The time index will be skipped, yielding shape (N, seq_length, seq_dims)\n",
    "        source = np.stack(source_df, axis = 0)\n",
    "        target = np.stack(target_df, axis = 0)\n",
    "\n",
    "        # Get number of dimensions\n",
    "        self.num_dimensions = source.shape[2]\n",
    "        \n",
    "        # Extract & save minimum, maximum for each dimension\n",
    "        dimensions_mini = []\n",
    "        dimensions_maxi = []\n",
    "        for dimension in range(0, self.num_dimensions):\n",
    "            min = np.min([\n",
    "                np.min(source[:, :, dimension]),\n",
    "                np.min(target[:, :, dimension])\n",
    "            ])\n",
    "            dimensions_mini.append(min)\n",
    "\n",
    "            max = np.max([\n",
    "                np.max(source[:, :, dimension]),\n",
    "                np.max(target[:, :, dimension])\n",
    "            ])\n",
    "            dimensions_maxi.append(max)\n",
    "\n",
    "        self.dimensions_mini = dimensions_mini\n",
    "        self.dimensions_maxi = dimensions_maxi\n",
    "\n",
    "    def transform(self, scale_df):\n",
    "\n",
    "        # Get sequence as 3D arrays\n",
    "        scale_array = np.stack(scale_df, axis = 0)\n",
    "\n",
    "        # Initialize list of scaled dimensions\n",
    "        scaled_dimensions = []\n",
    "\n",
    "        # Scale each dimension & append to list\n",
    "        for dimension in range(0, self.num_dimensions):\n",
    "            values = scale_array[:, :, dimension]\n",
    "            min = self.dimensions_mini[dimension]\n",
    "            max = self.dimensions_maxi[dimension]\n",
    "            std = (values - min) / (max - min)\n",
    "            scaled = std * (self.upper - self.lower) + self.lower\n",
    "            scaled_dimensions.append(scaled)\n",
    "\n",
    "        # Stack over 3rd axis & return\n",
    "        return np.stack(scaled_dimensions, axis = 2)\n",
    "\n",
    "    def backtransform_preds(self, preds_array, fitted_preds_dim = 0):\n",
    "\n",
    "        # Get n. of predicted quantiles to backtransform\n",
    "        n_quantiles = preds_array.shape[-1]\n",
    "\n",
    "        # Get the fitted mini & maxi for predictions\n",
    "        min = self.dimensions_mini[fitted_preds_dim] \n",
    "        max = self.dimensions_maxi[fitted_preds_dim]\n",
    "\n",
    "        # Initialize list of backtransformed quantiles\n",
    "        backtrafo_quantiles = []\n",
    "\n",
    "        # Backtransform each quantile & append to list\n",
    "        for quantile in range(0, n_quantiles):\n",
    "            scaled = preds_array[:, :, quantile]\n",
    "            std = (scaled - self.lower) / (self.upper - self.lower)\n",
    "            values = std * (max - min) + min\n",
    "            backtrafo_quantiles.append(values)\n",
    "            \n",
    "        # Stack over 3rd axis & return\n",
    "        return np.stack(backtrafo_quantiles, axis = 2)"
   ]
  },
  {
   "cell_type": "markdown",
   "id": "8d1e73f1-6b80-4c22-ac88-4a447673bf1f",
   "metadata": {},
   "source": [
    "We can use one Torch dataset class both for training & validation (known future targets part of passed target sequence), and for prediction (no known future targets).\n",
    "\\\n",
    "In the former case, both the source & target sequence need to have D feature dimensions (including targets). In the latter case, the target sequence needs to have D-1 feature dimensions, without targets."
   ]
  },
  {
   "cell_type": "code",
   "execution_count": 29,
   "id": "cf377421-7c99-4210-87c4-dab14581571a",
   "metadata": {
    "jupyter": {
     "source_hidden": true
    }
   },
   "outputs": [],
   "source": [
    "# Define Torch dataset class\n",
    "class SequenceDataset(torch.utils.data.Dataset):\n",
    "\n",
    "    # Store preprocessed source & target sequences\n",
    "    def __init__(self, source_seq, target_seq): \n",
    "        self.source_seq = torch.tensor(source_seq, dtype = torch.float32) # Store input sequences\n",
    "        self.target_seq = torch.tensor(target_seq, dtype = torch.float32) # Store output sequences\n",
    "  \n",
    "    # Return data length  \n",
    "    def __len__(self):\n",
    "        return len(self.source_seq) \n",
    "  \n",
    "    # Return a pair of input & output sequences\n",
    "    def __getitem__(self, idx):\n",
    "        return self.source_seq[idx], self.target_seq[idx]"
   ]
  },
  {
   "cell_type": "code",
   "execution_count": 30,
   "id": "14cf3a58-b711-4157-abf7-0f066ec713b6",
   "metadata": {},
   "outputs": [],
   "source": [
    "# Scale validation data & create Torch datasets\n",
    "scaler_val = sequence_scaler()\n",
    "_ = scaler_val.fit(tr_source, tr_target)\n",
    "tr_data = SequenceDataset(scaler_val.transform(tr_source), scaler_val.transform(tr_target))\n",
    "val_data = SequenceDataset(scaler_val.transform(val_source), scaler_val.transform(val_target))\n",
    "\n",
    "# Scale testing data & create Torch datasets. Index out the target values for the testing target sequences\n",
    "scaler_test = sequence_scaler()\n",
    "_ = scaler_test.fit(train_source, train_target)\n",
    "train_data = SequenceDataset(scaler_test.transform(train_source), scaler_test.transform(train_target))\n",
    "test_data = SequenceDataset(scaler_test.transform(test_source), scaler_test.transform(test_target)[:, :, 1:])"
   ]
  },
  {
   "cell_type": "code",
   "execution_count": 31,
   "id": "836887aa-b98f-4441-bede-b38022c715eb",
   "metadata": {},
   "outputs": [],
   "source": [
    "# Create Torch dataloaders\n",
    "num_workers = 0\n",
    "shuffle = False\n",
    "\n",
    "# Training data at validation step\n",
    "tr_loader = torch.utils.data.DataLoader(\n",
    "    tr_data, batch_size = batch_size, num_workers = num_workers, shuffle = shuffle)\n",
    "\n",
    "# Training data at testing step\n",
    "train_loader = torch.utils.data.DataLoader(\n",
    "    train_data, batch_size = batch_size, num_workers = num_workers, shuffle = shuffle)\n",
    "\n",
    "# Validation & testing data\n",
    "val_loader = torch.utils.data.DataLoader(\n",
    "    val_data, batch_size = batch_size, num_workers = num_workers, shuffle = shuffle)\n",
    "test_loader = torch.utils.data.DataLoader(\n",
    "    test_data, batch_size = batch_size, num_workers = num_workers, shuffle = shuffle)"
   ]
  },
  {
   "cell_type": "markdown",
   "id": "687c517f-376f-43e2-8839-16e9b261e80f",
   "metadata": {},
   "source": [
    "## Model definition"
   ]
  },
  {
   "cell_type": "code",
   "execution_count": 32,
   "id": "d7cd8a35-f626-4cad-8db6-4932b2e27df2",
   "metadata": {
    "jupyter": {
     "source_hidden": true
    }
   },
   "outputs": [],
   "source": [
    "# Define QuantileLoss, because pytorch_forecasting installation raises issues with Python 3.12\n",
    "class QuantileLoss:\n",
    "    \"\"\"\n",
    "    Takes in predictions of shape (...),\n",
    "    targets of shape (..., n_quantiles),\n",
    "    quantiles in a list.\n",
    "    \n",
    "    Returns unreduced quantile loss tensor of shape (..., n_quantiles),\n",
    "    where each value is quantile loss * 2 (equal to the MAE for q = 0.5).\n",
    "    \n",
    "    Implemented from pytorch_forecasting.metrics.quantile.QuantileLoss.\n",
    "    \"\"\"\n",
    "\n",
    "    def __init__(self, quantiles):\n",
    "        self.quantiles = quantiles\n",
    "\n",
    "    def loss(self, pred, target):\n",
    "        \n",
    "        quantile_losses = []\n",
    "        for i, q in enumerate(self.quantiles):\n",
    "            error = target - pred[..., i]\n",
    "            quantile_error = torch.max(\n",
    "                (q - 1) * error,\n",
    "                q * error\n",
    "            ).unsqueeze(-1)\n",
    "            quantile_losses.append(quantile_error)\n",
    "\n",
    "        quantile_losses = torch.cat(quantile_losses, dim = 2)\n",
    "        return quantile_losses"
   ]
  },
  {
   "cell_type": "code",
   "execution_count": 33,
   "id": "a2da1985-55fe-4b63-bf5a-fed283a299e6",
   "metadata": {
    "jupyter": {
     "source_hidden": true
    }
   },
   "outputs": [],
   "source": [
    "# Define model class\n",
    "class iQuantileTransformer(L.LightningModule):\n",
    "\n",
    "    # Initialize model\n",
    "    def __init__(self, hyperparams_dict):\n",
    "        \n",
    "        # Delegate function to parent class\n",
    "        super().__init__() \n",
    "        \n",
    "        # Save external hyperparameters so they are available when loading saved models\n",
    "        self.save_hyperparameters(logger = False) \n",
    "\n",
    "        # Define hyperparameters\n",
    "        self.source_length = hyperparams_dict[\"source_length\"] # Length of source sequence, L\n",
    "        self.target_length = hyperparams_dict[\"target_length\"] # Length of target sequence, H\n",
    "        self.horizon_start = hyperparams_dict[\"horizon_start\"] # Start of the forecast horizon relevant for loss computing\n",
    "        self.quantiles = hyperparams_dict[\"quantiles\"] # Provide as list of floats: [0.025, 0.5, 0.975]\n",
    "        self.d_model = hyperparams_dict[\"d_model\"] # Dimensionality of attention inputs, d\n",
    "        self.n_heads = hyperparams_dict[\"n_heads\"] # N. of attention heads per multiattention block\n",
    "        self.n_encoders = hyperparams_dict[\"n_encoders\"] # N. of encoder blocks\n",
    "        self.n_decoders = hyperparams_dict[\"n_decoders\"] # N. of decoder blocks\n",
    "        self.d_feedforward = hyperparams_dict[\"d_feedforward\"] # Dimensionality of feedforward networks\n",
    "        self.activation = hyperparams_dict[\"activation\"] # Activation function for transformer FFNs\n",
    "        self.learning_rate = hyperparams_dict[\"learning_rate\"]\n",
    "        self.lr_decay = hyperparams_dict[\"lr_decay\"]\n",
    "        self.dropout_rate = hyperparams_dict[\"dropout_rate\"]\n",
    "\n",
    "        # Define loss function: Quantile loss\n",
    "        self.loss = QuantileLoss(quantiles = self.quantiles)\n",
    "        self.n_quantiles = len(self.quantiles) # Number of quantiles, Q\n",
    "\n",
    "        # Define architecture components\n",
    "\n",
    "        # Source projection, input shape (N, D, L), output shape (N, D, d)\n",
    "        self.source_project = torch.nn.Linear(\n",
    "            in_features = self.source_length,\n",
    "            out_features = self.d_model\n",
    "        )\n",
    "\n",
    "        # Target projection, input shape (N, D, H), output shape (N, D, d)\n",
    "        self.target_project = torch.nn.Linear(\n",
    "            in_features = self.target_length,\n",
    "            out_features = self.d_model\n",
    "        )\n",
    "\n",
    "        # Dropout layer for projections\n",
    "        self.dropout = torch.nn.Dropout(p = self.dropout_rate)\n",
    "\n",
    "        # Transformer, input shapes (N, D, d), output shape (N, D, d)\n",
    "        self.transformer = torch.nn.Transformer(\n",
    "            d_model = self.d_model,\n",
    "            nhead = self.n_heads,\n",
    "            num_encoder_layers = self.n_encoders,\n",
    "            num_decoder_layers = self.n_decoders,\n",
    "            dim_feedforward = self.d_feedforward,\n",
    "            dropout = self.dropout_rate,\n",
    "            activation = self.activation,\n",
    "            batch_first = True\n",
    "        )\n",
    "        \n",
    "        # Output layer, input shape (N, D, d), output shape (N, D, H * Q)\n",
    "        # The output is flattened across timesteps & quantiles, needs to be \n",
    "        # indexed & reshaped into shape (N, H, Q) \n",
    "        self.output_layer = torch.nn.Linear(\n",
    "            in_features = self.d_model,\n",
    "            out_features = self.target_length * self.n_quantiles\n",
    "        )\n",
    "\n",
    "    # Define linear trend extrapolation method\n",
    "    # Input: Past targets(N, L) \n",
    "    # Output: Linearly extrapolated future targets(N, H)\n",
    "    def linear_trend(self, past_target):\n",
    "\n",
    "        # Get batch size\n",
    "        batch_size = past_target.shape[0]\n",
    "\n",
    "        # Get timestep index vectors\n",
    "        past_idx = torch.arange(0, self.source_length).float()\n",
    "        future_idx = torch.arange(\n",
    "            self.source_length, \n",
    "            (self.source_length + self.target_length)).float()\n",
    "\n",
    "        # Get vectors & matrices for linear extrapolation\n",
    "        ones = torch.ones(self.source_length)\n",
    "        x = torch.stack((past_idx, ones), 1).to(\"cpu\")\n",
    "        x_t = torch.transpose(x, 0, 1).to(\"cpu\")\n",
    "        y = past_target.unsqueeze(-1).to(\"cpu\") \n",
    "        \n",
    "        # Estimate linear extrapolation parameters for each batch\n",
    "        params = torch.matmul(\n",
    "            torch.matmul(x_t, y).squeeze(-1), torch.linalg.inv(torch.matmul(x_t, x))\n",
    "        )\n",
    "        slopes = params[:, 0]\n",
    "        constants = params[:, 1]\n",
    "\n",
    "        # Extrapolate trend to future for each batch\n",
    "        future_target = future_idx.repeat(batch_size, 1) * slopes.unsqueeze(-1) + constants.unsqueeze(-1)\n",
    "        return future_target.to(self.device)\n",
    "\n",
    "    # Define forward propagation\n",
    "    def forward(self, source_seq, target_seq):\n",
    "\n",
    "        # Project source & target sequences\n",
    "        # Inputs: Inverted source(N, D, L) and target(N, D, H) sequences\n",
    "        source = self.dropout(self.source_project(source_seq))\n",
    "        target = self.dropout(self.target_project(target_seq))\n",
    "\n",
    "        # Pass source & target sequences to transformer\n",
    "        # Inputs: Projected source and target sequences, (N, D, d)\n",
    "        transformer_output = self.transformer(source, target)\n",
    "\n",
    "        # Pass transformer outputs to output layer, with residual connection to pre-transformer target sequence\n",
    "        # Input: Transformer output(N, D, d)\n",
    "        output = self.output_layer(target + transformer_output)\n",
    "\n",
    "        # Output: Flattened quantile predictions(N, D, H * Q)\n",
    "        return output\n",
    "\n",
    "    # Define training step\n",
    "    # Assumes both source & target sequences are passed to SequenceDataset with D dimensions, target values included\n",
    "    def training_step(self, batch, batch_idx):\n",
    "\n",
    "        # Get raw source & target sequences from dataloader\n",
    "        # Shapes (N, L, D), (N, H, D)\n",
    "        source_seq, target_seq = batch\n",
    "        \n",
    "        # Cast aside real future targets for loss calculation\n",
    "        real_future_target = target_seq[:, :, 0] # Shape (N, H)\n",
    "        target_seq = target_seq[:, :, 1:] # Shape (N, H, D-1)\n",
    "\n",
    "        # Use past targets to extrapolate linear trend to future,\n",
    "        # concatenate the future trend component with future covariates\n",
    "        past_target = source_seq[:, :, 0] # Shape (N, L)\n",
    "        future_target = self.linear_trend(past_target) # Shape (N, H)\n",
    "        target_seq = torch.cat((\n",
    "                future_target.unsqueeze(-1),\n",
    "                target_seq, \n",
    "            ), dim = 2) # Shape (N, H, D)\n",
    "\n",
    "        # Invert the sequences  \n",
    "        # BRAVO NOLAN\n",
    "        source_seq = torch.permute(source_seq, (0, 2, 1)) # Shape (N, D, L)\n",
    "        target_seq = torch.permute(target_seq, (0, 2, 1)) # Shape (N, D, H)\n",
    "\n",
    "        # Forward propagation\n",
    "        output = self.forward(source_seq, target_seq) # Shape (N, D, H * Q)\n",
    "\n",
    "        # Get quantile predictions from output tensor\n",
    "        preds = output.view(output.shape[0], output.shape[1], self.target_length, self.n_quantiles) # Shape (N, D, H, Q)\n",
    "        preds = preds[:, 0, :, :] # Shape (N, H, Q)\n",
    "\n",
    "        # Calculate loss, starting from the chosen future time step  \n",
    "        loss = self.loss.loss(\n",
    "            preds[:, self.horizon_start:, :], \n",
    "            real_future_target[:, self.horizon_start:]\n",
    "        ) # Shape (N, H - horizon_start, Q)\n",
    "\n",
    "        # Reduce the quantile loss\n",
    "        loss_reduced = loss.mean(dim = 2) # Average over quantiles. Shape (N, H - horizon_start)\n",
    "        loss_reduced = loss_reduced.sum(dim = 1) # Sum over forecast steps. Shape (N)\n",
    "        loss_reduced = loss_reduced.mean() # Average over batches. Yields scalar loss for backpropagation.\n",
    "\n",
    "        # Log the train loss\n",
    "        self.log(\"train_loss\", loss_reduced, on_step = True, on_epoch = True, prog_bar = True, logger = False)\n",
    "\n",
    "        return loss_reduced\n",
    "    \n",
    "    # Define validation_step\n",
    "    # Assumes both source & target sequences are passed to SequenceDataset with D dimensions, target values included\n",
    "    def validation_step(self, batch, batch_idx):\n",
    "\n",
    "        # Get raw source & target sequences from dataloader\n",
    "        # Shapes (N, L, D), (N, H, D)\n",
    "        source_seq, target_seq = batch\n",
    "        \n",
    "        # Cast aside real future targets for loss calculation\n",
    "        real_future_target = target_seq[:, :, 0] # Shape (N, H)\n",
    "        target_seq = target_seq[:, :, 1:] # Shape (N, H, D-1)\n",
    "\n",
    "        # Use past targets to extrapolate linear trend to future,\n",
    "        # concatenate the future trend component with future covariates\n",
    "        past_target = source_seq[:, :, 0] # Shape (N, L)\n",
    "        future_target = self.linear_trend(past_target) # Shape (N, H)\n",
    "        target_seq = torch.cat((\n",
    "                future_target.unsqueeze(-1),\n",
    "                target_seq, \n",
    "            ), dim = 2) # Shape (N, H, D)\n",
    "\n",
    "        # Invert the sequences  \n",
    "        source_seq = torch.permute(source_seq, (0, 2, 1)) # Shape (N, D, L)\n",
    "        target_seq = torch.permute(target_seq, (0, 2, 1)) # Shape (N, D, H)\n",
    "\n",
    "        # Forward propagation\n",
    "        output = self.forward(source_seq, target_seq) # Shape (N, D, H * Q)\n",
    "\n",
    "        # Get quantile predictions from output tensor\n",
    "        preds = output.view(output.shape[0], output.shape[1], self.target_length, self.n_quantiles) # Shape (N, D, H, Q)\n",
    "        preds = preds[:, 0, :, :] # Shape (N, H, Q)\n",
    "\n",
    "        # Calculate loss, starting from the chosen future time step  \n",
    "        loss = self.loss.loss(\n",
    "            preds[:, self.horizon_start:, :], \n",
    "            real_future_target[:, self.horizon_start:]\n",
    "        ) # Shape (N, H - horizon_start, Q)\n",
    "\n",
    "        # Reduce the quantile loss\n",
    "        loss_reduced = loss.mean(dim = 2) # Average over quantiles. Shape (N, H - horizon_start)\n",
    "        loss_reduced = loss_reduced.sum(dim = 1) # Sum over forecast steps. Shape (N)\n",
    "        loss_reduced = loss_reduced.mean() # Average over batches. Yields scalar loss.\n",
    "\n",
    "        # Log the validation loss\n",
    "        self.log(\"val_loss\", loss_reduced, on_step = True, on_epoch = True, prog_bar = True, logger = False)\n",
    "\n",
    "    # Define prediction_step\n",
    "    # Assumes target sequences are passed to SequenceDataset with D-1 dimensions, target values excluded\n",
    "    def predict_step(self, batch, batch_idx):\n",
    "\n",
    "        # Get raw source & target sequences from dataloader\n",
    "        # Shapes (N, L, D), (N, H, D-1)\n",
    "        source_seq, target_seq = batch\n",
    "        \n",
    "        # Use past targets to extrapolate linear trend to future,\n",
    "        # concatenate the future trend component with future covariates\n",
    "        past_target = source_seq[:, :, 0] # Shape (N, L)\n",
    "        future_target = self.linear_trend(past_target) # Shape (N, H)\n",
    "        target_seq = torch.cat((\n",
    "                future_target.unsqueeze(-1),\n",
    "                target_seq, \n",
    "            ), dim = 2) # Shape (N, H, D)\n",
    "\n",
    "        # Invert the sequences  \n",
    "        source_seq = torch.permute(source_seq, (0, 2, 1)) # Shape (N, D, L)\n",
    "        target_seq = torch.permute(target_seq, (0, 2, 1)) # Shape (N, D, H)\n",
    "\n",
    "        # Forward propagation\n",
    "        output = self.forward(source_seq, target_seq) # Shape (N, D, H * Q)\n",
    "\n",
    "        # Get quantile predictions from output tensor\n",
    "        preds = output.view(output.shape[0], output.shape[1], self.target_length, self.n_quantiles) # Shape (N, D, H, Q)\n",
    "        preds = preds[:, 0, :, :] # Shape (N, H, Q)\n",
    "        return preds\n",
    "\n",
    "    # Define optimizer & learning rate scheduler\n",
    "    def configure_optimizers(self):\n",
    "\n",
    "        # Adam optimizer\n",
    "        optimizer = torch.optim.Adam(self.parameters(), lr = self.learning_rate)\n",
    "        \n",
    "        # Exponential LR scheduler\n",
    "        lr_scheduler = torch.optim.lr_scheduler.ExponentialLR(\n",
    "          optimizer, gamma = self.lr_decay) \n",
    "        \n",
    "        return {\n",
    "        \"optimizer\": optimizer,\n",
    "        \"lr_scheduler\": {\n",
    "          \"scheduler\": lr_scheduler\n",
    "          }\n",
    "        }"
   ]
  },
  {
   "cell_type": "markdown",
   "id": "62efdf47-113d-49dd-8214-3cb2a4ff9c43",
   "metadata": {},
   "source": [
    "## Hyperparameter tuning with Optuna"
   ]
  },
  {
   "cell_type": "code",
   "execution_count": 34,
   "id": "a42fa951-e14b-49c6-8c20-98685c0adeb6",
   "metadata": {},
   "outputs": [],
   "source": [
    "# Define tuning parameters\n",
    "tol = 0.002 # Change in MAE to avoid early stopping\n",
    "patience = 5 # N. of rounds with no improvement before early stopping"
   ]
  },
  {
   "cell_type": "code",
   "execution_count": 35,
   "id": "1abfd441-0457-45fe-9e5f-a8f2942c6056",
   "metadata": {},
   "outputs": [],
   "source": [
    "# Define Optuna objective\n",
    "def objective_transformer(trial):\n",
    "\n",
    "    # Define search space\n",
    "    d_model = 2 ** trial.suggest_int(\"d_model\", 4, 7) # Powers of 2, 16 to 128\n",
    "    n_heads = 2 ** trial.suggest_int(\"n_heads\", 1, 3) # Powers of 2, 2 to 8\n",
    "    n_encoders = trial.suggest_int(\"n_encoders\", 1, 3) # 1 to 3\n",
    "    d_feedforward = 2 ** trial.suggest_int(\"d_feedforward\", 3, 8) # Powers of 2, 8 to 256\n",
    "    activation = trial.suggest_categorical(\"activation\", [\"relu\", \"gelu\"])\n",
    "    learning_rate = trial.suggest_float(\"learning_rate\", 5e-4, 5e-2) # 0.0005 to 0.05\n",
    "    lr_decay = trial.suggest_float(\"lr_decay\", 0.9, 1)\n",
    "    dropout_rate = trial.suggest_float(\"dropout_rate\", 0, 0.1)\n",
    "\n",
    "    # Probably best to match n. of encoder & decoder layers\n",
    "    n_decoders = n_encoders\n",
    "\n",
    "    # Create hyperparameters dict\n",
    "    hyperparameters_dict = {\n",
    "        \"source_length\": source_length,\n",
    "        \"target_length\": target_length,\n",
    "        \"horizon_start\": horizon_start,\n",
    "        \"quantiles\": quantiles,\n",
    "        \"d_model\": d_model,\n",
    "        \"n_heads\": n_heads,\n",
    "        \"n_encoders\": n_encoders,\n",
    "        \"n_decoders\": n_decoders,\n",
    "        \"d_feedforward\": d_feedforward,\n",
    "        \"activation\": activation,\n",
    "        \"learning_rate\": learning_rate,\n",
    "        \"lr_decay\": lr_decay,\n",
    "        \"dropout_rate\": dropout_rate\n",
    "    }\n",
    "\n",
    "    # Create early stop callback\n",
    "    callback_earlystop = L.pytorch.callbacks.EarlyStopping(\n",
    "        monitor = \"val_loss\", \n",
    "        mode = \"min\", \n",
    "        min_delta = tol, \n",
    "        patience = patience\n",
    "    )\n",
    "\n",
    "    # Create pruning callback\n",
    "    callback_pruner = PyTorchLightningPruningCallback(trial, monitor = \"val_loss\")\n",
    "\n",
    "    # Create trainer\n",
    "    trainer = L.Trainer(\n",
    "        max_epochs = 100,\n",
    "        accelerator = \"gpu\",\n",
    "        devices = \"auto\",\n",
    "        precision = \"16-mixed\",\n",
    "        callbacks = [callback_earlystop, callback_pruner],\n",
    "        enable_model_summary = False,\n",
    "        logger = False,\n",
    "        enable_progress_bar = False,\n",
    "        enable_checkpointing = False\n",
    "    )\n",
    "\n",
    "    # Create & train model\n",
    "    model = iQuantileTransformer(hyperparameters_dict)\n",
    "    trainer.fit(model, tr_loader, val_loader)\n",
    "\n",
    "    # Retrieve best val score and n. of epochs\n",
    "    score = callback_earlystop.best_score.cpu().numpy()\n",
    "    epoch = trainer.current_epoch - callback_earlystop.wait_count # Starts from 1\n",
    "\n",
    "    # Report best n. of epochs to study\n",
    "    trial.set_user_attr(\"n_epochs\", epoch)\n",
    "  \n",
    "    return score"
   ]
  },
  {
   "cell_type": "code",
   "execution_count": 36,
   "id": "1574517f-1bfc-41f3-b7a1-e2a44d751696",
   "metadata": {},
   "outputs": [
    {
     "name": "stderr",
     "output_type": "stream",
     "text": [
      "[I 2024-03-29 15:12:18,567] A new study created in memory with name: tune_transformer\n"
     ]
    }
   ],
   "source": [
    "# Create study\n",
    "study_transformer = optuna.create_study(\n",
    "  sampler = optuna.samplers.TPESampler(seed = random_seed),\n",
    "  pruner = optuna.pruners.HyperbandPruner(),\n",
    "  study_name = \"tune_transformer\",\n",
    "  direction = \"minimize\"\n",
    ")"
   ]
  },
  {
   "cell_type": "code",
   "execution_count": 37,
   "id": "2099ce40-0f12-4ef5-8702-2eb6509bacea",
   "metadata": {
    "collapsed": true,
    "jupyter": {
     "outputs_hidden": true
    }
   },
   "outputs": [
    {
     "name": "stderr",
     "output_type": "stream",
     "text": [
      "  0%|                                                                                          | 0/100 [00:00<?, ?it/s]Using 16bit Automatic Mixed Precision (AMP)\n",
      "GPU available: True (cuda), used: True\n",
      "TPU available: False, using: 0 TPU cores\n",
      "IPU available: False, using: 0 IPUs\n",
      "HPU available: False, using: 0 HPUs\n",
      "LOCAL_RANK: 0 - CUDA_VISIBLE_DEVICES: [0]\n",
      "C:\\Users\\PC\\Documents\\WorkLocal\\DataScience\\GitHub\\DeepLearningEnergyForecasting\\venv\\Lib\\site-packages\\torch\\nn\\functional.py:5476: UserWarning: 1Torch was not compiled with flash attention. (Triggered internally at ..\\aten\\src\\ATen\\native\\transformers\\cuda\\sdp_utils.cpp:263.)\n",
      "  attn_output = scaled_dot_product_attention(q, k, v, attn_mask, dropout_p, is_causal)\n",
      "Best trial: 0. Best value: 0.741812:   1%|▍                                            | 1/100 [00:08<13:24,  8.13s/it]Using 16bit Automatic Mixed Precision (AMP)\n",
      "GPU available: True (cuda), used: True\n",
      "TPU available: False, using: 0 TPU cores\n",
      "IPU available: False, using: 0 IPUs\n",
      "HPU available: False, using: 0 HPUs\n",
      "LOCAL_RANK: 0 - CUDA_VISIBLE_DEVICES: [0]\n"
     ]
    },
    {
     "name": "stdout",
     "output_type": "stream",
     "text": [
      "[I 2024-03-29 15:12:28,249] Trial 0 finished with value: 0.7418119311332703 and parameters: {'d_model': 5, 'n_heads': 2, 'n_encoders': 2, 'd_feedforward': 5, 'activation': 'gelu', 'learning_rate': 0.03150206413384541, 'lr_decay': 0.9703695074419971, 'dropout_rate': 0.07316550760686165}. Best is trial 0 with value: 0.7418119311332703.\n"
     ]
    },
    {
     "name": "stderr",
     "output_type": "stream",
     "text": [
      "Best trial: 0. Best value: 0.741812:   2%|▉                                            | 2/100 [00:13<10:11,  6.24s/it]Using 16bit Automatic Mixed Precision (AMP)\n",
      "GPU available: True (cuda), used: True\n",
      "TPU available: False, using: 0 TPU cores\n",
      "IPU available: False, using: 0 IPUs\n",
      "HPU available: False, using: 0 HPUs\n",
      "LOCAL_RANK: 0 - CUDA_VISIBLE_DEVICES: [0]\n"
     ]
    },
    {
     "name": "stdout",
     "output_type": "stream",
     "text": [
      "[I 2024-03-29 15:12:33,172] Trial 1 finished with value: 0.7429953217506409 and parameters: {'d_model': 7, 'n_heads': 3, 'n_encoders': 1, 'd_feedforward': 3, 'activation': 'gelu', 'learning_rate': 0.03257271728832828, 'lr_decay': 0.9639393932876937, 'dropout_rate': 0.09113637931825766}. Best is trial 0 with value: 0.7418119311332703.\n"
     ]
    },
    {
     "name": "stderr",
     "output_type": "stream",
     "text": [
      "Best trial: 0. Best value: 0.741812:   3%|█▎                                           | 3/100 [00:16<07:44,  4.79s/it]Using 16bit Automatic Mixed Precision (AMP)\n",
      "GPU available: True (cuda), used: True\n",
      "TPU available: False, using: 0 TPU cores\n",
      "IPU available: False, using: 0 IPUs\n",
      "HPU available: False, using: 0 HPUs\n",
      "LOCAL_RANK: 0 - CUDA_VISIBLE_DEVICES: [0]\n"
     ]
    },
    {
     "name": "stdout",
     "output_type": "stream",
     "text": [
      "[I 2024-03-29 15:12:36,234] Trial 2 finished with value: 0.7918574810028076 and parameters: {'d_model': 7, 'n_heads': 2, 'n_encoders': 1, 'd_feedforward': 7, 'activation': 'relu', 'learning_rate': 0.03315975106839136, 'lr_decay': 0.9982556868794742, 'dropout_rate': 0.07729410447369012}. Best is trial 0 with value: 0.7418119311332703.\n"
     ]
    },
    {
     "name": "stderr",
     "output_type": "stream",
     "text": [
      "Best trial: 0. Best value: 0.741812:   4%|█▊                                           | 4/100 [00:22<08:24,  5.26s/it]Using 16bit Automatic Mixed Precision (AMP)\n",
      "GPU available: True (cuda), used: True\n",
      "TPU available: False, using: 0 TPU cores\n",
      "IPU available: False, using: 0 IPUs\n",
      "HPU available: False, using: 0 HPUs\n",
      "LOCAL_RANK: 0 - CUDA_VISIBLE_DEVICES: [0]\n"
     ]
    },
    {
     "name": "stdout",
     "output_type": "stream",
     "text": [
      "[I 2024-03-29 15:12:42,214] Trial 3 finished with value: 0.7517213225364685 and parameters: {'d_model': 5, 'n_heads': 2, 'n_encoders': 3, 'd_feedforward': 7, 'activation': 'relu', 'learning_rate': 0.02239679030926213, 'lr_decay': 0.9013686334464487, 'dropout_rate': 0.03131410395939636}. Best is trial 0 with value: 0.7418119311332703.\n"
     ]
    },
    {
     "name": "stderr",
     "output_type": "stream",
     "text": [
      "Best trial: 4. Best value: 0.73866:   5%|██▎                                           | 5/100 [00:32<11:06,  7.02s/it]Using 16bit Automatic Mixed Precision (AMP)\n",
      "GPU available: True (cuda), used: True\n",
      "TPU available: False, using: 0 TPU cores\n",
      "IPU available: False, using: 0 IPUs\n",
      "HPU available: False, using: 0 HPUs\n",
      "LOCAL_RANK: 0 - CUDA_VISIBLE_DEVICES: [0]\n"
     ]
    },
    {
     "name": "stdout",
     "output_type": "stream",
     "text": [
      "[I 2024-03-29 15:12:52,343] Trial 4 finished with value: 0.738659679889679 and parameters: {'d_model': 6, 'n_heads': 1, 'n_encoders': 3, 'd_feedforward': 3, 'activation': 'gelu', 'learning_rate': 0.013874270579656924, 'lr_decay': 0.9352375210959237, 'dropout_rate': 0.0716374510257916}. Best is trial 4 with value: 0.738659679889679.\n"
     ]
    },
    {
     "name": "stderr",
     "output_type": "stream",
     "text": [
      "Best trial: 4. Best value: 0.73866:   6%|██▊                                           | 6/100 [00:33<07:57,  5.08s/it]Using 16bit Automatic Mixed Precision (AMP)\n",
      "GPU available: True (cuda), used: True\n",
      "TPU available: False, using: 0 TPU cores\n",
      "IPU available: False, using: 0 IPUs\n",
      "HPU available: False, using: 0 HPUs\n",
      "LOCAL_RANK: 0 - CUDA_VISIBLE_DEVICES: [0]\n"
     ]
    },
    {
     "name": "stdout",
     "output_type": "stream",
     "text": [
      "[I 2024-03-29 15:12:53,657] Trial 5 pruned. Trial was pruned at epoch 3.\n"
     ]
    },
    {
     "name": "stderr",
     "output_type": "stream",
     "text": [
      "Best trial: 4. Best value: 0.73866:   7%|███▏                                          | 7/100 [00:34<05:57,  3.85s/it]Using 16bit Automatic Mixed Precision (AMP)\n",
      "GPU available: True (cuda), used: True\n",
      "TPU available: False, using: 0 TPU cores\n",
      "IPU available: False, using: 0 IPUs\n",
      "HPU available: False, using: 0 HPUs\n",
      "LOCAL_RANK: 0 - CUDA_VISIBLE_DEVICES: [0]\n"
     ]
    },
    {
     "name": "stdout",
     "output_type": "stream",
     "text": [
      "[I 2024-03-29 15:12:54,979] Trial 6 pruned. Trial was pruned at epoch 3.\n"
     ]
    },
    {
     "name": "stderr",
     "output_type": "stream",
     "text": [
      "Best trial: 4. Best value: 0.73866:   8%|███▋                                          | 8/100 [00:35<04:20,  2.84s/it]Using 16bit Automatic Mixed Precision (AMP)\n",
      "GPU available: True (cuda), used: True\n",
      "TPU available: False, using: 0 TPU cores\n",
      "IPU available: False, using: 0 IPUs\n",
      "HPU available: False, using: 0 HPUs\n",
      "LOCAL_RANK: 0 - CUDA_VISIBLE_DEVICES: [0]\n"
     ]
    },
    {
     "name": "stdout",
     "output_type": "stream",
     "text": [
      "[I 2024-03-29 15:12:55,645] Trial 7 pruned. Trial was pruned at epoch 1.\n"
     ]
    },
    {
     "name": "stderr",
     "output_type": "stream",
     "text": [
      "Best trial: 4. Best value: 0.73866:   9%|████▏                                         | 9/100 [00:40<05:23,  3.55s/it]Using 16bit Automatic Mixed Precision (AMP)\n",
      "GPU available: True (cuda), used: True\n",
      "TPU available: False, using: 0 TPU cores\n",
      "IPU available: False, using: 0 IPUs\n",
      "HPU available: False, using: 0 HPUs\n",
      "LOCAL_RANK: 0 - CUDA_VISIBLE_DEVICES: [0]\n"
     ]
    },
    {
     "name": "stdout",
     "output_type": "stream",
     "text": [
      "[I 2024-03-29 15:13:00,773] Trial 8 finished with value: 0.7582951188087463 and parameters: {'d_model': 4, 'n_heads': 1, 'n_encoders': 3, 'd_feedforward': 8, 'activation': 'gelu', 'learning_rate': 0.04568055321276824, 'lr_decay': 0.906500468400917, 'dropout_rate': 0.07143546918344987}. Best is trial 4 with value: 0.738659679889679.\n"
     ]
    },
    {
     "name": "stderr",
     "output_type": "stream",
     "text": [
      "Best trial: 4. Best value: 0.73866:  10%|████▌                                        | 10/100 [00:41<04:16,  2.85s/it]Using 16bit Automatic Mixed Precision (AMP)\n",
      "GPU available: True (cuda), used: True\n",
      "TPU available: False, using: 0 TPU cores\n",
      "IPU available: False, using: 0 IPUs\n",
      "HPU available: False, using: 0 HPUs\n",
      "LOCAL_RANK: 0 - CUDA_VISIBLE_DEVICES: [0]\n"
     ]
    },
    {
     "name": "stdout",
     "output_type": "stream",
     "text": [
      "[I 2024-03-29 15:13:02,061] Trial 9 pruned. Trial was pruned at epoch 3.\n"
     ]
    },
    {
     "name": "stderr",
     "output_type": "stream",
     "text": [
      "Best trial: 4. Best value: 0.73866:  11%|████▉                                        | 11/100 [00:42<03:21,  2.27s/it]Using 16bit Automatic Mixed Precision (AMP)\n",
      "GPU available: True (cuda), used: True\n",
      "TPU available: False, using: 0 TPU cores\n",
      "IPU available: False, using: 0 IPUs\n",
      "HPU available: False, using: 0 HPUs\n",
      "LOCAL_RANK: 0 - CUDA_VISIBLE_DEVICES: [0]\n"
     ]
    },
    {
     "name": "stdout",
     "output_type": "stream",
     "text": [
      "[I 2024-03-29 15:13:02,992] Trial 10 pruned. Trial was pruned at epoch 1.\n"
     ]
    },
    {
     "name": "stderr",
     "output_type": "stream",
     "text": [
      "Best trial: 4. Best value: 0.73866:  12%|█████▍                                       | 12/100 [00:44<03:03,  2.09s/it]Using 16bit Automatic Mixed Precision (AMP)\n",
      "GPU available: True (cuda), used: True\n",
      "TPU available: False, using: 0 TPU cores\n",
      "IPU available: False, using: 0 IPUs\n",
      "HPU available: False, using: 0 HPUs\n",
      "LOCAL_RANK: 0 - CUDA_VISIBLE_DEVICES: [0]\n"
     ]
    },
    {
     "name": "stdout",
     "output_type": "stream",
     "text": [
      "[I 2024-03-29 15:13:04,675] Trial 11 pruned. Trial was pruned at epoch 3.\n"
     ]
    },
    {
     "name": "stderr",
     "output_type": "stream",
     "text": [
      "Best trial: 12. Best value: 0.457149:  13%|█████▌                                     | 13/100 [00:49<04:11,  2.89s/it]Using 16bit Automatic Mixed Precision (AMP)\n",
      "GPU available: True (cuda), used: True\n",
      "TPU available: False, using: 0 TPU cores\n",
      "IPU available: False, using: 0 IPUs\n",
      "HPU available: False, using: 0 HPUs\n",
      "LOCAL_RANK: 0 - CUDA_VISIBLE_DEVICES: [0]\n"
     ]
    },
    {
     "name": "stdout",
     "output_type": "stream",
     "text": [
      "[I 2024-03-29 15:13:09,403] Trial 12 finished with value: 0.4571489989757538 and parameters: {'d_model': 4, 'n_heads': 1, 'n_encoders': 1, 'd_feedforward': 5, 'activation': 'gelu', 'learning_rate': 0.024616618874596825, 'lr_decay': 0.921225065875774, 'dropout_rate': 0.037714823946609195}. Best is trial 12 with value: 0.4571489989757538.\n"
     ]
    },
    {
     "name": "stderr",
     "output_type": "stream",
     "text": [
      "Best trial: 12. Best value: 0.457149:  14%|██████                                     | 14/100 [00:51<03:51,  2.69s/it]Using 16bit Automatic Mixed Precision (AMP)\n",
      "GPU available: True (cuda), used: True\n",
      "TPU available: False, using: 0 TPU cores\n",
      "IPU available: False, using: 0 IPUs\n",
      "HPU available: False, using: 0 HPUs\n",
      "LOCAL_RANK: 0 - CUDA_VISIBLE_DEVICES: [0]\n"
     ]
    },
    {
     "name": "stdout",
     "output_type": "stream",
     "text": [
      "[I 2024-03-29 15:13:11,643] Trial 13 pruned. Trial was pruned at epoch 9.\n"
     ]
    },
    {
     "name": "stderr",
     "output_type": "stream",
     "text": [
      "Best trial: 12. Best value: 0.457149:  15%|██████▍                                    | 15/100 [00:51<02:51,  2.02s/it]Using 16bit Automatic Mixed Precision (AMP)\n",
      "GPU available: True (cuda), used: True\n",
      "TPU available: False, using: 0 TPU cores\n",
      "IPU available: False, using: 0 IPUs\n",
      "HPU available: False, using: 0 HPUs\n",
      "LOCAL_RANK: 0 - CUDA_VISIBLE_DEVICES: [0]\n"
     ]
    },
    {
     "name": "stdout",
     "output_type": "stream",
     "text": [
      "[I 2024-03-29 15:13:12,111] Trial 14 pruned. Trial was pruned at epoch 1.\n"
     ]
    },
    {
     "name": "stderr",
     "output_type": "stream",
     "text": [
      "Best trial: 15. Best value: 0.439275:  16%|██████▉                                    | 16/100 [01:05<07:44,  5.53s/it]Using 16bit Automatic Mixed Precision (AMP)\n",
      "GPU available: True (cuda), used: True\n",
      "TPU available: False, using: 0 TPU cores\n",
      "IPU available: False, using: 0 IPUs\n",
      "HPU available: False, using: 0 HPUs\n",
      "LOCAL_RANK: 0 - CUDA_VISIBLE_DEVICES: [0]\n"
     ]
    },
    {
     "name": "stdout",
     "output_type": "stream",
     "text": [
      "[I 2024-03-29 15:13:25,796] Trial 15 finished with value: 0.4392752945423126 and parameters: {'d_model': 4, 'n_heads': 1, 'n_encoders': 3, 'd_feedforward': 3, 'activation': 'gelu', 'learning_rate': 0.017842863985508706, 'lr_decay': 0.9461419587079232, 'dropout_rate': 0.02994578366091511}. Best is trial 15 with value: 0.4392752945423126.\n"
     ]
    },
    {
     "name": "stderr",
     "output_type": "stream",
     "text": [
      "Best trial: 15. Best value: 0.439275:  17%|███████▎                                   | 17/100 [01:07<06:12,  4.49s/it]Using 16bit Automatic Mixed Precision (AMP)\n",
      "GPU available: True (cuda), used: True\n",
      "TPU available: False, using: 0 TPU cores\n",
      "IPU available: False, using: 0 IPUs\n",
      "HPU available: False, using: 0 HPUs\n",
      "LOCAL_RANK: 0 - CUDA_VISIBLE_DEVICES: [0]\n"
     ]
    },
    {
     "name": "stdout",
     "output_type": "stream",
     "text": [
      "[I 2024-03-29 15:13:27,870] Trial 16 pruned. Trial was pruned at epoch 9.\n"
     ]
    },
    {
     "name": "stderr",
     "output_type": "stream",
     "text": [
      "Best trial: 15. Best value: 0.439275:  18%|███████▋                                   | 18/100 [01:08<04:34,  3.35s/it]Using 16bit Automatic Mixed Precision (AMP)\n",
      "GPU available: True (cuda), used: True\n",
      "TPU available: False, using: 0 TPU cores\n",
      "IPU available: False, using: 0 IPUs\n",
      "HPU available: False, using: 0 HPUs\n",
      "LOCAL_RANK: 0 - CUDA_VISIBLE_DEVICES: [0]\n"
     ]
    },
    {
     "name": "stdout",
     "output_type": "stream",
     "text": [
      "[I 2024-03-29 15:13:28,546] Trial 17 pruned. Trial was pruned at epoch 1.\n"
     ]
    },
    {
     "name": "stderr",
     "output_type": "stream",
     "text": [
      "Best trial: 15. Best value: 0.439275:  19%|████████▏                                  | 19/100 [01:12<04:36,  3.42s/it]Using 16bit Automatic Mixed Precision (AMP)\n",
      "GPU available: True (cuda), used: True\n",
      "TPU available: False, using: 0 TPU cores\n",
      "IPU available: False, using: 0 IPUs\n",
      "HPU available: False, using: 0 HPUs\n",
      "LOCAL_RANK: 0 - CUDA_VISIBLE_DEVICES: [0]\n"
     ]
    },
    {
     "name": "stdout",
     "output_type": "stream",
     "text": [
      "[I 2024-03-29 15:13:32,124] Trial 18 pruned. Trial was pruned at epoch 9.\n"
     ]
    },
    {
     "name": "stderr",
     "output_type": "stream",
     "text": [
      "Best trial: 15. Best value: 0.439275:  20%|████████▌                                  | 20/100 [01:16<04:48,  3.61s/it]Using 16bit Automatic Mixed Precision (AMP)\n",
      "GPU available: True (cuda), used: True\n",
      "TPU available: False, using: 0 TPU cores\n",
      "IPU available: False, using: 0 IPUs\n",
      "HPU available: False, using: 0 HPUs\n",
      "LOCAL_RANK: 0 - CUDA_VISIBLE_DEVICES: [0]\n"
     ]
    },
    {
     "name": "stdout",
     "output_type": "stream",
     "text": [
      "[I 2024-03-29 15:13:36,174] Trial 19 finished with value: 0.4909060299396515 and parameters: {'d_model': 4, 'n_heads': 1, 'n_encoders': 1, 'd_feedforward': 6, 'activation': 'gelu', 'learning_rate': 0.028376098642967015, 'lr_decay': 0.909928023358968, 'dropout_rate': 0.0371158557760864}. Best is trial 15 with value: 0.4392752945423126.\n"
     ]
    },
    {
     "name": "stderr",
     "output_type": "stream",
     "text": [
      "Best trial: 15. Best value: 0.439275:  21%|█████████                                  | 21/100 [01:17<04:04,  3.09s/it]Using 16bit Automatic Mixed Precision (AMP)\n",
      "GPU available: True (cuda), used: True\n",
      "TPU available: False, using: 0 TPU cores\n",
      "IPU available: False, using: 0 IPUs\n",
      "HPU available: False, using: 0 HPUs\n",
      "LOCAL_RANK: 0 - CUDA_VISIBLE_DEVICES: [0]\n"
     ]
    },
    {
     "name": "stdout",
     "output_type": "stream",
     "text": [
      "[I 2024-03-29 15:13:38,073] Trial 20 pruned. Trial was pruned at epoch 3.\n"
     ]
    },
    {
     "name": "stderr",
     "output_type": "stream",
     "text": [
      "Best trial: 15. Best value: 0.439275:  22%|█████████▍                                 | 22/100 [01:18<02:59,  2.30s/it]Using 16bit Automatic Mixed Precision (AMP)\n",
      "GPU available: True (cuda), used: True\n",
      "TPU available: False, using: 0 TPU cores\n",
      "IPU available: False, using: 0 IPUs\n",
      "HPU available: False, using: 0 HPUs\n",
      "LOCAL_RANK: 0 - CUDA_VISIBLE_DEVICES: [0]\n"
     ]
    },
    {
     "name": "stdout",
     "output_type": "stream",
     "text": [
      "[I 2024-03-29 15:13:38,511] Trial 21 pruned. Trial was pruned at epoch 1.\n"
     ]
    },
    {
     "name": "stderr",
     "output_type": "stream",
     "text": [
      "Best trial: 15. Best value: 0.439275:  23%|█████████▉                                 | 23/100 [01:18<02:13,  1.74s/it]Using 16bit Automatic Mixed Precision (AMP)\n",
      "GPU available: True (cuda), used: True\n",
      "TPU available: False, using: 0 TPU cores\n",
      "IPU available: False, using: 0 IPUs\n",
      "HPU available: False, using: 0 HPUs\n",
      "LOCAL_RANK: 0 - CUDA_VISIBLE_DEVICES: [0]\n"
     ]
    },
    {
     "name": "stdout",
     "output_type": "stream",
     "text": [
      "[I 2024-03-29 15:13:38,947] Trial 22 pruned. Trial was pruned at epoch 1.\n"
     ]
    },
    {
     "name": "stderr",
     "output_type": "stream",
     "text": [
      "Best trial: 15. Best value: 0.439275:  24%|██████████▎                                | 24/100 [01:19<01:42,  1.35s/it]Using 16bit Automatic Mixed Precision (AMP)\n",
      "GPU available: True (cuda), used: True\n",
      "TPU available: False, using: 0 TPU cores\n",
      "IPU available: False, using: 0 IPUs\n",
      "HPU available: False, using: 0 HPUs\n",
      "LOCAL_RANK: 0 - CUDA_VISIBLE_DEVICES: [0]\n"
     ]
    },
    {
     "name": "stdout",
     "output_type": "stream",
     "text": [
      "[I 2024-03-29 15:13:39,397] Trial 23 pruned. Trial was pruned at epoch 1.\n"
     ]
    },
    {
     "name": "stderr",
     "output_type": "stream",
     "text": [
      "Best trial: 15. Best value: 0.439275:  25%|██████████▊                                | 25/100 [01:19<01:21,  1.08s/it]Using 16bit Automatic Mixed Precision (AMP)\n",
      "GPU available: True (cuda), used: True\n",
      "TPU available: False, using: 0 TPU cores\n",
      "IPU available: False, using: 0 IPUs\n",
      "HPU available: False, using: 0 HPUs\n",
      "LOCAL_RANK: 0 - CUDA_VISIBLE_DEVICES: [0]\n"
     ]
    },
    {
     "name": "stdout",
     "output_type": "stream",
     "text": [
      "[I 2024-03-29 15:13:39,857] Trial 24 pruned. Trial was pruned at epoch 1.\n"
     ]
    },
    {
     "name": "stderr",
     "output_type": "stream",
     "text": [
      "Best trial: 15. Best value: 0.439275:  26%|███████████▏                               | 26/100 [01:22<02:05,  1.70s/it]Using 16bit Automatic Mixed Precision (AMP)\n",
      "GPU available: True (cuda), used: True\n",
      "TPU available: False, using: 0 TPU cores\n",
      "IPU available: False, using: 0 IPUs\n",
      "HPU available: False, using: 0 HPUs\n",
      "LOCAL_RANK: 0 - CUDA_VISIBLE_DEVICES: [0]\n"
     ]
    },
    {
     "name": "stdout",
     "output_type": "stream",
     "text": [
      "[I 2024-03-29 15:13:42,997] Trial 25 pruned. Trial was pruned at epoch 9.\n"
     ]
    },
    {
     "name": "stderr",
     "output_type": "stream",
     "text": [
      "Best trial: 15. Best value: 0.439275:  27%|███████████▌                               | 27/100 [01:24<02:11,  1.80s/it]Using 16bit Automatic Mixed Precision (AMP)\n",
      "GPU available: True (cuda), used: True\n",
      "TPU available: False, using: 0 TPU cores\n",
      "IPU available: False, using: 0 IPUs\n",
      "HPU available: False, using: 0 HPUs\n",
      "LOCAL_RANK: 0 - CUDA_VISIBLE_DEVICES: [0]\n"
     ]
    },
    {
     "name": "stdout",
     "output_type": "stream",
     "text": [
      "[I 2024-03-29 15:13:45,017] Trial 26 pruned. Trial was pruned at epoch 9.\n"
     ]
    },
    {
     "name": "stderr",
     "output_type": "stream",
     "text": [
      "Best trial: 15. Best value: 0.439275:  28%|████████████                               | 28/100 [01:26<02:14,  1.86s/it]Using 16bit Automatic Mixed Precision (AMP)\n",
      "GPU available: True (cuda), used: True\n",
      "TPU available: False, using: 0 TPU cores\n",
      "IPU available: False, using: 0 IPUs\n",
      "HPU available: False, using: 0 HPUs\n",
      "LOCAL_RANK: 0 - CUDA_VISIBLE_DEVICES: [0]\n"
     ]
    },
    {
     "name": "stdout",
     "output_type": "stream",
     "text": [
      "[I 2024-03-29 15:13:47,038] Trial 27 pruned. Trial was pruned at epoch 9.\n"
     ]
    },
    {
     "name": "stderr",
     "output_type": "stream",
     "text": [
      "Best trial: 15. Best value: 0.439275:  29%|████████████▍                              | 29/100 [01:28<02:09,  1.83s/it]Using 16bit Automatic Mixed Precision (AMP)\n",
      "GPU available: True (cuda), used: True\n",
      "TPU available: False, using: 0 TPU cores\n",
      "IPU available: False, using: 0 IPUs\n",
      "HPU available: False, using: 0 HPUs\n",
      "LOCAL_RANK: 0 - CUDA_VISIBLE_DEVICES: [0]\n"
     ]
    },
    {
     "name": "stdout",
     "output_type": "stream",
     "text": [
      "[I 2024-03-29 15:13:48,772] Trial 28 pruned. Trial was pruned at epoch 3.\n"
     ]
    },
    {
     "name": "stderr",
     "output_type": "stream",
     "text": [
      "Best trial: 15. Best value: 0.439275:  30%|████████████▉                              | 30/100 [01:31<02:35,  2.22s/it]Using 16bit Automatic Mixed Precision (AMP)\n",
      "GPU available: True (cuda), used: True\n",
      "TPU available: False, using: 0 TPU cores\n",
      "IPU available: False, using: 0 IPUs\n",
      "HPU available: False, using: 0 HPUs\n",
      "LOCAL_RANK: 0 - CUDA_VISIBLE_DEVICES: [0]\n"
     ]
    },
    {
     "name": "stdout",
     "output_type": "stream",
     "text": [
      "[I 2024-03-29 15:13:51,923] Trial 29 pruned. Trial was pruned at epoch 9.\n"
     ]
    },
    {
     "name": "stderr",
     "output_type": "stream",
     "text": [
      "Best trial: 30. Best value: 0.408401:  31%|█████████████▎                             | 31/100 [01:37<03:35,  3.12s/it]Using 16bit Automatic Mixed Precision (AMP)\n",
      "GPU available: True (cuda), used: True\n",
      "TPU available: False, using: 0 TPU cores\n",
      "IPU available: False, using: 0 IPUs\n",
      "HPU available: False, using: 0 HPUs\n",
      "LOCAL_RANK: 0 - CUDA_VISIBLE_DEVICES: [0]\n"
     ]
    },
    {
     "name": "stdout",
     "output_type": "stream",
     "text": [
      "[I 2024-03-29 15:13:57,124] Trial 30 finished with value: 0.4084007740020752 and parameters: {'d_model': 4, 'n_heads': 1, 'n_encoders': 1, 'd_feedforward': 7, 'activation': 'gelu', 'learning_rate': 0.009843256398276257, 'lr_decay': 0.9269681098090788, 'dropout_rate': 0.06137322055321183}. Best is trial 30 with value: 0.4084007740020752.\n"
     ]
    },
    {
     "name": "stderr",
     "output_type": "stream",
     "text": [
      "Best trial: 30. Best value: 0.408401:  32%|█████████████▊                             | 32/100 [01:37<02:37,  2.32s/it]Using 16bit Automatic Mixed Precision (AMP)\n",
      "GPU available: True (cuda), used: True\n",
      "TPU available: False, using: 0 TPU cores\n",
      "IPU available: False, using: 0 IPUs\n",
      "HPU available: False, using: 0 HPUs\n",
      "LOCAL_RANK: 0 - CUDA_VISIBLE_DEVICES: [0]\n"
     ]
    },
    {
     "name": "stdout",
     "output_type": "stream",
     "text": [
      "[I 2024-03-29 15:13:57,580] Trial 31 pruned. Trial was pruned at epoch 1.\n"
     ]
    },
    {
     "name": "stderr",
     "output_type": "stream",
     "text": [
      "Best trial: 30. Best value: 0.408401:  33%|██████████████▏                            | 33/100 [01:38<02:05,  1.88s/it]Using 16bit Automatic Mixed Precision (AMP)\n",
      "GPU available: True (cuda), used: True\n",
      "TPU available: False, using: 0 TPU cores\n",
      "IPU available: False, using: 0 IPUs\n",
      "HPU available: False, using: 0 HPUs\n",
      "LOCAL_RANK: 0 - CUDA_VISIBLE_DEVICES: [0]\n"
     ]
    },
    {
     "name": "stdout",
     "output_type": "stream",
     "text": [
      "[I 2024-03-29 15:13:58,438] Trial 32 pruned. Trial was pruned at epoch 3.\n"
     ]
    },
    {
     "name": "stderr",
     "output_type": "stream",
     "text": [
      "Best trial: 30. Best value: 0.408401:  34%|██████████████▌                            | 34/100 [01:40<02:07,  1.93s/it]Using 16bit Automatic Mixed Precision (AMP)\n",
      "GPU available: True (cuda), used: True\n",
      "TPU available: False, using: 0 TPU cores\n",
      "IPU available: False, using: 0 IPUs\n",
      "HPU available: False, using: 0 HPUs\n",
      "LOCAL_RANK: 0 - CUDA_VISIBLE_DEVICES: [0]\n"
     ]
    },
    {
     "name": "stdout",
     "output_type": "stream",
     "text": [
      "[I 2024-03-29 15:14:00,476] Trial 33 pruned. Trial was pruned at epoch 9.\n"
     ]
    },
    {
     "name": "stderr",
     "output_type": "stream",
     "text": [
      "Best trial: 30. Best value: 0.408401:  35%|███████████████                            | 35/100 [01:46<03:33,  3.29s/it]Using 16bit Automatic Mixed Precision (AMP)\n",
      "GPU available: True (cuda), used: True\n",
      "TPU available: False, using: 0 TPU cores\n",
      "IPU available: False, using: 0 IPUs\n",
      "HPU available: False, using: 0 HPUs\n",
      "LOCAL_RANK: 0 - CUDA_VISIBLE_DEVICES: [0]\n"
     ]
    },
    {
     "name": "stdout",
     "output_type": "stream",
     "text": [
      "[I 2024-03-29 15:14:06,932] Trial 34 finished with value: 0.4204251766204834 and parameters: {'d_model': 4, 'n_heads': 1, 'n_encoders': 1, 'd_feedforward': 7, 'activation': 'gelu', 'learning_rate': 0.012501684792286258, 'lr_decay': 0.9065758890848672, 'dropout_rate': 0.06498755108379438}. Best is trial 30 with value: 0.4084007740020752.\n"
     ]
    },
    {
     "name": "stderr",
     "output_type": "stream",
     "text": [
      "Best trial: 30. Best value: 0.408401:  36%|███████████████▍                           | 36/100 [01:48<03:08,  2.94s/it]Using 16bit Automatic Mixed Precision (AMP)\n",
      "GPU available: True (cuda), used: True\n",
      "TPU available: False, using: 0 TPU cores\n",
      "IPU available: False, using: 0 IPUs\n",
      "HPU available: False, using: 0 HPUs\n",
      "LOCAL_RANK: 0 - CUDA_VISIBLE_DEVICES: [0]\n"
     ]
    },
    {
     "name": "stdout",
     "output_type": "stream",
     "text": [
      "[I 2024-03-29 15:14:09,069] Trial 35 pruned. Trial was pruned at epoch 9.\n"
     ]
    },
    {
     "name": "stderr",
     "output_type": "stream",
     "text": [
      "Best trial: 30. Best value: 0.408401:  37%|███████████████▉                           | 37/100 [01:49<02:18,  2.20s/it]Using 16bit Automatic Mixed Precision (AMP)\n",
      "GPU available: True (cuda), used: True\n",
      "TPU available: False, using: 0 TPU cores\n",
      "IPU available: False, using: 0 IPUs\n",
      "HPU available: False, using: 0 HPUs\n",
      "LOCAL_RANK: 0 - CUDA_VISIBLE_DEVICES: [0]\n"
     ]
    },
    {
     "name": "stdout",
     "output_type": "stream",
     "text": [
      "[I 2024-03-29 15:14:09,554] Trial 36 pruned. Trial was pruned at epoch 1.\n"
     ]
    },
    {
     "name": "stderr",
     "output_type": "stream",
     "text": [
      "Best trial: 30. Best value: 0.408401:  38%|████████████████▎                          | 38/100 [01:52<02:39,  2.57s/it]Using 16bit Automatic Mixed Precision (AMP)\n",
      "GPU available: True (cuda), used: True\n",
      "TPU available: False, using: 0 TPU cores\n",
      "IPU available: False, using: 0 IPUs\n",
      "HPU available: False, using: 0 HPUs\n",
      "LOCAL_RANK: 0 - CUDA_VISIBLE_DEVICES: [0]\n"
     ]
    },
    {
     "name": "stdout",
     "output_type": "stream",
     "text": [
      "[I 2024-03-29 15:14:12,977] Trial 37 pruned. Trial was pruned at epoch 9.\n"
     ]
    },
    {
     "name": "stderr",
     "output_type": "stream",
     "text": [
      "Best trial: 30. Best value: 0.408401:  39%|████████████████▊                          | 39/100 [01:55<02:30,  2.46s/it]Using 16bit Automatic Mixed Precision (AMP)\n",
      "GPU available: True (cuda), used: True\n",
      "TPU available: False, using: 0 TPU cores\n",
      "IPU available: False, using: 0 IPUs\n",
      "HPU available: False, using: 0 HPUs\n",
      "LOCAL_RANK: 0 - CUDA_VISIBLE_DEVICES: [0]\n"
     ]
    },
    {
     "name": "stdout",
     "output_type": "stream",
     "text": [
      "[I 2024-03-29 15:14:15,196] Trial 38 pruned. Trial was pruned at epoch 9.\n"
     ]
    },
    {
     "name": "stderr",
     "output_type": "stream",
     "text": [
      "Best trial: 30. Best value: 0.408401:  40%|█████████████████▏                         | 40/100 [01:56<02:06,  2.11s/it]Using 16bit Automatic Mixed Precision (AMP)\n",
      "GPU available: True (cuda), used: True\n",
      "TPU available: False, using: 0 TPU cores\n",
      "IPU available: False, using: 0 IPUs\n",
      "HPU available: False, using: 0 HPUs\n",
      "LOCAL_RANK: 0 - CUDA_VISIBLE_DEVICES: [0]\n"
     ]
    },
    {
     "name": "stdout",
     "output_type": "stream",
     "text": [
      "[I 2024-03-29 15:14:16,494] Trial 39 pruned. Trial was pruned at epoch 3.\n"
     ]
    },
    {
     "name": "stderr",
     "output_type": "stream",
     "text": [
      "Best trial: 30. Best value: 0.408401:  41%|█████████████████▋                         | 41/100 [01:58<01:57,  1.99s/it]Using 16bit Automatic Mixed Precision (AMP)\n",
      "GPU available: True (cuda), used: True\n",
      "TPU available: False, using: 0 TPU cores\n",
      "IPU available: False, using: 0 IPUs\n",
      "HPU available: False, using: 0 HPUs\n",
      "LOCAL_RANK: 0 - CUDA_VISIBLE_DEVICES: [0]\n"
     ]
    },
    {
     "name": "stdout",
     "output_type": "stream",
     "text": [
      "[I 2024-03-29 15:14:18,208] Trial 40 pruned. Trial was pruned at epoch 3.\n"
     ]
    },
    {
     "name": "stderr",
     "output_type": "stream",
     "text": [
      "Best trial: 30. Best value: 0.408401:  42%|██████████████████                         | 42/100 [01:58<01:28,  1.53s/it]Using 16bit Automatic Mixed Precision (AMP)\n",
      "GPU available: True (cuda), used: True\n",
      "TPU available: False, using: 0 TPU cores\n",
      "IPU available: False, using: 0 IPUs\n",
      "HPU available: False, using: 0 HPUs\n",
      "LOCAL_RANK: 0 - CUDA_VISIBLE_DEVICES: [0]\n"
     ]
    },
    {
     "name": "stdout",
     "output_type": "stream",
     "text": [
      "[I 2024-03-29 15:14:18,647] Trial 41 pruned. Trial was pruned at epoch 1.\n"
     ]
    },
    {
     "name": "stderr",
     "output_type": "stream",
     "text": [
      "Best trial: 30. Best value: 0.408401:  43%|██████████████████▍                        | 43/100 [01:59<01:15,  1.33s/it]Using 16bit Automatic Mixed Precision (AMP)\n",
      "GPU available: True (cuda), used: True\n",
      "TPU available: False, using: 0 TPU cores\n",
      "IPU available: False, using: 0 IPUs\n",
      "HPU available: False, using: 0 HPUs\n",
      "LOCAL_RANK: 0 - CUDA_VISIBLE_DEVICES: [0]\n"
     ]
    },
    {
     "name": "stdout",
     "output_type": "stream",
     "text": [
      "[I 2024-03-29 15:14:19,507] Trial 42 pruned. Trial was pruned at epoch 3.\n"
     ]
    },
    {
     "name": "stderr",
     "output_type": "stream",
     "text": [
      "Best trial: 30. Best value: 0.408401:  44%|██████████████████▉                        | 44/100 [01:59<00:59,  1.07s/it]Using 16bit Automatic Mixed Precision (AMP)\n",
      "GPU available: True (cuda), used: True\n",
      "TPU available: False, using: 0 TPU cores\n",
      "IPU available: False, using: 0 IPUs\n",
      "HPU available: False, using: 0 HPUs\n",
      "LOCAL_RANK: 0 - CUDA_VISIBLE_DEVICES: [0]\n"
     ]
    },
    {
     "name": "stdout",
     "output_type": "stream",
     "text": [
      "[I 2024-03-29 15:14:19,964] Trial 43 pruned. Trial was pruned at epoch 1.\n"
     ]
    },
    {
     "name": "stderr",
     "output_type": "stream",
     "text": [
      "Best trial: 30. Best value: 0.408401:  45%|███████████████████▎                       | 45/100 [02:05<02:14,  2.45s/it]Using 16bit Automatic Mixed Precision (AMP)\n",
      "GPU available: True (cuda), used: True\n",
      "TPU available: False, using: 0 TPU cores\n",
      "IPU available: False, using: 0 IPUs\n",
      "HPU available: False, using: 0 HPUs\n",
      "LOCAL_RANK: 0 - CUDA_VISIBLE_DEVICES: [0]\n"
     ]
    },
    {
     "name": "stdout",
     "output_type": "stream",
     "text": [
      "[I 2024-03-29 15:14:25,639] Trial 44 pruned. Trial was pruned at epoch 27.\n"
     ]
    },
    {
     "name": "stderr",
     "output_type": "stream",
     "text": [
      "Best trial: 30. Best value: 0.408401:  46%|███████████████████▊                       | 46/100 [02:05<01:39,  1.85s/it]Using 16bit Automatic Mixed Precision (AMP)\n",
      "GPU available: True (cuda), used: True\n",
      "TPU available: False, using: 0 TPU cores\n",
      "IPU available: False, using: 0 IPUs\n",
      "HPU available: False, using: 0 HPUs\n",
      "LOCAL_RANK: 0 - CUDA_VISIBLE_DEVICES: [0]\n"
     ]
    },
    {
     "name": "stdout",
     "output_type": "stream",
     "text": [
      "[I 2024-03-29 15:14:26,096] Trial 45 pruned. Trial was pruned at epoch 1.\n"
     ]
    },
    {
     "name": "stderr",
     "output_type": "stream",
     "text": [
      "Best trial: 30. Best value: 0.408401:  47%|████████████████████▏                      | 47/100 [02:11<02:39,  3.01s/it]Using 16bit Automatic Mixed Precision (AMP)\n",
      "GPU available: True (cuda), used: True\n",
      "TPU available: False, using: 0 TPU cores\n",
      "IPU available: False, using: 0 IPUs\n",
      "HPU available: False, using: 0 HPUs\n",
      "LOCAL_RANK: 0 - CUDA_VISIBLE_DEVICES: [0]\n"
     ]
    },
    {
     "name": "stdout",
     "output_type": "stream",
     "text": [
      "[I 2024-03-29 15:14:31,817] Trial 46 pruned. Trial was pruned at epoch 27.\n"
     ]
    },
    {
     "name": "stderr",
     "output_type": "stream",
     "text": [
      "Best trial: 30. Best value: 0.408401:  48%|████████████████████▋                      | 48/100 [02:13<02:11,  2.52s/it]Using 16bit Automatic Mixed Precision (AMP)\n",
      "GPU available: True (cuda), used: True\n",
      "TPU available: False, using: 0 TPU cores\n",
      "IPU available: False, using: 0 IPUs\n",
      "HPU available: False, using: 0 HPUs\n",
      "LOCAL_RANK: 0 - CUDA_VISIBLE_DEVICES: [0]\n"
     ]
    },
    {
     "name": "stdout",
     "output_type": "stream",
     "text": [
      "[I 2024-03-29 15:14:33,191] Trial 47 pruned. Trial was pruned at epoch 3.\n"
     ]
    },
    {
     "name": "stderr",
     "output_type": "stream",
     "text": [
      "Best trial: 30. Best value: 0.408401:  49%|█████████████████████                      | 49/100 [02:14<01:49,  2.15s/it]Using 16bit Automatic Mixed Precision (AMP)\n",
      "GPU available: True (cuda), used: True\n",
      "TPU available: False, using: 0 TPU cores\n",
      "IPU available: False, using: 0 IPUs\n",
      "HPU available: False, using: 0 HPUs\n",
      "LOCAL_RANK: 0 - CUDA_VISIBLE_DEVICES: [0]\n"
     ]
    },
    {
     "name": "stdout",
     "output_type": "stream",
     "text": [
      "[I 2024-03-29 15:14:34,479] Trial 48 pruned. Trial was pruned at epoch 3.\n"
     ]
    },
    {
     "name": "stderr",
     "output_type": "stream",
     "text": [
      "Best trial: 30. Best value: 0.408401:  50%|█████████████████████▌                     | 50/100 [02:18<02:19,  2.79s/it]Using 16bit Automatic Mixed Precision (AMP)\n",
      "GPU available: True (cuda), used: True\n",
      "TPU available: False, using: 0 TPU cores\n",
      "IPU available: False, using: 0 IPUs\n",
      "HPU available: False, using: 0 HPUs\n",
      "LOCAL_RANK: 0 - CUDA_VISIBLE_DEVICES: [0]\n"
     ]
    },
    {
     "name": "stdout",
     "output_type": "stream",
     "text": [
      "[I 2024-03-29 15:14:38,771] Trial 49 pruned. Trial was pruned at epoch 9.\n"
     ]
    },
    {
     "name": "stderr",
     "output_type": "stream",
     "text": [
      "Best trial: 30. Best value: 0.408401:  51%|█████████████████████▉                     | 51/100 [02:19<01:42,  2.10s/it]Using 16bit Automatic Mixed Precision (AMP)\n",
      "GPU available: True (cuda), used: True\n",
      "TPU available: False, using: 0 TPU cores\n",
      "IPU available: False, using: 0 IPUs\n",
      "HPU available: False, using: 0 HPUs\n",
      "LOCAL_RANK: 0 - CUDA_VISIBLE_DEVICES: [0]\n"
     ]
    },
    {
     "name": "stdout",
     "output_type": "stream",
     "text": [
      "[I 2024-03-29 15:14:39,241] Trial 50 pruned. Trial was pruned at epoch 1.\n"
     ]
    },
    {
     "name": "stderr",
     "output_type": "stream",
     "text": [
      "Best trial: 30. Best value: 0.408401:  52%|██████████████████████▎                    | 52/100 [02:20<01:36,  2.00s/it]Using 16bit Automatic Mixed Precision (AMP)\n",
      "GPU available: True (cuda), used: True\n",
      "TPU available: False, using: 0 TPU cores\n",
      "IPU available: False, using: 0 IPUs\n",
      "HPU available: False, using: 0 HPUs\n",
      "LOCAL_RANK: 0 - CUDA_VISIBLE_DEVICES: [0]\n"
     ]
    },
    {
     "name": "stdout",
     "output_type": "stream",
     "text": [
      "[I 2024-03-29 15:14:41,027] Trial 51 pruned. Trial was pruned at epoch 3.\n"
     ]
    },
    {
     "name": "stderr",
     "output_type": "stream",
     "text": [
      "Best trial: 30. Best value: 0.408401:  53%|██████████████████████▊                    | 53/100 [02:21<01:19,  1.70s/it]Using 16bit Automatic Mixed Precision (AMP)\n",
      "GPU available: True (cuda), used: True\n",
      "TPU available: False, using: 0 TPU cores\n",
      "IPU available: False, using: 0 IPUs\n",
      "HPU available: False, using: 0 HPUs\n",
      "LOCAL_RANK: 0 - CUDA_VISIBLE_DEVICES: [0]\n"
     ]
    },
    {
     "name": "stdout",
     "output_type": "stream",
     "text": [
      "[I 2024-03-29 15:14:42,004] Trial 52 pruned. Trial was pruned at epoch 1.\n"
     ]
    },
    {
     "name": "stderr",
     "output_type": "stream",
     "text": [
      "Best trial: 30. Best value: 0.408401:  54%|███████████████████████▏                   | 54/100 [02:22<01:07,  1.46s/it]Using 16bit Automatic Mixed Precision (AMP)\n",
      "GPU available: True (cuda), used: True\n",
      "TPU available: False, using: 0 TPU cores\n",
      "IPU available: False, using: 0 IPUs\n",
      "HPU available: False, using: 0 HPUs\n",
      "LOCAL_RANK: 0 - CUDA_VISIBLE_DEVICES: [0]\n"
     ]
    },
    {
     "name": "stdout",
     "output_type": "stream",
     "text": [
      "[I 2024-03-29 15:14:42,920] Trial 53 pruned. Trial was pruned at epoch 1.\n"
     ]
    },
    {
     "name": "stderr",
     "output_type": "stream",
     "text": [
      "Best trial: 30. Best value: 0.408401:  55%|███████████████████████▋                   | 55/100 [02:27<01:44,  2.31s/it]Using 16bit Automatic Mixed Precision (AMP)\n",
      "GPU available: True (cuda), used: True\n",
      "TPU available: False, using: 0 TPU cores\n",
      "IPU available: False, using: 0 IPUs\n",
      "HPU available: False, using: 0 HPUs\n",
      "LOCAL_RANK: 0 - CUDA_VISIBLE_DEVICES: [0]\n"
     ]
    },
    {
     "name": "stdout",
     "output_type": "stream",
     "text": [
      "[I 2024-03-29 15:14:47,226] Trial 54 pruned. Trial was pruned at epoch 9.\n"
     ]
    },
    {
     "name": "stderr",
     "output_type": "stream",
     "text": [
      "Best trial: 30. Best value: 0.408401:  56%|████████████████████████                   | 56/100 [02:28<01:34,  2.14s/it]Using 16bit Automatic Mixed Precision (AMP)\n",
      "GPU available: True (cuda), used: True\n",
      "TPU available: False, using: 0 TPU cores\n",
      "IPU available: False, using: 0 IPUs\n",
      "HPU available: False, using: 0 HPUs\n",
      "LOCAL_RANK: 0 - CUDA_VISIBLE_DEVICES: [0]\n"
     ]
    },
    {
     "name": "stdout",
     "output_type": "stream",
     "text": [
      "[I 2024-03-29 15:14:48,948] Trial 55 pruned. Trial was pruned at epoch 3.\n"
     ]
    },
    {
     "name": "stderr",
     "output_type": "stream",
     "text": [
      "Best trial: 30. Best value: 0.408401:  57%|████████████████████████▌                  | 57/100 [02:30<01:21,  1.88s/it]Using 16bit Automatic Mixed Precision (AMP)\n",
      "GPU available: True (cuda), used: True\n",
      "TPU available: False, using: 0 TPU cores\n",
      "IPU available: False, using: 0 IPUs\n",
      "HPU available: False, using: 0 HPUs\n",
      "LOCAL_RANK: 0 - CUDA_VISIBLE_DEVICES: [0]\n"
     ]
    },
    {
     "name": "stdout",
     "output_type": "stream",
     "text": [
      "[I 2024-03-29 15:14:50,242] Trial 56 pruned. Trial was pruned at epoch 3.\n"
     ]
    },
    {
     "name": "stderr",
     "output_type": "stream",
     "text": [
      "Best trial: 30. Best value: 0.408401:  58%|████████████████████████▉                  | 58/100 [02:30<01:05,  1.56s/it]Using 16bit Automatic Mixed Precision (AMP)\n",
      "GPU available: True (cuda), used: True\n",
      "TPU available: False, using: 0 TPU cores\n",
      "IPU available: False, using: 0 IPUs\n",
      "HPU available: False, using: 0 HPUs\n",
      "LOCAL_RANK: 0 - CUDA_VISIBLE_DEVICES: [0]\n"
     ]
    },
    {
     "name": "stdout",
     "output_type": "stream",
     "text": [
      "[I 2024-03-29 15:14:51,056] Trial 57 pruned. Trial was pruned at epoch 3.\n"
     ]
    },
    {
     "name": "stderr",
     "output_type": "stream",
     "text": [
      "Best trial: 30. Best value: 0.408401:  59%|█████████████████████████▎                 | 59/100 [02:35<01:37,  2.38s/it]Using 16bit Automatic Mixed Precision (AMP)\n",
      "GPU available: True (cuda), used: True\n",
      "TPU available: False, using: 0 TPU cores\n",
      "IPU available: False, using: 0 IPUs\n",
      "HPU available: False, using: 0 HPUs\n",
      "LOCAL_RANK: 0 - CUDA_VISIBLE_DEVICES: [0]\n"
     ]
    },
    {
     "name": "stdout",
     "output_type": "stream",
     "text": [
      "[I 2024-03-29 15:14:55,358] Trial 58 pruned. Trial was pruned at epoch 9.\n"
     ]
    },
    {
     "name": "stderr",
     "output_type": "stream",
     "text": [
      "Best trial: 30. Best value: 0.408401:  60%|█████████████████████████▊                 | 60/100 [02:36<01:17,  1.93s/it]Using 16bit Automatic Mixed Precision (AMP)\n",
      "GPU available: True (cuda), used: True\n",
      "TPU available: False, using: 0 TPU cores\n",
      "IPU available: False, using: 0 IPUs\n",
      "HPU available: False, using: 0 HPUs\n",
      "LOCAL_RANK: 0 - CUDA_VISIBLE_DEVICES: [0]\n"
     ]
    },
    {
     "name": "stdout",
     "output_type": "stream",
     "text": [
      "[I 2024-03-29 15:14:56,228] Trial 59 pruned. Trial was pruned at epoch 3.\n"
     ]
    },
    {
     "name": "stderr",
     "output_type": "stream",
     "text": [
      "Best trial: 30. Best value: 0.408401:  61%|██████████████████████████▏                | 61/100 [02:36<00:58,  1.49s/it]Using 16bit Automatic Mixed Precision (AMP)\n",
      "GPU available: True (cuda), used: True\n",
      "TPU available: False, using: 0 TPU cores\n",
      "IPU available: False, using: 0 IPUs\n",
      "HPU available: False, using: 0 HPUs\n",
      "LOCAL_RANK: 0 - CUDA_VISIBLE_DEVICES: [0]\n"
     ]
    },
    {
     "name": "stdout",
     "output_type": "stream",
     "text": [
      "[I 2024-03-29 15:14:56,687] Trial 60 pruned. Trial was pruned at epoch 1.\n"
     ]
    },
    {
     "name": "stderr",
     "output_type": "stream",
     "text": [
      "Best trial: 30. Best value: 0.408401:  62%|██████████████████████████▋                | 62/100 [02:37<00:55,  1.47s/it]Using 16bit Automatic Mixed Precision (AMP)\n",
      "GPU available: True (cuda), used: True\n",
      "TPU available: False, using: 0 TPU cores\n",
      "IPU available: False, using: 0 IPUs\n",
      "HPU available: False, using: 0 HPUs\n",
      "LOCAL_RANK: 0 - CUDA_VISIBLE_DEVICES: [0]\n"
     ]
    },
    {
     "name": "stdout",
     "output_type": "stream",
     "text": [
      "[I 2024-03-29 15:14:58,109] Trial 61 pruned. Trial was pruned at epoch 3.\n"
     ]
    },
    {
     "name": "stderr",
     "output_type": "stream",
     "text": [
      "Best trial: 30. Best value: 0.408401:  63%|███████████████████████████                | 63/100 [02:42<01:30,  2.46s/it]Using 16bit Automatic Mixed Precision (AMP)\n",
      "GPU available: True (cuda), used: True\n",
      "TPU available: False, using: 0 TPU cores\n",
      "IPU available: False, using: 0 IPUs\n",
      "HPU available: False, using: 0 HPUs\n",
      "LOCAL_RANK: 0 - CUDA_VISIBLE_DEVICES: [0]\n"
     ]
    },
    {
     "name": "stdout",
     "output_type": "stream",
     "text": [
      "[I 2024-03-29 15:15:02,879] Trial 62 pruned. Trial was pruned at epoch 9.\n"
     ]
    },
    {
     "name": "stderr",
     "output_type": "stream",
     "text": [
      "Best trial: 30. Best value: 0.408401:  64%|███████████████████████████▌               | 64/100 [02:44<01:16,  2.14s/it]Using 16bit Automatic Mixed Precision (AMP)\n",
      "GPU available: True (cuda), used: True\n",
      "TPU available: False, using: 0 TPU cores\n",
      "IPU available: False, using: 0 IPUs\n",
      "HPU available: False, using: 0 HPUs\n",
      "LOCAL_RANK: 0 - CUDA_VISIBLE_DEVICES: [0]\n"
     ]
    },
    {
     "name": "stdout",
     "output_type": "stream",
     "text": [
      "[I 2024-03-29 15:15:04,264] Trial 63 pruned. Trial was pruned at epoch 3.\n"
     ]
    },
    {
     "name": "stderr",
     "output_type": "stream",
     "text": [
      "Best trial: 30. Best value: 0.408401:  65%|███████████████████████████▉               | 65/100 [02:45<01:01,  1.76s/it]Using 16bit Automatic Mixed Precision (AMP)\n",
      "GPU available: True (cuda), used: True\n",
      "TPU available: False, using: 0 TPU cores\n",
      "IPU available: False, using: 0 IPUs\n",
      "HPU available: False, using: 0 HPUs\n",
      "LOCAL_RANK: 0 - CUDA_VISIBLE_DEVICES: [0]\n"
     ]
    },
    {
     "name": "stdout",
     "output_type": "stream",
     "text": [
      "[I 2024-03-29 15:15:05,153] Trial 64 pruned. Trial was pruned at epoch 3.\n"
     ]
    },
    {
     "name": "stderr",
     "output_type": "stream",
     "text": [
      "Best trial: 30. Best value: 0.408401:  66%|████████████████████████████▍              | 66/100 [02:45<00:51,  1.50s/it]Using 16bit Automatic Mixed Precision (AMP)\n",
      "GPU available: True (cuda), used: True\n",
      "TPU available: False, using: 0 TPU cores\n",
      "IPU available: False, using: 0 IPUs\n",
      "HPU available: False, using: 0 HPUs\n",
      "LOCAL_RANK: 0 - CUDA_VISIBLE_DEVICES: [0]\n"
     ]
    },
    {
     "name": "stdout",
     "output_type": "stream",
     "text": [
      "[I 2024-03-29 15:15:06,046] Trial 65 pruned. Trial was pruned at epoch 1.\n"
     ]
    },
    {
     "name": "stderr",
     "output_type": "stream",
     "text": [
      "Best trial: 30. Best value: 0.408401:  67%|████████████████████████████▊              | 67/100 [02:46<00:39,  1.19s/it]Using 16bit Automatic Mixed Precision (AMP)\n",
      "GPU available: True (cuda), used: True\n",
      "TPU available: False, using: 0 TPU cores\n",
      "IPU available: False, using: 0 IPUs\n",
      "HPU available: False, using: 0 HPUs\n",
      "LOCAL_RANK: 0 - CUDA_VISIBLE_DEVICES: [0]\n"
     ]
    },
    {
     "name": "stdout",
     "output_type": "stream",
     "text": [
      "[I 2024-03-29 15:15:06,519] Trial 66 pruned. Trial was pruned at epoch 1.\n"
     ]
    },
    {
     "name": "stderr",
     "output_type": "stream",
     "text": [
      "Best trial: 30. Best value: 0.408401:  68%|█████████████████████████████▏             | 68/100 [02:46<00:31,  1.03it/s]Using 16bit Automatic Mixed Precision (AMP)\n",
      "GPU available: True (cuda), used: True\n",
      "TPU available: False, using: 0 TPU cores\n",
      "IPU available: False, using: 0 IPUs\n",
      "HPU available: False, using: 0 HPUs\n",
      "LOCAL_RANK: 0 - CUDA_VISIBLE_DEVICES: [0]\n"
     ]
    },
    {
     "name": "stdout",
     "output_type": "stream",
     "text": [
      "[I 2024-03-29 15:15:06,984] Trial 67 pruned. Trial was pruned at epoch 1.\n"
     ]
    },
    {
     "name": "stderr",
     "output_type": "stream",
     "text": [
      "Best trial: 30. Best value: 0.408401:  69%|█████████████████████████████▋             | 69/100 [02:48<00:33,  1.07s/it]Using 16bit Automatic Mixed Precision (AMP)\n",
      "GPU available: True (cuda), used: True\n",
      "TPU available: False, using: 0 TPU cores\n",
      "IPU available: False, using: 0 IPUs\n",
      "HPU available: False, using: 0 HPUs\n",
      "LOCAL_RANK: 0 - CUDA_VISIBLE_DEVICES: [0]\n"
     ]
    },
    {
     "name": "stdout",
     "output_type": "stream",
     "text": [
      "[I 2024-03-29 15:15:08,285] Trial 68 pruned. Trial was pruned at epoch 3.\n"
     ]
    },
    {
     "name": "stderr",
     "output_type": "stream",
     "text": [
      "Best trial: 30. Best value: 0.408401:  70%|██████████████████████████████             | 70/100 [02:50<00:40,  1.37s/it]Using 16bit Automatic Mixed Precision (AMP)\n",
      "GPU available: True (cuda), used: True\n",
      "TPU available: False, using: 0 TPU cores\n",
      "IPU available: False, using: 0 IPUs\n",
      "HPU available: False, using: 0 HPUs\n",
      "LOCAL_RANK: 0 - CUDA_VISIBLE_DEVICES: [0]\n"
     ]
    },
    {
     "name": "stdout",
     "output_type": "stream",
     "text": [
      "[I 2024-03-29 15:15:10,334] Trial 69 pruned. Trial was pruned at epoch 9.\n"
     ]
    },
    {
     "name": "stderr",
     "output_type": "stream",
     "text": [
      "Best trial: 30. Best value: 0.408401:  71%|██████████████████████████████▌            | 71/100 [02:58<01:41,  3.49s/it]Using 16bit Automatic Mixed Precision (AMP)\n",
      "GPU available: True (cuda), used: True\n",
      "TPU available: False, using: 0 TPU cores\n",
      "IPU available: False, using: 0 IPUs\n",
      "HPU available: False, using: 0 HPUs\n",
      "LOCAL_RANK: 0 - CUDA_VISIBLE_DEVICES: [0]\n"
     ]
    },
    {
     "name": "stdout",
     "output_type": "stream",
     "text": [
      "[I 2024-03-29 15:15:18,792] Trial 70 finished with value: 0.649761974811554 and parameters: {'d_model': 5, 'n_heads': 2, 'n_encoders': 2, 'd_feedforward': 6, 'activation': 'gelu', 'learning_rate': 0.013771515601925506, 'lr_decay': 0.9524142568894359, 'dropout_rate': 0.06679929712269167}. Best is trial 30 with value: 0.4084007740020752.\n"
     ]
    },
    {
     "name": "stderr",
     "output_type": "stream",
     "text": [
      "Best trial: 30. Best value: 0.408401:  72%|██████████████████████████████▉            | 72/100 [03:00<01:19,  2.85s/it]Using 16bit Automatic Mixed Precision (AMP)\n",
      "GPU available: True (cuda), used: True\n",
      "TPU available: False, using: 0 TPU cores\n",
      "IPU available: False, using: 0 IPUs\n",
      "HPU available: False, using: 0 HPUs\n",
      "LOCAL_RANK: 0 - CUDA_VISIBLE_DEVICES: [0]\n"
     ]
    },
    {
     "name": "stdout",
     "output_type": "stream",
     "text": [
      "[I 2024-03-29 15:15:20,133] Trial 71 pruned. Trial was pruned at epoch 3.\n"
     ]
    },
    {
     "name": "stderr",
     "output_type": "stream",
     "text": [
      "Best trial: 30. Best value: 0.408401:  73%|███████████████████████████████▍           | 73/100 [03:01<01:04,  2.40s/it]Using 16bit Automatic Mixed Precision (AMP)\n",
      "GPU available: True (cuda), used: True\n",
      "TPU available: False, using: 0 TPU cores\n",
      "IPU available: False, using: 0 IPUs\n",
      "HPU available: False, using: 0 HPUs\n",
      "LOCAL_RANK: 0 - CUDA_VISIBLE_DEVICES: [0]\n"
     ]
    },
    {
     "name": "stdout",
     "output_type": "stream",
     "text": [
      "[I 2024-03-29 15:15:21,491] Trial 72 pruned. Trial was pruned at epoch 3.\n"
     ]
    },
    {
     "name": "stderr",
     "output_type": "stream",
     "text": [
      "Best trial: 30. Best value: 0.408401:  74%|███████████████████████████████▊           | 74/100 [03:04<01:08,  2.62s/it]Using 16bit Automatic Mixed Precision (AMP)\n",
      "GPU available: True (cuda), used: True\n",
      "TPU available: False, using: 0 TPU cores\n",
      "IPU available: False, using: 0 IPUs\n",
      "HPU available: False, using: 0 HPUs\n",
      "LOCAL_RANK: 0 - CUDA_VISIBLE_DEVICES: [0]\n"
     ]
    },
    {
     "name": "stdout",
     "output_type": "stream",
     "text": [
      "[I 2024-03-29 15:15:24,639] Trial 73 pruned. Trial was pruned at epoch 9.\n"
     ]
    },
    {
     "name": "stderr",
     "output_type": "stream",
     "text": [
      "Best trial: 30. Best value: 0.408401:  75%|████████████████████████████████▎          | 75/100 [03:05<00:51,  2.06s/it]Using 16bit Automatic Mixed Precision (AMP)\n",
      "GPU available: True (cuda), used: True\n",
      "TPU available: False, using: 0 TPU cores\n",
      "IPU available: False, using: 0 IPUs\n",
      "HPU available: False, using: 0 HPUs\n",
      "LOCAL_RANK: 0 - CUDA_VISIBLE_DEVICES: [0]\n"
     ]
    },
    {
     "name": "stdout",
     "output_type": "stream",
     "text": [
      "[I 2024-03-29 15:15:25,373] Trial 74 pruned. Trial was pruned at epoch 1.\n"
     ]
    },
    {
     "name": "stderr",
     "output_type": "stream",
     "text": [
      "Best trial: 30. Best value: 0.408401:  76%|████████████████████████████████▋          | 76/100 [03:06<00:40,  1.70s/it]Using 16bit Automatic Mixed Precision (AMP)\n",
      "GPU available: True (cuda), used: True\n",
      "TPU available: False, using: 0 TPU cores\n",
      "IPU available: False, using: 0 IPUs\n",
      "HPU available: False, using: 0 HPUs\n",
      "LOCAL_RANK: 0 - CUDA_VISIBLE_DEVICES: [0]\n"
     ]
    },
    {
     "name": "stdout",
     "output_type": "stream",
     "text": [
      "[I 2024-03-29 15:15:26,224] Trial 75 pruned. Trial was pruned at epoch 3.\n"
     ]
    },
    {
     "name": "stderr",
     "output_type": "stream",
     "text": [
      "Best trial: 30. Best value: 0.408401:  77%|█████████████████████████████████          | 77/100 [03:07<00:37,  1.61s/it]Using 16bit Automatic Mixed Precision (AMP)\n",
      "GPU available: True (cuda), used: True\n",
      "TPU available: False, using: 0 TPU cores\n",
      "IPU available: False, using: 0 IPUs\n",
      "HPU available: False, using: 0 HPUs\n",
      "LOCAL_RANK: 0 - CUDA_VISIBLE_DEVICES: [0]\n"
     ]
    },
    {
     "name": "stdout",
     "output_type": "stream",
     "text": [
      "[I 2024-03-29 15:15:27,643] Trial 76 pruned. Trial was pruned at epoch 3.\n"
     ]
    },
    {
     "name": "stderr",
     "output_type": "stream",
     "text": [
      "Best trial: 30. Best value: 0.408401:  78%|█████████████████████████████████▌         | 78/100 [03:16<01:25,  3.90s/it]Using 16bit Automatic Mixed Precision (AMP)\n",
      "GPU available: True (cuda), used: True\n",
      "TPU available: False, using: 0 TPU cores\n",
      "IPU available: False, using: 0 IPUs\n",
      "HPU available: False, using: 0 HPUs\n",
      "LOCAL_RANK: 0 - CUDA_VISIBLE_DEVICES: [0]\n"
     ]
    },
    {
     "name": "stdout",
     "output_type": "stream",
     "text": [
      "[I 2024-03-29 15:15:36,882] Trial 77 finished with value: 0.7446938157081604 and parameters: {'d_model': 4, 'n_heads': 1, 'n_encoders': 3, 'd_feedforward': 6, 'activation': 'relu', 'learning_rate': 0.029500565549812556, 'lr_decay': 0.9400796591565646, 'dropout_rate': 0.03779696604717104}. Best is trial 30 with value: 0.4084007740020752.\n"
     ]
    },
    {
     "name": "stderr",
     "output_type": "stream",
     "text": [
      "Best trial: 30. Best value: 0.408401:  79%|█████████████████████████████████▉         | 79/100 [03:17<01:01,  2.93s/it]Using 16bit Automatic Mixed Precision (AMP)\n",
      "GPU available: True (cuda), used: True\n",
      "TPU available: False, using: 0 TPU cores\n",
      "IPU available: False, using: 0 IPUs\n",
      "HPU available: False, using: 0 HPUs\n",
      "LOCAL_RANK: 0 - CUDA_VISIBLE_DEVICES: [0]\n"
     ]
    },
    {
     "name": "stdout",
     "output_type": "stream",
     "text": [
      "[I 2024-03-29 15:15:37,551] Trial 78 pruned. Trial was pruned at epoch 1.\n"
     ]
    },
    {
     "name": "stderr",
     "output_type": "stream",
     "text": [
      "Best trial: 30. Best value: 0.408401:  80%|██████████████████████████████████▍        | 80/100 [03:18<00:46,  2.33s/it]Using 16bit Automatic Mixed Precision (AMP)\n",
      "GPU available: True (cuda), used: True\n",
      "TPU available: False, using: 0 TPU cores\n",
      "IPU available: False, using: 0 IPUs\n",
      "HPU available: False, using: 0 HPUs\n",
      "LOCAL_RANK: 0 - CUDA_VISIBLE_DEVICES: [0]\n"
     ]
    },
    {
     "name": "stdout",
     "output_type": "stream",
     "text": [
      "[I 2024-03-29 15:15:38,476] Trial 79 pruned. Trial was pruned at epoch 3.\n"
     ]
    },
    {
     "name": "stderr",
     "output_type": "stream",
     "text": [
      "Best trial: 30. Best value: 0.408401:  81%|██████████████████████████████████▊        | 81/100 [03:20<00:42,  2.25s/it]Using 16bit Automatic Mixed Precision (AMP)\n",
      "GPU available: True (cuda), used: True\n",
      "TPU available: False, using: 0 TPU cores\n",
      "IPU available: False, using: 0 IPUs\n",
      "HPU available: False, using: 0 HPUs\n",
      "LOCAL_RANK: 0 - CUDA_VISIBLE_DEVICES: [0]\n"
     ]
    },
    {
     "name": "stdout",
     "output_type": "stream",
     "text": [
      "[I 2024-03-29 15:15:40,553] Trial 80 pruned. Trial was pruned at epoch 9.\n"
     ]
    },
    {
     "name": "stderr",
     "output_type": "stream",
     "text": [
      "Best trial: 30. Best value: 0.408401:  82%|███████████████████████████████████▎       | 82/100 [03:20<00:30,  1.72s/it]Using 16bit Automatic Mixed Precision (AMP)\n",
      "GPU available: True (cuda), used: True\n",
      "TPU available: False, using: 0 TPU cores\n",
      "IPU available: False, using: 0 IPUs\n",
      "HPU available: False, using: 0 HPUs\n",
      "LOCAL_RANK: 0 - CUDA_VISIBLE_DEVICES: [0]\n"
     ]
    },
    {
     "name": "stdout",
     "output_type": "stream",
     "text": [
      "[I 2024-03-29 15:15:41,016] Trial 81 pruned. Trial was pruned at epoch 1.\n"
     ]
    },
    {
     "name": "stderr",
     "output_type": "stream",
     "text": [
      "Best trial: 30. Best value: 0.408401:  83%|███████████████████████████████████▋       | 83/100 [03:21<00:24,  1.46s/it]Using 16bit Automatic Mixed Precision (AMP)\n",
      "GPU available: True (cuda), used: True\n",
      "TPU available: False, using: 0 TPU cores\n",
      "IPU available: False, using: 0 IPUs\n",
      "HPU available: False, using: 0 HPUs\n",
      "LOCAL_RANK: 0 - CUDA_VISIBLE_DEVICES: [0]\n"
     ]
    },
    {
     "name": "stdout",
     "output_type": "stream",
     "text": [
      "[I 2024-03-29 15:15:41,894] Trial 82 pruned. Trial was pruned at epoch 3.\n"
     ]
    },
    {
     "name": "stderr",
     "output_type": "stream",
     "text": [
      "Best trial: 30. Best value: 0.408401:  84%|████████████████████████████████████       | 84/100 [03:22<00:20,  1.28s/it]Using 16bit Automatic Mixed Precision (AMP)\n",
      "GPU available: True (cuda), used: True\n",
      "TPU available: False, using: 0 TPU cores\n",
      "IPU available: False, using: 0 IPUs\n",
      "HPU available: False, using: 0 HPUs\n",
      "LOCAL_RANK: 0 - CUDA_VISIBLE_DEVICES: [0]\n"
     ]
    },
    {
     "name": "stdout",
     "output_type": "stream",
     "text": [
      "[I 2024-03-29 15:15:42,756] Trial 83 pruned. Trial was pruned at epoch 3.\n"
     ]
    },
    {
     "name": "stderr",
     "output_type": "stream",
     "text": [
      "Best trial: 30. Best value: 0.408401:  85%|████████████████████████████████████▌      | 85/100 [03:23<00:15,  1.04s/it]Using 16bit Automatic Mixed Precision (AMP)\n",
      "GPU available: True (cuda), used: True\n",
      "TPU available: False, using: 0 TPU cores\n",
      "IPU available: False, using: 0 IPUs\n",
      "HPU available: False, using: 0 HPUs\n",
      "LOCAL_RANK: 0 - CUDA_VISIBLE_DEVICES: [0]\n"
     ]
    },
    {
     "name": "stdout",
     "output_type": "stream",
     "text": [
      "[I 2024-03-29 15:15:43,220] Trial 84 pruned. Trial was pruned at epoch 1.\n"
     ]
    },
    {
     "name": "stderr",
     "output_type": "stream",
     "text": [
      "Best trial: 30. Best value: 0.408401:  86%|████████████████████████████████████▉      | 86/100 [03:23<00:12,  1.16it/s]Using 16bit Automatic Mixed Precision (AMP)\n",
      "GPU available: True (cuda), used: True\n",
      "TPU available: False, using: 0 TPU cores\n",
      "IPU available: False, using: 0 IPUs\n",
      "HPU available: False, using: 0 HPUs\n",
      "LOCAL_RANK: 0 - CUDA_VISIBLE_DEVICES: [0]\n"
     ]
    },
    {
     "name": "stdout",
     "output_type": "stream",
     "text": [
      "[I 2024-03-29 15:15:43,680] Trial 85 pruned. Trial was pruned at epoch 1.\n"
     ]
    },
    {
     "name": "stderr",
     "output_type": "stream",
     "text": [
      "Best trial: 30. Best value: 0.408401:  87%|█████████████████████████████████████▍     | 87/100 [03:27<00:24,  1.86s/it]Using 16bit Automatic Mixed Precision (AMP)\n",
      "GPU available: True (cuda), used: True\n",
      "TPU available: False, using: 0 TPU cores\n",
      "IPU available: False, using: 0 IPUs\n",
      "HPU available: False, using: 0 HPUs\n",
      "LOCAL_RANK: 0 - CUDA_VISIBLE_DEVICES: [0]\n"
     ]
    },
    {
     "name": "stdout",
     "output_type": "stream",
     "text": [
      "[I 2024-03-29 15:15:47,869] Trial 86 pruned. Trial was pruned at epoch 9.\n"
     ]
    },
    {
     "name": "stderr",
     "output_type": "stream",
     "text": [
      "Best trial: 30. Best value: 0.408401:  88%|█████████████████████████████████████▊     | 88/100 [03:28<00:18,  1.56s/it]Using 16bit Automatic Mixed Precision (AMP)\n",
      "GPU available: True (cuda), used: True\n",
      "TPU available: False, using: 0 TPU cores\n",
      "IPU available: False, using: 0 IPUs\n",
      "HPU available: False, using: 0 HPUs\n",
      "LOCAL_RANK: 0 - CUDA_VISIBLE_DEVICES: [0]\n"
     ]
    },
    {
     "name": "stdout",
     "output_type": "stream",
     "text": [
      "[I 2024-03-29 15:15:48,736] Trial 87 pruned. Trial was pruned at epoch 3.\n"
     ]
    },
    {
     "name": "stderr",
     "output_type": "stream",
     "text": [
      "Best trial: 30. Best value: 0.408401:  89%|██████████████████████████████████████▎    | 89/100 [03:30<00:18,  1.67s/it]Using 16bit Automatic Mixed Precision (AMP)\n",
      "GPU available: True (cuda), used: True\n",
      "TPU available: False, using: 0 TPU cores\n",
      "IPU available: False, using: 0 IPUs\n",
      "HPU available: False, using: 0 HPUs\n",
      "LOCAL_RANK: 0 - CUDA_VISIBLE_DEVICES: [0]\n"
     ]
    },
    {
     "name": "stdout",
     "output_type": "stream",
     "text": [
      "[I 2024-03-29 15:15:50,650] Trial 88 finished with value: 0.7647442817687988 and parameters: {'d_model': 5, 'n_heads': 1, 'n_encoders': 1, 'd_feedforward': 3, 'activation': 'relu', 'learning_rate': 0.01587272526832162, 'lr_decay': 0.9465681199094188, 'dropout_rate': 0.0017364551975817197}. Best is trial 30 with value: 0.4084007740020752.\n"
     ]
    },
    {
     "name": "stderr",
     "output_type": "stream",
     "text": [
      "Best trial: 30. Best value: 0.408401:  90%|██████████████████████████████████████▋    | 90/100 [03:33<00:21,  2.14s/it]Using 16bit Automatic Mixed Precision (AMP)\n",
      "GPU available: True (cuda), used: True\n",
      "TPU available: False, using: 0 TPU cores\n",
      "IPU available: False, using: 0 IPUs\n",
      "HPU available: False, using: 0 HPUs\n",
      "LOCAL_RANK: 0 - CUDA_VISIBLE_DEVICES: [0]\n"
     ]
    },
    {
     "name": "stdout",
     "output_type": "stream",
     "text": [
      "[I 2024-03-29 15:15:53,882] Trial 89 pruned. Trial was pruned at epoch 9.\n"
     ]
    },
    {
     "name": "stderr",
     "output_type": "stream",
     "text": [
      "Best trial: 30. Best value: 0.408401:  91%|███████████████████████████████████████▏   | 91/100 [03:40<00:31,  3.46s/it]Using 16bit Automatic Mixed Precision (AMP)\n",
      "GPU available: True (cuda), used: True\n",
      "TPU available: False, using: 0 TPU cores\n",
      "IPU available: False, using: 0 IPUs\n",
      "HPU available: False, using: 0 HPUs\n",
      "LOCAL_RANK: 0 - CUDA_VISIBLE_DEVICES: [0]\n"
     ]
    },
    {
     "name": "stdout",
     "output_type": "stream",
     "text": [
      "[I 2024-03-29 15:16:00,437] Trial 90 finished with value: 0.4176613986492157 and parameters: {'d_model': 5, 'n_heads': 1, 'n_encoders': 1, 'd_feedforward': 8, 'activation': 'gelu', 'learning_rate': 0.010894726508225063, 'lr_decay': 0.9154482206581717, 'dropout_rate': 0.04410679981904307}. Best is trial 30 with value: 0.4084007740020752.\n"
     ]
    },
    {
     "name": "stderr",
     "output_type": "stream",
     "text": [
      "Best trial: 91. Best value: 0.389247:  92%|███████████████████████████████████████▌   | 92/100 [03:50<00:44,  5.61s/it]Using 16bit Automatic Mixed Precision (AMP)\n",
      "GPU available: True (cuda), used: True\n",
      "TPU available: False, using: 0 TPU cores\n",
      "IPU available: False, using: 0 IPUs\n",
      "HPU available: False, using: 0 HPUs\n",
      "LOCAL_RANK: 0 - CUDA_VISIBLE_DEVICES: [0]\n"
     ]
    },
    {
     "name": "stdout",
     "output_type": "stream",
     "text": [
      "[I 2024-03-29 15:16:11,049] Trial 91 finished with value: 0.38924726843833923 and parameters: {'d_model': 5, 'n_heads': 1, 'n_encoders': 1, 'd_feedforward': 5, 'activation': 'gelu', 'learning_rate': 0.01080890191129791, 'lr_decay': 0.9164942153153772, 'dropout_rate': 0.03377173018402997}. Best is trial 91 with value: 0.38924726843833923.\n"
     ]
    },
    {
     "name": "stderr",
     "output_type": "stream",
     "text": [
      "Best trial: 91. Best value: 0.389247:  93%|███████████████████████████████████████▉   | 93/100 [03:51<00:28,  4.06s/it]Using 16bit Automatic Mixed Precision (AMP)\n",
      "GPU available: True (cuda), used: True\n",
      "TPU available: False, using: 0 TPU cores\n",
      "IPU available: False, using: 0 IPUs\n",
      "HPU available: False, using: 0 HPUs\n",
      "LOCAL_RANK: 0 - CUDA_VISIBLE_DEVICES: [0]\n"
     ]
    },
    {
     "name": "stdout",
     "output_type": "stream",
     "text": [
      "[I 2024-03-29 15:16:11,514] Trial 92 pruned. Trial was pruned at epoch 1.\n"
     ]
    },
    {
     "name": "stderr",
     "output_type": "stream",
     "text": [
      "Best trial: 91. Best value: 0.389247:  94%|████████████████████████████████████████▍  | 94/100 [03:57<00:28,  4.82s/it]Using 16bit Automatic Mixed Precision (AMP)\n",
      "GPU available: True (cuda), used: True\n",
      "TPU available: False, using: 0 TPU cores\n",
      "IPU available: False, using: 0 IPUs\n",
      "HPU available: False, using: 0 HPUs\n",
      "LOCAL_RANK: 0 - CUDA_VISIBLE_DEVICES: [0]\n"
     ]
    },
    {
     "name": "stdout",
     "output_type": "stream",
     "text": [
      "[I 2024-03-29 15:16:18,081] Trial 93 finished with value: 0.40901312232017517 and parameters: {'d_model': 5, 'n_heads': 1, 'n_encoders': 1, 'd_feedforward': 8, 'activation': 'gelu', 'learning_rate': 0.00815262411994017, 'lr_decay': 0.9077910827159953, 'dropout_rate': 0.04464087848127781}. Best is trial 91 with value: 0.38924726843833923.\n"
     ]
    },
    {
     "name": "stderr",
     "output_type": "stream",
     "text": [
      "Best trial: 91. Best value: 0.389247:  95%|████████████████████████████████████████▊  | 95/100 [03:58<00:17,  3.51s/it]Using 16bit Automatic Mixed Precision (AMP)\n",
      "GPU available: True (cuda), used: True\n",
      "TPU available: False, using: 0 TPU cores\n",
      "IPU available: False, using: 0 IPUs\n",
      "HPU available: False, using: 0 HPUs\n",
      "LOCAL_RANK: 0 - CUDA_VISIBLE_DEVICES: [0]\n"
     ]
    },
    {
     "name": "stdout",
     "output_type": "stream",
     "text": [
      "[I 2024-03-29 15:16:18,545] Trial 94 pruned. Trial was pruned at epoch 1.\n"
     ]
    },
    {
     "name": "stderr",
     "output_type": "stream",
     "text": [
      "Best trial: 91. Best value: 0.389247:  96%|█████████████████████████████████████████▎ | 96/100 [04:03<00:16,  4.11s/it]Using 16bit Automatic Mixed Precision (AMP)\n",
      "GPU available: True (cuda), used: True\n",
      "TPU available: False, using: 0 TPU cores\n",
      "IPU available: False, using: 0 IPUs\n",
      "HPU available: False, using: 0 HPUs\n",
      "LOCAL_RANK: 0 - CUDA_VISIBLE_DEVICES: [0]\n"
     ]
    },
    {
     "name": "stdout",
     "output_type": "stream",
     "text": [
      "[I 2024-03-29 15:16:24,044] Trial 95 finished with value: 0.40786710381507874 and parameters: {'d_model': 5, 'n_heads': 1, 'n_encoders': 1, 'd_feedforward': 8, 'activation': 'gelu', 'learning_rate': 0.007886303860094833, 'lr_decay': 0.9068584036179814, 'dropout_rate': 0.04427909710914747}. Best is trial 91 with value: 0.38924726843833923.\n"
     ]
    },
    {
     "name": "stderr",
     "output_type": "stream",
     "text": [
      "Best trial: 91. Best value: 0.389247:  97%|█████████████████████████████████████████▋ | 97/100 [04:09<00:13,  4.42s/it]Using 16bit Automatic Mixed Precision (AMP)\n",
      "GPU available: True (cuda), used: True\n",
      "TPU available: False, using: 0 TPU cores\n",
      "IPU available: False, using: 0 IPUs\n",
      "HPU available: False, using: 0 HPUs\n",
      "LOCAL_RANK: 0 - CUDA_VISIBLE_DEVICES: [0]\n"
     ]
    },
    {
     "name": "stdout",
     "output_type": "stream",
     "text": [
      "[I 2024-03-29 15:16:29,201] Trial 96 finished with value: 0.4178127348423004 and parameters: {'d_model': 5, 'n_heads': 1, 'n_encoders': 1, 'd_feedforward': 8, 'activation': 'gelu', 'learning_rate': 0.008782010084771984, 'lr_decay': 0.908593403191633, 'dropout_rate': 0.03813011514507411}. Best is trial 91 with value: 0.38924726843833923.\n"
     ]
    },
    {
     "name": "stderr",
     "output_type": "stream",
     "text": [
      "Best trial: 91. Best value: 0.389247:  98%|██████████████████████████████████████████▏| 98/100 [04:14<00:09,  4.75s/it]Using 16bit Automatic Mixed Precision (AMP)\n",
      "GPU available: True (cuda), used: True\n",
      "TPU available: False, using: 0 TPU cores\n",
      "IPU available: False, using: 0 IPUs\n",
      "HPU available: False, using: 0 HPUs\n",
      "LOCAL_RANK: 0 - CUDA_VISIBLE_DEVICES: [0]\n"
     ]
    },
    {
     "name": "stdout",
     "output_type": "stream",
     "text": [
      "[I 2024-03-29 15:16:34,712] Trial 97 finished with value: 0.42463013529777527 and parameters: {'d_model': 5, 'n_heads': 1, 'n_encoders': 1, 'd_feedforward': 8, 'activation': 'gelu', 'learning_rate': 0.003889000905237695, 'lr_decay': 0.9074340823586731, 'dropout_rate': 0.04407749889513934}. Best is trial 91 with value: 0.38924726843833923.\n"
     ]
    },
    {
     "name": "stderr",
     "output_type": "stream",
     "text": [
      "Best trial: 91. Best value: 0.389247:  99%|██████████████████████████████████████████▌| 99/100 [04:15<00:03,  3.46s/it]Using 16bit Automatic Mixed Precision (AMP)\n",
      "GPU available: True (cuda), used: True\n",
      "TPU available: False, using: 0 TPU cores\n",
      "IPU available: False, using: 0 IPUs\n",
      "HPU available: False, using: 0 HPUs\n",
      "LOCAL_RANK: 0 - CUDA_VISIBLE_DEVICES: [0]\n"
     ]
    },
    {
     "name": "stdout",
     "output_type": "stream",
     "text": [
      "[I 2024-03-29 15:16:35,170] Trial 98 pruned. Trial was pruned at epoch 1.\n"
     ]
    },
    {
     "name": "stderr",
     "output_type": "stream",
     "text": [
      "Best trial: 91. Best value: 0.389247: 100%|██████████████████████████████████████████| 100/100 [04:15<00:00,  2.56s/it]"
     ]
    },
    {
     "name": "stdout",
     "output_type": "stream",
     "text": [
      "[I 2024-03-29 15:16:36,042] Trial 99 pruned. Trial was pruned at epoch 3.\n"
     ]
    },
    {
     "name": "stderr",
     "output_type": "stream",
     "text": [
      "\n"
     ]
    }
   ],
   "source": [
    "# Optimize study\n",
    "study_transformer.optimize(objective_transformer, n_trials = 100, show_progress_bar = True)"
   ]
  },
  {
   "cell_type": "code",
   "execution_count": 38,
   "id": "52bae9ca-011f-4653-816f-976f0393b96b",
   "metadata": {},
   "outputs": [],
   "source": [
    "# Retrieve and export trials\n",
    "export_trial_no = \"1\"\n",
    "trials_transformer = study_transformer.trials_dataframe().sort_values(\"value\", ascending = True)\n",
    "trials_transformer.to_csv(f\"./OutputData/trials_transformer{export_trial_no}.csv\", index = False)"
   ]
  },
  {
   "cell_type": "markdown",
   "id": "d425b0d3-852e-4f68-9c2f-eba6f18d3043",
   "metadata": {},
   "source": [
    "## Model testing"
   ]
  },
  {
   "cell_type": "code",
   "execution_count": 39,
   "id": "3e30c250-b6c3-4770-9956-38d58f666135",
   "metadata": {},
   "outputs": [],
   "source": [
    "# Import best trial\n",
    "import_trial_no = \"1\"\n",
    "best_trial_transformer = pd.read_csv(f\"./OutputData/trials_transformer{import_trial_no}.csv\").iloc[0,]"
   ]
  },
  {
   "cell_type": "code",
   "execution_count": 40,
   "id": "e6faea85-1885-4e39-858c-7b98e529c0ef",
   "metadata": {},
   "outputs": [
    {
     "data": {
      "text/plain": [
       "number                                                   91\n",
       "value                                              0.389247\n",
       "datetime_start                   2024-03-29 15:16:00.440493\n",
       "datetime_complete                2024-03-29 15:16:11.049680\n",
       "duration                             0 days 00:00:10.609187\n",
       "params_activation                                      gelu\n",
       "params_d_feedforward                                      5\n",
       "params_d_model                                            5\n",
       "params_dropout_rate                                0.033772\n",
       "params_learning_rate                               0.010809\n",
       "params_lr_decay                                    0.916494\n",
       "params_n_encoders                                         1\n",
       "params_n_heads                                            1\n",
       "user_attrs_n_epochs                                    48.0\n",
       "system_attrs_completed_rung_0                      0.894941\n",
       "system_attrs_completed_rung_1                      0.805274\n",
       "system_attrs_completed_rung_2                      0.691343\n",
       "system_attrs_completed_rung_3                      0.413965\n",
       "state                                              COMPLETE\n",
       "Name: 0, dtype: object"
      ]
     },
     "execution_count": 40,
     "metadata": {},
     "output_type": "execute_result"
    }
   ],
   "source": [
    "best_trial_transformer"
   ]
  },
  {
   "cell_type": "raw",
   "id": "fbeee086-839c-4616-92d5-799a7dc15a92",
   "metadata": {},
   "source": [
    "# Create mock hyperparameters dict for sanity checking\n",
    "hyperparameters_dict = {\n",
    "    \"source_length\": 72,\n",
    "    \"target_length\": 32,\n",
    "    \"horizon_start\": 0,\n",
    "    \"quantiles\": quantiles,\n",
    "    \"d_model\": 64,\n",
    "    \"n_heads\": 2,\n",
    "    \"n_encoders\": 2,\n",
    "    \"n_decoders\": 2,\n",
    "    \"d_feedforward\": 64,\n",
    "    \"activation\": \"gelu\",\n",
    "    \"learning_rate\": 0.01,\n",
    "    \"lr_decay\": 0.99,\n",
    "    \"dropout_rate\": 0.01\n",
    "}"
   ]
  },
  {
   "cell_type": "code",
   "execution_count": 43,
   "id": "32be3df7-4c69-4c27-aca7-bfbcceb3883f",
   "metadata": {},
   "outputs": [],
   "source": [
    "# Create hyperparameters dict\n",
    "hyperparameters_dict = {\n",
    "    \"source_length\": source_length,\n",
    "    \"target_length\": target_length,\n",
    "    \"horizon_start\": horizon_start,\n",
    "    \"quantiles\": quantiles,\n",
    "    \"d_model\": best_trial_transformer[\"params_d_model\"],\n",
    "    \"n_heads\": best_trial_transformer[\"params_n_heads\"],\n",
    "    \"n_encoders\": best_trial_transformer[\"params_n_encoders\"],\n",
    "    \"n_decoders\": best_trial_transformer[\"params_n_encoders\"],\n",
    "    \"d_feedforward\": best_trial_transformer[\"params_d_feedforward\"],\n",
    "    \"activation\": best_trial_transformer[\"params_activation\"],\n",
    "    \"learning_rate\": best_trial_transformer[\"params_learning_rate\"],\n",
    "    \"lr_decay\": best_trial_transformer[\"params_lr_decay\"],\n",
    "    \"dropout_rate\": best_trial_transformer[\"params_dropout_rate\"]\n",
    "    }"
   ]
  },
  {
   "cell_type": "code",
   "execution_count": 44,
   "id": "6517c633-90b1-49f0-8ae1-1e3b4ab87314",
   "metadata": {},
   "outputs": [
    {
     "name": "stderr",
     "output_type": "stream",
     "text": [
      "Using 16bit Automatic Mixed Precision (AMP)\n",
      "GPU available: True (cuda), used: True\n",
      "TPU available: False, using: 0 TPU cores\n",
      "IPU available: False, using: 0 IPUs\n",
      "HPU available: False, using: 0 HPUs\n"
     ]
    }
   ],
   "source": [
    "# Create trainer\n",
    "trainer = L.Trainer(\n",
    "    #max_epochs = 2,\n",
    "    max_epochs = int(best_trial_transformer[\"user_attrs_n_epochs\"]),\n",
    "    accelerator = \"gpu\",\n",
    "    devices = \"auto\",\n",
    "    precision = \"16-mixed\",\n",
    "    enable_model_summary = True,\n",
    "    logger = False,\n",
    "    enable_progress_bar = True,\n",
    "    enable_checkpointing = False\n",
    ")"
   ]
  },
  {
   "cell_type": "code",
   "execution_count": 45,
   "id": "aa853b4b-e694-4c14-a14a-84eaf6bae6ca",
   "metadata": {},
   "outputs": [
    {
     "name": "stderr",
     "output_type": "stream",
     "text": [
      "C:\\Users\\PC\\Documents\\WorkLocal\\DataScience\\GitHub\\DeepLearningEnergyForecasting\\venv\\Lib\\site-packages\\torch\\nn\\modules\\transformer.py:286: UserWarning: enable_nested_tensor is True, but self.use_nested_tensor is False because encoder_layer.self_attn.num_heads is odd\n",
      "  warnings.warn(f\"enable_nested_tensor is True, but self.use_nested_tensor is False because {why_not_sparsity_fast_path}\")\n",
      "C:\\Users\\PC\\Documents\\WorkLocal\\DataScience\\GitHub\\DeepLearningEnergyForecasting\\venv\\Lib\\site-packages\\lightning\\pytorch\\trainer\\configuration_validator.py:74: You defined a `validation_step` but have no `val_dataloader`. Skipping val loop.\n",
      "LOCAL_RANK: 0 - CUDA_VISIBLE_DEVICES: [0]\n",
      "\n",
      "  | Name           | Type        | Params\n",
      "-----------------------------------------------\n",
      "0 | source_project | Linear      | 365   \n",
      "1 | target_project | Linear      | 165   \n",
      "2 | dropout        | Dropout     | 0     \n",
      "3 | transformer    | Transformer | 550   \n",
      "4 | output_layer   | Linear      | 576   \n",
      "-----------------------------------------------\n",
      "1.7 K     Trainable params\n",
      "0         Non-trainable params\n",
      "1.7 K     Total params\n",
      "0.007     Total estimated model params size (MB)\n"
     ]
    },
    {
     "name": "stdout",
     "output_type": "stream",
     "text": [
      "Epoch 47: 100%|█████████████████████████| 27/27 [00:00<00:00, 81.15it/s, train_loss_step=0.406, train_loss_epoch=0.501]"
     ]
    },
    {
     "name": "stderr",
     "output_type": "stream",
     "text": [
      "`Trainer.fit` stopped: `max_epochs=48` reached.\n"
     ]
    },
    {
     "name": "stdout",
     "output_type": "stream",
     "text": [
      "Epoch 47: 100%|█████████████████████████| 27/27 [00:00<00:00, 80.91it/s, train_loss_step=0.406, train_loss_epoch=0.501]\n"
     ]
    }
   ],
   "source": [
    "# Create & train model\n",
    "model = iQuantileTransformer(hyperparameters_dict)\n",
    "trainer.fit(model, train_loader)"
   ]
  },
  {
   "cell_type": "code",
   "execution_count": 46,
   "id": "9b66ee1e-d4cc-47d6-8298-656e219725c0",
   "metadata": {},
   "outputs": [
    {
     "name": "stderr",
     "output_type": "stream",
     "text": [
      "LOCAL_RANK: 0 - CUDA_VISIBLE_DEVICES: [0]\n"
     ]
    },
    {
     "name": "stdout",
     "output_type": "stream",
     "text": [
      "Predicting DataLoader 0: 100%|██████████████████████████████████████████████████████████| 6/6 [00:00<00:00, 111.77it/s]\n"
     ]
    }
   ],
   "source": [
    "# Make predictions on test data & backtransform scaled values\n",
    "preds_raw = trainer.predict(model, test_loader)\n",
    "preds = torch.cat(preds_raw, dim = 0).cpu().numpy().astype(np.float32)\n",
    "preds = scaler_test.backtransform_preds(preds)"
   ]
  },
  {
   "cell_type": "code",
   "execution_count": 47,
   "id": "6d20117b-eced-4518-9eb7-c198e3208ec6",
   "metadata": {},
   "outputs": [],
   "source": [
    "# Combine back prediction sequences with times\n",
    "test_dates = np.stack([sequence.index for sequence in test_target], axis = 0)\n",
    "df_preds = pd.DataFrame({\n",
    "    \"time\": np.ravel(test_dates),\n",
    "    \"pred_low\": np.ravel(preds[:, :, 0]),\n",
    "    \"pred_point\": np.ravel(preds[:, :, 1]),\n",
    "    \"pred_high\": np.ravel(preds[:, :, 2])\n",
    "})"
   ]
  },
  {
   "cell_type": "code",
   "execution_count": 48,
   "id": "2e257d78-6ee2-4987-9884-3d66ce4fd31a",
   "metadata": {},
   "outputs": [
    {
     "data": {
      "text/html": [
       "<div>\n",
       "<style scoped>\n",
       "    .dataframe tbody tr th:only-of-type {\n",
       "        vertical-align: middle;\n",
       "    }\n",
       "\n",
       "    .dataframe tbody tr th {\n",
       "        vertical-align: top;\n",
       "    }\n",
       "\n",
       "    .dataframe thead th {\n",
       "        text-align: right;\n",
       "    }\n",
       "</style>\n",
       "<table border=\"1\" class=\"dataframe\">\n",
       "  <thead>\n",
       "    <tr style=\"text-align: right;\">\n",
       "      <th></th>\n",
       "      <th>time</th>\n",
       "      <th>pred_low</th>\n",
       "      <th>pred_point</th>\n",
       "      <th>pred_high</th>\n",
       "    </tr>\n",
       "  </thead>\n",
       "  <tbody>\n",
       "    <tr>\n",
       "      <th>0</th>\n",
       "      <td>2022-10-18 16:00:00</td>\n",
       "      <td>32607.468750</td>\n",
       "      <td>38598.042969</td>\n",
       "      <td>42041.578125</td>\n",
       "    </tr>\n",
       "    <tr>\n",
       "      <th>1</th>\n",
       "      <td>2022-10-18 17:00:00</td>\n",
       "      <td>32143.257812</td>\n",
       "      <td>38025.757812</td>\n",
       "      <td>41982.632812</td>\n",
       "    </tr>\n",
       "    <tr>\n",
       "      <th>2</th>\n",
       "      <td>2022-10-18 18:00:00</td>\n",
       "      <td>34771.347656</td>\n",
       "      <td>38295.937500</td>\n",
       "      <td>41427.539062</td>\n",
       "    </tr>\n",
       "    <tr>\n",
       "      <th>3</th>\n",
       "      <td>2022-10-18 19:00:00</td>\n",
       "      <td>35325.519531</td>\n",
       "      <td>38003.652344</td>\n",
       "      <td>41093.500000</td>\n",
       "    </tr>\n",
       "    <tr>\n",
       "      <th>4</th>\n",
       "      <td>2022-10-18 20:00:00</td>\n",
       "      <td>34708.101562</td>\n",
       "      <td>37221.367188</td>\n",
       "      <td>41191.746094</td>\n",
       "    </tr>\n",
       "    <tr>\n",
       "      <th>...</th>\n",
       "      <td>...</td>\n",
       "      <td>...</td>\n",
       "      <td>...</td>\n",
       "      <td>...</td>\n",
       "    </tr>\n",
       "    <tr>\n",
       "      <th>12283</th>\n",
       "      <td>2023-11-06 19:00:00</td>\n",
       "      <td>33653.792969</td>\n",
       "      <td>37743.300781</td>\n",
       "      <td>41928.597656</td>\n",
       "    </tr>\n",
       "    <tr>\n",
       "      <th>12284</th>\n",
       "      <td>2023-11-06 20:00:00</td>\n",
       "      <td>32843.261719</td>\n",
       "      <td>37054.347656</td>\n",
       "      <td>41353.855469</td>\n",
       "    </tr>\n",
       "    <tr>\n",
       "      <th>12285</th>\n",
       "      <td>2023-11-06 21:00:00</td>\n",
       "      <td>32162.906250</td>\n",
       "      <td>36062.671875</td>\n",
       "      <td>40319.812500</td>\n",
       "    </tr>\n",
       "    <tr>\n",
       "      <th>12286</th>\n",
       "      <td>2023-11-06 22:00:00</td>\n",
       "      <td>29790.253906</td>\n",
       "      <td>34495.644531</td>\n",
       "      <td>38593.132812</td>\n",
       "    </tr>\n",
       "    <tr>\n",
       "      <th>12287</th>\n",
       "      <td>2023-11-06 23:00:00</td>\n",
       "      <td>27795.853516</td>\n",
       "      <td>32403.609375</td>\n",
       "      <td>36151.707031</td>\n",
       "    </tr>\n",
       "  </tbody>\n",
       "</table>\n",
       "<p>12288 rows × 4 columns</p>\n",
       "</div>"
      ],
      "text/plain": [
       "                     time      pred_low    pred_point     pred_high\n",
       "0     2022-10-18 16:00:00  32607.468750  38598.042969  42041.578125\n",
       "1     2022-10-18 17:00:00  32143.257812  38025.757812  41982.632812\n",
       "2     2022-10-18 18:00:00  34771.347656  38295.937500  41427.539062\n",
       "3     2022-10-18 19:00:00  35325.519531  38003.652344  41093.500000\n",
       "4     2022-10-18 20:00:00  34708.101562  37221.367188  41191.746094\n",
       "...                   ...           ...           ...           ...\n",
       "12283 2023-11-06 19:00:00  33653.792969  37743.300781  41928.597656\n",
       "12284 2023-11-06 20:00:00  32843.261719  37054.347656  41353.855469\n",
       "12285 2023-11-06 21:00:00  32162.906250  36062.671875  40319.812500\n",
       "12286 2023-11-06 22:00:00  29790.253906  34495.644531  38593.132812\n",
       "12287 2023-11-06 23:00:00  27795.853516  32403.609375  36151.707031\n",
       "\n",
       "[12288 rows x 4 columns]"
      ]
     },
     "execution_count": 48,
     "metadata": {},
     "output_type": "execute_result"
    }
   ],
   "source": [
    "df_preds"
   ]
  },
  {
   "cell_type": "code",
   "execution_count": 49,
   "id": "fd82f259-e2e6-43ca-891c-1372339ed4c9",
   "metadata": {},
   "outputs": [],
   "source": [
    "# Combine back testing taerget sequences with source sequences & times\n",
    "\n",
    "# Create dataframe from all target sequences\n",
    "test_target_stacked = np.stack(test_target, axis = 0)\n",
    "df_test_target = pd.DataFrame({\n",
    "    \"time\": np.ravel(test_dates),\n",
    "    \"consumption_MWh\": np.ravel(test_target_stacked[:, :, 0])\n",
    "})\n",
    "df_test_target[\"time\"] = pd.to_datetime(df_test_target[\"time\"])\n",
    "\n",
    "# Create dataframe from all source sequences\n",
    "test_source_dates = np.stack([sequence.index for sequence in test_source], axis = 0)\n",
    "test_source_stacked = np.stack(test_source, axis = 0)\n",
    "df_test_source = pd.DataFrame({\n",
    "    \"time\": np.ravel(test_source_dates),\n",
    "    \"consumption_MWh\" : np.ravel(test_source_stacked[:, :, 0])\n",
    "})\n",
    "df_test_source[\"time\"] = pd.to_datetime(df_test_source[\"time\"])\n",
    "\n",
    "# Concatenate & sort by time\n",
    "df_test = pd.concat([df_test_target, df_test_source])\n",
    "df_test = df_test.sort_values(\"time\")"
   ]
  },
  {
   "cell_type": "code",
   "execution_count": 50,
   "id": "df8b9fd9-f804-47d9-876b-3d0fc3959d1b",
   "metadata": {},
   "outputs": [
    {
     "data": {
      "text/html": [
       "<div>\n",
       "<style scoped>\n",
       "    .dataframe tbody tr th:only-of-type {\n",
       "        vertical-align: middle;\n",
       "    }\n",
       "\n",
       "    .dataframe tbody tr th {\n",
       "        vertical-align: top;\n",
       "    }\n",
       "\n",
       "    .dataframe thead th {\n",
       "        text-align: right;\n",
       "    }\n",
       "</style>\n",
       "<table border=\"1\" class=\"dataframe\">\n",
       "  <thead>\n",
       "    <tr style=\"text-align: right;\">\n",
       "      <th></th>\n",
       "      <th>time</th>\n",
       "      <th>consumption_MWh</th>\n",
       "    </tr>\n",
       "  </thead>\n",
       "  <tbody>\n",
       "    <tr>\n",
       "      <th>0</th>\n",
       "      <td>2022-10-15 16:00:00</td>\n",
       "      <td>36626.13</td>\n",
       "    </tr>\n",
       "    <tr>\n",
       "      <th>1</th>\n",
       "      <td>2022-10-15 17:00:00</td>\n",
       "      <td>35781.60</td>\n",
       "    </tr>\n",
       "    <tr>\n",
       "      <th>2</th>\n",
       "      <td>2022-10-15 18:00:00</td>\n",
       "      <td>35326.54</td>\n",
       "    </tr>\n",
       "    <tr>\n",
       "      <th>3</th>\n",
       "      <td>2022-10-15 19:00:00</td>\n",
       "      <td>35455.95</td>\n",
       "    </tr>\n",
       "    <tr>\n",
       "      <th>4</th>\n",
       "      <td>2022-10-15 20:00:00</td>\n",
       "      <td>36296.82</td>\n",
       "    </tr>\n",
       "    <tr>\n",
       "      <th>...</th>\n",
       "      <td>...</td>\n",
       "      <td>...</td>\n",
       "    </tr>\n",
       "    <tr>\n",
       "      <th>12283</th>\n",
       "      <td>2023-11-06 19:00:00</td>\n",
       "      <td>37942.64</td>\n",
       "    </tr>\n",
       "    <tr>\n",
       "      <th>12284</th>\n",
       "      <td>2023-11-06 20:00:00</td>\n",
       "      <td>36946.90</td>\n",
       "    </tr>\n",
       "    <tr>\n",
       "      <th>12285</th>\n",
       "      <td>2023-11-06 21:00:00</td>\n",
       "      <td>35721.14</td>\n",
       "    </tr>\n",
       "    <tr>\n",
       "      <th>12286</th>\n",
       "      <td>2023-11-06 22:00:00</td>\n",
       "      <td>33987.09</td>\n",
       "    </tr>\n",
       "    <tr>\n",
       "      <th>12287</th>\n",
       "      <td>2023-11-06 23:00:00</td>\n",
       "      <td>32120.51</td>\n",
       "    </tr>\n",
       "  </tbody>\n",
       "</table>\n",
       "<p>39936 rows × 2 columns</p>\n",
       "</div>"
      ],
      "text/plain": [
       "                     time  consumption_MWh\n",
       "0     2022-10-15 16:00:00         36626.13\n",
       "1     2022-10-15 17:00:00         35781.60\n",
       "2     2022-10-15 18:00:00         35326.54\n",
       "3     2022-10-15 19:00:00         35455.95\n",
       "4     2022-10-15 20:00:00         36296.82\n",
       "...                   ...              ...\n",
       "12283 2023-11-06 19:00:00         37942.64\n",
       "12284 2023-11-06 20:00:00         36946.90\n",
       "12285 2023-11-06 21:00:00         35721.14\n",
       "12286 2023-11-06 22:00:00         33987.09\n",
       "12287 2023-11-06 23:00:00         32120.51\n",
       "\n",
       "[39936 rows x 2 columns]"
      ]
     },
     "execution_count": 50,
     "metadata": {},
     "output_type": "execute_result"
    }
   ],
   "source": [
    "df_test"
   ]
  },
  {
   "cell_type": "code",
   "execution_count": 51,
   "id": "26d2fa23-50d0-4933-8301-86047279f13c",
   "metadata": {},
   "outputs": [
    {
     "data": {
      "image/png": "[encoded data removed]",
      "text/plain": [
       "<Figure size 640x480 with 1 Axes>"
      ]
     },
     "metadata": {},
     "output_type": "display_data"
    }
   ],
   "source": [
    "# Predicted vs. actual plot, hourly, entire test period\n",
    "_ = sns.lineplot(\n",
    "    data = df_test,\n",
    "    x = \"time\",\n",
    "    y = \"consumption_MWh\",\n",
    "    label = \"Actual values\"\n",
    ")\n",
    "\n",
    "_ = sns.lineplot(\n",
    "    data = df_preds,\n",
    "    x = \"time\",\n",
    "    y = \"pred_point\",\n",
    "    label = \"Predictions\"\n",
    ")\n",
    "\n",
    "_ = plt.fill_between(\n",
    "    x = df_preds.time,\n",
    "    y1 = df_preds.pred_low,\n",
    "    y2 = df_preds.pred_high,\n",
    "    label = \"95% prediction interval\",\n",
    "    color = \"orange\",\n",
    "    alpha = 0.4\n",
    ")"
   ]
  },
  {
   "cell_type": "code",
   "execution_count": 52,
   "id": "de114a52-3a39-46a2-9902-d31b1f522c0c",
   "metadata": {
    "jupyter": {
     "source_hidden": true
    }
   },
   "outputs": [],
   "source": [
    "def plot_sequence_preds(preds, source_sequences, target_sequences, sequence_index = 0):\n",
    "\n",
    "    # Get n. of sequences\n",
    "    n_sequences = len(target_sequences)\n",
    "    \n",
    "    # Get predictions for selected sequence\n",
    "    preds_low = preds[sequence_index, :, 0]\n",
    "    preds_point = preds[sequence_index, :, 1]\n",
    "    preds_high = preds[sequence_index, :, 2]\n",
    "\n",
    "    # Get & combine actual targets, sources, dates\n",
    "    date_target = target_sequences[sequence_index].index.to_series()\n",
    "    target = target_sequences[sequence_index].consumption_MWh.values\n",
    "    \n",
    "    date_source = source_sequences[sequence_index].index.to_series()\n",
    "    source = source_sequences[sequence_index].consumption_lag2.values\n",
    "\n",
    "    date = pd.concat([date_source, date_target], axis = 0)\n",
    "    actual = np.concatenate([source, target], axis = 0)\n",
    "\n",
    "    # Plot\n",
    "    _ = sns.lineplot(\n",
    "        x = date,\n",
    "        y = actual,\n",
    "        label = \"Actual values\"\n",
    "    )\n",
    "\n",
    "    _ = sns.lineplot(\n",
    "        x = date_target,\n",
    "        y = preds_point,\n",
    "        label = \"Predictions\"\n",
    "    )\n",
    "    \n",
    "    _ = plt.fill_between(\n",
    "        x = date_target,\n",
    "        y1 = preds_low,\n",
    "        y2 = preds_high,\n",
    "        color = \"orange\",\n",
    "        alpha = 0.4\n",
    "    )\n",
    "\n",
    "    _ = plt.title(f\"Actual vs. predicted, 95% prediction interval, sequence index: {sequence_index} of {n_sequences - 1}\")\n",
    "    _ = plt.xlabel(\"time\")\n",
    "    _ = plt.ylabel(\"consumption\")"
   ]
  },
  {
   "cell_type": "code",
   "execution_count": 53,
   "id": "25bc5993-8e19-48f9-b1d6-db9f1c66b28a",
   "metadata": {},
   "outputs": [
    {
     "data": {
      "image/png": "[encoded data removed]",
      "text/plain": [
       "<Figure size 640x480 with 1 Axes>"
      ]
     },
     "metadata": {},
     "output_type": "display_data"
    },
    {
     "data": {
      "image/png": "[encoded data removed]",
      "text/plain": [
       "<Figure size 640x480 with 1 Axes>"
      ]
     },
     "metadata": {},
     "output_type": "display_data"
    },
    {
     "data": {
      "image/png": "[encoded data removed]",
      "text/plain": [
       "<Figure size 640x480 with 1 Axes>"
      ]
     },
     "metadata": {},
     "output_type": "display_data"
    },
    {
     "data": {
      "image/png": "[encoded data removed]",
      "text/plain": [
       "<Figure size 640x480 with 1 Axes>"
      ]
     },
     "metadata": {},
     "output_type": "display_data"
    },
    {
     "data": {
      "image/png": "[encoded data removed]",
      "text/plain": [
       "<Figure size 640x480 with 1 Axes>"
      ]
     },
     "metadata": {},
     "output_type": "display_data"
    }
   ],
   "source": [
    "# Predicted vs. actual plots, zoomed in\n",
    "indices = [i for i in range(0, len(test_target), len(test_target) // 4)]\n",
    "indices.append(len(test_target) - 1)\n",
    "for idx in indices:\n",
    "    plt.figure()\n",
    "    plot_sequence_preds(preds, test_source, test_target, sequence_index = idx)"
   ]
  },
  {
   "cell_type": "code",
   "execution_count": 54,
   "id": "1cf7b372-0c26-41f5-a27b-b080727bc869",
   "metadata": {},
   "outputs": [
    {
     "data": {
      "text/html": [
       "<div>\n",
       "<style scoped>\n",
       "    .dataframe tbody tr th:only-of-type {\n",
       "        vertical-align: middle;\n",
       "    }\n",
       "\n",
       "    .dataframe tbody tr th {\n",
       "        vertical-align: top;\n",
       "    }\n",
       "\n",
       "    .dataframe thead th {\n",
       "        text-align: right;\n",
       "    }\n",
       "</style>\n",
       "<table border=\"1\" class=\"dataframe\">\n",
       "  <thead>\n",
       "    <tr style=\"text-align: right;\">\n",
       "      <th></th>\n",
       "      <th>Model: Inverted quantile Transformer</th>\n",
       "    </tr>\n",
       "  </thead>\n",
       "  <tbody>\n",
       "    <tr>\n",
       "      <th>MAPE, point</th>\n",
       "      <td>0.0347</td>\n",
       "    </tr>\n",
       "    <tr>\n",
       "      <th>RMSLE, point</th>\n",
       "      <td>0.0506</td>\n",
       "    </tr>\n",
       "    <tr>\n",
       "      <th>MAE, point</th>\n",
       "      <td>1265.8440</td>\n",
       "    </tr>\n",
       "    <tr>\n",
       "      <th>Pinball loss, q: 2.5%</th>\n",
       "      <td>584.0679</td>\n",
       "    </tr>\n",
       "    <tr>\n",
       "      <th>Pinball loss, q: 50.0%</th>\n",
       "      <td>632.9220</td>\n",
       "    </tr>\n",
       "    <tr>\n",
       "      <th>Pinball loss, q: 97.5%</th>\n",
       "      <td>681.7762</td>\n",
       "    </tr>\n",
       "  </tbody>\n",
       "</table>\n",
       "</div>"
      ],
      "text/plain": [
       "                        Model: Inverted quantile Transformer\n",
       "MAPE, point                                           0.0347\n",
       "RMSLE, point                                          0.0506\n",
       "MAE, point                                         1265.8440\n",
       "Pinball loss, q: 2.5%                               584.0679\n",
       "Pinball loss, q: 50.0%                              632.9220\n",
       "Pinball loss, q: 97.5%                              681.7762"
      ]
     },
     "execution_count": 54,
     "metadata": {},
     "output_type": "execute_result"
    }
   ],
   "source": [
    "# Calculate performance metrics: MAE, RMSLE, MAPE, pinball\n",
    "rounding = 4\n",
    "pd.DataFrame([\n",
    "    mape(df_test_target.consumption_MWh, df_preds.pred_point),\n",
    "    rmsle(df_test_target.consumption_MWh, df_preds.pred_point),\n",
    "    mae(df_test_target.consumption_MWh, df_preds.pred_point),\n",
    "    pinball(df_test_target.consumption_MWh, df_preds.pred_point, alpha = quantiles[0]),\n",
    "    pinball(df_test_target.consumption_MWh, df_preds.pred_point, alpha = quantiles[1]),\n",
    "    pinball(df_test_target.consumption_MWh, df_preds.pred_point, alpha = quantiles[-1])\n",
    "], columns = [\"Model: Inverted quantile Transformer\"],\n",
    "index = [ \n",
    "    \"MAPE, point\", \n",
    "    \"RMSLE, point\",\n",
    "    \"MAE, point\",\n",
    "    f\"Pinball loss, q: {quantiles[0] * 100}%\",\n",
    "    f\"Pinball loss, q: {quantiles[1] * 100}%\",\n",
    "    f\"Pinball loss, q: {quantiles[-1] * 100}%\"\n",
    "]).round(rounding)"
   ]
  },
  {
   "cell_type": "markdown",
   "id": "92d58f5e-0e4e-4ead-bc40-23152ccf4885",
   "metadata": {},
   "source": [
    "Keep in mind that for the median quantile, pinball loss equals MAE / 2."
   ]
  }
 ],
 "metadata": {
  "kernelspec": {
   "display_name": "Python 3 (ipykernel)",
   "language": "python",
   "name": "python3"
  },
  "language_info": {
   "codemirror_mode": {
    "name": "ipython",
    "version": 3
   },
   "file_extension": ".py",
   "mimetype": "text/x-python",
   "name": "python",
   "nbconvert_exporter": "python",
   "pygments_lexer": "ipython3",
   "version": "3.12.2"
  }
 },
 "nbformat": 4,
 "nbformat_minor": 5
}
