{
 "cells": [
  {
   "cell_type": "markdown",
   "id": "208f5975-e259-4232-b6e6-9498534a5d56",
   "metadata": {},
   "source": [
    "This notebook applies the same testing scheme in notebooks 4.0 and 4.1 to a linear regression model, using the Darts package."
   ]
  },
  {
   "cell_type": "code",
   "execution_count": 1,
   "id": "b482a333-a36e-49b5-8eac-33b9a2d6aca0",
   "metadata": {},
   "outputs": [
    {
     "name": "stderr",
     "output_type": "stream",
     "text": [
      "C:\\Users\\PC\\Documents\\WorkLocal\\DataScience\\GitHub\\DeepLearningEnergyForecasting\\venv\\Lib\\site-packages\\statsforecast\\core.py:26: TqdmWarning: IProgress not found. Please update jupyter and ipywidgets. See https://ipywidgets.readthedocs.io/en/stable/user_install.html\n",
      "  from tqdm.autonotebook import tqdm\n",
      "C:\\Users\\PC\\Documents\\WorkLocal\\DataScience\\GitHub\\DeepLearningEnergyForecasting\\venv\\Lib\\site-packages\\statsforecast\\utils.py:237: FutureWarning: 'M' is deprecated and will be removed in a future version, please use 'ME' instead.\n",
      "  \"ds\": pd.date_range(start=\"1949-01-01\", periods=len(AirPassengers), freq=\"M\"),\n"
     ]
    }
   ],
   "source": [
    "import pandas as pd\n",
    "import numpy as np\n",
    "import matplotlib.pyplot as plt\n",
    "import seaborn as sns\n",
    "\n",
    "from darts.timeseries import TimeSeries\n",
    "from darts.dataprocessing.transformers.scaler import Scaler\n",
    "from darts.models.forecasting.linear_regression_model import LinearRegressionModel\n",
    "from darts.metrics.metrics import mae, mape, rmsle, quantile_loss\n",
    "from sklearn.preprocessing import MinMaxScaler"
   ]
  },
  {
   "cell_type": "code",
   "execution_count": 2,
   "id": "43463ea9-aa31-4c2f-b5ce-cf9148940d24",
   "metadata": {},
   "outputs": [],
   "source": [
    "random_state = 1923"
   ]
  },
  {
   "cell_type": "code",
   "execution_count": 3,
   "id": "d4cf679e-3da6-412d-bd41-152d0bb7d4ef",
   "metadata": {},
   "outputs": [],
   "source": [
    "# Plot settings\n",
    "plt.rcParams[\"figure.autolayout\"] = True\n",
    "plt.rcParams['figure.dpi'] = 100\n",
    "sns.set_style(\"darkgrid\")"
   ]
  },
  {
   "cell_type": "code",
   "execution_count": 4,
   "id": "063a17de-6e00-46da-a536-695abdcb1018",
   "metadata": {},
   "outputs": [],
   "source": [
    "output_dir = \"./OutputData/\""
   ]
  },
  {
   "cell_type": "code",
   "execution_count": 5,
   "id": "ca111ab3-e844-4cc0-8cc0-396d3908b908",
   "metadata": {},
   "outputs": [],
   "source": [
    "df = pd.read_csv(output_dir + \"train_data.csv\")\n",
    "df[\"time\"] = pd.to_datetime(df[\"time\"])"
   ]
  },
  {
   "cell_type": "code",
   "execution_count": 6,
   "id": "09b03df3-d698-4f00-83da-ab26a0ce2f51",
   "metadata": {},
   "outputs": [
    {
     "data": {
      "text/html": [
       "<div>\n",
       "<style scoped>\n",
       "    .dataframe tbody tr th:only-of-type {\n",
       "        vertical-align: middle;\n",
       "    }\n",
       "\n",
       "    .dataframe tbody tr th {\n",
       "        vertical-align: top;\n",
       "    }\n",
       "\n",
       "    .dataframe thead th {\n",
       "        text-align: right;\n",
       "    }\n",
       "</style>\n",
       "<table border=\"1\" class=\"dataframe\">\n",
       "  <thead>\n",
       "    <tr style=\"text-align: right;\">\n",
       "      <th></th>\n",
       "      <th>time</th>\n",
       "      <th>consumption_MWh</th>\n",
       "      <th>consumption_lag2</th>\n",
       "      <th>trend</th>\n",
       "      <th>hour_sin</th>\n",
       "      <th>hour_cos</th>\n",
       "      <th>day_sin</th>\n",
       "      <th>day_cos</th>\n",
       "      <th>month_sin</th>\n",
       "      <th>month_cos</th>\n",
       "    </tr>\n",
       "  </thead>\n",
       "  <tbody>\n",
       "    <tr>\n",
       "      <th>0</th>\n",
       "      <td>2018-01-01 02:00:00</td>\n",
       "      <td>24635.32</td>\n",
       "      <td>27412.81</td>\n",
       "      <td>2</td>\n",
       "      <td>7.071068e-01</td>\n",
       "      <td>7.071068e-01</td>\n",
       "      <td>7.818315e-01</td>\n",
       "      <td>0.62349</td>\n",
       "      <td>5.000000e-01</td>\n",
       "      <td>0.866025</td>\n",
       "    </tr>\n",
       "    <tr>\n",
       "      <th>1</th>\n",
       "      <td>2018-01-01 03:00:00</td>\n",
       "      <td>23872.12</td>\n",
       "      <td>26324.39</td>\n",
       "      <td>3</td>\n",
       "      <td>8.660254e-01</td>\n",
       "      <td>5.000000e-01</td>\n",
       "      <td>7.818315e-01</td>\n",
       "      <td>0.62349</td>\n",
       "      <td>5.000000e-01</td>\n",
       "      <td>0.866025</td>\n",
       "    </tr>\n",
       "    <tr>\n",
       "      <th>2</th>\n",
       "      <td>2018-01-01 04:00:00</td>\n",
       "      <td>23194.89</td>\n",
       "      <td>24635.32</td>\n",
       "      <td>4</td>\n",
       "      <td>9.659258e-01</td>\n",
       "      <td>2.588190e-01</td>\n",
       "      <td>7.818315e-01</td>\n",
       "      <td>0.62349</td>\n",
       "      <td>5.000000e-01</td>\n",
       "      <td>0.866025</td>\n",
       "    </tr>\n",
       "    <tr>\n",
       "      <th>3</th>\n",
       "      <td>2018-01-01 05:00:00</td>\n",
       "      <td>23071.96</td>\n",
       "      <td>23872.12</td>\n",
       "      <td>5</td>\n",
       "      <td>1.000000e+00</td>\n",
       "      <td>6.123234e-17</td>\n",
       "      <td>7.818315e-01</td>\n",
       "      <td>0.62349</td>\n",
       "      <td>5.000000e-01</td>\n",
       "      <td>0.866025</td>\n",
       "    </tr>\n",
       "    <tr>\n",
       "      <th>4</th>\n",
       "      <td>2018-01-01 06:00:00</td>\n",
       "      <td>23267.90</td>\n",
       "      <td>23194.89</td>\n",
       "      <td>6</td>\n",
       "      <td>9.659258e-01</td>\n",
       "      <td>-2.588190e-01</td>\n",
       "      <td>7.818315e-01</td>\n",
       "      <td>0.62349</td>\n",
       "      <td>5.000000e-01</td>\n",
       "      <td>0.866025</td>\n",
       "    </tr>\n",
       "    <tr>\n",
       "      <th>...</th>\n",
       "      <td>...</td>\n",
       "      <td>...</td>\n",
       "      <td>...</td>\n",
       "      <td>...</td>\n",
       "      <td>...</td>\n",
       "      <td>...</td>\n",
       "      <td>...</td>\n",
       "      <td>...</td>\n",
       "      <td>...</td>\n",
       "      <td>...</td>\n",
       "    </tr>\n",
       "    <tr>\n",
       "      <th>52577</th>\n",
       "      <td>2023-12-31 19:00:00</td>\n",
       "      <td>35090.93</td>\n",
       "      <td>34549.42</td>\n",
       "      <td>52579</td>\n",
       "      <td>-8.660254e-01</td>\n",
       "      <td>5.000000e-01</td>\n",
       "      <td>-2.449294e-16</td>\n",
       "      <td>1.00000</td>\n",
       "      <td>-2.449294e-16</td>\n",
       "      <td>1.000000</td>\n",
       "    </tr>\n",
       "    <tr>\n",
       "      <th>52578</th>\n",
       "      <td>2023-12-31 20:00:00</td>\n",
       "      <td>33310.94</td>\n",
       "      <td>36193.59</td>\n",
       "      <td>52580</td>\n",
       "      <td>-7.071068e-01</td>\n",
       "      <td>7.071068e-01</td>\n",
       "      <td>-2.449294e-16</td>\n",
       "      <td>1.00000</td>\n",
       "      <td>-2.449294e-16</td>\n",
       "      <td>1.000000</td>\n",
       "    </tr>\n",
       "    <tr>\n",
       "      <th>52579</th>\n",
       "      <td>2023-12-31 21:00:00</td>\n",
       "      <td>32083.96</td>\n",
       "      <td>35090.93</td>\n",
       "      <td>52581</td>\n",
       "      <td>-5.000000e-01</td>\n",
       "      <td>8.660254e-01</td>\n",
       "      <td>-2.449294e-16</td>\n",
       "      <td>1.00000</td>\n",
       "      <td>-2.449294e-16</td>\n",
       "      <td>1.000000</td>\n",
       "    </tr>\n",
       "    <tr>\n",
       "      <th>52580</th>\n",
       "      <td>2023-12-31 22:00:00</td>\n",
       "      <td>30469.49</td>\n",
       "      <td>33310.94</td>\n",
       "      <td>52582</td>\n",
       "      <td>-2.588190e-01</td>\n",
       "      <td>9.659258e-01</td>\n",
       "      <td>-2.449294e-16</td>\n",
       "      <td>1.00000</td>\n",
       "      <td>-2.449294e-16</td>\n",
       "      <td>1.000000</td>\n",
       "    </tr>\n",
       "    <tr>\n",
       "      <th>52581</th>\n",
       "      <td>2023-12-31 23:00:00</td>\n",
       "      <td>30029.91</td>\n",
       "      <td>32083.96</td>\n",
       "      <td>52583</td>\n",
       "      <td>-2.449294e-16</td>\n",
       "      <td>1.000000e+00</td>\n",
       "      <td>-2.449294e-16</td>\n",
       "      <td>1.00000</td>\n",
       "      <td>-2.449294e-16</td>\n",
       "      <td>1.000000</td>\n",
       "    </tr>\n",
       "  </tbody>\n",
       "</table>\n",
       "<p>52582 rows × 10 columns</p>\n",
       "</div>"
      ],
      "text/plain": [
       "                     time  consumption_MWh  consumption_lag2  trend  \\\n",
       "0     2018-01-01 02:00:00         24635.32          27412.81      2   \n",
       "1     2018-01-01 03:00:00         23872.12          26324.39      3   \n",
       "2     2018-01-01 04:00:00         23194.89          24635.32      4   \n",
       "3     2018-01-01 05:00:00         23071.96          23872.12      5   \n",
       "4     2018-01-01 06:00:00         23267.90          23194.89      6   \n",
       "...                   ...              ...               ...    ...   \n",
       "52577 2023-12-31 19:00:00         35090.93          34549.42  52579   \n",
       "52578 2023-12-31 20:00:00         33310.94          36193.59  52580   \n",
       "52579 2023-12-31 21:00:00         32083.96          35090.93  52581   \n",
       "52580 2023-12-31 22:00:00         30469.49          33310.94  52582   \n",
       "52581 2023-12-31 23:00:00         30029.91          32083.96  52583   \n",
       "\n",
       "           hour_sin      hour_cos       day_sin  day_cos     month_sin  \\\n",
       "0      7.071068e-01  7.071068e-01  7.818315e-01  0.62349  5.000000e-01   \n",
       "1      8.660254e-01  5.000000e-01  7.818315e-01  0.62349  5.000000e-01   \n",
       "2      9.659258e-01  2.588190e-01  7.818315e-01  0.62349  5.000000e-01   \n",
       "3      1.000000e+00  6.123234e-17  7.818315e-01  0.62349  5.000000e-01   \n",
       "4      9.659258e-01 -2.588190e-01  7.818315e-01  0.62349  5.000000e-01   \n",
       "...             ...           ...           ...      ...           ...   \n",
       "52577 -8.660254e-01  5.000000e-01 -2.449294e-16  1.00000 -2.449294e-16   \n",
       "52578 -7.071068e-01  7.071068e-01 -2.449294e-16  1.00000 -2.449294e-16   \n",
       "52579 -5.000000e-01  8.660254e-01 -2.449294e-16  1.00000 -2.449294e-16   \n",
       "52580 -2.588190e-01  9.659258e-01 -2.449294e-16  1.00000 -2.449294e-16   \n",
       "52581 -2.449294e-16  1.000000e+00 -2.449294e-16  1.00000 -2.449294e-16   \n",
       "\n",
       "       month_cos  \n",
       "0       0.866025  \n",
       "1       0.866025  \n",
       "2       0.866025  \n",
       "3       0.866025  \n",
       "4       0.866025  \n",
       "...          ...  \n",
       "52577   1.000000  \n",
       "52578   1.000000  \n",
       "52579   1.000000  \n",
       "52580   1.000000  \n",
       "52581   1.000000  \n",
       "\n",
       "[52582 rows x 10 columns]"
      ]
     },
     "execution_count": 6,
     "metadata": {},
     "output_type": "execute_result"
    }
   ],
   "source": [
    "df"
   ]
  },
  {
   "cell_type": "code",
   "execution_count": 7,
   "id": "2d735a83-5b22-415e-bf9c-75b696163a3d",
   "metadata": {},
   "outputs": [],
   "source": [
    "# Target series\n",
    "ts_target = TimeSeries.from_dataframe(df, time_col = \"time\", value_cols = \"consumption_MWh\")\n",
    "\n",
    "# Future known covariates\n",
    "ts_covariates = TimeSeries.from_dataframe(df, time_col = \"time\", value_cols = df.columns.values[3:])"
   ]
  },
  {
   "cell_type": "code",
   "execution_count": 8,
   "id": "294f1880-3d17-4138-a6de-503a4f9c8c18",
   "metadata": {},
   "outputs": [],
   "source": [
    "# Match the sequence2sequence testing scheme\n",
    "output_length = 32 # Prediction window\n",
    "first_t = pd.Timestamp('2022-10-18 16:00:00') # First prediction point\n",
    "stride = 24 # Number of points before each prediction point\n",
    "quantiles = [0.025, 0.5, 0.975]"
   ]
  },
  {
   "cell_type": "code",
   "execution_count": 9,
   "id": "e30986c6-c1d1-46fb-bdce-6da10915bde6",
   "metadata": {},
   "outputs": [
    {
     "data": {
      "text/plain": [
       "DatetimeIndex(['2022-10-18 16:00:00'], dtype='datetime64[ns]', name='time', freq='h')"
      ]
     },
     "execution_count": 9,
     "metadata": {},
     "output_type": "execute_result"
    }
   ],
   "source": [
    "# Check first prediction point\n",
    "ts_target[first_t].time_index"
   ]
  },
  {
   "cell_type": "code",
   "execution_count": 10,
   "id": "3eb16acb-c73d-4f2f-90dd-e588af05c7ae",
   "metadata": {},
   "outputs": [],
   "source": [
    "# Create scaler\n",
    "scaler = Scaler(MinMaxScaler(feature_range = (-1, 1)))"
   ]
  },
  {
   "cell_type": "code",
   "execution_count": 11,
   "id": "305aeadc-325d-41e6-aeb6-3b94bdafca19",
   "metadata": {},
   "outputs": [],
   "source": [
    "# Create model\n",
    "model = LinearRegressionModel(\n",
    "    lags = 2,\n",
    "    lags_future_covariates = [0],\n",
    "    output_chunk_length = output_length,\n",
    "    likelihood = \"quantile\",\n",
    "    quantiles = quantiles,\n",
    "    alpha = 0, # No regularization in QuantileRegressor\n",
    "    random_state = random_state,\n",
    "    add_encoders = {\n",
    "        \"transformer\": scaler\n",
    "    }\n",
    ")"
   ]
  },
  {
   "cell_type": "code",
   "execution_count": null,
   "id": "9978aeba-6600-4c0d-a77f-99c43d6de966",
   "metadata": {},
   "outputs": [
    {
     "name": "stderr",
     "output_type": "stream",
     "text": [
      "`enable_optimization=True` is ignored because `retrain` is not `False` or `0`.To hide this warning, set `show_warnings=False` or `enable_optimization=False`.\n"
     ]
    }
   ],
   "source": [
    "# Perform backtesting\n",
    "ts_hist = model.historical_forecasts(\n",
    "    ts_target,\n",
    "    future_covariates = ts_covariates,\n",
    "    start = first_t,\n",
    "    forecast_horizon = output_length,\n",
    "    stride = stride,\n",
    "    retrain = True,\n",
    "    last_points_only = False\n",
    ")"
   ]
  },
  {
   "cell_type": "markdown",
   "id": "185a2a33-219c-48af-b5bd-b95156e9e2ca",
   "metadata": {},
   "source": [
    "Takes longer than 1 hour to run with retraining at each evaluation step."
   ]
  }
 ],
 "metadata": {
  "kernelspec": {
   "display_name": "Python 3 (ipykernel)",
   "language": "python",
   "name": "python3"
  },
  "language_info": {
   "codemirror_mode": {
    "name": "ipython",
    "version": 3
   },
   "file_extension": ".py",
   "mimetype": "text/x-python",
   "name": "python",
   "nbconvert_exporter": "python",
   "pygments_lexer": "ipython3",
   "version": "3.12.2"
  }
 },
 "nbformat": 4,
 "nbformat_minor": 5
}
