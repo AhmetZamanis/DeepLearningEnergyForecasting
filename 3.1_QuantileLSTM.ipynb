{
 "cells": [
  {
   "cell_type": "code",
   "execution_count": 1,
   "id": "b6ef11cc-56ac-42e0-98bc-d8e5baa08288",
   "metadata": {},
   "outputs": [
    {
     "name": "stderr",
     "output_type": "stream",
     "text": [
      "C:\\Users\\PC\\Documents\\WorkLocal\\DataScience\\GitHub\\DeepLearningEnergyForecasting\\venv\\Lib\\site-packages\\tqdm\\auto.py:21: TqdmWarning: IProgress not found. Please update jupyter and ipywidgets. See https://ipywidgets.readthedocs.io/en/stable/user_install.html\n",
      "  from .autonotebook import tqdm as notebook_tqdm\n"
     ]
    }
   ],
   "source": [
    "import pandas as pd\n",
    "import numpy as np\n",
    "import matplotlib.pyplot as plt\n",
    "import seaborn as sns\n",
    "import torch\n",
    "import lightning as L\n",
    "import optuna\n",
    "import warnings\n",
    "\n",
    "from lightning.pytorch.callbacks import Callback\n",
    "#from pytorch_forecasting.metrics.quantile import QuantileLoss\n",
    "from optuna.integration import PyTorchLightningPruningCallback"
   ]
  },
  {
   "cell_type": "code",
   "execution_count": 2,
   "id": "cbb5262f-36ee-4d06-9457-771df657d8ab",
   "metadata": {},
   "outputs": [],
   "source": [
    "random_seed = 1923"
   ]
  },
  {
   "cell_type": "code",
   "execution_count": 3,
   "id": "f0b59f93-6e6e-4fdb-8a8b-53a7551ba5b7",
   "metadata": {},
   "outputs": [
    {
     "name": "stderr",
     "output_type": "stream",
     "text": [
      "Seed set to 1923\n"
     ]
    }
   ],
   "source": [
    "# Set Torch settings\n",
    "torch.set_default_dtype(torch.float32)\n",
    "torch.set_float32_matmul_precision('medium')\n",
    "L.seed_everything(random_seed, workers = True)\n",
    "warnings.filterwarnings(\"ignore\", \".*does not have many workers.*\")"
   ]
  },
  {
   "cell_type": "code",
   "execution_count": 4,
   "id": "4f04ab1c-13d2-43b0-9fef-de865238c890",
   "metadata": {},
   "outputs": [],
   "source": [
    "# Plot settings\n",
    "plt.rcParams[\"figure.autolayout\"] = True\n",
    "plt.rcParams['figure.dpi'] = 100\n",
    "sns.set_style(\"darkgrid\")"
   ]
  },
  {
   "cell_type": "code",
   "execution_count": 5,
   "id": "759916b7-9291-4bdd-b0f8-14eabca92e50",
   "metadata": {},
   "outputs": [],
   "source": [
    "output_dir = \"./OutputData/\""
   ]
  },
  {
   "cell_type": "code",
   "execution_count": 6,
   "id": "3595e22d-ad5e-4523-be32-1e0f06c7917b",
   "metadata": {},
   "outputs": [],
   "source": [
    "df = pd.read_csv(output_dir + \"train_data.csv\")\n",
    "df[\"time\"] = pd.to_datetime(df[\"time\"])"
   ]
  },
  {
   "cell_type": "code",
   "execution_count": 7,
   "id": "57ab82ca-f92d-4c00-9b57-aff3d00637fb",
   "metadata": {},
   "outputs": [
    {
     "data": {
      "text/html": [
       "<div>\n",
       "<style scoped>\n",
       "    .dataframe tbody tr th:only-of-type {\n",
       "        vertical-align: middle;\n",
       "    }\n",
       "\n",
       "    .dataframe tbody tr th {\n",
       "        vertical-align: top;\n",
       "    }\n",
       "\n",
       "    .dataframe thead th {\n",
       "        text-align: right;\n",
       "    }\n",
       "</style>\n",
       "<table border=\"1\" class=\"dataframe\">\n",
       "  <thead>\n",
       "    <tr style=\"text-align: right;\">\n",
       "      <th></th>\n",
       "      <th>time</th>\n",
       "      <th>consumption_MWh</th>\n",
       "      <th>consumption_lag2</th>\n",
       "      <th>trend</th>\n",
       "      <th>hour_sin</th>\n",
       "      <th>hour_cos</th>\n",
       "      <th>day_sin</th>\n",
       "      <th>day_cos</th>\n",
       "      <th>month_sin</th>\n",
       "      <th>month_cos</th>\n",
       "    </tr>\n",
       "  </thead>\n",
       "  <tbody>\n",
       "    <tr>\n",
       "      <th>0</th>\n",
       "      <td>2018-01-01 02:00:00</td>\n",
       "      <td>24635.32</td>\n",
       "      <td>27412.81</td>\n",
       "      <td>2</td>\n",
       "      <td>7.071068e-01</td>\n",
       "      <td>7.071068e-01</td>\n",
       "      <td>7.818315e-01</td>\n",
       "      <td>0.62349</td>\n",
       "      <td>5.000000e-01</td>\n",
       "      <td>0.866025</td>\n",
       "    </tr>\n",
       "    <tr>\n",
       "      <th>1</th>\n",
       "      <td>2018-01-01 03:00:00</td>\n",
       "      <td>23872.12</td>\n",
       "      <td>26324.39</td>\n",
       "      <td>3</td>\n",
       "      <td>8.660254e-01</td>\n",
       "      <td>5.000000e-01</td>\n",
       "      <td>7.818315e-01</td>\n",
       "      <td>0.62349</td>\n",
       "      <td>5.000000e-01</td>\n",
       "      <td>0.866025</td>\n",
       "    </tr>\n",
       "    <tr>\n",
       "      <th>2</th>\n",
       "      <td>2018-01-01 04:00:00</td>\n",
       "      <td>23194.89</td>\n",
       "      <td>24635.32</td>\n",
       "      <td>4</td>\n",
       "      <td>9.659258e-01</td>\n",
       "      <td>2.588190e-01</td>\n",
       "      <td>7.818315e-01</td>\n",
       "      <td>0.62349</td>\n",
       "      <td>5.000000e-01</td>\n",
       "      <td>0.866025</td>\n",
       "    </tr>\n",
       "    <tr>\n",
       "      <th>3</th>\n",
       "      <td>2018-01-01 05:00:00</td>\n",
       "      <td>23071.96</td>\n",
       "      <td>23872.12</td>\n",
       "      <td>5</td>\n",
       "      <td>1.000000e+00</td>\n",
       "      <td>6.123234e-17</td>\n",
       "      <td>7.818315e-01</td>\n",
       "      <td>0.62349</td>\n",
       "      <td>5.000000e-01</td>\n",
       "      <td>0.866025</td>\n",
       "    </tr>\n",
       "    <tr>\n",
       "      <th>4</th>\n",
       "      <td>2018-01-01 06:00:00</td>\n",
       "      <td>23267.90</td>\n",
       "      <td>23194.89</td>\n",
       "      <td>6</td>\n",
       "      <td>9.659258e-01</td>\n",
       "      <td>-2.588190e-01</td>\n",
       "      <td>7.818315e-01</td>\n",
       "      <td>0.62349</td>\n",
       "      <td>5.000000e-01</td>\n",
       "      <td>0.866025</td>\n",
       "    </tr>\n",
       "    <tr>\n",
       "      <th>...</th>\n",
       "      <td>...</td>\n",
       "      <td>...</td>\n",
       "      <td>...</td>\n",
       "      <td>...</td>\n",
       "      <td>...</td>\n",
       "      <td>...</td>\n",
       "      <td>...</td>\n",
       "      <td>...</td>\n",
       "      <td>...</td>\n",
       "      <td>...</td>\n",
       "    </tr>\n",
       "    <tr>\n",
       "      <th>52577</th>\n",
       "      <td>2023-12-31 19:00:00</td>\n",
       "      <td>35090.93</td>\n",
       "      <td>34549.42</td>\n",
       "      <td>52579</td>\n",
       "      <td>-8.660254e-01</td>\n",
       "      <td>5.000000e-01</td>\n",
       "      <td>-2.449294e-16</td>\n",
       "      <td>1.00000</td>\n",
       "      <td>-2.449294e-16</td>\n",
       "      <td>1.000000</td>\n",
       "    </tr>\n",
       "    <tr>\n",
       "      <th>52578</th>\n",
       "      <td>2023-12-31 20:00:00</td>\n",
       "      <td>33310.94</td>\n",
       "      <td>36193.59</td>\n",
       "      <td>52580</td>\n",
       "      <td>-7.071068e-01</td>\n",
       "      <td>7.071068e-01</td>\n",
       "      <td>-2.449294e-16</td>\n",
       "      <td>1.00000</td>\n",
       "      <td>-2.449294e-16</td>\n",
       "      <td>1.000000</td>\n",
       "    </tr>\n",
       "    <tr>\n",
       "      <th>52579</th>\n",
       "      <td>2023-12-31 21:00:00</td>\n",
       "      <td>32083.96</td>\n",
       "      <td>35090.93</td>\n",
       "      <td>52581</td>\n",
       "      <td>-5.000000e-01</td>\n",
       "      <td>8.660254e-01</td>\n",
       "      <td>-2.449294e-16</td>\n",
       "      <td>1.00000</td>\n",
       "      <td>-2.449294e-16</td>\n",
       "      <td>1.000000</td>\n",
       "    </tr>\n",
       "    <tr>\n",
       "      <th>52580</th>\n",
       "      <td>2023-12-31 22:00:00</td>\n",
       "      <td>30469.49</td>\n",
       "      <td>33310.94</td>\n",
       "      <td>52582</td>\n",
       "      <td>-2.588190e-01</td>\n",
       "      <td>9.659258e-01</td>\n",
       "      <td>-2.449294e-16</td>\n",
       "      <td>1.00000</td>\n",
       "      <td>-2.449294e-16</td>\n",
       "      <td>1.000000</td>\n",
       "    </tr>\n",
       "    <tr>\n",
       "      <th>52581</th>\n",
       "      <td>2023-12-31 23:00:00</td>\n",
       "      <td>30029.91</td>\n",
       "      <td>32083.96</td>\n",
       "      <td>52583</td>\n",
       "      <td>-2.449294e-16</td>\n",
       "      <td>1.000000e+00</td>\n",
       "      <td>-2.449294e-16</td>\n",
       "      <td>1.00000</td>\n",
       "      <td>-2.449294e-16</td>\n",
       "      <td>1.000000</td>\n",
       "    </tr>\n",
       "  </tbody>\n",
       "</table>\n",
       "<p>52582 rows × 10 columns</p>\n",
       "</div>"
      ],
      "text/plain": [
       "                     time  consumption_MWh  consumption_lag2  trend  \\\n",
       "0     2018-01-01 02:00:00         24635.32          27412.81      2   \n",
       "1     2018-01-01 03:00:00         23872.12          26324.39      3   \n",
       "2     2018-01-01 04:00:00         23194.89          24635.32      4   \n",
       "3     2018-01-01 05:00:00         23071.96          23872.12      5   \n",
       "4     2018-01-01 06:00:00         23267.90          23194.89      6   \n",
       "...                   ...              ...               ...    ...   \n",
       "52577 2023-12-31 19:00:00         35090.93          34549.42  52579   \n",
       "52578 2023-12-31 20:00:00         33310.94          36193.59  52580   \n",
       "52579 2023-12-31 21:00:00         32083.96          35090.93  52581   \n",
       "52580 2023-12-31 22:00:00         30469.49          33310.94  52582   \n",
       "52581 2023-12-31 23:00:00         30029.91          32083.96  52583   \n",
       "\n",
       "           hour_sin      hour_cos       day_sin  day_cos     month_sin  \\\n",
       "0      7.071068e-01  7.071068e-01  7.818315e-01  0.62349  5.000000e-01   \n",
       "1      8.660254e-01  5.000000e-01  7.818315e-01  0.62349  5.000000e-01   \n",
       "2      9.659258e-01  2.588190e-01  7.818315e-01  0.62349  5.000000e-01   \n",
       "3      1.000000e+00  6.123234e-17  7.818315e-01  0.62349  5.000000e-01   \n",
       "4      9.659258e-01 -2.588190e-01  7.818315e-01  0.62349  5.000000e-01   \n",
       "...             ...           ...           ...      ...           ...   \n",
       "52577 -8.660254e-01  5.000000e-01 -2.449294e-16  1.00000 -2.449294e-16   \n",
       "52578 -7.071068e-01  7.071068e-01 -2.449294e-16  1.00000 -2.449294e-16   \n",
       "52579 -5.000000e-01  8.660254e-01 -2.449294e-16  1.00000 -2.449294e-16   \n",
       "52580 -2.588190e-01  9.659258e-01 -2.449294e-16  1.00000 -2.449294e-16   \n",
       "52581 -2.449294e-16  1.000000e+00 -2.449294e-16  1.00000 -2.449294e-16   \n",
       "\n",
       "       month_cos  \n",
       "0       0.866025  \n",
       "1       0.866025  \n",
       "2       0.866025  \n",
       "3       0.866025  \n",
       "4       0.866025  \n",
       "...          ...  \n",
       "52577   1.000000  \n",
       "52578   1.000000  \n",
       "52579   1.000000  \n",
       "52580   1.000000  \n",
       "52581   1.000000  \n",
       "\n",
       "[52582 rows x 10 columns]"
      ]
     },
     "execution_count": 7,
     "metadata": {},
     "output_type": "execute_result"
    }
   ],
   "source": [
    "df"
   ]
  },
  {
   "cell_type": "markdown",
   "id": "13991eef-1a7f-4130-b82b-7ab15df29afe",
   "metadata": {},
   "source": [
    "## Data prep: Getting input & output sequences"
   ]
  },
  {
   "cell_type": "markdown",
   "id": "af0a1558-0aa0-43d1-8f60-248847198b84",
   "metadata": {},
   "source": [
    "We will create a \"shifted dataset\" where each row at time T contains the following columns:\n",
    "- Target value at T (consumption lead T+1),\n",
    "- Past value at T (consumption lag T-2),\n",
    "- Time covariates at T."
   ]
  },
  {
   "cell_type": "code",
   "execution_count": 8,
   "id": "b3c0e34c-d389-40ce-a095-9e155eb9f61f",
   "metadata": {},
   "outputs": [],
   "source": [
    "# Get shifted dataset, drop last row due to unknown target\n",
    "df_shifted = df.copy()\n",
    "df_shifted[\"consumption_MWh\"] = df_shifted.consumption_MWh.shift(-1)\n",
    "df_shifted = df_shifted.dropna()"
   ]
  },
  {
   "cell_type": "code",
   "execution_count": 9,
   "id": "35fd1b24-47bd-4f7f-bd98-e20dea7700d6",
   "metadata": {},
   "outputs": [
    {
     "data": {
      "text/html": [
       "<div>\n",
       "<style scoped>\n",
       "    .dataframe tbody tr th:only-of-type {\n",
       "        vertical-align: middle;\n",
       "    }\n",
       "\n",
       "    .dataframe tbody tr th {\n",
       "        vertical-align: top;\n",
       "    }\n",
       "\n",
       "    .dataframe thead th {\n",
       "        text-align: right;\n",
       "    }\n",
       "</style>\n",
       "<table border=\"1\" class=\"dataframe\">\n",
       "  <thead>\n",
       "    <tr style=\"text-align: right;\">\n",
       "      <th></th>\n",
       "      <th>time</th>\n",
       "      <th>consumption_MWh</th>\n",
       "      <th>consumption_lag2</th>\n",
       "      <th>trend</th>\n",
       "      <th>hour_sin</th>\n",
       "      <th>hour_cos</th>\n",
       "      <th>day_sin</th>\n",
       "      <th>day_cos</th>\n",
       "      <th>month_sin</th>\n",
       "      <th>month_cos</th>\n",
       "    </tr>\n",
       "  </thead>\n",
       "  <tbody>\n",
       "    <tr>\n",
       "      <th>0</th>\n",
       "      <td>2018-01-01 02:00:00</td>\n",
       "      <td>23872.12</td>\n",
       "      <td>27412.81</td>\n",
       "      <td>2</td>\n",
       "      <td>0.707107</td>\n",
       "      <td>7.071068e-01</td>\n",
       "      <td>7.818315e-01</td>\n",
       "      <td>0.62349</td>\n",
       "      <td>5.000000e-01</td>\n",
       "      <td>0.866025</td>\n",
       "    </tr>\n",
       "    <tr>\n",
       "      <th>1</th>\n",
       "      <td>2018-01-01 03:00:00</td>\n",
       "      <td>23194.89</td>\n",
       "      <td>26324.39</td>\n",
       "      <td>3</td>\n",
       "      <td>0.866025</td>\n",
       "      <td>5.000000e-01</td>\n",
       "      <td>7.818315e-01</td>\n",
       "      <td>0.62349</td>\n",
       "      <td>5.000000e-01</td>\n",
       "      <td>0.866025</td>\n",
       "    </tr>\n",
       "    <tr>\n",
       "      <th>2</th>\n",
       "      <td>2018-01-01 04:00:00</td>\n",
       "      <td>23071.96</td>\n",
       "      <td>24635.32</td>\n",
       "      <td>4</td>\n",
       "      <td>0.965926</td>\n",
       "      <td>2.588190e-01</td>\n",
       "      <td>7.818315e-01</td>\n",
       "      <td>0.62349</td>\n",
       "      <td>5.000000e-01</td>\n",
       "      <td>0.866025</td>\n",
       "    </tr>\n",
       "    <tr>\n",
       "      <th>3</th>\n",
       "      <td>2018-01-01 05:00:00</td>\n",
       "      <td>23267.90</td>\n",
       "      <td>23872.12</td>\n",
       "      <td>5</td>\n",
       "      <td>1.000000</td>\n",
       "      <td>6.123234e-17</td>\n",
       "      <td>7.818315e-01</td>\n",
       "      <td>0.62349</td>\n",
       "      <td>5.000000e-01</td>\n",
       "      <td>0.866025</td>\n",
       "    </tr>\n",
       "    <tr>\n",
       "      <th>4</th>\n",
       "      <td>2018-01-01 06:00:00</td>\n",
       "      <td>23875.44</td>\n",
       "      <td>23194.89</td>\n",
       "      <td>6</td>\n",
       "      <td>0.965926</td>\n",
       "      <td>-2.588190e-01</td>\n",
       "      <td>7.818315e-01</td>\n",
       "      <td>0.62349</td>\n",
       "      <td>5.000000e-01</td>\n",
       "      <td>0.866025</td>\n",
       "    </tr>\n",
       "    <tr>\n",
       "      <th>...</th>\n",
       "      <td>...</td>\n",
       "      <td>...</td>\n",
       "      <td>...</td>\n",
       "      <td>...</td>\n",
       "      <td>...</td>\n",
       "      <td>...</td>\n",
       "      <td>...</td>\n",
       "      <td>...</td>\n",
       "      <td>...</td>\n",
       "      <td>...</td>\n",
       "    </tr>\n",
       "    <tr>\n",
       "      <th>52576</th>\n",
       "      <td>2023-12-31 18:00:00</td>\n",
       "      <td>35090.93</td>\n",
       "      <td>32670.06</td>\n",
       "      <td>52578</td>\n",
       "      <td>-0.965926</td>\n",
       "      <td>2.588190e-01</td>\n",
       "      <td>-2.449294e-16</td>\n",
       "      <td>1.00000</td>\n",
       "      <td>-2.449294e-16</td>\n",
       "      <td>1.000000</td>\n",
       "    </tr>\n",
       "    <tr>\n",
       "      <th>52577</th>\n",
       "      <td>2023-12-31 19:00:00</td>\n",
       "      <td>33310.94</td>\n",
       "      <td>34549.42</td>\n",
       "      <td>52579</td>\n",
       "      <td>-0.866025</td>\n",
       "      <td>5.000000e-01</td>\n",
       "      <td>-2.449294e-16</td>\n",
       "      <td>1.00000</td>\n",
       "      <td>-2.449294e-16</td>\n",
       "      <td>1.000000</td>\n",
       "    </tr>\n",
       "    <tr>\n",
       "      <th>52578</th>\n",
       "      <td>2023-12-31 20:00:00</td>\n",
       "      <td>32083.96</td>\n",
       "      <td>36193.59</td>\n",
       "      <td>52580</td>\n",
       "      <td>-0.707107</td>\n",
       "      <td>7.071068e-01</td>\n",
       "      <td>-2.449294e-16</td>\n",
       "      <td>1.00000</td>\n",
       "      <td>-2.449294e-16</td>\n",
       "      <td>1.000000</td>\n",
       "    </tr>\n",
       "    <tr>\n",
       "      <th>52579</th>\n",
       "      <td>2023-12-31 21:00:00</td>\n",
       "      <td>30469.49</td>\n",
       "      <td>35090.93</td>\n",
       "      <td>52581</td>\n",
       "      <td>-0.500000</td>\n",
       "      <td>8.660254e-01</td>\n",
       "      <td>-2.449294e-16</td>\n",
       "      <td>1.00000</td>\n",
       "      <td>-2.449294e-16</td>\n",
       "      <td>1.000000</td>\n",
       "    </tr>\n",
       "    <tr>\n",
       "      <th>52580</th>\n",
       "      <td>2023-12-31 22:00:00</td>\n",
       "      <td>30029.91</td>\n",
       "      <td>33310.94</td>\n",
       "      <td>52582</td>\n",
       "      <td>-0.258819</td>\n",
       "      <td>9.659258e-01</td>\n",
       "      <td>-2.449294e-16</td>\n",
       "      <td>1.00000</td>\n",
       "      <td>-2.449294e-16</td>\n",
       "      <td>1.000000</td>\n",
       "    </tr>\n",
       "  </tbody>\n",
       "</table>\n",
       "<p>52581 rows × 10 columns</p>\n",
       "</div>"
      ],
      "text/plain": [
       "                     time  consumption_MWh  consumption_lag2  trend  hour_sin  \\\n",
       "0     2018-01-01 02:00:00         23872.12          27412.81      2  0.707107   \n",
       "1     2018-01-01 03:00:00         23194.89          26324.39      3  0.866025   \n",
       "2     2018-01-01 04:00:00         23071.96          24635.32      4  0.965926   \n",
       "3     2018-01-01 05:00:00         23267.90          23872.12      5  1.000000   \n",
       "4     2018-01-01 06:00:00         23875.44          23194.89      6  0.965926   \n",
       "...                   ...              ...               ...    ...       ...   \n",
       "52576 2023-12-31 18:00:00         35090.93          32670.06  52578 -0.965926   \n",
       "52577 2023-12-31 19:00:00         33310.94          34549.42  52579 -0.866025   \n",
       "52578 2023-12-31 20:00:00         32083.96          36193.59  52580 -0.707107   \n",
       "52579 2023-12-31 21:00:00         30469.49          35090.93  52581 -0.500000   \n",
       "52580 2023-12-31 22:00:00         30029.91          33310.94  52582 -0.258819   \n",
       "\n",
       "           hour_cos       day_sin  day_cos     month_sin  month_cos  \n",
       "0      7.071068e-01  7.818315e-01  0.62349  5.000000e-01   0.866025  \n",
       "1      5.000000e-01  7.818315e-01  0.62349  5.000000e-01   0.866025  \n",
       "2      2.588190e-01  7.818315e-01  0.62349  5.000000e-01   0.866025  \n",
       "3      6.123234e-17  7.818315e-01  0.62349  5.000000e-01   0.866025  \n",
       "4     -2.588190e-01  7.818315e-01  0.62349  5.000000e-01   0.866025  \n",
       "...             ...           ...      ...           ...        ...  \n",
       "52576  2.588190e-01 -2.449294e-16  1.00000 -2.449294e-16   1.000000  \n",
       "52577  5.000000e-01 -2.449294e-16  1.00000 -2.449294e-16   1.000000  \n",
       "52578  7.071068e-01 -2.449294e-16  1.00000 -2.449294e-16   1.000000  \n",
       "52579  8.660254e-01 -2.449294e-16  1.00000 -2.449294e-16   1.000000  \n",
       "52580  9.659258e-01 -2.449294e-16  1.00000 -2.449294e-16   1.000000  \n",
       "\n",
       "[52581 rows x 10 columns]"
      ]
     },
     "execution_count": 9,
     "metadata": {},
     "output_type": "execute_result"
    }
   ],
   "source": [
    "df_shifted"
   ]
  },
  {
   "cell_type": "markdown",
   "id": "2699147e-7f37-4017-861c-6674868d35d0",
   "metadata": {},
   "source": [
    "Every input sequence will be the last 72 hours before 16:00, and every output sequence will be the next 32 hours after 16:00."
   ]
  },
  {
   "cell_type": "code",
   "execution_count": 10,
   "id": "2cf65954-517b-4712-97aa-42e089573017",
   "metadata": {},
   "outputs": [],
   "source": [
    "n_steps = len(df_shifted) \n",
    "input_length = 72 # T-L to T hours as input\n",
    "input_dims = 8 # Consumption lag 2, trend, 6 cyclical columns as features\n",
    "output_length = 32 # We are only interested in predicting T+8 to 32, but we have to predict from T+1 because we need hidden states at each time step."
   ]
  },
  {
   "cell_type": "code",
   "execution_count": 11,
   "id": "da695753-60ee-4d17-8481-e27c42529c78",
   "metadata": {},
   "outputs": [],
   "source": [
    "# Find the index of the first 16:00 row in the data, where the index is bigger than input_length - 1. This will be the first T.\n",
    "first_t = df_shifted.loc[(df_shifted.time.dt.hour == 16) & (df_shifted.index >= input_length - 1)].index.values[0]"
   ]
  },
  {
   "cell_type": "code",
   "execution_count": 12,
   "id": "efba5029-5fc0-4ab2-8f63-8c7925b9b97d",
   "metadata": {},
   "outputs": [
    {
     "data": {
      "text/plain": [
       "86"
      ]
     },
     "execution_count": 12,
     "metadata": {},
     "output_type": "execute_result"
    }
   ],
   "source": [
    "first_t "
   ]
  },
  {
   "cell_type": "code",
   "execution_count": 13,
   "id": "1ae7dd17-e961-4cb9-8d6f-a5d25db5aeae",
   "metadata": {},
   "outputs": [],
   "source": [
    "# Find the index of the last 16:00 row in the data, with 32 time steps after it. This will be the last T.\n",
    "last_t = df_shifted.loc[(df_shifted.time.dt.hour == 16) & (df_shifted.index + output_length - 1 <= df.index.values[-1])].index.values[-2]"
   ]
  },
  {
   "cell_type": "code",
   "execution_count": 14,
   "id": "a509444b-8535-44d9-8b41-da8e04dd2040",
   "metadata": {},
   "outputs": [
    {
     "data": {
      "text/plain": [
       "52526"
      ]
     },
     "execution_count": 14,
     "metadata": {},
     "output_type": "execute_result"
    }
   ],
   "source": [
    "last_t "
   ]
  },
  {
   "cell_type": "markdown",
   "id": "4d49c1ac-3f13-4df7-a39a-26b63e14dfac",
   "metadata": {},
   "source": [
    "Each input sequence will contain the following:\n",
    "- Consumption lag 2 at [T - input_length, T] (past targets),\n",
    "- Time covariates at [T - input_length + 1, T+1 ] (future known covariates)."
   ]
  },
  {
   "cell_type": "code",
   "execution_count": 15,
   "id": "355e1fee-bb5a-410f-8c90-a7cd433c8209",
   "metadata": {},
   "outputs": [],
   "source": [
    "# One input sequence\n",
    "input_seq = pd.concat([\n",
    "    df_shifted.iloc[(first_t - input_length):first_t, 0], # Time\n",
    "    df_shifted.iloc[(first_t - input_length):first_t, 2], # Past target\n",
    "    df_shifted.shift(-1).iloc[(first_t - input_length):(first_t), 3:] # Future known covariates\n",
    "], axis = 1)"
   ]
  },
  {
   "cell_type": "markdown",
   "id": "c2532030-85c4-4e5a-86b7-1f1e95b14f2e",
   "metadata": {},
   "source": [
    "Each output sequence will contain the following:\n",
    "- Consumption at [T+1, T + output_length] (future targets),\n",
    "- Time covariates at [T+2, T + output_length + 1] (future known covariates for prediction steps after T+1)"
   ]
  },
  {
   "cell_type": "code",
   "execution_count": 16,
   "id": "0cddc494-b847-408a-a20f-8455c331ebc7",
   "metadata": {},
   "outputs": [],
   "source": [
    "# One output sequence\n",
    "output_seq = pd.concat([\n",
    "    df_shifted.iloc[first_t:(first_t + output_length), 0], # Time \n",
    "    df_shifted.iloc[first_t:(first_t + output_length), 1], # Future target\n",
    "    df_shifted.shift(-1).iloc[first_t:(first_t + output_length), 3:] # Future known covariates\n",
    "], axis = 1)"
   ]
  },
  {
   "cell_type": "code",
   "execution_count": 17,
   "id": "9e8775f4-3693-4062-b8b0-c2b8932c4f7a",
   "metadata": {},
   "outputs": [
    {
     "data": {
      "text/html": [
       "<div>\n",
       "<style scoped>\n",
       "    .dataframe tbody tr th:only-of-type {\n",
       "        vertical-align: middle;\n",
       "    }\n",
       "\n",
       "    .dataframe tbody tr th {\n",
       "        vertical-align: top;\n",
       "    }\n",
       "\n",
       "    .dataframe thead th {\n",
       "        text-align: right;\n",
       "    }\n",
       "</style>\n",
       "<table border=\"1\" class=\"dataframe\">\n",
       "  <thead>\n",
       "    <tr style=\"text-align: right;\">\n",
       "      <th></th>\n",
       "      <th>time</th>\n",
       "      <th>consumption_lag2</th>\n",
       "      <th>trend</th>\n",
       "      <th>hour_sin</th>\n",
       "      <th>hour_cos</th>\n",
       "      <th>day_sin</th>\n",
       "      <th>day_cos</th>\n",
       "      <th>month_sin</th>\n",
       "      <th>month_cos</th>\n",
       "    </tr>\n",
       "  </thead>\n",
       "  <tbody>\n",
       "    <tr>\n",
       "      <th>81</th>\n",
       "      <td>2018-01-04 11:00:00</td>\n",
       "      <td>39641.36</td>\n",
       "      <td>84.0</td>\n",
       "      <td>-0.258819</td>\n",
       "      <td>-0.965926</td>\n",
       "      <td>-0.433884</td>\n",
       "      <td>-0.900969</td>\n",
       "      <td>0.5</td>\n",
       "      <td>0.866025</td>\n",
       "    </tr>\n",
       "    <tr>\n",
       "      <th>82</th>\n",
       "      <td>2018-01-04 12:00:00</td>\n",
       "      <td>40593.83</td>\n",
       "      <td>85.0</td>\n",
       "      <td>-0.500000</td>\n",
       "      <td>-0.866025</td>\n",
       "      <td>-0.433884</td>\n",
       "      <td>-0.900969</td>\n",
       "      <td>0.5</td>\n",
       "      <td>0.866025</td>\n",
       "    </tr>\n",
       "    <tr>\n",
       "      <th>83</th>\n",
       "      <td>2018-01-04 13:00:00</td>\n",
       "      <td>40955.07</td>\n",
       "      <td>86.0</td>\n",
       "      <td>-0.707107</td>\n",
       "      <td>-0.707107</td>\n",
       "      <td>-0.433884</td>\n",
       "      <td>-0.900969</td>\n",
       "      <td>0.5</td>\n",
       "      <td>0.866025</td>\n",
       "    </tr>\n",
       "    <tr>\n",
       "      <th>84</th>\n",
       "      <td>2018-01-04 14:00:00</td>\n",
       "      <td>39505.55</td>\n",
       "      <td>87.0</td>\n",
       "      <td>-0.866025</td>\n",
       "      <td>-0.500000</td>\n",
       "      <td>-0.433884</td>\n",
       "      <td>-0.900969</td>\n",
       "      <td>0.5</td>\n",
       "      <td>0.866025</td>\n",
       "    </tr>\n",
       "    <tr>\n",
       "      <th>85</th>\n",
       "      <td>2018-01-04 15:00:00</td>\n",
       "      <td>39635.29</td>\n",
       "      <td>88.0</td>\n",
       "      <td>-0.965926</td>\n",
       "      <td>-0.258819</td>\n",
       "      <td>-0.433884</td>\n",
       "      <td>-0.900969</td>\n",
       "      <td>0.5</td>\n",
       "      <td>0.866025</td>\n",
       "    </tr>\n",
       "  </tbody>\n",
       "</table>\n",
       "</div>"
      ],
      "text/plain": [
       "                  time  consumption_lag2  trend  hour_sin  hour_cos   day_sin  \\\n",
       "81 2018-01-04 11:00:00          39641.36   84.0 -0.258819 -0.965926 -0.433884   \n",
       "82 2018-01-04 12:00:00          40593.83   85.0 -0.500000 -0.866025 -0.433884   \n",
       "83 2018-01-04 13:00:00          40955.07   86.0 -0.707107 -0.707107 -0.433884   \n",
       "84 2018-01-04 14:00:00          39505.55   87.0 -0.866025 -0.500000 -0.433884   \n",
       "85 2018-01-04 15:00:00          39635.29   88.0 -0.965926 -0.258819 -0.433884   \n",
       "\n",
       "     day_cos  month_sin  month_cos  \n",
       "81 -0.900969        0.5   0.866025  \n",
       "82 -0.900969        0.5   0.866025  \n",
       "83 -0.900969        0.5   0.866025  \n",
       "84 -0.900969        0.5   0.866025  \n",
       "85 -0.900969        0.5   0.866025  "
      ]
     },
     "execution_count": 17,
     "metadata": {},
     "output_type": "execute_result"
    }
   ],
   "source": [
    "input_seq.iloc[-5:]"
   ]
  },
  {
   "cell_type": "code",
   "execution_count": 18,
   "id": "b8c3e0d5-59de-467f-8562-4a13c85e0e76",
   "metadata": {},
   "outputs": [
    {
     "data": {
      "text/html": [
       "<div>\n",
       "<style scoped>\n",
       "    .dataframe tbody tr th:only-of-type {\n",
       "        vertical-align: middle;\n",
       "    }\n",
       "\n",
       "    .dataframe tbody tr th {\n",
       "        vertical-align: top;\n",
       "    }\n",
       "\n",
       "    .dataframe thead th {\n",
       "        text-align: right;\n",
       "    }\n",
       "</style>\n",
       "<table border=\"1\" class=\"dataframe\">\n",
       "  <thead>\n",
       "    <tr style=\"text-align: right;\">\n",
       "      <th></th>\n",
       "      <th>time</th>\n",
       "      <th>consumption_MWh</th>\n",
       "      <th>trend</th>\n",
       "      <th>hour_sin</th>\n",
       "      <th>hour_cos</th>\n",
       "      <th>day_sin</th>\n",
       "      <th>day_cos</th>\n",
       "      <th>month_sin</th>\n",
       "      <th>month_cos</th>\n",
       "    </tr>\n",
       "  </thead>\n",
       "  <tbody>\n",
       "    <tr>\n",
       "      <th>86</th>\n",
       "      <td>2018-01-04 16:00:00</td>\n",
       "      <td>40487.65</td>\n",
       "      <td>89.0</td>\n",
       "      <td>-1.000000</td>\n",
       "      <td>-1.836970e-16</td>\n",
       "      <td>-0.433884</td>\n",
       "      <td>-0.900969</td>\n",
       "      <td>0.5</td>\n",
       "      <td>0.866025</td>\n",
       "    </tr>\n",
       "    <tr>\n",
       "      <th>87</th>\n",
       "      <td>2018-01-04 17:00:00</td>\n",
       "      <td>39936.25</td>\n",
       "      <td>90.0</td>\n",
       "      <td>-0.965926</td>\n",
       "      <td>2.588190e-01</td>\n",
       "      <td>-0.433884</td>\n",
       "      <td>-0.900969</td>\n",
       "      <td>0.5</td>\n",
       "      <td>0.866025</td>\n",
       "    </tr>\n",
       "    <tr>\n",
       "      <th>88</th>\n",
       "      <td>2018-01-04 18:00:00</td>\n",
       "      <td>38772.68</td>\n",
       "      <td>91.0</td>\n",
       "      <td>-0.866025</td>\n",
       "      <td>5.000000e-01</td>\n",
       "      <td>-0.433884</td>\n",
       "      <td>-0.900969</td>\n",
       "      <td>0.5</td>\n",
       "      <td>0.866025</td>\n",
       "    </tr>\n",
       "    <tr>\n",
       "      <th>89</th>\n",
       "      <td>2018-01-04 19:00:00</td>\n",
       "      <td>38113.86</td>\n",
       "      <td>92.0</td>\n",
       "      <td>-0.707107</td>\n",
       "      <td>7.071068e-01</td>\n",
       "      <td>-0.433884</td>\n",
       "      <td>-0.900969</td>\n",
       "      <td>0.5</td>\n",
       "      <td>0.866025</td>\n",
       "    </tr>\n",
       "    <tr>\n",
       "      <th>90</th>\n",
       "      <td>2018-01-04 20:00:00</td>\n",
       "      <td>36758.94</td>\n",
       "      <td>93.0</td>\n",
       "      <td>-0.500000</td>\n",
       "      <td>8.660254e-01</td>\n",
       "      <td>-0.433884</td>\n",
       "      <td>-0.900969</td>\n",
       "      <td>0.5</td>\n",
       "      <td>0.866025</td>\n",
       "    </tr>\n",
       "  </tbody>\n",
       "</table>\n",
       "</div>"
      ],
      "text/plain": [
       "                  time  consumption_MWh  trend  hour_sin      hour_cos  \\\n",
       "86 2018-01-04 16:00:00         40487.65   89.0 -1.000000 -1.836970e-16   \n",
       "87 2018-01-04 17:00:00         39936.25   90.0 -0.965926  2.588190e-01   \n",
       "88 2018-01-04 18:00:00         38772.68   91.0 -0.866025  5.000000e-01   \n",
       "89 2018-01-04 19:00:00         38113.86   92.0 -0.707107  7.071068e-01   \n",
       "90 2018-01-04 20:00:00         36758.94   93.0 -0.500000  8.660254e-01   \n",
       "\n",
       "     day_sin   day_cos  month_sin  month_cos  \n",
       "86 -0.433884 -0.900969        0.5   0.866025  \n",
       "87 -0.433884 -0.900969        0.5   0.866025  \n",
       "88 -0.433884 -0.900969        0.5   0.866025  \n",
       "89 -0.433884 -0.900969        0.5   0.866025  \n",
       "90 -0.433884 -0.900969        0.5   0.866025  "
      ]
     },
     "execution_count": 18,
     "metadata": {},
     "output_type": "execute_result"
    }
   ],
   "source": [
    "output_seq[:5]"
   ]
  },
  {
   "cell_type": "code",
   "execution_count": 19,
   "id": "84267ded-5c7c-4228-8b1e-4257d92be8f2",
   "metadata": {},
   "outputs": [
    {
     "data": {
      "text/html": [
       "<div>\n",
       "<style scoped>\n",
       "    .dataframe tbody tr th:only-of-type {\n",
       "        vertical-align: middle;\n",
       "    }\n",
       "\n",
       "    .dataframe tbody tr th {\n",
       "        vertical-align: top;\n",
       "    }\n",
       "\n",
       "    .dataframe thead th {\n",
       "        text-align: right;\n",
       "    }\n",
       "</style>\n",
       "<table border=\"1\" class=\"dataframe\">\n",
       "  <thead>\n",
       "    <tr style=\"text-align: right;\">\n",
       "      <th></th>\n",
       "      <th>time</th>\n",
       "      <th>consumption_MWh</th>\n",
       "      <th>consumption_lag2</th>\n",
       "      <th>trend</th>\n",
       "      <th>hour_sin</th>\n",
       "      <th>hour_cos</th>\n",
       "      <th>day_sin</th>\n",
       "      <th>day_cos</th>\n",
       "      <th>month_sin</th>\n",
       "      <th>month_cos</th>\n",
       "    </tr>\n",
       "  </thead>\n",
       "  <tbody>\n",
       "    <tr>\n",
       "      <th>81</th>\n",
       "      <td>2018-01-04 11:00:00</td>\n",
       "      <td>39505.55</td>\n",
       "      <td>39641.36</td>\n",
       "      <td>83</td>\n",
       "      <td>1.224647e-16</td>\n",
       "      <td>-1.000000e+00</td>\n",
       "      <td>-0.433884</td>\n",
       "      <td>-0.900969</td>\n",
       "      <td>0.5</td>\n",
       "      <td>0.866025</td>\n",
       "    </tr>\n",
       "    <tr>\n",
       "      <th>82</th>\n",
       "      <td>2018-01-04 12:00:00</td>\n",
       "      <td>39635.29</td>\n",
       "      <td>40593.83</td>\n",
       "      <td>84</td>\n",
       "      <td>-2.588190e-01</td>\n",
       "      <td>-9.659258e-01</td>\n",
       "      <td>-0.433884</td>\n",
       "      <td>-0.900969</td>\n",
       "      <td>0.5</td>\n",
       "      <td>0.866025</td>\n",
       "    </tr>\n",
       "    <tr>\n",
       "      <th>83</th>\n",
       "      <td>2018-01-04 13:00:00</td>\n",
       "      <td>39952.75</td>\n",
       "      <td>40955.07</td>\n",
       "      <td>85</td>\n",
       "      <td>-5.000000e-01</td>\n",
       "      <td>-8.660254e-01</td>\n",
       "      <td>-0.433884</td>\n",
       "      <td>-0.900969</td>\n",
       "      <td>0.5</td>\n",
       "      <td>0.866025</td>\n",
       "    </tr>\n",
       "    <tr>\n",
       "      <th>84</th>\n",
       "      <td>2018-01-04 14:00:00</td>\n",
       "      <td>39649.45</td>\n",
       "      <td>39505.55</td>\n",
       "      <td>86</td>\n",
       "      <td>-7.071068e-01</td>\n",
       "      <td>-7.071068e-01</td>\n",
       "      <td>-0.433884</td>\n",
       "      <td>-0.900969</td>\n",
       "      <td>0.5</td>\n",
       "      <td>0.866025</td>\n",
       "    </tr>\n",
       "    <tr>\n",
       "      <th>85</th>\n",
       "      <td>2018-01-04 15:00:00</td>\n",
       "      <td>40063.17</td>\n",
       "      <td>39635.29</td>\n",
       "      <td>87</td>\n",
       "      <td>-8.660254e-01</td>\n",
       "      <td>-5.000000e-01</td>\n",
       "      <td>-0.433884</td>\n",
       "      <td>-0.900969</td>\n",
       "      <td>0.5</td>\n",
       "      <td>0.866025</td>\n",
       "    </tr>\n",
       "    <tr>\n",
       "      <th>86</th>\n",
       "      <td>2018-01-04 16:00:00</td>\n",
       "      <td>40487.65</td>\n",
       "      <td>39952.75</td>\n",
       "      <td>88</td>\n",
       "      <td>-9.659258e-01</td>\n",
       "      <td>-2.588190e-01</td>\n",
       "      <td>-0.433884</td>\n",
       "      <td>-0.900969</td>\n",
       "      <td>0.5</td>\n",
       "      <td>0.866025</td>\n",
       "    </tr>\n",
       "    <tr>\n",
       "      <th>87</th>\n",
       "      <td>2018-01-04 17:00:00</td>\n",
       "      <td>39936.25</td>\n",
       "      <td>39649.45</td>\n",
       "      <td>89</td>\n",
       "      <td>-1.000000e+00</td>\n",
       "      <td>-1.836970e-16</td>\n",
       "      <td>-0.433884</td>\n",
       "      <td>-0.900969</td>\n",
       "      <td>0.5</td>\n",
       "      <td>0.866025</td>\n",
       "    </tr>\n",
       "    <tr>\n",
       "      <th>88</th>\n",
       "      <td>2018-01-04 18:00:00</td>\n",
       "      <td>38772.68</td>\n",
       "      <td>40063.17</td>\n",
       "      <td>90</td>\n",
       "      <td>-9.659258e-01</td>\n",
       "      <td>2.588190e-01</td>\n",
       "      <td>-0.433884</td>\n",
       "      <td>-0.900969</td>\n",
       "      <td>0.5</td>\n",
       "      <td>0.866025</td>\n",
       "    </tr>\n",
       "    <tr>\n",
       "      <th>89</th>\n",
       "      <td>2018-01-04 19:00:00</td>\n",
       "      <td>38113.86</td>\n",
       "      <td>40487.65</td>\n",
       "      <td>91</td>\n",
       "      <td>-8.660254e-01</td>\n",
       "      <td>5.000000e-01</td>\n",
       "      <td>-0.433884</td>\n",
       "      <td>-0.900969</td>\n",
       "      <td>0.5</td>\n",
       "      <td>0.866025</td>\n",
       "    </tr>\n",
       "  </tbody>\n",
       "</table>\n",
       "</div>"
      ],
      "text/plain": [
       "                  time  consumption_MWh  consumption_lag2  trend  \\\n",
       "81 2018-01-04 11:00:00         39505.55          39641.36     83   \n",
       "82 2018-01-04 12:00:00         39635.29          40593.83     84   \n",
       "83 2018-01-04 13:00:00         39952.75          40955.07     85   \n",
       "84 2018-01-04 14:00:00         39649.45          39505.55     86   \n",
       "85 2018-01-04 15:00:00         40063.17          39635.29     87   \n",
       "86 2018-01-04 16:00:00         40487.65          39952.75     88   \n",
       "87 2018-01-04 17:00:00         39936.25          39649.45     89   \n",
       "88 2018-01-04 18:00:00         38772.68          40063.17     90   \n",
       "89 2018-01-04 19:00:00         38113.86          40487.65     91   \n",
       "\n",
       "        hour_sin      hour_cos   day_sin   day_cos  month_sin  month_cos  \n",
       "81  1.224647e-16 -1.000000e+00 -0.433884 -0.900969        0.5   0.866025  \n",
       "82 -2.588190e-01 -9.659258e-01 -0.433884 -0.900969        0.5   0.866025  \n",
       "83 -5.000000e-01 -8.660254e-01 -0.433884 -0.900969        0.5   0.866025  \n",
       "84 -7.071068e-01 -7.071068e-01 -0.433884 -0.900969        0.5   0.866025  \n",
       "85 -8.660254e-01 -5.000000e-01 -0.433884 -0.900969        0.5   0.866025  \n",
       "86 -9.659258e-01 -2.588190e-01 -0.433884 -0.900969        0.5   0.866025  \n",
       "87 -1.000000e+00 -1.836970e-16 -0.433884 -0.900969        0.5   0.866025  \n",
       "88 -9.659258e-01  2.588190e-01 -0.433884 -0.900969        0.5   0.866025  \n",
       "89 -8.660254e-01  5.000000e-01 -0.433884 -0.900969        0.5   0.866025  "
      ]
     },
     "execution_count": 19,
     "metadata": {},
     "output_type": "execute_result"
    }
   ],
   "source": [
    "df_shifted.iloc[81:90]"
   ]
  },
  {
   "cell_type": "markdown",
   "id": "8636db66-7ab4-490c-923f-09e1e1d84190",
   "metadata": {},
   "source": [
    "In the input sequence, we pair every past target value at T with the future covariates at T+1.\n",
    "\\\n",
    "In the output sequence, we pair every future target value at T+1 with the future covariates at T+2.\n",
    "\\\n",
    "This is because the future target at T+1 and the future covariates at T+2 will be the past target & future covariates in the next prediction step. \n",
    "\\\n",
    "LSTMs and RNNs can only forecast 1 step at a time due to needing a chain of hidden & cell states. \n",
    "\\\n",
    "For validation & prediciton steps, we will replace the future targets after T+1 with predicitons from the previous step, as these will be unknown values at real prediciton time.\n",
    "\\\n",
    "During training, we still use the real target values for all prediciton steps \"in hindsight\", as training with predictions as the target may mislead the model. In a real life scenario, we'd have the \"hindsight\" values available in the historic data, just like we do here."
   ]
  },
  {
   "cell_type": "code",
   "execution_count": 20,
   "id": "159827b9-f633-435f-88e9-4a3effda324f",
   "metadata": {},
   "outputs": [
    {
     "name": "stdout",
     "output_type": "stream",
     "text": [
      "Number of possible sequences: 2186\n"
     ]
    }
   ],
   "source": [
    "n_sequences = (last_t - first_t) // 24 + 1 # Number of 16:00 rows followed by a sufficient input / output sequence\n",
    "print(\"Number of possible sequences: \" + f\"{n_sequences}\")"
   ]
  },
  {
   "cell_type": "code",
   "execution_count": 21,
   "id": "860bb74a-cf1f-405c-be9a-2d1871b8f678",
   "metadata": {},
   "outputs": [],
   "source": [
    "# Get all sequences\n",
    "for t in range(first_t, last_t + 1, 24):\n",
    "\n",
    "    # Get input sequence\n",
    "    new_input = pd.concat([\n",
    "        df_shifted.iloc[(t - input_length):t, 0], # Time\n",
    "        df_shifted.iloc[(t - input_length):t, 2], # Past target\n",
    "        df_shifted.shift(-1).iloc[(t - input_length):t, 3:] # Future known covariates\n",
    "        ], axis = 1)\n",
    "    new_input = new_input.set_index(\"time\")\n",
    "\n",
    "    # Get output sequence\n",
    "    new_output = pd.concat([\n",
    "        df_shifted.iloc[t:(t + output_length), 0], # Time \n",
    "        df_shifted.iloc[t:(t + output_length), 1], # Future target\n",
    "        df_shifted.shift(-1).iloc[t:(t + output_length), 3:] # Future known covariates\n",
    "        ], axis = 1)\n",
    "    new_output = new_output.set_index(\"time\")\n",
    "\n",
    "    if t == first_t:\n",
    "\n",
    "        # Initialize lists of sequences\n",
    "        input_sequences = [new_input]\n",
    "        output_sequences = [new_output]\n",
    "        \n",
    "    else:\n",
    "        # Concatenate to arrays of sequences\n",
    "        input_sequences.append(new_input)\n",
    "        output_sequences.append(new_output)\n"
   ]
  },
  {
   "cell_type": "code",
   "execution_count": 22,
   "id": "253bf525-8f95-43af-9c5c-356248ae6cc9",
   "metadata": {},
   "outputs": [
    {
     "data": {
      "text/plain": [
       "2186"
      ]
     },
     "execution_count": 22,
     "metadata": {},
     "output_type": "execute_result"
    }
   ],
   "source": [
    "len(input_sequences)"
   ]
  },
  {
   "cell_type": "code",
   "execution_count": 23,
   "id": "45ecfbe6-7de0-46bc-8435-5fc5ae5ecaf5",
   "metadata": {},
   "outputs": [
    {
     "data": {
      "text/plain": [
       "2186"
      ]
     },
     "execution_count": 23,
     "metadata": {},
     "output_type": "execute_result"
    }
   ],
   "source": [
    "len(output_sequences)"
   ]
  },
  {
   "cell_type": "markdown",
   "id": "ff2a79ac-10d9-4de2-b973-99d6d60421cc",
   "metadata": {},
   "source": [
    "## Preprocessing: Custom scaler, Torch datasets & dataloaders"
   ]
  },
  {
   "cell_type": "code",
   "execution_count": 24,
   "id": "3016ec43-cb1b-4f43-a5e8-b1650b7eebde",
   "metadata": {},
   "outputs": [],
   "source": [
    "# Get indices for train - val - test split\n",
    "sixty_percent = int(len(input_sequences) * 0.6)\n",
    "twenty_percent = int(len(input_sequences) * 0.2)\n",
    "train_end = sixty_percent\n",
    "val_end = sixty_percent + twenty_percent"
   ]
  },
  {
   "cell_type": "markdown",
   "id": "653354da-4abb-4dd0-b6de-b4c8b1c5e490",
   "metadata": {},
   "source": [
    "In a stateful LSTM, the last timestep's hidden & cell state for observation 1 in batch 1 will be used as the initial hidden & cell state for observation 1 in batch 2.\n",
    "\\\n",
    "Because of this, we need batches of constant size through training, val. and testing data. We'll divide the lengths of each data fold with the batch size, drop the remainder from the start of the training folds & the end of the val. & test folds."
   ]
  },
  {
   "cell_type": "code",
   "execution_count": 25,
   "id": "3e763f7b-0356-4795-b1fe-63431e6bb7e0",
   "metadata": {},
   "outputs": [],
   "source": [
    "# Perform train - val - test split\n",
    "batch_size = 64\n",
    "\n",
    "# Training data at validation step\n",
    "tr_input, tr_output = input_sequences[0:train_end], output_sequences[0:train_end]\n",
    "remainder = len(tr_input) % batch_size\n",
    "tr_input, tr_output = tr_input[remainder:], tr_output[remainder:]\n",
    "\n",
    "# Training data at testing step\n",
    "train_input, train_output = input_sequences[0:val_end], output_sequences[0:val_end]\n",
    "remainder = len(train_input) % batch_size\n",
    "train_input, train_output = train_input[remainder:], train_output[remainder:]\n",
    "\n",
    "# Validation data\n",
    "val_input, val_output = input_sequences[train_end:val_end], output_sequences[train_end:val_end]\n",
    "remainder = len(val_input) % batch_size\n",
    "val_input, val_output = val_input[:-remainder], val_output[:-remainder]\n",
    "\n",
    "# Testing data\n",
    "test_input, test_output = input_sequences[val_end:], output_sequences[val_end:]\n",
    "remainder = len(test_input) % batch_size\n",
    "test_input, test_output = test_input[:-remainder], test_output[:-remainder]"
   ]
  },
  {
   "cell_type": "markdown",
   "id": "83fbb6dc-8bb4-488f-aa19-98c76dfe73d0",
   "metadata": {},
   "source": [
    "We have to scale the past consumption & trend values in the input sequences, and the future consumption & trend values in the output sequences, because they'll be the past values as the forecast horizon expands.\n",
    "\\\n",
    "We also need the ability to backtransform the network's final predictions accordingly. We need a class instead of a function."
   ]
  },
  {
   "cell_type": "code",
   "execution_count": 26,
   "id": "b699628a-d604-4623-8446-23eafd41770c",
   "metadata": {
    "jupyter": {
     "source_hidden": true
    }
   },
   "outputs": [],
   "source": [
    "# Define scaling class for sequence data\n",
    "class sequence_scaler:\n",
    "\n",
    "    def __init__(self, feature_range = (-1, 1)):\n",
    "        self.lower = feature_range[0]\n",
    "        self.upper = feature_range[1]\n",
    "\n",
    "    def fit(self, input_df, output_df):\n",
    "\n",
    "        # Get input & output sequences as 3D arrays\n",
    "        # The time index will be skipped, yielding shape (N, seq_length, seq_dims)\n",
    "        input = np.stack(input_df, axis = 0)\n",
    "        output = np.stack(output_df, axis = 0)\n",
    "\n",
    "        # Get number of dimensions\n",
    "        self.num_dimensions = input.shape[2]\n",
    "        \n",
    "        # Extract & save minimum, maximum for each dimension\n",
    "        dimensions_mini = []\n",
    "        dimensions_maxi = []\n",
    "        for dimension in range(0, self.num_dimensions):\n",
    "            min = np.min([\n",
    "                np.min(input[:, :, dimension]),\n",
    "                np.min(output[:, :, dimension])\n",
    "            ])\n",
    "            dimensions_mini.append(min)\n",
    "\n",
    "            max = np.max([\n",
    "                np.max(input[:, :, dimension]),\n",
    "                np.max(output[:, :, dimension])\n",
    "            ])\n",
    "            dimensions_maxi.append(max)\n",
    "\n",
    "        self.dimensions_mini = dimensions_mini\n",
    "        self.dimensions_maxi = dimensions_maxi\n",
    "\n",
    "    def transform(self, scale_df):\n",
    "\n",
    "        # Get sequence as 3D arrays\n",
    "        scale_array = np.stack(scale_df, axis = 0)\n",
    "\n",
    "        # Initialize list of scaled dimensions\n",
    "        scaled_dimensions = []\n",
    "\n",
    "        # Scale each dimension & append to list\n",
    "        for dimension in range(0, self.num_dimensions):\n",
    "            values = scale_array[:, :, dimension]\n",
    "            min = self.dimensions_mini[dimension]\n",
    "            max = self.dimensions_maxi[dimension]\n",
    "            std = (values - min) / (max - min)\n",
    "            scaled = std * (self.upper - self.lower) + self.lower\n",
    "            scaled_dimensions.append(scaled)\n",
    "\n",
    "        # Stack over 3rd axis & return\n",
    "        return np.stack(scaled_dimensions, axis = 2)\n",
    "\n",
    "    def backtransform_preds(self, preds_array, fitted_preds_dim = 0):\n",
    "\n",
    "        # Get n. of predicted quantiles to backtransform\n",
    "        n_quantiles = preds_array.shape[-1]\n",
    "\n",
    "        # Get the fitted mini & maxi for predictions\n",
    "        min = self.dimensions_mini[fitted_preds_dim] \n",
    "        max = self.dimensions_maxi[fitted_preds_dim]\n",
    "\n",
    "        # Initialize list of backtransformed quantiles\n",
    "        backtrafo_quantiles = []\n",
    "\n",
    "        # Backtransform each quantile & append to list\n",
    "        for quantile in range(0, n_quantiles):\n",
    "            scaled = preds_array[:, :, quantile]\n",
    "            std = (scaled - self.lower) / (self.upper - self.lower)\n",
    "            values = std * (max - min) + min\n",
    "            backtrafo_quantiles.append(values)\n",
    "            \n",
    "        # Stack over 3rd axis & return\n",
    "        return np.stack(backtrafo_quantiles, axis = 2)"
   ]
  },
  {
   "cell_type": "code",
   "execution_count": 27,
   "id": "cf377421-7c99-4210-87c4-dab14581571a",
   "metadata": {
    "jupyter": {
     "source_hidden": true
    }
   },
   "outputs": [],
   "source": [
    "# Define Torch dataset class\n",
    "class SequenceDataset(torch.utils.data.Dataset):\n",
    "\n",
    "    # Store preprocessed input & output sequences\n",
    "    def __init__(self, input_seq, output_seq): \n",
    "        self.input_seq = torch.tensor(input_seq, dtype = torch.float32) # Store input sequences\n",
    "        self.output_seq = torch.tensor(output_seq, dtype = torch.float32) # Store output sequences\n",
    "  \n",
    "    # Return data length  \n",
    "    def __len__(self):\n",
    "        return len(self.input_seq) \n",
    "  \n",
    "    # Return a pair of input & output sequences\n",
    "    def __getitem__(self, idx):\n",
    "        return self.input_seq[idx], self.output_seq[idx]"
   ]
  },
  {
   "cell_type": "code",
   "execution_count": 28,
   "id": "14cf3a58-b711-4157-abf7-0f066ec713b6",
   "metadata": {},
   "outputs": [],
   "source": [
    "# Scale validation data & create Torch datasets\n",
    "scaler_val = sequence_scaler()\n",
    "_ = scaler_val.fit(tr_input, tr_output)\n",
    "tr_data = SequenceDataset(scaler_val.transform(tr_input), scaler_val.transform(tr_output))\n",
    "val_data = SequenceDataset(scaler_val.transform(val_input), scaler_val.transform(val_output))\n",
    "\n",
    "# Scale testing data & create Torch datasets\n",
    "scaler_test = sequence_scaler()\n",
    "_ = scaler_test.fit(train_input, train_output)\n",
    "train_data = SequenceDataset(scaler_test.transform(train_input), scaler_test.transform(train_output))\n",
    "test_data = SequenceDataset(scaler_test.transform(test_input), scaler_test.transform(test_output))"
   ]
  },
  {
   "cell_type": "code",
   "execution_count": 29,
   "id": "836887aa-b98f-4441-bede-b38022c715eb",
   "metadata": {},
   "outputs": [],
   "source": [
    "# Create Torch dataloaders\n",
    "num_workers = 0\n",
    "shuffle = False\n",
    "\n",
    "# Training data at validation step\n",
    "tr_loader = torch.utils.data.DataLoader(\n",
    "    tr_data, batch_size = batch_size, num_workers = num_workers, shuffle = shuffle)\n",
    "\n",
    "# Training data at testing step\n",
    "train_loader = torch.utils.data.DataLoader(\n",
    "    train_data, batch_size = batch_size, num_workers = num_workers, shuffle = shuffle)\n",
    "\n",
    "# Validation & testing data\n",
    "val_loader = torch.utils.data.DataLoader(\n",
    "    val_data, batch_size = batch_size, num_workers = num_workers, shuffle = shuffle)\n",
    "test_loader = torch.utils.data.DataLoader(\n",
    "    test_data, batch_size = batch_size, num_workers = num_workers, shuffle = shuffle)"
   ]
  },
  {
   "cell_type": "markdown",
   "id": "687c517f-376f-43e2-8839-16e9b261e80f",
   "metadata": {},
   "source": [
    "## Model definition"
   ]
  },
  {
   "cell_type": "code",
   "execution_count": 30,
   "id": "d7cd8a35-f626-4cad-8db6-4932b2e27df2",
   "metadata": {
    "jupyter": {
     "source_hidden": true
    }
   },
   "outputs": [],
   "source": [
    "# Define QuantileLoss, because pytorch_forecasting installation raises issues with Python 3.12\n",
    "class QuantileLoss:\n",
    "    \"\"\"\n",
    "    Takes in predictions of shape (...),\n",
    "    targets of shape (..., n_quantiles),\n",
    "    quantiles in a list.\n",
    "    \n",
    "    Returns unreduced quantile loss tensor of shape (..., n_quantiles),\n",
    "    where each value is quantile loss * 2 (MAE).\n",
    "    \n",
    "    Implemented from pytorch_forecasting.metrics.quantile.QuantileLoss.\n",
    "    \"\"\"\n",
    "\n",
    "    def __init__(self, quantiles):\n",
    "        self.quantiles = quantiles\n",
    "\n",
    "    def loss(self, pred, target):\n",
    "        \n",
    "        quantile_losses = []\n",
    "        for i, q in enumerate(self.quantiles):\n",
    "            error = target - pred[..., i]\n",
    "            quantile_error = torch.max(\n",
    "                (q - 1) * error,\n",
    "                q * error\n",
    "            ).unsqueeze(-1)\n",
    "            quantile_losses.append(quantile_error)\n",
    "\n",
    "        quantile_losses = torch.cat(quantile_losses, dim = 2)\n",
    "        return quantile_losses"
   ]
  },
  {
   "cell_type": "code",
   "execution_count": 31,
   "id": "a2da1985-55fe-4b63-bf5a-fed283a299e6",
   "metadata": {
    "jupyter": {
     "source_hidden": true
    }
   },
   "outputs": [],
   "source": [
    "# Define model class\n",
    "class StatefulQuantileLSTM(L.LightningModule):\n",
    "\n",
    "    # Initialize model\n",
    "    def __init__(self, hyperparams_dict):\n",
    "        \n",
    "         # Delegate function to parent class\n",
    "        super().__init__() \n",
    "        \n",
    "        # Save external hyperparameters so they are available when loading saved models\n",
    "        self.save_hyperparameters(logger = False) \n",
    "\n",
    "        # Define hyperparameters\n",
    "        self.output_length = hyperparams_dict[\"output_length\"] # Length of output sequence\n",
    "        self.input_size = hyperparams_dict[\"input_size\"] # Number of features (network inputs)\n",
    "        self.horizon_start = hyperparams_dict[\"horizon_start\"] # Start of the forecast horizon relevant for loss computing\n",
    "        self.quantiles = hyperparams_dict[\"quantiles\"] # Provide as list of floats: [0.025, 0.5, 0.975]\n",
    "        self.learning_rate = hyperparams_dict[\"learning_rate\"]\n",
    "        self.lr_decay = hyperparams_dict[\"lr_decay\"]\n",
    "        self.num_layers = hyperparams_dict[\"num_layers\"] # Number of layers in the LSTM block\n",
    "        self.hidden_size = hyperparams_dict[\"hidden_size\"] # Number of units in each LSTM block = LSTM block output size\n",
    "        self.dropout_rate = hyperparams_dict[\"dropout_rate\"]\n",
    "\n",
    "        # Define architecture\n",
    "        \n",
    "        # LSTM input: input, (prev_hidden_states, prev_cell_states)\n",
    "        # Shapes: (N, input_length, input_size), ((num_layers, N, hidden_size), (num_layers, N, hidden_size))\n",
    "        self.lstm = torch.nn.LSTM(\n",
    "            input_size = self.input_size,\n",
    "            hidden_size = self.hidden_size,\n",
    "            num_layers = self.num_layers,\n",
    "            batch_first = True\n",
    "        )\n",
    "        # LSTM output: output, (last_hidden_states, last_cell_states)\n",
    "        # Shapes: (N, input_length, hidden_size), ((num_layers, N, hidden_size), (num_layers, N, hidden_size))\n",
    "        # \"output\" has the last layer's output / final hidden state for each timestep in the input sequence.\n",
    "        # The tuple of hidden & cell states have the last timestep's hidden & cell states for each LSTM layer.\n",
    "\n",
    "        # Output layer input: LSTM output, shape (N, 1, hidden_size)\n",
    "        # The final hidden state output for the last timestep in the input sequence.\n",
    "        self.output_layer = torch.nn.Linear(\n",
    "            in_features = self.hidden_size,\n",
    "            out_features = len(self.quantiles)\n",
    "        )\n",
    "        # Output layer output: Quantile predictions, shape (N, n_quantiles)\n",
    "\n",
    "        # Loss function: Quantile loss\n",
    "        self.loss = QuantileLoss(quantiles = self.quantiles)\n",
    "        self._median_quantile = np.median(self.quantiles)\n",
    "        self._median_quantile_idx = self.quantiles.index(self._median_quantile)\n",
    "\n",
    "        # Initialize hidden & cell state containers for statefulness\n",
    "        self._last_hiddens_train = None\n",
    "        self._last_cells_train = None\n",
    "        self._final_hiddens_train = None\n",
    "        self._final_cells_train = None\n",
    "\n",
    "    # Define forward propagation\n",
    "    # Pass prev_states as tuple (prev_hidden_states, prev_cell_states)\n",
    "    def forward(self, input_chunk, prev_states = None): \n",
    "\n",
    "        # Pass inputs through LSTMs\n",
    "        # If prev_states is not passed, they are automatically initialized as zeroes\n",
    "        if prev_states == None:\n",
    "            lstm_output, (last_hidden_states, last_cell_states) = self.lstm(input_chunk)\n",
    "        else: \n",
    "            lstm_output, (last_hidden_states, last_cell_states) = self.lstm(input_chunk, prev_states)\n",
    "\n",
    "        # Pass final LSTM output through output layer. Keep in mind this is the last layer's hidden state\n",
    "        # output for the last timestep in the input sequence.\n",
    "        preds = self.output_layer(lstm_output[:, -1, :])\n",
    "\n",
    "        return last_hidden_states, last_cell_states, preds\n",
    "\n",
    "    # Retain the computational graphs across backprop steps, so backprop across time can be performed\n",
    "    # across batches. Demands more GPU memory.\n",
    "    def backward(self, loss):\n",
    "\n",
    "        # Free the computational graph on the last step of an epoch.\n",
    "        # If this is not done, GPU memory will fill up, even after the model itself is deleted.\n",
    "        if self.trainer.is_last_batch:\n",
    "            loss.backward(retain_graph = False)\n",
    "\n",
    "        # Retain the computational graph on all steps except last in an epoch.\n",
    "        else:\n",
    "            loss.backward(retain_graph = True)\n",
    "\n",
    "    # Define training step\n",
    "    def training_step(self, batch, batch_idx):\n",
    "\n",
    "        # Initialize variables to record horizon, hidden & cell states, predictions\n",
    "        h = 0\n",
    "        prev_hiddens = []\n",
    "        prev_cells = []\n",
    "        batch_preds = []\n",
    "\n",
    "        # Get inputs & outputs for first forecast step\n",
    "        input_sequences, output_sequences = batch\n",
    "        input_seq = input_sequences # Inputs of the forecast step 0. (N, input_length, input_size) \n",
    "        output_seq = output_sequences[:, 0, :] # Target & future covars of forecast step 0. Needed for later forecast steps. (N, input_size)\n",
    "\n",
    "        # Perform training & recording for first forecast step\n",
    "        # If a hidden & cell state is retained from the previous batch, use it. This will be the case for all batches except the first in an epoch.\n",
    "        if self._last_hiddens_train == None:\n",
    "            last_hidden_states, last_cell_states, preds = self.forward(input_seq)\n",
    "        else:\n",
    "            last_hidden_states, last_cell_states, preds = self.forward(\n",
    "                input_seq, \n",
    "                prev_states = (self._last_hiddens_train, self._last_cells_train)\n",
    "            )\n",
    "\n",
    "        prev_hiddens.append(last_hidden_states) # 1-dimensional list. Each element has shape (num_layers, N, hidden_size)\n",
    "        prev_cells.append(last_cell_states) # 1-dimensional list. Each element has shape (num_layers, N, hidden_size)\n",
    "        batch_preds.append(preds) # 1-dimensional list. Each element has shape (N, n_quantiles)\n",
    "        h += 1\n",
    "\n",
    "        # Perform training & recording for remaining forecast steps\n",
    "        while h < self.output_length:\n",
    "\n",
    "            # Get inputs & outputs for forecast step h: \n",
    "            input_seq = torch.cat((\n",
    "                input_seq[:, 1:, :], # Inputs of the previous forecast step, with the first row dropped. (N, input_length - 1, input_size)\n",
    "                output_seq.unsqueeze(1) # Target & future covars of previous forecast step, the last row of the new input. (N, 1, input_size)\n",
    "            ), dim = 1)\n",
    "            \n",
    "            output_seq = output_sequences[:, h, :] # Target & covars. of forecast step h. Needed for later forecast steps. (N, input_size)\n",
    "\n",
    "            # Perform training & recording for forecast step h:\n",
    "            last_hidden_states, last_cell_states, preds = self.forward(\n",
    "                input_seq, \n",
    "                prev_states = (prev_hiddens[h-1], prev_cells[h-1])\n",
    "            )\n",
    "            prev_hiddens.append(last_hidden_states)\n",
    "            prev_cells.append(last_cell_states)\n",
    "            batch_preds.append(preds)\n",
    "            h += 1\n",
    "\n",
    "        # Calculate quantile loss for all forecast steps starting from the horizon\n",
    "        # We're only interested in predicting from T+8 to T+32, but predictions at T+1 will depend on predictions at T,\n",
    "        # so calculating loss over all h steps is probably ideal (horizon_start = 0). The code below supports either method.\n",
    "        preds_horizon = batch_preds[self.horizon_start:] # List length (output_length - horizon_start). Each element has shape (N, n_quantiles).\n",
    "        preds_horizon = torch.stack(preds_horizon, dim = 1) # Shape (N, output_length - horizon_start, n_quantiles)\n",
    "        targets_horizon = output_sequences[:, self.horizon_start:, 0] # Target values from horizon to end of sequence. Shape(N, output_length - horizon_start)\n",
    "        loss = self.loss.loss(preds_horizon, targets_horizon) # Quantile losses for each batch & timestep. Shape (N, output_length - horizon_start, n_quantiles)\n",
    "\n",
    "        # Reduce the quantile loss\n",
    "        # A lot of room for experimentation here. Below is the typical application for RNNs. See: \n",
    "        # (https://stanford.edu/~shervine/teaching/cs-230/cheatsheet-recurrent-neural-networks#overview)\n",
    "        loss_reduced = loss.mean(dim = 2) # Average over quantiles. Yields (N, output_length - horizon_start)\n",
    "        loss_reduced = loss_reduced.sum(dim = 1) # Sum over forecast steps. Yields (N)\n",
    "        loss_reduced = loss_reduced.mean() # Average over batches. Yields scalar loss for backpropagation.\n",
    "        \n",
    "        # Log the training loss\n",
    "        self.log(\"train_loss\", loss_reduced, on_step = True, on_epoch = True, prog_bar = True, logger = False)\n",
    "\n",
    "        # Update last hidden & cell states from training (for within-epoch use)\n",
    "        self._last_hiddens_train = prev_hiddens[-1]\n",
    "        self._last_cells_train = prev_cells[-1]\n",
    "\n",
    "        # Update final hidden & cell states from training (for inference)\n",
    "        self._final_hiddens_train = prev_hiddens[-1]\n",
    "        self._final_cells_train = prev_cells[-1]\n",
    "\n",
    "        return loss_reduced\n",
    "\n",
    "    # When a training epoch ends, flush the last hidden & cell states.\n",
    "    # Final hidden & cell states remain for inference.\n",
    "    def on_train_epoch_end(self):\n",
    "        self._last_hiddens_train = None\n",
    "        self._last_cells_train = None\n",
    "\n",
    "    # Method to flush the final hidden & cell states left from training, if desired\n",
    "    def reset_states(self):\n",
    "        self._final_hiddens_train = None\n",
    "        self._final_cells_train = None\n",
    "\n",
    "    # Define validation_step\n",
    "    def validation_step(self, batch, batch_idx):\n",
    "\n",
    "        # Initialize variables to record horizon, hidden & cell states, predictions\n",
    "        h = 0\n",
    "        prev_hiddens = []\n",
    "        prev_cells = []\n",
    "        batch_preds = []\n",
    "\n",
    "        # Get inputs & outputs for first forecast step\n",
    "        input_sequences, output_sequences = batch\n",
    "        input_seq = input_sequences # Inputs of the forecast step 0. (N, input_length, input_size) \n",
    "        output_seq = output_sequences[:, 0, 1:] # Future covars of forecast step 0. Needed for later forecast steps. (N, input_size - 1)\n",
    "\n",
    "        # Perform validation & recording for first forecast step\n",
    "        # If a hidden & cell state is retained from training, use it.\n",
    "        if self._final_hiddens_train == None:\n",
    "            last_hidden_states, last_cell_states, preds = self.forward(input_seq)\n",
    "        else:\n",
    "            last_hidden_states, last_cell_states, preds = self.forward(\n",
    "                input_seq, \n",
    "                prev_states = (self._final_hiddens_train, self._final_cells_train)\n",
    "            )\n",
    "\n",
    "        prev_hiddens.append(last_hidden_states) # 1-dimensional list. Each element has shape (num_layers, N, hidden_size)\n",
    "        prev_cells.append(last_cell_states) # 1-dimensional list. Each element has shape (num_layers, N, hidden_size)\n",
    "        batch_preds.append(preds) # 1-dimensional list. Each element has shape (N, n_quantiles)\n",
    "        h += 1\n",
    "\n",
    "        # Perform validation & recording for remaining forecast steps\n",
    "        while h < self.output_length:\n",
    "\n",
    "            # Get inputs & outputs for forecast step h:\n",
    "            output_seq = torch.cat((\n",
    "                batch_preds[h-1][:, self._median_quantile_idx].unsqueeze(1), # Point prediction of forecast step 0. (N, 1)\n",
    "                output_seq # Future covars of forecast step 0. (N, input_size - 1)\n",
    "            ), dim = 1)\n",
    "            \n",
    "            input_seq = torch.cat((\n",
    "                input_seq[:, 1:, :], # Inputs of the previous forecast step, with the first row dropped. (N, input_length - 1, input_size)\n",
    "                output_seq.unsqueeze(1) # Prediction & future covars of previous forecast step, the last row of the new input. (N, 1, input_size)\n",
    "            ), dim = 1)\n",
    "            \n",
    "            output_seq = output_sequences[:, h, 1:] # Future covars. of forecast step h. Needed for later forecast steps. (N, input_size-1)\n",
    "\n",
    "            # Perform training & recording for forecast step h:\n",
    "            last_hidden_states, last_cell_states, preds = self.forward(\n",
    "                input_seq, \n",
    "                prev_states = (prev_hiddens[h-1], prev_cells[h-1])\n",
    "            )\n",
    "            prev_hiddens.append(last_hidden_states)\n",
    "            prev_cells.append(last_cell_states)\n",
    "            batch_preds.append(preds)\n",
    "            h += 1\n",
    "\n",
    "        # Calculate loss for forecast steps starting from horizon\n",
    "        preds_horizon = batch_preds[self.horizon_start:] # List length (output_length - horizon_start). Each element has shape (N, n_quantiles).\n",
    "        preds_horizon = torch.stack(preds_horizon, dim = 1) # Shape (N, output_length - horizon_start, n_quantiles)\n",
    "        targets_horizon = output_sequences[:, self.horizon_start:, 0] # Target values from horizon to end of sequence. Shape(N, output_length - horizon_start)\n",
    "        loss = self.loss.loss(preds_horizon, targets_horizon) # Quantile losses for each batch & timestep. Shape (N, output_length - horizon_start, n_quantiles)\n",
    "\n",
    "        # Reduce the quantile loss\n",
    "        loss_reduced = loss.mean(dim = 2) # Average over quantiles. Yields (N, output_length - horizon_start)\n",
    "        loss_reduced = loss_reduced.sum(dim = 1) # Sum over forecast steps. Yields (N)\n",
    "        loss_reduced = loss_reduced.mean() # Average over batches. Yields scalar loss for backpropagation.\n",
    "\n",
    "        # Log the val. loss\n",
    "        self.log(\"val_loss\", loss_reduced, on_step = True, on_epoch = True, prog_bar = True, logger = False)\n",
    "\n",
    "        return loss_reduced\n",
    "\n",
    "    # Define prediction_step\n",
    "    def predict_step(self, batch, batch_idx):\n",
    "\n",
    "        # Initialize variables to record horizon, hidden & cell states, predictions\n",
    "        h = 0\n",
    "        prev_hiddens = []\n",
    "        prev_cells = []\n",
    "        batch_preds = []\n",
    "\n",
    "        # Get inputs & outputs for first forecast step\n",
    "        input_sequences, output_sequences = batch\n",
    "        input_seq = input_sequences # Inputs of the forecast step 0. (N, input_length, input_size) \n",
    "        output_seq = output_sequences[:, 0, 1:] # Future covars of forecast step 0. Needed for later forecast steps. (N, input_size - 1)\n",
    "\n",
    "        # Perform prediction & recording for first forecast step\n",
    "        # If a hidden & cell state is retained from training, use it.\n",
    "        if self._final_hiddens_train == None:\n",
    "            last_hidden_states, last_cell_states, preds = self.forward(input_seq)\n",
    "        else:\n",
    "            last_hidden_states, last_cell_states, preds = self.forward(\n",
    "                input_seq, \n",
    "                prev_states = (self._final_hiddens_train, self._final_cells_train)\n",
    "            )\n",
    "\n",
    "        prev_hiddens.append(last_hidden_states) # 1-dimensional list. Each element has shape (num_layers, N, hidden_size)\n",
    "        prev_cells.append(last_cell_states) # 1-dimensional list. Each element has shape (num_layers, N, hidden_size)\n",
    "        batch_preds.append(preds) # 1-dimensional list. Each element has shape (N, n_quantiles)\n",
    "        h += 1\n",
    "\n",
    "        # Perform prediction & recording for remaining forecast steps\n",
    "        while h < self.output_length:\n",
    "\n",
    "            # Get inputs & outputs for forecast step h:\n",
    "            output_seq = torch.cat((\n",
    "                batch_preds[h-1][:, self._median_quantile_idx].unsqueeze(1), # Point prediction of forecast step 0. (N, 1)\n",
    "                output_seq # Future covars of forecast step 0. (N, input_size - 1)\n",
    "            ), dim = 1)\n",
    "            \n",
    "            input_seq = torch.cat((\n",
    "                input_seq[:, 1:, :], # Inputs of the previous forecast step, with the first row dropped. (N, input_length - 1, input_size)\n",
    "                output_seq.unsqueeze(1) # Prediction & future covars of previous forecast step, the last row of the new input. (N, 1, input_size)\n",
    "            ), dim = 1)\n",
    "            \n",
    "            output_seq = output_sequences[:, h, 1:] # Future covars. of forecast step h. Needed for later forecast steps. (N, input_size-1)\n",
    "\n",
    "            # Perform training & recording for forecast step h:\n",
    "            last_hidden_states, last_cell_states, preds = self.forward(\n",
    "                input_seq, \n",
    "                prev_states = (prev_hiddens[h-1], prev_cells[h-1])\n",
    "            )\n",
    "            prev_hiddens.append(last_hidden_states)\n",
    "            prev_cells.append(last_cell_states)\n",
    "            batch_preds.append(preds)\n",
    "            h += 1\n",
    "\n",
    "        # Reshape predictions\n",
    "        preds = torch.stack(batch_preds, dim = 0) # Yields shape (output_length, N, n_quantiles)\n",
    "        preds = torch.movedim(preds, 1, 0) # Yields shape (N, output_length, n_quantiles)\n",
    "\n",
    "        return preds\n",
    "\n",
    "    # Define optimizer & learning rate scheduler\n",
    "    def configure_optimizers(self):\n",
    "\n",
    "        # Adam optimizer\n",
    "        optimizer = torch.optim.Adam(self.parameters(), lr = self.learning_rate)\n",
    "        \n",
    "        # Exponential LR scheduler\n",
    "        lr_scheduler = torch.optim.lr_scheduler.ExponentialLR(\n",
    "          optimizer, gamma = self.lr_decay) \n",
    "        \n",
    "        return {\n",
    "        \"optimizer\": optimizer,\n",
    "        \"lr_scheduler\": {\n",
    "          \"scheduler\": lr_scheduler\n",
    "          }\n",
    "        }\n",
    "        "
   ]
  },
  {
   "cell_type": "markdown",
   "id": "62efdf47-113d-49dd-8214-3cb2a4ff9c43",
   "metadata": {},
   "source": [
    "## Hyperparameter tuning with Optuna"
   ]
  },
  {
   "cell_type": "code",
   "execution_count": 32,
   "id": "a42fa951-e14b-49c6-8c20-98685c0adeb6",
   "metadata": {},
   "outputs": [],
   "source": [
    "# Define model parameters\n",
    "horizon_start = 0 # Output step to start loss calculation from\n",
    "quantiles = [0.025, 0.5, 0.975] # Quantiles to predict\n",
    "tol = 0.002 # Change in MAE to avoid early stopping\n",
    "patience = 5 # N. of rounds with no improvement before early stopping"
   ]
  },
  {
   "cell_type": "code",
   "execution_count": 33,
   "id": "1abfd441-0457-45fe-9e5f-a8f2942c6056",
   "metadata": {
    "jupyter": {
     "source_hidden": true
    }
   },
   "outputs": [],
   "source": [
    "# Define Optuna objective\n",
    "def objective_lstm(trial):\n",
    "\n",
    "    # Define search space\n",
    "    learning_rate = trial.suggest_float(\"learning_rate\", 5e-4, 5e-2) # 0.0005 to 0.05\n",
    "    lr_decay = trial.suggest_float(\"lr_decay\", 0.9, 1)\n",
    "    num_layers = trial.suggest_int(\"num_layers\", 1, 3)\n",
    "    hidden_size = 2 ** trial.suggest_int(\"hidden_size_pw\", 2, 4) # 4 to 16, powers of 2\n",
    "    dropout_rate = trial.suggest_float(\"dropout_rate\", 0, 0.1)\n",
    "\n",
    "    # Create hyperparameters dict\n",
    "    hyperparameters_dict = {\n",
    "        \"output_length\": output_length,\n",
    "        \"input_size\": input_dims,\n",
    "        \"horizon_start\": horizon_start,\n",
    "        \"quantiles\": quantiles,\n",
    "        \"learning_rate\": learning_rate,\n",
    "        \"lr_decay\": lr_decay,\n",
    "        \"num_layers\": num_layers,\n",
    "        \"hidden_size\": hidden_size,\n",
    "        \"dropout_rate\": dropout_rate\n",
    "    }\n",
    "\n",
    "    # Create early stop callback\n",
    "    callback_earlystop = L.pytorch.callbacks.EarlyStopping(\n",
    "        monitor = \"val_loss\", \n",
    "        mode = \"min\", \n",
    "        min_delta = tol, \n",
    "        patience = patience\n",
    "    )\n",
    "\n",
    "    # Create pruning callback\n",
    "    callback_pruner = PyTorchLightningPruningCallback(trial, monitor = \"val_loss\")\n",
    "\n",
    "    # Create trainer\n",
    "    trainer = L.Trainer(\n",
    "        max_epochs = 50,\n",
    "        accelerator = \"gpu\",\n",
    "        devices = \"auto\",\n",
    "        precision = \"16-mixed\",\n",
    "        callbacks = [callback_earlystop, callback_pruner],\n",
    "        enable_model_summary = False,\n",
    "        logger = False,\n",
    "        enable_progress_bar = False,\n",
    "        enable_checkpointing = False\n",
    "    )\n",
    "\n",
    "    # Create & train model\n",
    "    model = StatefulQuantileLSTM(hyperparameters_dict)\n",
    "    trainer.fit(model, tr_loader, val_loader)\n",
    "\n",
    "    # Retrieve best val score and n. of epochs\n",
    "    score = callback_earlystop.best_score.cpu().numpy()\n",
    "    epoch = trainer.current_epoch - callback_earlystop.wait_count # Starts from 1\n",
    "\n",
    "    # Report best n. of epochs to study\n",
    "    trial.set_user_attr(\"n_epochs\", epoch)\n",
    "  \n",
    "    return score"
   ]
  },
  {
   "cell_type": "code",
   "execution_count": 34,
   "id": "1574517f-1bfc-41f3-b7a1-e2a44d751696",
   "metadata": {},
   "outputs": [
    {
     "name": "stderr",
     "output_type": "stream",
     "text": [
      "[I 2024-03-01 17:31:07,369] A new study created in memory with name: tune_lstm\n"
     ]
    }
   ],
   "source": [
    "# Create study\n",
    "study_lstm = optuna.create_study(\n",
    "  sampler = optuna.samplers.TPESampler(seed = random_seed),\n",
    "  pruner = optuna.pruners.HyperbandPruner(),\n",
    "  study_name = \"tune_lstm\",\n",
    "  direction = \"minimize\"\n",
    ")"
   ]
  },
  {
   "cell_type": "code",
   "execution_count": 35,
   "id": "2099ce40-0f12-4ef5-8702-2eb6509bacea",
   "metadata": {
    "collapsed": true,
    "jupyter": {
     "outputs_hidden": true
    }
   },
   "outputs": [
    {
     "name": "stderr",
     "output_type": "stream",
     "text": [
      "  0%|                                                                                          | 0/100 [00:00<?, ?it/s]Using 16bit Automatic Mixed Precision (AMP)\n",
      "GPU available: True (cuda), used: True\n",
      "TPU available: False, using: 0 TPU cores\n",
      "IPU available: False, using: 0 IPUs\n",
      "HPU available: False, using: 0 HPUs\n",
      "LOCAL_RANK: 0 - CUDA_VISIBLE_DEVICES: [0]\n",
      "Best trial: 0. Best value: 1.08935:   1%|▍                                           | 1/100 [00:38<1:03:34, 38.54s/it]Using 16bit Automatic Mixed Precision (AMP)\n",
      "GPU available: True (cuda), used: True\n",
      "TPU available: False, using: 0 TPU cores\n",
      "IPU available: False, using: 0 IPUs\n",
      "HPU available: False, using: 0 HPUs\n",
      "LOCAL_RANK: 0 - CUDA_VISIBLE_DEVICES: [0]\n"
     ]
    },
    {
     "name": "stdout",
     "output_type": "stream",
     "text": [
      "[I 2024-03-01 17:31:46,836] Trial 0 finished with value: 1.0893502235412598 and parameters: {'learning_rate': 0.02157910715451383, 'lr_decay': 0.9346756069675324, 'num_layers': 2, 'hidden_size_pw': 3, 'dropout_rate': 0.0031718957273999763}. Best is trial 0 with value: 1.0893502235412598.\n"
     ]
    },
    {
     "name": "stderr",
     "output_type": "stream",
     "text": [
      "Best trial: 0. Best value: 1.08935:   2%|▉                                           | 2/100 [01:31<1:16:52, 47.07s/it]Using 16bit Automatic Mixed Precision (AMP)\n",
      "GPU available: True (cuda), used: True\n",
      "TPU available: False, using: 0 TPU cores\n",
      "IPU available: False, using: 0 IPUs\n",
      "HPU available: False, using: 0 HPUs\n",
      "LOCAL_RANK: 0 - CUDA_VISIBLE_DEVICES: [0]\n"
     ]
    },
    {
     "name": "stdout",
     "output_type": "stream",
     "text": [
      "[I 2024-03-01 17:32:39,881] Trial 1 finished with value: 1.144487977027893 and parameters: {'learning_rate': 0.025125791633983114, 'lr_decay': 0.9626304325936271, 'num_layers': 3, 'hidden_size_pw': 4, 'dropout_rate': 0.08779857558783234}. Best is trial 0 with value: 1.0893502235412598.\n"
     ]
    },
    {
     "name": "stderr",
     "output_type": "stream",
     "text": [
      "Best trial: 0. Best value: 1.08935:   3%|█▍                                            | 3/100 [01:52<56:54, 35.20s/it]Using 16bit Automatic Mixed Precision (AMP)\n",
      "GPU available: True (cuda), used: True\n",
      "TPU available: False, using: 0 TPU cores\n",
      "IPU available: False, using: 0 IPUs\n",
      "HPU available: False, using: 0 HPUs\n",
      "LOCAL_RANK: 0 - CUDA_VISIBLE_DEVICES: [0]\n"
     ]
    },
    {
     "name": "stdout",
     "output_type": "stream",
     "text": [
      "[I 2024-03-01 17:33:00,953] Trial 2 finished with value: 1.1233221292495728 and parameters: {'learning_rate': 0.04126682642755115, 'lr_decay': 0.9256262503065696, 'num_layers': 1, 'hidden_size_pw': 2, 'dropout_rate': 0.03375573253727362}. Best is trial 0 with value: 1.0893502235412598.\n"
     ]
    },
    {
     "name": "stderr",
     "output_type": "stream",
     "text": [
      "Best trial: 0. Best value: 1.08935:   4%|█▊                                            | 4/100 [02:24<54:03, 33.79s/it]Using 16bit Automatic Mixed Precision (AMP)\n",
      "GPU available: True (cuda), used: True\n",
      "TPU available: False, using: 0 TPU cores\n",
      "IPU available: False, using: 0 IPUs\n",
      "HPU available: False, using: 0 HPUs\n",
      "LOCAL_RANK: 0 - CUDA_VISIBLE_DEVICES: [0]\n"
     ]
    },
    {
     "name": "stdout",
     "output_type": "stream",
     "text": [
      "[I 2024-03-01 17:33:32,581] Trial 3 finished with value: 1.3581682443618774 and parameters: {'learning_rate': 0.03257271728832828, 'lr_decay': 0.9639393932876937, 'num_layers': 3, 'hidden_size_pw': 4, 'dropout_rate': 0.03924031269500075}. Best is trial 0 with value: 1.0893502235412598.\n"
     ]
    },
    {
     "name": "stderr",
     "output_type": "stream",
     "text": [
      "Best trial: 4. Best value: 1.04005:   5%|██▏                                         | 5/100 [03:46<1:20:52, 51.08s/it]Using 16bit Automatic Mixed Precision (AMP)\n",
      "GPU available: True (cuda), used: True\n",
      "TPU available: False, using: 0 TPU cores\n",
      "IPU available: False, using: 0 IPUs\n",
      "HPU available: False, using: 0 HPUs\n",
      "LOCAL_RANK: 0 - CUDA_VISIBLE_DEVICES: [0]\n"
     ]
    },
    {
     "name": "stdout",
     "output_type": "stream",
     "text": [
      "[I 2024-03-01 17:34:54,311] Trial 4 finished with value: 1.0400465726852417 and parameters: {'learning_rate': 0.012050904779429578, 'lr_decay': 0.9675867165305955, 'num_layers': 3, 'hidden_size_pw': 2, 'dropout_rate': 0.06597929508765932}. Best is trial 4 with value: 1.0400465726852417.\n"
     ]
    },
    {
     "name": "stderr",
     "output_type": "stream",
     "text": [
      "Best trial: 4. Best value: 1.04005:   6%|██▋                                         | 6/100 [04:15<1:08:34, 43.77s/it]Using 16bit Automatic Mixed Precision (AMP)\n",
      "GPU available: True (cuda), used: True\n",
      "TPU available: False, using: 0 TPU cores\n",
      "IPU available: False, using: 0 IPUs\n",
      "HPU available: False, using: 0 HPUs\n",
      "LOCAL_RANK: 0 - CUDA_VISIBLE_DEVICES: [0]\n"
     ]
    },
    {
     "name": "stdout",
     "output_type": "stream",
     "text": [
      "[I 2024-03-01 17:35:23,907] Trial 5 finished with value: 1.2352088689804077 and parameters: {'learning_rate': 0.04913656500533974, 'lr_decay': 0.9772941044736901, 'num_layers': 2, 'hidden_size_pw': 3, 'dropout_rate': 0.08750864425889371}. Best is trial 4 with value: 1.0400465726852417.\n"
     ]
    },
    {
     "name": "stderr",
     "output_type": "stream",
     "text": [
      "Best trial: 4. Best value: 1.04005:   7%|███▏                                          | 7/100 [04:21<48:41, 31.41s/it]Using 16bit Automatic Mixed Precision (AMP)\n",
      "GPU available: True (cuda), used: True\n",
      "TPU available: False, using: 0 TPU cores\n",
      "IPU available: False, using: 0 IPUs\n",
      "HPU available: False, using: 0 HPUs\n",
      "LOCAL_RANK: 0 - CUDA_VISIBLE_DEVICES: [0]\n"
     ]
    },
    {
     "name": "stdout",
     "output_type": "stream",
     "text": [
      "[I 2024-03-01 17:35:29,870] Trial 6 pruned. Trial was pruned at epoch 1.\n"
     ]
    },
    {
     "name": "stderr",
     "output_type": "stream",
     "text": [
      "Best trial: 4. Best value: 1.04005:   8%|███▋                                          | 8/100 [04:27<35:54, 23.42s/it]Using 16bit Automatic Mixed Precision (AMP)\n",
      "GPU available: True (cuda), used: True\n",
      "TPU available: False, using: 0 TPU cores\n",
      "IPU available: False, using: 0 IPUs\n",
      "HPU available: False, using: 0 HPUs\n",
      "LOCAL_RANK: 0 - CUDA_VISIBLE_DEVICES: [0]\n"
     ]
    },
    {
     "name": "stdout",
     "output_type": "stream",
     "text": [
      "[I 2024-03-01 17:35:36,165] Trial 7 pruned. Trial was pruned at epoch 1.\n"
     ]
    },
    {
     "name": "stderr",
     "output_type": "stream",
     "text": [
      "Best trial: 4. Best value: 1.04005:   9%|████▏                                         | 9/100 [04:33<27:10, 17.92s/it]Using 16bit Automatic Mixed Precision (AMP)\n",
      "GPU available: True (cuda), used: True\n",
      "TPU available: False, using: 0 TPU cores\n",
      "IPU available: False, using: 0 IPUs\n",
      "HPU available: False, using: 0 HPUs\n",
      "LOCAL_RANK: 0 - CUDA_VISIBLE_DEVICES: [0]\n"
     ]
    },
    {
     "name": "stdout",
     "output_type": "stream",
     "text": [
      "[I 2024-03-01 17:35:42,005] Trial 8 pruned. Trial was pruned at epoch 1.\n"
     ]
    },
    {
     "name": "stderr",
     "output_type": "stream",
     "text": [
      "Best trial: 4. Best value: 1.04005:  10%|████▌                                        | 10/100 [04:50<26:31, 17.68s/it]Using 16bit Automatic Mixed Precision (AMP)\n",
      "GPU available: True (cuda), used: True\n",
      "TPU available: False, using: 0 TPU cores\n",
      "IPU available: False, using: 0 IPUs\n",
      "HPU available: False, using: 0 HPUs\n",
      "LOCAL_RANK: 0 - CUDA_VISIBLE_DEVICES: [0]\n"
     ]
    },
    {
     "name": "stdout",
     "output_type": "stream",
     "text": [
      "[I 2024-03-01 17:35:59,149] Trial 9 pruned. Trial was pruned at epoch 3.\n"
     ]
    },
    {
     "name": "stderr",
     "output_type": "stream",
     "text": [
      "Best trial: 4. Best value: 1.04005:  11%|████▉                                        | 11/100 [05:01<23:13, 15.66s/it]Using 16bit Automatic Mixed Precision (AMP)\n",
      "GPU available: True (cuda), used: True\n",
      "TPU available: False, using: 0 TPU cores\n",
      "IPU available: False, using: 0 IPUs\n",
      "HPU available: False, using: 0 HPUs\n",
      "LOCAL_RANK: 0 - CUDA_VISIBLE_DEVICES: [0]\n"
     ]
    },
    {
     "name": "stdout",
     "output_type": "stream",
     "text": [
      "[I 2024-03-01 17:36:10,231] Trial 10 pruned. Trial was pruned at epoch 1.\n"
     ]
    },
    {
     "name": "stderr",
     "output_type": "stream",
     "text": [
      "Best trial: 4. Best value: 1.04005:  12%|█████▍                                       | 12/100 [05:10<19:45, 13.48s/it]Using 16bit Automatic Mixed Precision (AMP)\n",
      "GPU available: True (cuda), used: True\n",
      "TPU available: False, using: 0 TPU cores\n",
      "IPU available: False, using: 0 IPUs\n",
      "HPU available: False, using: 0 HPUs\n",
      "LOCAL_RANK: 0 - CUDA_VISIBLE_DEVICES: [0]\n"
     ]
    },
    {
     "name": "stdout",
     "output_type": "stream",
     "text": [
      "[I 2024-03-01 17:36:18,704] Trial 11 pruned. Trial was pruned at epoch 1.\n"
     ]
    },
    {
     "name": "stderr",
     "output_type": "stream",
     "text": [
      "Best trial: 4. Best value: 1.04005:  13%|█████▊                                       | 13/100 [05:21<18:28, 12.74s/it]Using 16bit Automatic Mixed Precision (AMP)\n",
      "GPU available: True (cuda), used: True\n",
      "TPU available: False, using: 0 TPU cores\n",
      "IPU available: False, using: 0 IPUs\n",
      "HPU available: False, using: 0 HPUs\n",
      "LOCAL_RANK: 0 - CUDA_VISIBLE_DEVICES: [0]\n"
     ]
    },
    {
     "name": "stdout",
     "output_type": "stream",
     "text": [
      "[I 2024-03-01 17:36:29,761] Trial 12 pruned. Trial was pruned at epoch 1.\n"
     ]
    },
    {
     "name": "stderr",
     "output_type": "stream",
     "text": [
      "Best trial: 4. Best value: 1.04005:  14%|██████▎                                      | 14/100 [05:56<27:51, 19.44s/it]Using 16bit Automatic Mixed Precision (AMP)\n",
      "GPU available: True (cuda), used: True\n",
      "TPU available: False, using: 0 TPU cores\n",
      "IPU available: False, using: 0 IPUs\n",
      "HPU available: False, using: 0 HPUs\n",
      "LOCAL_RANK: 0 - CUDA_VISIBLE_DEVICES: [0]\n"
     ]
    },
    {
     "name": "stdout",
     "output_type": "stream",
     "text": [
      "[I 2024-03-01 17:37:04,666] Trial 13 finished with value: 1.6046735048294067 and parameters: {'learning_rate': 0.0005655971631260762, 'lr_decay': 0.9361940303917007, 'num_layers': 2, 'hidden_size_pw': 2, 'dropout_rate': 0.015547429221618635}. Best is trial 4 with value: 1.0400465726852417.\n"
     ]
    },
    {
     "name": "stderr",
     "output_type": "stream",
     "text": [
      "Best trial: 4. Best value: 1.04005:  15%|██████▊                                      | 15/100 [06:30<33:36, 23.72s/it]Using 16bit Automatic Mixed Precision (AMP)\n",
      "GPU available: True (cuda), used: True\n",
      "TPU available: False, using: 0 TPU cores\n",
      "IPU available: False, using: 0 IPUs\n",
      "HPU available: False, using: 0 HPUs\n",
      "LOCAL_RANK: 0 - CUDA_VISIBLE_DEVICES: [0]\n"
     ]
    },
    {
     "name": "stdout",
     "output_type": "stream",
     "text": [
      "[I 2024-03-01 17:37:38,325] Trial 14 finished with value: 1.2864104509353638 and parameters: {'learning_rate': 0.02615550889673396, 'lr_decay': 0.9429192300295749, 'num_layers': 2, 'hidden_size_pw': 3, 'dropout_rate': 0.05353207101868828}. Best is trial 4 with value: 1.0400465726852417.\n"
     ]
    },
    {
     "name": "stderr",
     "output_type": "stream",
     "text": [
      "Best trial: 4. Best value: 1.04005:  16%|███████▏                                     | 16/100 [06:41<27:56, 19.95s/it]Using 16bit Automatic Mixed Precision (AMP)\n",
      "GPU available: True (cuda), used: True\n",
      "TPU available: False, using: 0 TPU cores\n",
      "IPU available: False, using: 0 IPUs\n",
      "HPU available: False, using: 0 HPUs\n",
      "LOCAL_RANK: 0 - CUDA_VISIBLE_DEVICES: [0]\n"
     ]
    },
    {
     "name": "stdout",
     "output_type": "stream",
     "text": [
      "[I 2024-03-01 17:37:49,526] Trial 15 pruned. Trial was pruned at epoch 1.\n"
     ]
    },
    {
     "name": "stderr",
     "output_type": "stream",
     "text": [
      "Best trial: 16. Best value: 1.01442:  17%|███████▍                                    | 17/100 [07:18<34:44, 25.11s/it]Using 16bit Automatic Mixed Precision (AMP)\n",
      "GPU available: True (cuda), used: True\n",
      "TPU available: False, using: 0 TPU cores\n",
      "IPU available: False, using: 0 IPUs\n",
      "HPU available: False, using: 0 HPUs\n",
      "LOCAL_RANK: 0 - CUDA_VISIBLE_DEVICES: [0]\n"
     ]
    },
    {
     "name": "stdout",
     "output_type": "stream",
     "text": [
      "[I 2024-03-01 17:38:26,626] Trial 16 finished with value: 1.0144165754318237 and parameters: {'learning_rate': 0.01917158635739378, 'lr_decay': 0.9874099910109164, 'num_layers': 2, 'hidden_size_pw': 4, 'dropout_rate': 0.022246414040094753}. Best is trial 16 with value: 1.0144165754318237.\n"
     ]
    },
    {
     "name": "stderr",
     "output_type": "stream",
     "text": [
      "Best trial: 16. Best value: 1.01442:  18%|███████▉                                    | 18/100 [07:39<32:53, 24.06s/it]Using 16bit Automatic Mixed Precision (AMP)\n",
      "GPU available: True (cuda), used: True\n",
      "TPU available: False, using: 0 TPU cores\n",
      "IPU available: False, using: 0 IPUs\n",
      "HPU available: False, using: 0 HPUs\n",
      "LOCAL_RANK: 0 - CUDA_VISIBLE_DEVICES: [0]\n"
     ]
    },
    {
     "name": "stdout",
     "output_type": "stream",
     "text": [
      "[I 2024-03-01 17:38:48,257] Trial 17 pruned. Trial was pruned at epoch 3.\n"
     ]
    },
    {
     "name": "stderr",
     "output_type": "stream",
     "text": [
      "Best trial: 16. Best value: 1.01442:  19%|████████▎                                   | 19/100 [07:56<29:26, 21.81s/it]Using 16bit Automatic Mixed Precision (AMP)\n",
      "GPU available: True (cuda), used: True\n",
      "TPU available: False, using: 0 TPU cores\n",
      "IPU available: False, using: 0 IPUs\n",
      "HPU available: False, using: 0 HPUs\n",
      "LOCAL_RANK: 0 - CUDA_VISIBLE_DEVICES: [0]\n"
     ]
    },
    {
     "name": "stdout",
     "output_type": "stream",
     "text": [
      "[I 2024-03-01 17:39:04,831] Trial 18 pruned. Trial was pruned at epoch 3.\n"
     ]
    },
    {
     "name": "stderr",
     "output_type": "stream",
     "text": [
      "Best trial: 16. Best value: 1.01442:  20%|████████▊                                   | 20/100 [08:07<24:38, 18.48s/it]Using 16bit Automatic Mixed Precision (AMP)\n",
      "GPU available: True (cuda), used: True\n",
      "TPU available: False, using: 0 TPU cores\n",
      "IPU available: False, using: 0 IPUs\n",
      "HPU available: False, using: 0 HPUs\n",
      "LOCAL_RANK: 0 - CUDA_VISIBLE_DEVICES: [0]\n"
     ]
    },
    {
     "name": "stdout",
     "output_type": "stream",
     "text": [
      "[I 2024-03-01 17:39:15,523] Trial 19 pruned. Trial was pruned at epoch 1.\n"
     ]
    },
    {
     "name": "stderr",
     "output_type": "stream",
     "text": [
      "Best trial: 16. Best value: 1.01442:  21%|█████████▏                                  | 21/100 [08:23<23:33, 17.89s/it]Using 16bit Automatic Mixed Precision (AMP)\n",
      "GPU available: True (cuda), used: True\n",
      "TPU available: False, using: 0 TPU cores\n",
      "IPU available: False, using: 0 IPUs\n",
      "HPU available: False, using: 0 HPUs\n",
      "LOCAL_RANK: 0 - CUDA_VISIBLE_DEVICES: [0]\n"
     ]
    },
    {
     "name": "stdout",
     "output_type": "stream",
     "text": [
      "[I 2024-03-01 17:39:32,053] Trial 20 pruned. Trial was pruned at epoch 3.\n"
     ]
    },
    {
     "name": "stderr",
     "output_type": "stream",
     "text": [
      "Best trial: 16. Best value: 1.01442:  22%|█████████▋                                  | 22/100 [09:04<32:13, 24.79s/it]Using 16bit Automatic Mixed Precision (AMP)\n",
      "GPU available: True (cuda), used: True\n",
      "TPU available: False, using: 0 TPU cores\n",
      "IPU available: False, using: 0 IPUs\n",
      "HPU available: False, using: 0 HPUs\n",
      "LOCAL_RANK: 0 - CUDA_VISIBLE_DEVICES: [0]\n"
     ]
    },
    {
     "name": "stdout",
     "output_type": "stream",
     "text": [
      "[I 2024-03-01 17:40:12,917] Trial 21 finished with value: 1.09694242477417 and parameters: {'learning_rate': 0.02205555295671967, 'lr_decay': 0.9497721350833747, 'num_layers': 2, 'hidden_size_pw': 3, 'dropout_rate': 0.013410766986777777}. Best is trial 16 with value: 1.0144165754318237.\n"
     ]
    },
    {
     "name": "stderr",
     "output_type": "stream",
     "text": [
      "Best trial: 16. Best value: 1.01442:  23%|██████████                                  | 23/100 [09:12<25:28, 19.85s/it]Using 16bit Automatic Mixed Precision (AMP)\n",
      "GPU available: True (cuda), used: True\n",
      "TPU available: False, using: 0 TPU cores\n",
      "IPU available: False, using: 0 IPUs\n",
      "HPU available: False, using: 0 HPUs\n",
      "LOCAL_RANK: 0 - CUDA_VISIBLE_DEVICES: [0]\n"
     ]
    },
    {
     "name": "stdout",
     "output_type": "stream",
     "text": [
      "[I 2024-03-01 17:40:21,252] Trial 22 pruned. Trial was pruned at epoch 1.\n"
     ]
    },
    {
     "name": "stderr",
     "output_type": "stream",
     "text": [
      "Best trial: 16. Best value: 1.01442:  24%|██████████▌                                 | 24/100 [09:21<20:47, 16.41s/it]Using 16bit Automatic Mixed Precision (AMP)\n",
      "GPU available: True (cuda), used: True\n",
      "TPU available: False, using: 0 TPU cores\n",
      "IPU available: False, using: 0 IPUs\n",
      "HPU available: False, using: 0 HPUs\n",
      "LOCAL_RANK: 0 - CUDA_VISIBLE_DEVICES: [0]\n"
     ]
    },
    {
     "name": "stdout",
     "output_type": "stream",
     "text": [
      "[I 2024-03-01 17:40:29,652] Trial 23 pruned. Trial was pruned at epoch 1.\n"
     ]
    },
    {
     "name": "stderr",
     "output_type": "stream",
     "text": [
      "Best trial: 16. Best value: 1.01442:  25%|███████████                                 | 25/100 [09:27<16:39, 13.33s/it]Using 16bit Automatic Mixed Precision (AMP)\n",
      "GPU available: True (cuda), used: True\n",
      "TPU available: False, using: 0 TPU cores\n",
      "IPU available: False, using: 0 IPUs\n",
      "HPU available: False, using: 0 HPUs\n",
      "LOCAL_RANK: 0 - CUDA_VISIBLE_DEVICES: [0]\n"
     ]
    },
    {
     "name": "stdout",
     "output_type": "stream",
     "text": [
      "[I 2024-03-01 17:40:35,787] Trial 24 pruned. Trial was pruned at epoch 1.\n"
     ]
    },
    {
     "name": "stderr",
     "output_type": "stream",
     "text": [
      "Best trial: 16. Best value: 1.01442:  26%|███████████▍                                | 26/100 [10:04<25:16, 20.49s/it]Using 16bit Automatic Mixed Precision (AMP)\n",
      "GPU available: True (cuda), used: True\n",
      "TPU available: False, using: 0 TPU cores\n",
      "IPU available: False, using: 0 IPUs\n",
      "HPU available: False, using: 0 HPUs\n",
      "LOCAL_RANK: 0 - CUDA_VISIBLE_DEVICES: [0]\n"
     ]
    },
    {
     "name": "stdout",
     "output_type": "stream",
     "text": [
      "[I 2024-03-01 17:41:12,973] Trial 25 finished with value: 1.1288832426071167 and parameters: {'learning_rate': 0.020209572335934806, 'lr_decay': 0.9918689572278112, 'num_layers': 2, 'hidden_size_pw': 3, 'dropout_rate': 0.007755047636764413}. Best is trial 16 with value: 1.0144165754318237.\n"
     ]
    },
    {
     "name": "stderr",
     "output_type": "stream",
     "text": [
      "Best trial: 16. Best value: 1.01442:  27%|███████████▉                                | 27/100 [10:13<20:29, 16.84s/it]Using 16bit Automatic Mixed Precision (AMP)\n",
      "GPU available: True (cuda), used: True\n",
      "TPU available: False, using: 0 TPU cores\n",
      "IPU available: False, using: 0 IPUs\n",
      "HPU available: False, using: 0 HPUs\n",
      "LOCAL_RANK: 0 - CUDA_VISIBLE_DEVICES: [0]\n"
     ]
    },
    {
     "name": "stdout",
     "output_type": "stream",
     "text": [
      "[I 2024-03-01 17:41:21,304] Trial 26 pruned. Trial was pruned at epoch 1.\n"
     ]
    },
    {
     "name": "stderr",
     "output_type": "stream",
     "text": [
      "Best trial: 16. Best value: 1.01442:  28%|████████████▎                               | 28/100 [10:23<18:00, 15.01s/it]Using 16bit Automatic Mixed Precision (AMP)\n",
      "GPU available: True (cuda), used: True\n",
      "TPU available: False, using: 0 TPU cores\n",
      "IPU available: False, using: 0 IPUs\n",
      "HPU available: False, using: 0 HPUs\n",
      "LOCAL_RANK: 0 - CUDA_VISIBLE_DEVICES: [0]\n"
     ]
    },
    {
     "name": "stdout",
     "output_type": "stream",
     "text": [
      "[I 2024-03-01 17:41:32,034] Trial 27 pruned. Trial was pruned at epoch 1.\n"
     ]
    },
    {
     "name": "stderr",
     "output_type": "stream",
     "text": [
      "Best trial: 16. Best value: 1.01442:  29%|████████████▊                               | 29/100 [10:32<15:26, 13.05s/it]Using 16bit Automatic Mixed Precision (AMP)\n",
      "GPU available: True (cuda), used: True\n",
      "TPU available: False, using: 0 TPU cores\n",
      "IPU available: False, using: 0 IPUs\n",
      "HPU available: False, using: 0 HPUs\n",
      "LOCAL_RANK: 0 - CUDA_VISIBLE_DEVICES: [0]\n"
     ]
    },
    {
     "name": "stdout",
     "output_type": "stream",
     "text": [
      "[I 2024-03-01 17:41:40,530] Trial 28 pruned. Trial was pruned at epoch 1.\n"
     ]
    },
    {
     "name": "stderr",
     "output_type": "stream",
     "text": [
      "Best trial: 16. Best value: 1.01442:  30%|█████████████▏                              | 30/100 [10:43<14:27, 12.39s/it]Using 16bit Automatic Mixed Precision (AMP)\n",
      "GPU available: True (cuda), used: True\n",
      "TPU available: False, using: 0 TPU cores\n",
      "IPU available: False, using: 0 IPUs\n",
      "HPU available: False, using: 0 HPUs\n",
      "LOCAL_RANK: 0 - CUDA_VISIBLE_DEVICES: [0]\n"
     ]
    },
    {
     "name": "stdout",
     "output_type": "stream",
     "text": [
      "[I 2024-03-01 17:41:51,364] Trial 29 pruned. Trial was pruned at epoch 1.\n"
     ]
    },
    {
     "name": "stderr",
     "output_type": "stream",
     "text": [
      "Best trial: 16. Best value: 1.01442:  31%|█████████████▋                              | 31/100 [11:37<28:42, 24.96s/it]Using 16bit Automatic Mixed Precision (AMP)\n",
      "GPU available: True (cuda), used: True\n",
      "TPU available: False, using: 0 TPU cores\n",
      "IPU available: False, using: 0 IPUs\n",
      "HPU available: False, using: 0 HPUs\n",
      "LOCAL_RANK: 0 - CUDA_VISIBLE_DEVICES: [0]\n"
     ]
    },
    {
     "name": "stdout",
     "output_type": "stream",
     "text": [
      "[I 2024-03-01 17:42:45,652] Trial 30 pruned. Trial was pruned at epoch 9.\n"
     ]
    },
    {
     "name": "stderr",
     "output_type": "stream",
     "text": [
      "Best trial: 16. Best value: 1.01442:  32%|██████████████                              | 32/100 [11:53<25:26, 22.45s/it]Using 16bit Automatic Mixed Precision (AMP)\n",
      "GPU available: True (cuda), used: True\n",
      "TPU available: False, using: 0 TPU cores\n",
      "IPU available: False, using: 0 IPUs\n",
      "HPU available: False, using: 0 HPUs\n",
      "LOCAL_RANK: 0 - CUDA_VISIBLE_DEVICES: [0]\n"
     ]
    },
    {
     "name": "stdout",
     "output_type": "stream",
     "text": [
      "[I 2024-03-01 17:43:02,243] Trial 31 pruned. Trial was pruned at epoch 3.\n"
     ]
    },
    {
     "name": "stderr",
     "output_type": "stream",
     "text": [
      "Best trial: 16. Best value: 1.01442:  33%|██████████████▌                             | 33/100 [12:02<20:19, 18.21s/it]Using 16bit Automatic Mixed Precision (AMP)\n",
      "GPU available: True (cuda), used: True\n",
      "TPU available: False, using: 0 TPU cores\n",
      "IPU available: False, using: 0 IPUs\n",
      "HPU available: False, using: 0 HPUs\n",
      "LOCAL_RANK: 0 - CUDA_VISIBLE_DEVICES: [0]\n"
     ]
    },
    {
     "name": "stdout",
     "output_type": "stream",
     "text": [
      "[I 2024-03-01 17:43:10,561] Trial 32 pruned. Trial was pruned at epoch 1.\n"
     ]
    },
    {
     "name": "stderr",
     "output_type": "stream",
     "text": [
      "Best trial: 33. Best value: 0.999939:  34%|██████████████▌                            | 34/100 [12:28<22:41, 20.63s/it]Using 16bit Automatic Mixed Precision (AMP)\n",
      "GPU available: True (cuda), used: True\n",
      "TPU available: False, using: 0 TPU cores\n",
      "IPU available: False, using: 0 IPUs\n",
      "HPU available: False, using: 0 HPUs\n",
      "LOCAL_RANK: 0 - CUDA_VISIBLE_DEVICES: [0]\n"
     ]
    },
    {
     "name": "stdout",
     "output_type": "stream",
     "text": [
      "[I 2024-03-01 17:43:36,856] Trial 33 finished with value: 0.9999386668205261 and parameters: {'learning_rate': 0.01773831196826024, 'lr_decay': 0.9272437604965297, 'num_layers': 1, 'hidden_size_pw': 3, 'dropout_rate': 0.040666650640845195}. Best is trial 33 with value: 0.9999386668205261.\n"
     ]
    },
    {
     "name": "stderr",
     "output_type": "stream",
     "text": [
      "Best trial: 33. Best value: 0.999939:  35%|███████████████                            | 35/100 [12:40<19:37, 18.12s/it]Using 16bit Automatic Mixed Precision (AMP)\n",
      "GPU available: True (cuda), used: True\n",
      "TPU available: False, using: 0 TPU cores\n",
      "IPU available: False, using: 0 IPUs\n",
      "HPU available: False, using: 0 HPUs\n",
      "LOCAL_RANK: 0 - CUDA_VISIBLE_DEVICES: [0]\n"
     ]
    },
    {
     "name": "stdout",
     "output_type": "stream",
     "text": [
      "[I 2024-03-01 17:43:49,107] Trial 34 pruned. Trial was pruned at epoch 3.\n"
     ]
    },
    {
     "name": "stderr",
     "output_type": "stream",
     "text": [
      "Best trial: 33. Best value: 0.999939:  36%|███████████████▍                           | 36/100 [13:11<23:18, 21.85s/it]Using 16bit Automatic Mixed Precision (AMP)\n",
      "GPU available: True (cuda), used: True\n",
      "TPU available: False, using: 0 TPU cores\n",
      "IPU available: False, using: 0 IPUs\n",
      "HPU available: False, using: 0 HPUs\n",
      "LOCAL_RANK: 0 - CUDA_VISIBLE_DEVICES: [0]\n"
     ]
    },
    {
     "name": "stdout",
     "output_type": "stream",
     "text": [
      "[I 2024-03-01 17:44:19,645] Trial 35 pruned. Trial was pruned at epoch 9.\n"
     ]
    },
    {
     "name": "stderr",
     "output_type": "stream",
     "text": [
      "Best trial: 33. Best value: 0.999939:  37%|███████████████▉                           | 37/100 [13:17<17:57, 17.10s/it]Using 16bit Automatic Mixed Precision (AMP)\n",
      "GPU available: True (cuda), used: True\n",
      "TPU available: False, using: 0 TPU cores\n",
      "IPU available: False, using: 0 IPUs\n",
      "HPU available: False, using: 0 HPUs\n",
      "LOCAL_RANK: 0 - CUDA_VISIBLE_DEVICES: [0]\n"
     ]
    },
    {
     "name": "stdout",
     "output_type": "stream",
     "text": [
      "[I 2024-03-01 17:44:25,667] Trial 36 pruned. Trial was pruned at epoch 1.\n"
     ]
    },
    {
     "name": "stderr",
     "output_type": "stream",
     "text": [
      "Best trial: 33. Best value: 0.999939:  38%|████████████████▎                          | 38/100 [13:23<14:11, 13.74s/it]Using 16bit Automatic Mixed Precision (AMP)\n",
      "GPU available: True (cuda), used: True\n",
      "TPU available: False, using: 0 TPU cores\n",
      "IPU available: False, using: 0 IPUs\n",
      "HPU available: False, using: 0 HPUs\n",
      "LOCAL_RANK: 0 - CUDA_VISIBLE_DEVICES: [0]\n"
     ]
    },
    {
     "name": "stdout",
     "output_type": "stream",
     "text": [
      "[I 2024-03-01 17:44:31,575] Trial 37 pruned. Trial was pruned at epoch 1.\n"
     ]
    },
    {
     "name": "stderr",
     "output_type": "stream",
     "text": [
      "Best trial: 33. Best value: 0.999939:  39%|████████████████▊                          | 39/100 [13:35<13:31, 13.30s/it]Using 16bit Automatic Mixed Precision (AMP)\n",
      "GPU available: True (cuda), used: True\n",
      "TPU available: False, using: 0 TPU cores\n",
      "IPU available: False, using: 0 IPUs\n",
      "HPU available: False, using: 0 HPUs\n",
      "LOCAL_RANK: 0 - CUDA_VISIBLE_DEVICES: [0]\n"
     ]
    },
    {
     "name": "stdout",
     "output_type": "stream",
     "text": [
      "[I 2024-03-01 17:44:43,846] Trial 38 pruned. Trial was pruned at epoch 3.\n"
     ]
    },
    {
     "name": "stderr",
     "output_type": "stream",
     "text": [
      "Best trial: 33. Best value: 0.999939:  40%|█████████████████▏                         | 40/100 [13:41<11:04, 11.07s/it]Using 16bit Automatic Mixed Precision (AMP)\n",
      "GPU available: True (cuda), used: True\n",
      "TPU available: False, using: 0 TPU cores\n",
      "IPU available: False, using: 0 IPUs\n",
      "HPU available: False, using: 0 HPUs\n",
      "LOCAL_RANK: 0 - CUDA_VISIBLE_DEVICES: [0]\n"
     ]
    },
    {
     "name": "stdout",
     "output_type": "stream",
     "text": [
      "[I 2024-03-01 17:44:49,712] Trial 39 pruned. Trial was pruned at epoch 1.\n"
     ]
    },
    {
     "name": "stderr",
     "output_type": "stream",
     "text": [
      "Best trial: 33. Best value: 0.999939:  41%|█████████████████▋                         | 41/100 [14:23<20:01, 20.37s/it]Using 16bit Automatic Mixed Precision (AMP)\n",
      "GPU available: True (cuda), used: True\n",
      "TPU available: False, using: 0 TPU cores\n",
      "IPU available: False, using: 0 IPUs\n",
      "HPU available: False, using: 0 HPUs\n",
      "LOCAL_RANK: 0 - CUDA_VISIBLE_DEVICES: [0]\n"
     ]
    },
    {
     "name": "stdout",
     "output_type": "stream",
     "text": [
      "[I 2024-03-01 17:45:31,788] Trial 40 pruned. Trial was pruned at epoch 9.\n"
     ]
    },
    {
     "name": "stderr",
     "output_type": "stream",
     "text": [
      "Best trial: 33. Best value: 0.999939:  42%|██████████████████                         | 42/100 [14:31<16:10, 16.74s/it]Using 16bit Automatic Mixed Precision (AMP)\n",
      "GPU available: True (cuda), used: True\n",
      "TPU available: False, using: 0 TPU cores\n",
      "IPU available: False, using: 0 IPUs\n",
      "HPU available: False, using: 0 HPUs\n",
      "LOCAL_RANK: 0 - CUDA_VISIBLE_DEVICES: [0]\n"
     ]
    },
    {
     "name": "stdout",
     "output_type": "stream",
     "text": [
      "[I 2024-03-01 17:45:40,050] Trial 41 pruned. Trial was pruned at epoch 1.\n"
     ]
    },
    {
     "name": "stderr",
     "output_type": "stream",
     "text": [
      "Best trial: 33. Best value: 0.999939:  43%|██████████████████▍                        | 43/100 [14:39<13:27, 14.18s/it]Using 16bit Automatic Mixed Precision (AMP)\n",
      "GPU available: True (cuda), used: True\n",
      "TPU available: False, using: 0 TPU cores\n",
      "IPU available: False, using: 0 IPUs\n",
      "HPU available: False, using: 0 HPUs\n",
      "LOCAL_RANK: 0 - CUDA_VISIBLE_DEVICES: [0]\n"
     ]
    },
    {
     "name": "stdout",
     "output_type": "stream",
     "text": [
      "[I 2024-03-01 17:45:48,244] Trial 42 pruned. Trial was pruned at epoch 1.\n"
     ]
    },
    {
     "name": "stderr",
     "output_type": "stream",
     "text": [
      "Best trial: 33. Best value: 0.999939:  44%|██████████████████▉                        | 44/100 [14:48<11:33, 12.39s/it]Using 16bit Automatic Mixed Precision (AMP)\n",
      "GPU available: True (cuda), used: True\n",
      "TPU available: False, using: 0 TPU cores\n",
      "IPU available: False, using: 0 IPUs\n",
      "HPU available: False, using: 0 HPUs\n",
      "LOCAL_RANK: 0 - CUDA_VISIBLE_DEVICES: [0]\n"
     ]
    },
    {
     "name": "stdout",
     "output_type": "stream",
     "text": [
      "[I 2024-03-01 17:45:56,456] Trial 43 pruned. Trial was pruned at epoch 1.\n"
     ]
    },
    {
     "name": "stderr",
     "output_type": "stream",
     "text": [
      "Best trial: 33. Best value: 0.999939:  45%|███████████████████▎                       | 45/100 [15:04<12:27, 13.59s/it]Using 16bit Automatic Mixed Precision (AMP)\n",
      "GPU available: True (cuda), used: True\n",
      "TPU available: False, using: 0 TPU cores\n",
      "IPU available: False, using: 0 IPUs\n",
      "HPU available: False, using: 0 HPUs\n",
      "LOCAL_RANK: 0 - CUDA_VISIBLE_DEVICES: [0]\n"
     ]
    },
    {
     "name": "stdout",
     "output_type": "stream",
     "text": [
      "[I 2024-03-01 17:46:12,840] Trial 44 pruned. Trial was pruned at epoch 3.\n"
     ]
    },
    {
     "name": "stderr",
     "output_type": "stream",
     "text": [
      "Best trial: 33. Best value: 0.999939:  46%|███████████████████▊                       | 46/100 [15:26<14:36, 16.23s/it]Using 16bit Automatic Mixed Precision (AMP)\n",
      "GPU available: True (cuda), used: True\n",
      "TPU available: False, using: 0 TPU cores\n",
      "IPU available: False, using: 0 IPUs\n",
      "HPU available: False, using: 0 HPUs\n",
      "LOCAL_RANK: 0 - CUDA_VISIBLE_DEVICES: [0]\n"
     ]
    },
    {
     "name": "stdout",
     "output_type": "stream",
     "text": [
      "[I 2024-03-01 17:46:35,234] Trial 45 pruned. Trial was pruned at epoch 3.\n"
     ]
    },
    {
     "name": "stderr",
     "output_type": "stream",
     "text": [
      "Best trial: 33. Best value: 0.999939:  47%|████████████████████▏                      | 47/100 [15:35<12:19, 13.96s/it]Using 16bit Automatic Mixed Precision (AMP)\n",
      "GPU available: True (cuda), used: True\n",
      "TPU available: False, using: 0 TPU cores\n",
      "IPU available: False, using: 0 IPUs\n",
      "HPU available: False, using: 0 HPUs\n",
      "LOCAL_RANK: 0 - CUDA_VISIBLE_DEVICES: [0]\n"
     ]
    },
    {
     "name": "stdout",
     "output_type": "stream",
     "text": [
      "[I 2024-03-01 17:46:43,907] Trial 46 pruned. Trial was pruned at epoch 1.\n"
     ]
    },
    {
     "name": "stderr",
     "output_type": "stream",
     "text": [
      "Best trial: 33. Best value: 0.999939:  48%|████████████████████▋                      | 48/100 [16:29<22:32, 26.02s/it]Using 16bit Automatic Mixed Precision (AMP)\n",
      "GPU available: True (cuda), used: True\n",
      "TPU available: False, using: 0 TPU cores\n",
      "IPU available: False, using: 0 IPUs\n",
      "HPU available: False, using: 0 HPUs\n",
      "LOCAL_RANK: 0 - CUDA_VISIBLE_DEVICES: [0]\n"
     ]
    },
    {
     "name": "stdout",
     "output_type": "stream",
     "text": [
      "[I 2024-03-01 17:47:38,055] Trial 47 pruned. Trial was pruned at epoch 9.\n"
     ]
    },
    {
     "name": "stderr",
     "output_type": "stream",
     "text": [
      "Best trial: 33. Best value: 0.999939:  49%|█████████████████████                      | 49/100 [16:55<22:10, 26.08s/it]Using 16bit Automatic Mixed Precision (AMP)\n",
      "GPU available: True (cuda), used: True\n",
      "TPU available: False, using: 0 TPU cores\n",
      "IPU available: False, using: 0 IPUs\n",
      "HPU available: False, using: 0 HPUs\n",
      "LOCAL_RANK: 0 - CUDA_VISIBLE_DEVICES: [0]\n"
     ]
    },
    {
     "name": "stdout",
     "output_type": "stream",
     "text": [
      "[I 2024-03-01 17:48:04,278] Trial 48 finished with value: 1.1075724363327026 and parameters: {'learning_rate': 0.015262155526249412, 'lr_decay': 0.9834855291487332, 'num_layers': 1, 'hidden_size_pw': 3, 'dropout_rate': 0.033583318602623514}. Best is trial 33 with value: 0.9999386668205261.\n"
     ]
    },
    {
     "name": "stderr",
     "output_type": "stream",
     "text": [
      "Best trial: 33. Best value: 0.999939:  50%|█████████████████████▌                     | 50/100 [17:12<19:14, 23.09s/it]Using 16bit Automatic Mixed Precision (AMP)\n",
      "GPU available: True (cuda), used: True\n",
      "TPU available: False, using: 0 TPU cores\n",
      "IPU available: False, using: 0 IPUs\n",
      "HPU available: False, using: 0 HPUs\n",
      "LOCAL_RANK: 0 - CUDA_VISIBLE_DEVICES: [0]\n"
     ]
    },
    {
     "name": "stdout",
     "output_type": "stream",
     "text": [
      "[I 2024-03-01 17:48:20,395] Trial 49 pruned. Trial was pruned at epoch 3.\n"
     ]
    },
    {
     "name": "stderr",
     "output_type": "stream",
     "text": [
      "Best trial: 33. Best value: 0.999939:  51%|█████████████████████▉                     | 51/100 [17:20<15:16, 18.71s/it]Using 16bit Automatic Mixed Precision (AMP)\n",
      "GPU available: True (cuda), used: True\n",
      "TPU available: False, using: 0 TPU cores\n",
      "IPU available: False, using: 0 IPUs\n",
      "HPU available: False, using: 0 HPUs\n",
      "LOCAL_RANK: 0 - CUDA_VISIBLE_DEVICES: [0]\n"
     ]
    },
    {
     "name": "stdout",
     "output_type": "stream",
     "text": [
      "[I 2024-03-01 17:48:28,880] Trial 50 pruned. Trial was pruned at epoch 1.\n"
     ]
    },
    {
     "name": "stderr",
     "output_type": "stream",
     "text": [
      "Best trial: 33. Best value: 0.999939:  52%|██████████████████████▎                    | 52/100 [17:49<17:27, 21.81s/it]Using 16bit Automatic Mixed Precision (AMP)\n",
      "GPU available: True (cuda), used: True\n",
      "TPU available: False, using: 0 TPU cores\n",
      "IPU available: False, using: 0 IPUs\n",
      "HPU available: False, using: 0 HPUs\n",
      "LOCAL_RANK: 0 - CUDA_VISIBLE_DEVICES: [0]\n"
     ]
    },
    {
     "name": "stdout",
     "output_type": "stream",
     "text": [
      "[I 2024-03-01 17:48:57,935] Trial 51 pruned. Trial was pruned at epoch 9.\n"
     ]
    },
    {
     "name": "stderr",
     "output_type": "stream",
     "text": [
      "Best trial: 52. Best value: 0.839978:  53%|██████████████████████▊                    | 53/100 [18:18<18:47, 24.00s/it]Using 16bit Automatic Mixed Precision (AMP)\n",
      "GPU available: True (cuda), used: True\n",
      "TPU available: False, using: 0 TPU cores\n",
      "IPU available: False, using: 0 IPUs\n",
      "HPU available: False, using: 0 HPUs\n",
      "LOCAL_RANK: 0 - CUDA_VISIBLE_DEVICES: [0]\n"
     ]
    },
    {
     "name": "stdout",
     "output_type": "stream",
     "text": [
      "[I 2024-03-01 17:49:27,029] Trial 52 finished with value: 0.8399784564971924 and parameters: {'learning_rate': 0.012625367968410753, 'lr_decay': 0.9837307577189677, 'num_layers': 1, 'hidden_size_pw': 3, 'dropout_rate': 0.01697445964392105}. Best is trial 52 with value: 0.8399784564971924.\n"
     ]
    },
    {
     "name": "stderr",
     "output_type": "stream",
     "text": [
      "Best trial: 52. Best value: 0.839978:  54%|███████████████████████▏                   | 54/100 [18:30<15:33, 20.30s/it]Using 16bit Automatic Mixed Precision (AMP)\n",
      "GPU available: True (cuda), used: True\n",
      "TPU available: False, using: 0 TPU cores\n",
      "IPU available: False, using: 0 IPUs\n",
      "HPU available: False, using: 0 HPUs\n",
      "LOCAL_RANK: 0 - CUDA_VISIBLE_DEVICES: [0]\n"
     ]
    },
    {
     "name": "stdout",
     "output_type": "stream",
     "text": [
      "[I 2024-03-01 17:49:38,698] Trial 53 pruned. Trial was pruned at epoch 3.\n"
     ]
    },
    {
     "name": "stderr",
     "output_type": "stream",
     "text": [
      "Best trial: 52. Best value: 0.839978:  55%|███████████████████████▋                   | 55/100 [18:59<17:12, 22.95s/it]Using 16bit Automatic Mixed Precision (AMP)\n",
      "GPU available: True (cuda), used: True\n",
      "TPU available: False, using: 0 TPU cores\n",
      "IPU available: False, using: 0 IPUs\n",
      "HPU available: False, using: 0 HPUs\n",
      "LOCAL_RANK: 0 - CUDA_VISIBLE_DEVICES: [0]\n"
     ]
    },
    {
     "name": "stdout",
     "output_type": "stream",
     "text": [
      "[I 2024-03-01 17:50:07,850] Trial 54 finished with value: 0.9103405475616455 and parameters: {'learning_rate': 0.009829252968641825, 'lr_decay': 0.9890467978398949, 'num_layers': 1, 'hidden_size_pw': 3, 'dropout_rate': 0.015129867390750626}. Best is trial 52 with value: 0.8399784564971924.\n"
     ]
    },
    {
     "name": "stderr",
     "output_type": "stream",
     "text": [
      "Best trial: 52. Best value: 0.839978:  56%|████████████████████████                   | 56/100 [19:11<14:21, 19.57s/it]Using 16bit Automatic Mixed Precision (AMP)\n",
      "GPU available: True (cuda), used: True\n",
      "TPU available: False, using: 0 TPU cores\n",
      "IPU available: False, using: 0 IPUs\n",
      "HPU available: False, using: 0 HPUs\n",
      "LOCAL_RANK: 0 - CUDA_VISIBLE_DEVICES: [0]\n"
     ]
    },
    {
     "name": "stdout",
     "output_type": "stream",
     "text": [
      "[I 2024-03-01 17:50:19,520] Trial 55 pruned. Trial was pruned at epoch 3.\n"
     ]
    },
    {
     "name": "stderr",
     "output_type": "stream",
     "text": [
      "Best trial: 56. Best value: 0.722051:  57%|████████████████████████▌                  | 57/100 [19:46<17:19, 24.18s/it]Using 16bit Automatic Mixed Precision (AMP)\n",
      "GPU available: True (cuda), used: True\n",
      "TPU available: False, using: 0 TPU cores\n",
      "IPU available: False, using: 0 IPUs\n",
      "HPU available: False, using: 0 HPUs\n",
      "LOCAL_RANK: 0 - CUDA_VISIBLE_DEVICES: [0]\n"
     ]
    },
    {
     "name": "stdout",
     "output_type": "stream",
     "text": [
      "[I 2024-03-01 17:50:54,457] Trial 56 finished with value: 0.7220513224601746 and parameters: {'learning_rate': 0.009866812221132613, 'lr_decay': 0.9896724304738748, 'num_layers': 1, 'hidden_size_pw': 3, 'dropout_rate': 0.01723516559535659}. Best is trial 56 with value: 0.7220513224601746.\n"
     ]
    },
    {
     "name": "stderr",
     "output_type": "stream",
     "text": [
      "Best trial: 56. Best value: 0.722051:  58%|████████████████████████▉                  | 58/100 [19:57<14:18, 20.43s/it]Using 16bit Automatic Mixed Precision (AMP)\n",
      "GPU available: True (cuda), used: True\n",
      "TPU available: False, using: 0 TPU cores\n",
      "IPU available: False, using: 0 IPUs\n",
      "HPU available: False, using: 0 HPUs\n",
      "LOCAL_RANK: 0 - CUDA_VISIBLE_DEVICES: [0]\n"
     ]
    },
    {
     "name": "stdout",
     "output_type": "stream",
     "text": [
      "[I 2024-03-01 17:51:06,147] Trial 57 pruned. Trial was pruned at epoch 3.\n"
     ]
    },
    {
     "name": "stderr",
     "output_type": "stream",
     "text": [
      "Best trial: 56. Best value: 0.722051:  59%|█████████████████████████▎                 | 59/100 [20:28<16:00, 23.42s/it]Using 16bit Automatic Mixed Precision (AMP)\n",
      "GPU available: True (cuda), used: True\n",
      "TPU available: False, using: 0 TPU cores\n",
      "IPU available: False, using: 0 IPUs\n",
      "HPU available: False, using: 0 HPUs\n",
      "LOCAL_RANK: 0 - CUDA_VISIBLE_DEVICES: [0]\n"
     ]
    },
    {
     "name": "stdout",
     "output_type": "stream",
     "text": [
      "[I 2024-03-01 17:51:36,526] Trial 58 pruned. Trial was pruned at epoch 9.\n"
     ]
    },
    {
     "name": "stderr",
     "output_type": "stream",
     "text": [
      "Best trial: 56. Best value: 0.722051:  60%|█████████████████████████▊                 | 60/100 [20:57<16:43, 25.10s/it]Using 16bit Automatic Mixed Precision (AMP)\n",
      "GPU available: True (cuda), used: True\n",
      "TPU available: False, using: 0 TPU cores\n",
      "IPU available: False, using: 0 IPUs\n",
      "HPU available: False, using: 0 HPUs\n",
      "LOCAL_RANK: 0 - CUDA_VISIBLE_DEVICES: [0]\n"
     ]
    },
    {
     "name": "stdout",
     "output_type": "stream",
     "text": [
      "[I 2024-03-01 17:52:05,545] Trial 59 pruned. Trial was pruned at epoch 9.\n"
     ]
    },
    {
     "name": "stderr",
     "output_type": "stream",
     "text": [
      "Best trial: 56. Best value: 0.722051:  61%|██████████████████████████▏                | 61/100 [21:27<17:18, 26.64s/it]Using 16bit Automatic Mixed Precision (AMP)\n",
      "GPU available: True (cuda), used: True\n",
      "TPU available: False, using: 0 TPU cores\n",
      "IPU available: False, using: 0 IPUs\n",
      "HPU available: False, using: 0 HPUs\n",
      "LOCAL_RANK: 0 - CUDA_VISIBLE_DEVICES: [0]\n"
     ]
    },
    {
     "name": "stdout",
     "output_type": "stream",
     "text": [
      "[I 2024-03-01 17:52:35,786] Trial 60 pruned. Trial was pruned at epoch 9.\n"
     ]
    },
    {
     "name": "stderr",
     "output_type": "stream",
     "text": [
      "Best trial: 56. Best value: 0.722051:  62%|██████████████████████████▋                | 62/100 [21:39<14:00, 22.13s/it]Using 16bit Automatic Mixed Precision (AMP)\n",
      "GPU available: True (cuda), used: True\n",
      "TPU available: False, using: 0 TPU cores\n",
      "IPU available: False, using: 0 IPUs\n",
      "HPU available: False, using: 0 HPUs\n",
      "LOCAL_RANK: 0 - CUDA_VISIBLE_DEVICES: [0]\n"
     ]
    },
    {
     "name": "stdout",
     "output_type": "stream",
     "text": [
      "[I 2024-03-01 17:52:47,385] Trial 61 pruned. Trial was pruned at epoch 3.\n"
     ]
    },
    {
     "name": "stderr",
     "output_type": "stream",
     "text": [
      "Best trial: 56. Best value: 0.722051:  63%|███████████████████████████                | 63/100 [21:50<11:42, 18.98s/it]Using 16bit Automatic Mixed Precision (AMP)\n",
      "GPU available: True (cuda), used: True\n",
      "TPU available: False, using: 0 TPU cores\n",
      "IPU available: False, using: 0 IPUs\n",
      "HPU available: False, using: 0 HPUs\n",
      "LOCAL_RANK: 0 - CUDA_VISIBLE_DEVICES: [0]\n"
     ]
    },
    {
     "name": "stdout",
     "output_type": "stream",
     "text": [
      "[I 2024-03-01 17:52:59,024] Trial 62 pruned. Trial was pruned at epoch 3.\n"
     ]
    },
    {
     "name": "stderr",
     "output_type": "stream",
     "text": [
      "Best trial: 56. Best value: 0.722051:  64%|███████████████████████████▌               | 64/100 [22:19<13:10, 21.95s/it]Using 16bit Automatic Mixed Precision (AMP)\n",
      "GPU available: True (cuda), used: True\n",
      "TPU available: False, using: 0 TPU cores\n",
      "IPU available: False, using: 0 IPUs\n",
      "HPU available: False, using: 0 HPUs\n",
      "LOCAL_RANK: 0 - CUDA_VISIBLE_DEVICES: [0]\n"
     ]
    },
    {
     "name": "stdout",
     "output_type": "stream",
     "text": [
      "[I 2024-03-01 17:53:27,897] Trial 63 pruned. Trial was pruned at epoch 9.\n"
     ]
    },
    {
     "name": "stderr",
     "output_type": "stream",
     "text": [
      "Best trial: 56. Best value: 0.722051:  65%|███████████████████████████▉               | 65/100 [22:25<09:59, 17.12s/it]Using 16bit Automatic Mixed Precision (AMP)\n",
      "GPU available: True (cuda), used: True\n",
      "TPU available: False, using: 0 TPU cores\n",
      "IPU available: False, using: 0 IPUs\n",
      "HPU available: False, using: 0 HPUs\n",
      "LOCAL_RANK: 0 - CUDA_VISIBLE_DEVICES: [0]\n"
     ]
    },
    {
     "name": "stdout",
     "output_type": "stream",
     "text": [
      "[I 2024-03-01 17:53:33,734] Trial 64 pruned. Trial was pruned at epoch 1.\n"
     ]
    },
    {
     "name": "stderr",
     "output_type": "stream",
     "text": [
      "Best trial: 56. Best value: 0.722051:  66%|████████████████████████████▍              | 66/100 [22:31<07:46, 13.73s/it]Using 16bit Automatic Mixed Precision (AMP)\n",
      "GPU available: True (cuda), used: True\n",
      "TPU available: False, using: 0 TPU cores\n",
      "IPU available: False, using: 0 IPUs\n",
      "HPU available: False, using: 0 HPUs\n",
      "LOCAL_RANK: 0 - CUDA_VISIBLE_DEVICES: [0]\n"
     ]
    },
    {
     "name": "stdout",
     "output_type": "stream",
     "text": [
      "[I 2024-03-01 17:53:39,557] Trial 65 pruned. Trial was pruned at epoch 1.\n"
     ]
    },
    {
     "name": "stderr",
     "output_type": "stream",
     "text": [
      "Best trial: 56. Best value: 0.722051:  67%|████████████████████████████▊              | 67/100 [22:43<07:21, 13.38s/it]Using 16bit Automatic Mixed Precision (AMP)\n",
      "GPU available: True (cuda), used: True\n",
      "TPU available: False, using: 0 TPU cores\n",
      "IPU available: False, using: 0 IPUs\n",
      "HPU available: False, using: 0 HPUs\n",
      "LOCAL_RANK: 0 - CUDA_VISIBLE_DEVICES: [0]\n"
     ]
    },
    {
     "name": "stdout",
     "output_type": "stream",
     "text": [
      "[I 2024-03-01 17:53:52,141] Trial 66 pruned. Trial was pruned at epoch 3.\n"
     ]
    },
    {
     "name": "stderr",
     "output_type": "stream",
     "text": [
      "Best trial: 56. Best value: 0.722051:  68%|█████████████████████████████▏             | 68/100 [22:56<06:58, 13.07s/it]Using 16bit Automatic Mixed Precision (AMP)\n",
      "GPU available: True (cuda), used: True\n",
      "TPU available: False, using: 0 TPU cores\n",
      "IPU available: False, using: 0 IPUs\n",
      "HPU available: False, using: 0 HPUs\n",
      "LOCAL_RANK: 0 - CUDA_VISIBLE_DEVICES: [0]\n"
     ]
    },
    {
     "name": "stdout",
     "output_type": "stream",
     "text": [
      "[I 2024-03-01 17:54:04,464] Trial 67 pruned. Trial was pruned at epoch 3.\n"
     ]
    },
    {
     "name": "stderr",
     "output_type": "stream",
     "text": [
      "Best trial: 56. Best value: 0.722051:  69%|█████████████████████████████▋             | 69/100 [23:07<06:27, 12.49s/it]Using 16bit Automatic Mixed Precision (AMP)\n",
      "GPU available: True (cuda), used: True\n",
      "TPU available: False, using: 0 TPU cores\n",
      "IPU available: False, using: 0 IPUs\n",
      "HPU available: False, using: 0 HPUs\n",
      "LOCAL_RANK: 0 - CUDA_VISIBLE_DEVICES: [0]\n"
     ]
    },
    {
     "name": "stdout",
     "output_type": "stream",
     "text": [
      "[I 2024-03-01 17:54:15,598] Trial 68 pruned. Trial was pruned at epoch 1.\n"
     ]
    },
    {
     "name": "stderr",
     "output_type": "stream",
     "text": [
      "Best trial: 56. Best value: 0.722051:  70%|██████████████████████████████             | 70/100 [23:13<05:15, 10.51s/it]Using 16bit Automatic Mixed Precision (AMP)\n",
      "GPU available: True (cuda), used: True\n",
      "TPU available: False, using: 0 TPU cores\n",
      "IPU available: False, using: 0 IPUs\n",
      "HPU available: False, using: 0 HPUs\n",
      "LOCAL_RANK: 0 - CUDA_VISIBLE_DEVICES: [0]\n"
     ]
    },
    {
     "name": "stdout",
     "output_type": "stream",
     "text": [
      "[I 2024-03-01 17:54:21,487] Trial 69 pruned. Trial was pruned at epoch 1.\n"
     ]
    },
    {
     "name": "stderr",
     "output_type": "stream",
     "text": [
      "Best trial: 56. Best value: 0.722051:  71%|██████████████████████████████▌            | 71/100 [23:19<04:24,  9.12s/it]Using 16bit Automatic Mixed Precision (AMP)\n",
      "GPU available: True (cuda), used: True\n",
      "TPU available: False, using: 0 TPU cores\n",
      "IPU available: False, using: 0 IPUs\n",
      "HPU available: False, using: 0 HPUs\n",
      "LOCAL_RANK: 0 - CUDA_VISIBLE_DEVICES: [0]\n"
     ]
    },
    {
     "name": "stdout",
     "output_type": "stream",
     "text": [
      "[I 2024-03-01 17:54:27,354] Trial 70 pruned. Trial was pruned at epoch 1.\n"
     ]
    },
    {
     "name": "stderr",
     "output_type": "stream",
     "text": [
      "Best trial: 56. Best value: 0.722051:  72%|██████████████████████████████▉            | 72/100 [23:35<05:18, 11.38s/it]Using 16bit Automatic Mixed Precision (AMP)\n",
      "GPU available: True (cuda), used: True\n",
      "TPU available: False, using: 0 TPU cores\n",
      "IPU available: False, using: 0 IPUs\n",
      "HPU available: False, using: 0 HPUs\n",
      "LOCAL_RANK: 0 - CUDA_VISIBLE_DEVICES: [0]\n"
     ]
    },
    {
     "name": "stdout",
     "output_type": "stream",
     "text": [
      "[I 2024-03-01 17:54:44,029] Trial 71 pruned. Trial was pruned at epoch 3.\n"
     ]
    },
    {
     "name": "stderr",
     "output_type": "stream",
     "text": [
      "Best trial: 56. Best value: 0.722051:  73%|███████████████████████████████▍           | 73/100 [24:17<09:11, 20.44s/it]Using 16bit Automatic Mixed Precision (AMP)\n",
      "GPU available: True (cuda), used: True\n",
      "TPU available: False, using: 0 TPU cores\n",
      "IPU available: False, using: 0 IPUs\n",
      "HPU available: False, using: 0 HPUs\n",
      "LOCAL_RANK: 0 - CUDA_VISIBLE_DEVICES: [0]\n"
     ]
    },
    {
     "name": "stdout",
     "output_type": "stream",
     "text": [
      "[I 2024-03-01 17:55:25,607] Trial 72 pruned. Trial was pruned at epoch 9.\n"
     ]
    },
    {
     "name": "stderr",
     "output_type": "stream",
     "text": [
      "Best trial: 56. Best value: 0.722051:  74%|███████████████████████████████▊           | 74/100 [24:33<08:20, 19.25s/it]Using 16bit Automatic Mixed Precision (AMP)\n",
      "GPU available: True (cuda), used: True\n",
      "TPU available: False, using: 0 TPU cores\n",
      "IPU available: False, using: 0 IPUs\n",
      "HPU available: False, using: 0 HPUs\n",
      "LOCAL_RANK: 0 - CUDA_VISIBLE_DEVICES: [0]\n"
     ]
    },
    {
     "name": "stdout",
     "output_type": "stream",
     "text": [
      "[I 2024-03-01 17:55:42,089] Trial 73 pruned. Trial was pruned at epoch 3.\n"
     ]
    },
    {
     "name": "stderr",
     "output_type": "stream",
     "text": [
      "Best trial: 56. Best value: 0.722051:  75%|████████████████████████████████▎          | 75/100 [24:50<07:40, 18.42s/it]Using 16bit Automatic Mixed Precision (AMP)\n",
      "GPU available: True (cuda), used: True\n",
      "TPU available: False, using: 0 TPU cores\n",
      "IPU available: False, using: 0 IPUs\n",
      "HPU available: False, using: 0 HPUs\n",
      "LOCAL_RANK: 0 - CUDA_VISIBLE_DEVICES: [0]\n"
     ]
    },
    {
     "name": "stdout",
     "output_type": "stream",
     "text": [
      "[I 2024-03-01 17:55:58,548] Trial 74 pruned. Trial was pruned at epoch 3.\n"
     ]
    },
    {
     "name": "stderr",
     "output_type": "stream",
     "text": [
      "Best trial: 56. Best value: 0.722051:  76%|████████████████████████████████▋          | 76/100 [25:06<07:09, 17.90s/it]Using 16bit Automatic Mixed Precision (AMP)\n",
      "GPU available: True (cuda), used: True\n",
      "TPU available: False, using: 0 TPU cores\n",
      "IPU available: False, using: 0 IPUs\n",
      "HPU available: False, using: 0 HPUs\n",
      "LOCAL_RANK: 0 - CUDA_VISIBLE_DEVICES: [0]\n"
     ]
    },
    {
     "name": "stdout",
     "output_type": "stream",
     "text": [
      "[I 2024-03-01 17:56:15,242] Trial 75 pruned. Trial was pruned at epoch 3.\n"
     ]
    },
    {
     "name": "stderr",
     "output_type": "stream",
     "text": [
      "Best trial: 56. Best value: 0.722051:  77%|█████████████████████████████████          | 77/100 [25:28<07:18, 19.06s/it]Using 16bit Automatic Mixed Precision (AMP)\n",
      "GPU available: True (cuda), used: True\n",
      "TPU available: False, using: 0 TPU cores\n",
      "IPU available: False, using: 0 IPUs\n",
      "HPU available: False, using: 0 HPUs\n",
      "LOCAL_RANK: 0 - CUDA_VISIBLE_DEVICES: [0]\n"
     ]
    },
    {
     "name": "stdout",
     "output_type": "stream",
     "text": [
      "[I 2024-03-01 17:56:37,019] Trial 76 pruned. Trial was pruned at epoch 3.\n"
     ]
    },
    {
     "name": "stderr",
     "output_type": "stream",
     "text": [
      "Best trial: 56. Best value: 0.722051:  78%|█████████████████████████████████▌         | 78/100 [26:09<09:23, 25.59s/it]Using 16bit Automatic Mixed Precision (AMP)\n",
      "GPU available: True (cuda), used: True\n",
      "TPU available: False, using: 0 TPU cores\n",
      "IPU available: False, using: 0 IPUs\n",
      "HPU available: False, using: 0 HPUs\n",
      "LOCAL_RANK: 0 - CUDA_VISIBLE_DEVICES: [0]\n"
     ]
    },
    {
     "name": "stdout",
     "output_type": "stream",
     "text": [
      "[I 2024-03-01 17:57:17,850] Trial 77 pruned. Trial was pruned at epoch 9.\n"
     ]
    },
    {
     "name": "stderr",
     "output_type": "stream",
     "text": [
      "Best trial: 56. Best value: 0.722051:  79%|█████████████████████████████████▉         | 79/100 [27:06<12:14, 34.97s/it]Using 16bit Automatic Mixed Precision (AMP)\n",
      "GPU available: True (cuda), used: True\n",
      "TPU available: False, using: 0 TPU cores\n",
      "IPU available: False, using: 0 IPUs\n",
      "HPU available: False, using: 0 HPUs\n",
      "LOCAL_RANK: 0 - CUDA_VISIBLE_DEVICES: [0]\n"
     ]
    },
    {
     "name": "stdout",
     "output_type": "stream",
     "text": [
      "[I 2024-03-01 17:58:14,710] Trial 78 finished with value: 0.9368734955787659 and parameters: {'learning_rate': 0.013583811350104487, 'lr_decay': 0.9049573770351641, 'num_layers': 2, 'hidden_size_pw': 4, 'dropout_rate': 0.029945066172380096}. Best is trial 56 with value: 0.7220513224601746.\n"
     ]
    },
    {
     "name": "stderr",
     "output_type": "stream",
     "text": [
      "Best trial: 56. Best value: 0.722051:  80%|██████████████████████████████████▍        | 80/100 [27:14<08:58, 26.94s/it]Using 16bit Automatic Mixed Precision (AMP)\n",
      "GPU available: True (cuda), used: True\n",
      "TPU available: False, using: 0 TPU cores\n",
      "IPU available: False, using: 0 IPUs\n",
      "HPU available: False, using: 0 HPUs\n",
      "LOCAL_RANK: 0 - CUDA_VISIBLE_DEVICES: [0]\n"
     ]
    },
    {
     "name": "stdout",
     "output_type": "stream",
     "text": [
      "[I 2024-03-01 17:58:22,919] Trial 79 pruned. Trial was pruned at epoch 1.\n"
     ]
    },
    {
     "name": "stderr",
     "output_type": "stream",
     "text": [
      "Best trial: 56. Best value: 0.722051:  81%|██████████████████████████████████▊        | 81/100 [27:21<06:36, 20.85s/it]Using 16bit Automatic Mixed Precision (AMP)\n",
      "GPU available: True (cuda), used: True\n",
      "TPU available: False, using: 0 TPU cores\n",
      "IPU available: False, using: 0 IPUs\n",
      "HPU available: False, using: 0 HPUs\n",
      "LOCAL_RANK: 0 - CUDA_VISIBLE_DEVICES: [0]\n"
     ]
    },
    {
     "name": "stdout",
     "output_type": "stream",
     "text": [
      "[I 2024-03-01 17:58:29,555] Trial 80 pruned. Trial was pruned at epoch 1.\n"
     ]
    },
    {
     "name": "stderr",
     "output_type": "stream",
     "text": [
      "Best trial: 56. Best value: 0.722051:  82%|███████████████████████████████████▎       | 82/100 [27:59<07:49, 26.07s/it]Using 16bit Automatic Mixed Precision (AMP)\n",
      "GPU available: True (cuda), used: True\n",
      "TPU available: False, using: 0 TPU cores\n",
      "IPU available: False, using: 0 IPUs\n",
      "HPU available: False, using: 0 HPUs\n",
      "LOCAL_RANK: 0 - CUDA_VISIBLE_DEVICES: [0]\n"
     ]
    },
    {
     "name": "stdout",
     "output_type": "stream",
     "text": [
      "[I 2024-03-01 17:59:07,792] Trial 81 finished with value: 1.050110101699829 and parameters: {'learning_rate': 0.017584585357189927, 'lr_decay': 0.9061586232664419, 'num_layers': 2, 'hidden_size_pw': 4, 'dropout_rate': 0.04201914904932288}. Best is trial 56 with value: 0.7220513224601746.\n"
     ]
    },
    {
     "name": "stderr",
     "output_type": "stream",
     "text": [
      "Best trial: 56. Best value: 0.722051:  83%|███████████████████████████████████▋       | 83/100 [28:07<05:52, 20.71s/it]Using 16bit Automatic Mixed Precision (AMP)\n",
      "GPU available: True (cuda), used: True\n",
      "TPU available: False, using: 0 TPU cores\n",
      "IPU available: False, using: 0 IPUs\n",
      "HPU available: False, using: 0 HPUs\n",
      "LOCAL_RANK: 0 - CUDA_VISIBLE_DEVICES: [0]\n"
     ]
    },
    {
     "name": "stdout",
     "output_type": "stream",
     "text": [
      "[I 2024-03-01 17:59:15,993] Trial 82 pruned. Trial was pruned at epoch 1.\n"
     ]
    },
    {
     "name": "stderr",
     "output_type": "stream",
     "text": [
      "Best trial: 56. Best value: 0.722051:  84%|████████████████████████████████████       | 84/100 [29:14<09:14, 34.66s/it]Using 16bit Automatic Mixed Precision (AMP)\n",
      "GPU available: True (cuda), used: True\n",
      "TPU available: False, using: 0 TPU cores\n",
      "IPU available: False, using: 0 IPUs\n",
      "HPU available: False, using: 0 HPUs\n",
      "LOCAL_RANK: 0 - CUDA_VISIBLE_DEVICES: [0]\n"
     ]
    },
    {
     "name": "stdout",
     "output_type": "stream",
     "text": [
      "[I 2024-03-01 18:00:23,202] Trial 83 finished with value: 0.7921361327171326 and parameters: {'learning_rate': 0.009206772398587894, 'lr_decay': 0.9103706912485588, 'num_layers': 2, 'hidden_size_pw': 4, 'dropout_rate': 0.03738220362065119}. Best is trial 56 with value: 0.7220513224601746.\n"
     ]
    },
    {
     "name": "stderr",
     "output_type": "stream",
     "text": [
      "Best trial: 56. Best value: 0.722051:  85%|████████████████████████████████████▌      | 85/100 [29:55<09:08, 36.57s/it]Using 16bit Automatic Mixed Precision (AMP)\n",
      "GPU available: True (cuda), used: True\n",
      "TPU available: False, using: 0 TPU cores\n",
      "IPU available: False, using: 0 IPUs\n",
      "HPU available: False, using: 0 HPUs\n",
      "LOCAL_RANK: 0 - CUDA_VISIBLE_DEVICES: [0]\n"
     ]
    },
    {
     "name": "stdout",
     "output_type": "stream",
     "text": [
      "[I 2024-03-01 18:01:04,232] Trial 84 pruned. Trial was pruned at epoch 9.\n"
     ]
    },
    {
     "name": "stderr",
     "output_type": "stream",
     "text": [
      "Best trial: 56. Best value: 0.722051:  86%|████████████████████████████████████▉      | 86/100 [30:12<07:06, 30.48s/it]Using 16bit Automatic Mixed Precision (AMP)\n",
      "GPU available: True (cuda), used: True\n",
      "TPU available: False, using: 0 TPU cores\n",
      "IPU available: False, using: 0 IPUs\n",
      "HPU available: False, using: 0 HPUs\n",
      "LOCAL_RANK: 0 - CUDA_VISIBLE_DEVICES: [0]\n"
     ]
    },
    {
     "name": "stdout",
     "output_type": "stream",
     "text": [
      "[I 2024-03-01 18:01:20,517] Trial 85 pruned. Trial was pruned at epoch 3.\n"
     ]
    },
    {
     "name": "stderr",
     "output_type": "stream",
     "text": [
      "Best trial: 56. Best value: 0.722051:  87%|█████████████████████████████████████▍     | 87/100 [31:04<08:01, 37.01s/it]Using 16bit Automatic Mixed Precision (AMP)\n",
      "GPU available: True (cuda), used: True\n",
      "TPU available: False, using: 0 TPU cores\n",
      "IPU available: False, using: 0 IPUs\n",
      "HPU available: False, using: 0 HPUs\n",
      "LOCAL_RANK: 0 - CUDA_VISIBLE_DEVICES: [0]\n"
     ]
    },
    {
     "name": "stdout",
     "output_type": "stream",
     "text": [
      "[I 2024-03-01 18:02:12,755] Trial 86 finished with value: 0.7609094977378845 and parameters: {'learning_rate': 0.004669215518104294, 'lr_decay': 0.907509200108264, 'num_layers': 2, 'hidden_size_pw': 4, 'dropout_rate': 0.03713203690555007}. Best is trial 56 with value: 0.7220513224601746.\n"
     ]
    },
    {
     "name": "stderr",
     "output_type": "stream",
     "text": [
      "Best trial: 56. Best value: 0.722051:  88%|█████████████████████████████████████▊     | 88/100 [31:15<05:48, 29.08s/it]Using 16bit Automatic Mixed Precision (AMP)\n",
      "GPU available: True (cuda), used: True\n",
      "TPU available: False, using: 0 TPU cores\n",
      "IPU available: False, using: 0 IPUs\n",
      "HPU available: False, using: 0 HPUs\n",
      "LOCAL_RANK: 0 - CUDA_VISIBLE_DEVICES: [0]\n"
     ]
    },
    {
     "name": "stdout",
     "output_type": "stream",
     "text": [
      "[I 2024-03-01 18:02:23,324] Trial 87 pruned. Trial was pruned at epoch 1.\n"
     ]
    },
    {
     "name": "stderr",
     "output_type": "stream",
     "text": [
      "Best trial: 56. Best value: 0.722051:  89%|██████████████████████████████████████▎    | 89/100 [31:23<04:10, 22.75s/it]Using 16bit Automatic Mixed Precision (AMP)\n",
      "GPU available: True (cuda), used: True\n",
      "TPU available: False, using: 0 TPU cores\n",
      "IPU available: False, using: 0 IPUs\n",
      "HPU available: False, using: 0 HPUs\n",
      "LOCAL_RANK: 0 - CUDA_VISIBLE_DEVICES: [0]\n"
     ]
    },
    {
     "name": "stdout",
     "output_type": "stream",
     "text": [
      "[I 2024-03-01 18:02:31,312] Trial 88 pruned. Trial was pruned at epoch 1.\n"
     ]
    },
    {
     "name": "stderr",
     "output_type": "stream",
     "text": [
      "Best trial: 56. Best value: 0.722051:  90%|██████████████████████████████████████▋    | 90/100 [31:38<03:27, 20.72s/it]Using 16bit Automatic Mixed Precision (AMP)\n",
      "GPU available: True (cuda), used: True\n",
      "TPU available: False, using: 0 TPU cores\n",
      "IPU available: False, using: 0 IPUs\n",
      "HPU available: False, using: 0 HPUs\n",
      "LOCAL_RANK: 0 - CUDA_VISIBLE_DEVICES: [0]\n"
     ]
    },
    {
     "name": "stdout",
     "output_type": "stream",
     "text": [
      "[I 2024-03-01 18:02:47,282] Trial 89 pruned. Trial was pruned at epoch 3.\n"
     ]
    },
    {
     "name": "stderr",
     "output_type": "stream",
     "text": [
      "Best trial: 56. Best value: 0.722051:  91%|███████████████████████████████████████▏   | 91/100 [32:24<04:13, 28.12s/it]Using 16bit Automatic Mixed Precision (AMP)\n",
      "GPU available: True (cuda), used: True\n",
      "TPU available: False, using: 0 TPU cores\n",
      "IPU available: False, using: 0 IPUs\n",
      "HPU available: False, using: 0 HPUs\n",
      "LOCAL_RANK: 0 - CUDA_VISIBLE_DEVICES: [0]\n"
     ]
    },
    {
     "name": "stdout",
     "output_type": "stream",
     "text": [
      "[I 2024-03-01 18:03:32,684] Trial 90 finished with value: 0.8484074473381042 and parameters: {'learning_rate': 0.007389284917769792, 'lr_decay': 0.9179574980064898, 'num_layers': 1, 'hidden_size_pw': 4, 'dropout_rate': 0.03638752093671102}. Best is trial 56 with value: 0.7220513224601746.\n"
     ]
    },
    {
     "name": "stderr",
     "output_type": "stream",
     "text": [
      "Best trial: 56. Best value: 0.722051:  92%|███████████████████████████████████████▌   | 92/100 [32:30<02:52, 21.52s/it]Using 16bit Automatic Mixed Precision (AMP)\n",
      "GPU available: True (cuda), used: True\n",
      "TPU available: False, using: 0 TPU cores\n",
      "IPU available: False, using: 0 IPUs\n",
      "HPU available: False, using: 0 HPUs\n",
      "LOCAL_RANK: 0 - CUDA_VISIBLE_DEVICES: [0]\n"
     ]
    },
    {
     "name": "stdout",
     "output_type": "stream",
     "text": [
      "[I 2024-03-01 18:03:38,808] Trial 91 pruned. Trial was pruned at epoch 1.\n"
     ]
    },
    {
     "name": "stderr",
     "output_type": "stream",
     "text": [
      "Best trial: 56. Best value: 0.722051:  93%|███████████████████████████████████████▉   | 93/100 [32:42<02:11, 18.73s/it]Using 16bit Automatic Mixed Precision (AMP)\n",
      "GPU available: True (cuda), used: True\n",
      "TPU available: False, using: 0 TPU cores\n",
      "IPU available: False, using: 0 IPUs\n",
      "HPU available: False, using: 0 HPUs\n",
      "LOCAL_RANK: 0 - CUDA_VISIBLE_DEVICES: [0]\n"
     ]
    },
    {
     "name": "stdout",
     "output_type": "stream",
     "text": [
      "[I 2024-03-01 18:03:51,025] Trial 92 pruned. Trial was pruned at epoch 3.\n"
     ]
    },
    {
     "name": "stderr",
     "output_type": "stream",
     "text": [
      "Best trial: 56. Best value: 0.722051:  94%|████████████████████████████████████████▍  | 94/100 [33:10<02:07, 21.31s/it]Using 16bit Automatic Mixed Precision (AMP)\n",
      "GPU available: True (cuda), used: True\n",
      "TPU available: False, using: 0 TPU cores\n",
      "IPU available: False, using: 0 IPUs\n",
      "HPU available: False, using: 0 HPUs\n",
      "LOCAL_RANK: 0 - CUDA_VISIBLE_DEVICES: [0]\n"
     ]
    },
    {
     "name": "stdout",
     "output_type": "stream",
     "text": [
      "[I 2024-03-01 18:04:18,350] Trial 93 finished with value: 0.9318025708198547 and parameters: {'learning_rate': 0.007739923008689947, 'lr_decay': 0.9041820987155605, 'num_layers': 1, 'hidden_size_pw': 4, 'dropout_rate': 0.04544389723709639}. Best is trial 56 with value: 0.7220513224601746.\n"
     ]
    },
    {
     "name": "stderr",
     "output_type": "stream",
     "text": [
      "Best trial: 56. Best value: 0.722051:  95%|████████████████████████████████████████▊  | 95/100 [34:13<02:49, 33.94s/it]Using 16bit Automatic Mixed Precision (AMP)\n",
      "GPU available: True (cuda), used: True\n",
      "TPU available: False, using: 0 TPU cores\n",
      "IPU available: False, using: 0 IPUs\n",
      "HPU available: False, using: 0 HPUs\n",
      "LOCAL_RANK: 0 - CUDA_VISIBLE_DEVICES: [0]\n"
     ]
    },
    {
     "name": "stdout",
     "output_type": "stream",
     "text": [
      "[I 2024-03-01 18:05:21,757] Trial 94 finished with value: 0.7599174380302429 and parameters: {'learning_rate': 0.007199878057725175, 'lr_decay': 0.9040876888169191, 'num_layers': 1, 'hidden_size_pw': 4, 'dropout_rate': 0.044855502996948196}. Best is trial 56 with value: 0.7220513224601746.\n"
     ]
    },
    {
     "name": "stderr",
     "output_type": "stream",
     "text": [
      "Best trial: 56. Best value: 0.722051:  96%|█████████████████████████████████████████▎ | 96/100 [35:02<02:33, 38.42s/it]Using 16bit Automatic Mixed Precision (AMP)\n",
      "GPU available: True (cuda), used: True\n",
      "TPU available: False, using: 0 TPU cores\n",
      "IPU available: False, using: 0 IPUs\n",
      "HPU available: False, using: 0 HPUs\n",
      "LOCAL_RANK: 0 - CUDA_VISIBLE_DEVICES: [0]\n"
     ]
    },
    {
     "name": "stdout",
     "output_type": "stream",
     "text": [
      "[I 2024-03-01 18:06:10,647] Trial 95 finished with value: 0.7368196845054626 and parameters: {'learning_rate': 0.007484910690173054, 'lr_decay': 0.9029958946353829, 'num_layers': 1, 'hidden_size_pw': 4, 'dropout_rate': 0.04010223735980678}. Best is trial 56 with value: 0.7220513224601746.\n"
     ]
    },
    {
     "name": "stderr",
     "output_type": "stream",
     "text": [
      "Best trial: 56. Best value: 0.722051:  97%|█████████████████████████████████████████▋ | 97/100 [36:00<02:13, 44.44s/it]Using 16bit Automatic Mixed Precision (AMP)\n",
      "GPU available: True (cuda), used: True\n",
      "TPU available: False, using: 0 TPU cores\n",
      "IPU available: False, using: 0 IPUs\n",
      "HPU available: False, using: 0 HPUs\n",
      "LOCAL_RANK: 0 - CUDA_VISIBLE_DEVICES: [0]\n"
     ]
    },
    {
     "name": "stdout",
     "output_type": "stream",
     "text": [
      "[I 2024-03-01 18:07:09,123] Trial 96 finished with value: 0.7428352236747742 and parameters: {'learning_rate': 0.0059316894825882874, 'lr_decay': 0.902988757513801, 'num_layers': 1, 'hidden_size_pw': 4, 'dropout_rate': 0.04825350183933658}. Best is trial 56 with value: 0.7220513224601746.\n"
     ]
    },
    {
     "name": "stderr",
     "output_type": "stream",
     "text": [
      "Best trial: 56. Best value: 0.722051:  98%|██████████████████████████████████████████▏| 98/100 [36:13<01:09, 34.78s/it]Using 16bit Automatic Mixed Precision (AMP)\n",
      "GPU available: True (cuda), used: True\n",
      "TPU available: False, using: 0 TPU cores\n",
      "IPU available: False, using: 0 IPUs\n",
      "HPU available: False, using: 0 HPUs\n",
      "LOCAL_RANK: 0 - CUDA_VISIBLE_DEVICES: [0]\n"
     ]
    },
    {
     "name": "stdout",
     "output_type": "stream",
     "text": [
      "[I 2024-03-01 18:07:21,350] Trial 97 pruned. Trial was pruned at epoch 3.\n"
     ]
    },
    {
     "name": "stderr",
     "output_type": "stream",
     "text": [
      "Best trial: 56. Best value: 0.722051:  99%|██████████████████████████████████████████▌| 99/100 [36:43<00:33, 33.47s/it]Using 16bit Automatic Mixed Precision (AMP)\n",
      "GPU available: True (cuda), used: True\n",
      "TPU available: False, using: 0 TPU cores\n",
      "IPU available: False, using: 0 IPUs\n",
      "HPU available: False, using: 0 HPUs\n",
      "LOCAL_RANK: 0 - CUDA_VISIBLE_DEVICES: [0]\n"
     ]
    },
    {
     "name": "stdout",
     "output_type": "stream",
     "text": [
      "[I 2024-03-01 18:07:51,778] Trial 98 pruned. Trial was pruned at epoch 9.\n"
     ]
    },
    {
     "name": "stderr",
     "output_type": "stream",
     "text": [
      "Best trial: 56. Best value: 0.722051: 100%|██████████████████████████████████████████| 100/100 [36:49<00:00, 22.10s/it]"
     ]
    },
    {
     "name": "stdout",
     "output_type": "stream",
     "text": [
      "[I 2024-03-01 18:07:57,962] Trial 99 pruned. Trial was pruned at epoch 1.\n"
     ]
    },
    {
     "name": "stderr",
     "output_type": "stream",
     "text": [
      "\n"
     ]
    }
   ],
   "source": [
    "# Optimize study\n",
    "study_lstm.optimize(objective_lstm, n_trials = 100, show_progress_bar = True)"
   ]
  },
  {
   "cell_type": "code",
   "execution_count": 36,
   "id": "52bae9ca-011f-4653-816f-976f0393b96b",
   "metadata": {},
   "outputs": [],
   "source": [
    "# Retrieve and export trials\n",
    "export_trial_no = \"1\"\n",
    "trials_lstm = study_lstm.trials_dataframe().sort_values(\"value\", ascending = True)\n",
    "trials_lstm.to_csv(f\"./OutputData/trials_lstm{export_trial_no}.csv\", index = False)"
   ]
  },
  {
   "cell_type": "markdown",
   "id": "d425b0d3-852e-4f68-9c2f-eba6f18d3043",
   "metadata": {},
   "source": [
    "## Model testing"
   ]
  },
  {
   "cell_type": "code",
   "execution_count": 37,
   "id": "3e30c250-b6c3-4770-9956-38d58f666135",
   "metadata": {},
   "outputs": [],
   "source": [
    "# Import best trial\n",
    "import_trial_no = \"1\"\n",
    "best_trial_lstm= pd.read_csv(f\"./OutputData/trials_lstm{import_trial_no}.csv\").iloc[0,]"
   ]
  },
  {
   "cell_type": "code",
   "execution_count": 39,
   "id": "e6faea85-1885-4e39-858c-7b98e529c0ef",
   "metadata": {},
   "outputs": [
    {
     "data": {
      "text/plain": [
       "number                                                   56\n",
       "value                                              0.722051\n",
       "datetime_start                   2024-03-01 17:50:19.522596\n",
       "datetime_complete                2024-03-01 17:50:54.457491\n",
       "duration                             0 days 00:00:34.934895\n",
       "params_dropout_rate                                0.017235\n",
       "params_hidden_size_pw                                     3\n",
       "params_learning_rate                               0.009867\n",
       "params_lr_decay                                    0.989672\n",
       "params_num_layers                                         1\n",
       "user_attrs_n_epochs                                     7.0\n",
       "system_attrs_completed_rung_0                      1.080229\n",
       "system_attrs_completed_rung_1                      1.200117\n",
       "system_attrs_completed_rung_2                           NaN\n",
       "state                                              COMPLETE\n",
       "Name: 0, dtype: object"
      ]
     },
     "execution_count": 39,
     "metadata": {},
     "output_type": "execute_result"
    }
   ],
   "source": [
    "best_trial_lstm"
   ]
  },
  {
   "cell_type": "code",
   "execution_count": 43,
   "id": "2f49e3d8-26e5-44b1-af10-848cfb0bd0e8",
   "metadata": {},
   "outputs": [],
   "source": [
    "# Create hyperparameters dict\n",
    "hyperparameters_dict = {\n",
    "    \"output_length\": output_length,\n",
    "    \"input_size\": input_dims,\n",
    "    \"horizon_start\": horizon_start,\n",
    "    \"quantiles\": quantiles,\n",
    "    \"learning_rate\": best_trial_lstm[\"params_learning_rate\"],\n",
    "    \"lr_decay\": best_trial_lstm[\"params_lr_decay\"],\n",
    "    \"num_layers\": best_trial_lstm[\"params_num_layers\"],\n",
    "    \"hidden_size\": int(2 ** best_trial_lstm[\"params_hidden_size_pw\"]),\n",
    "    \"dropout_rate\": best_trial_lstm[\"params_dropout_rate\"]\n",
    "}"
   ]
  },
  {
   "cell_type": "code",
   "execution_count": 44,
   "id": "6517c633-90b1-49f0-8ae1-1e3b4ab87314",
   "metadata": {},
   "outputs": [
    {
     "name": "stderr",
     "output_type": "stream",
     "text": [
      "Using 16bit Automatic Mixed Precision (AMP)\n",
      "GPU available: True (cuda), used: True\n",
      "TPU available: False, using: 0 TPU cores\n",
      "IPU available: False, using: 0 IPUs\n",
      "HPU available: False, using: 0 HPUs\n"
     ]
    }
   ],
   "source": [
    "# Create trainer\n",
    "trainer = L.Trainer(\n",
    "    max_epochs = int(best_trial_lstm[\"user_attrs_n_epochs\"]),\n",
    "    accelerator = \"gpu\",\n",
    "    devices = \"auto\",\n",
    "    precision = \"16-mixed\",\n",
    "    enable_model_summary = True,\n",
    "    logger = False,\n",
    "    enable_progress_bar = True,\n",
    "    enable_checkpointing = False\n",
    ")"
   ]
  },
  {
   "cell_type": "code",
   "execution_count": 45,
   "id": "aa853b4b-e694-4c14-a14a-84eaf6bae6ca",
   "metadata": {},
   "outputs": [
    {
     "name": "stderr",
     "output_type": "stream",
     "text": [
      "C:\\Users\\PC\\Documents\\WorkLocal\\DataScience\\GitHub\\DeepLearningEnergyForecasting\\venv\\Lib\\site-packages\\lightning\\pytorch\\trainer\\configuration_validator.py:74: You defined a `validation_step` but have no `val_dataloader`. Skipping val loop.\n",
      "LOCAL_RANK: 0 - CUDA_VISIBLE_DEVICES: [0]\n",
      "\n",
      "  | Name         | Type   | Params\n",
      "----------------------------------------\n",
      "0 | lstm         | LSTM   | 576   \n",
      "1 | output_layer | Linear | 27    \n",
      "----------------------------------------\n",
      "603       Trainable params\n",
      "0         Non-trainable params\n",
      "603       Total params\n",
      "0.002     Total estimated model params size (MB)\n"
     ]
    },
    {
     "name": "stdout",
     "output_type": "stream",
     "text": [
      "Epoch 6: 100%|██████████████████████████| 27/27 [00:04<00:00,  5.41it/s, train_loss_step=0.337, train_loss_epoch=0.453]"
     ]
    },
    {
     "name": "stderr",
     "output_type": "stream",
     "text": [
      "`Trainer.fit` stopped: `max_epochs=7` reached.\n"
     ]
    },
    {
     "name": "stdout",
     "output_type": "stream",
     "text": [
      "Epoch 6: 100%|██████████████████████████| 27/27 [00:04<00:00,  5.41it/s, train_loss_step=0.337, train_loss_epoch=0.453]\n"
     ]
    }
   ],
   "source": [
    "# Create & train model\n",
    "model = StatefulQuantileLSTM(hyperparameters_dict)\n",
    "trainer.fit(model, train_loader)"
   ]
  },
  {
   "cell_type": "code",
   "execution_count": 46,
   "id": "9b66ee1e-d4cc-47d6-8298-656e219725c0",
   "metadata": {},
   "outputs": [
    {
     "name": "stderr",
     "output_type": "stream",
     "text": [
      "LOCAL_RANK: 0 - CUDA_VISIBLE_DEVICES: [0]\n"
     ]
    },
    {
     "name": "stdout",
     "output_type": "stream",
     "text": [
      "Predicting DataLoader 0: 100%|███████████████████████████████████████████████████████████| 6/6 [00:00<00:00, 38.40it/s]\n"
     ]
    }
   ],
   "source": [
    "# Make predictions on test data & backtransform scaled values\n",
    "preds_raw = trainer.predict(model, test_loader)\n",
    "preds_raw = torch.cat(preds_raw, dim = 0).cpu().numpy().astype(np.float32)\n",
    "preds = scaler_test.backtransform_preds(preds_raw)"
   ]
  },
  {
   "cell_type": "code",
   "execution_count": 47,
   "id": "6d20117b-eced-4518-9eb7-c198e3208ec6",
   "metadata": {},
   "outputs": [],
   "source": [
    "# Combine back prediction sequences with times\n",
    "test_dates = np.stack([sequence.index for sequence in test_output], axis = 0)\n",
    "df_preds = pd.DataFrame({\n",
    "    \"time\": np.ravel(test_dates),\n",
    "    \"pred_low\": np.ravel(preds[:, :, 0]),\n",
    "    \"pred_point\": np.ravel(preds[:, :, 1]),\n",
    "    \"pred_high\": np.ravel(preds[:, :, 2])\n",
    "})"
   ]
  },
  {
   "cell_type": "code",
   "execution_count": 48,
   "id": "2e257d78-6ee2-4987-9884-3d66ce4fd31a",
   "metadata": {},
   "outputs": [
    {
     "data": {
      "text/html": [
       "<div>\n",
       "<style scoped>\n",
       "    .dataframe tbody tr th:only-of-type {\n",
       "        vertical-align: middle;\n",
       "    }\n",
       "\n",
       "    .dataframe tbody tr th {\n",
       "        vertical-align: top;\n",
       "    }\n",
       "\n",
       "    .dataframe thead th {\n",
       "        text-align: right;\n",
       "    }\n",
       "</style>\n",
       "<table border=\"1\" class=\"dataframe\">\n",
       "  <thead>\n",
       "    <tr style=\"text-align: right;\">\n",
       "      <th></th>\n",
       "      <th>time</th>\n",
       "      <th>pred_low</th>\n",
       "      <th>pred_point</th>\n",
       "      <th>pred_high</th>\n",
       "    </tr>\n",
       "  </thead>\n",
       "  <tbody>\n",
       "    <tr>\n",
       "      <th>0</th>\n",
       "      <td>2022-10-18 16:00:00</td>\n",
       "      <td>36818.554688</td>\n",
       "      <td>38917.343750</td>\n",
       "      <td>43908.261719</td>\n",
       "    </tr>\n",
       "    <tr>\n",
       "      <th>1</th>\n",
       "      <td>2022-10-18 17:00:00</td>\n",
       "      <td>36990.488281</td>\n",
       "      <td>39187.523438</td>\n",
       "      <td>43859.136719</td>\n",
       "    </tr>\n",
       "    <tr>\n",
       "      <th>2</th>\n",
       "      <td>2022-10-18 18:00:00</td>\n",
       "      <td>36945.046875</td>\n",
       "      <td>39143.312500</td>\n",
       "      <td>43559.484375</td>\n",
       "    </tr>\n",
       "    <tr>\n",
       "      <th>3</th>\n",
       "      <td>2022-10-18 19:00:00</td>\n",
       "      <td>36669.343750</td>\n",
       "      <td>38742.957031</td>\n",
       "      <td>43019.128906</td>\n",
       "    </tr>\n",
       "    <tr>\n",
       "      <th>4</th>\n",
       "      <td>2022-10-18 20:00:00</td>\n",
       "      <td>36135.742188</td>\n",
       "      <td>37931.195312</td>\n",
       "      <td>42228.246094</td>\n",
       "    </tr>\n",
       "    <tr>\n",
       "      <th>...</th>\n",
       "      <td>...</td>\n",
       "      <td>...</td>\n",
       "      <td>...</td>\n",
       "      <td>...</td>\n",
       "    </tr>\n",
       "    <tr>\n",
       "      <th>12283</th>\n",
       "      <td>2023-11-06 19:00:00</td>\n",
       "      <td>35889.207031</td>\n",
       "      <td>36272.675781</td>\n",
       "      <td>40784.027344</td>\n",
       "    </tr>\n",
       "    <tr>\n",
       "      <th>12284</th>\n",
       "      <td>2023-11-06 20:00:00</td>\n",
       "      <td>35071.304688</td>\n",
       "      <td>35129.945312</td>\n",
       "      <td>39850.683594</td>\n",
       "    </tr>\n",
       "    <tr>\n",
       "      <th>12285</th>\n",
       "      <td>2023-11-06 21:00:00</td>\n",
       "      <td>33946.078125</td>\n",
       "      <td>33701.687500</td>\n",
       "      <td>38742.957031</td>\n",
       "    </tr>\n",
       "    <tr>\n",
       "      <th>12286</th>\n",
       "      <td>2023-11-06 22:00:00</td>\n",
       "      <td>32521.503906</td>\n",
       "      <td>32081.851562</td>\n",
       "      <td>37518.562500</td>\n",
       "    </tr>\n",
       "    <tr>\n",
       "      <th>12287</th>\n",
       "      <td>2023-11-06 23:00:00</td>\n",
       "      <td>30870.964844</td>\n",
       "      <td>30446.050781</td>\n",
       "      <td>36286.796875</td>\n",
       "    </tr>\n",
       "  </tbody>\n",
       "</table>\n",
       "<p>12288 rows × 4 columns</p>\n",
       "</div>"
      ],
      "text/plain": [
       "                     time      pred_low    pred_point     pred_high\n",
       "0     2022-10-18 16:00:00  36818.554688  38917.343750  43908.261719\n",
       "1     2022-10-18 17:00:00  36990.488281  39187.523438  43859.136719\n",
       "2     2022-10-18 18:00:00  36945.046875  39143.312500  43559.484375\n",
       "3     2022-10-18 19:00:00  36669.343750  38742.957031  43019.128906\n",
       "4     2022-10-18 20:00:00  36135.742188  37931.195312  42228.246094\n",
       "...                   ...           ...           ...           ...\n",
       "12283 2023-11-06 19:00:00  35889.207031  36272.675781  40784.027344\n",
       "12284 2023-11-06 20:00:00  35071.304688  35129.945312  39850.683594\n",
       "12285 2023-11-06 21:00:00  33946.078125  33701.687500  38742.957031\n",
       "12286 2023-11-06 22:00:00  32521.503906  32081.851562  37518.562500\n",
       "12287 2023-11-06 23:00:00  30870.964844  30446.050781  36286.796875\n",
       "\n",
       "[12288 rows x 4 columns]"
      ]
     },
     "execution_count": 48,
     "metadata": {},
     "output_type": "execute_result"
    }
   ],
   "source": [
    "df_preds"
   ]
  },
  {
   "cell_type": "code",
   "execution_count": 49,
   "id": "fd82f259-e2e6-43ca-891c-1372339ed4c9",
   "metadata": {},
   "outputs": [],
   "source": [
    "# Combine back testing output sequences with times\n",
    "test_output_stacked = np.stack(test_output, axis = 0)\n",
    "df_test_output = pd.DataFrame({\n",
    "    \"time\": np.ravel(test_dates),\n",
    "    \"consumption_MWh\": np.ravel(test_output_stacked[:, :, 0])\n",
    "})"
   ]
  },
  {
   "cell_type": "code",
   "execution_count": 50,
   "id": "df8b9fd9-f804-47d9-876b-3d0fc3959d1b",
   "metadata": {},
   "outputs": [
    {
     "data": {
      "text/html": [
       "<div>\n",
       "<style scoped>\n",
       "    .dataframe tbody tr th:only-of-type {\n",
       "        vertical-align: middle;\n",
       "    }\n",
       "\n",
       "    .dataframe tbody tr th {\n",
       "        vertical-align: top;\n",
       "    }\n",
       "\n",
       "    .dataframe thead th {\n",
       "        text-align: right;\n",
       "    }\n",
       "</style>\n",
       "<table border=\"1\" class=\"dataframe\">\n",
       "  <thead>\n",
       "    <tr style=\"text-align: right;\">\n",
       "      <th></th>\n",
       "      <th>time</th>\n",
       "      <th>consumption_MWh</th>\n",
       "    </tr>\n",
       "  </thead>\n",
       "  <tbody>\n",
       "    <tr>\n",
       "      <th>0</th>\n",
       "      <td>2022-10-18 16:00:00</td>\n",
       "      <td>38638.44</td>\n",
       "    </tr>\n",
       "    <tr>\n",
       "      <th>1</th>\n",
       "      <td>2022-10-18 17:00:00</td>\n",
       "      <td>38901.53</td>\n",
       "    </tr>\n",
       "    <tr>\n",
       "      <th>2</th>\n",
       "      <td>2022-10-18 18:00:00</td>\n",
       "      <td>37955.57</td>\n",
       "    </tr>\n",
       "    <tr>\n",
       "      <th>3</th>\n",
       "      <td>2022-10-18 19:00:00</td>\n",
       "      <td>37309.52</td>\n",
       "    </tr>\n",
       "    <tr>\n",
       "      <th>4</th>\n",
       "      <td>2022-10-18 20:00:00</td>\n",
       "      <td>36122.04</td>\n",
       "    </tr>\n",
       "    <tr>\n",
       "      <th>...</th>\n",
       "      <td>...</td>\n",
       "      <td>...</td>\n",
       "    </tr>\n",
       "    <tr>\n",
       "      <th>12283</th>\n",
       "      <td>2023-11-06 19:00:00</td>\n",
       "      <td>37942.64</td>\n",
       "    </tr>\n",
       "    <tr>\n",
       "      <th>12284</th>\n",
       "      <td>2023-11-06 20:00:00</td>\n",
       "      <td>36946.90</td>\n",
       "    </tr>\n",
       "    <tr>\n",
       "      <th>12285</th>\n",
       "      <td>2023-11-06 21:00:00</td>\n",
       "      <td>35721.14</td>\n",
       "    </tr>\n",
       "    <tr>\n",
       "      <th>12286</th>\n",
       "      <td>2023-11-06 22:00:00</td>\n",
       "      <td>33987.09</td>\n",
       "    </tr>\n",
       "    <tr>\n",
       "      <th>12287</th>\n",
       "      <td>2023-11-06 23:00:00</td>\n",
       "      <td>32120.51</td>\n",
       "    </tr>\n",
       "  </tbody>\n",
       "</table>\n",
       "<p>12288 rows × 2 columns</p>\n",
       "</div>"
      ],
      "text/plain": [
       "                     time  consumption_MWh\n",
       "0     2022-10-18 16:00:00         38638.44\n",
       "1     2022-10-18 17:00:00         38901.53\n",
       "2     2022-10-18 18:00:00         37955.57\n",
       "3     2022-10-18 19:00:00         37309.52\n",
       "4     2022-10-18 20:00:00         36122.04\n",
       "...                   ...              ...\n",
       "12283 2023-11-06 19:00:00         37942.64\n",
       "12284 2023-11-06 20:00:00         36946.90\n",
       "12285 2023-11-06 21:00:00         35721.14\n",
       "12286 2023-11-06 22:00:00         33987.09\n",
       "12287 2023-11-06 23:00:00         32120.51\n",
       "\n",
       "[12288 rows x 2 columns]"
      ]
     },
     "execution_count": 50,
     "metadata": {},
     "output_type": "execute_result"
    }
   ],
   "source": [
    "df_test_output"
   ]
  },
  {
   "cell_type": "code",
   "execution_count": 51,
   "id": "26d2fa23-50d0-4933-8301-86047279f13c",
   "metadata": {},
   "outputs": [
    {
     "data": {
      "image/png": "[encoded data removed]",
      "text/plain": [
       "<Figure size 640x480 with 1 Axes>"
      ]
     },
     "metadata": {},
     "output_type": "display_data"
    }
   ],
   "source": [
    "# Predicted vs. actual plot, hourly, entire test period\n",
    "_ = sns.lineplot(\n",
    "    data = df_test_output,\n",
    "    x = \"time\",\n",
    "    y = \"consumption_MWh\",\n",
    "    label = \"Actual\"\n",
    ")\n",
    "\n",
    "_ = sns.lineplot(\n",
    "    data = df_preds,\n",
    "    x = \"time\",\n",
    "    y = \"pred_point\",\n",
    "    label = \"Point prediction\"\n",
    ")\n",
    "\n",
    "_ = plt.fill_between(\n",
    "    x = df_preds.time,\n",
    "    y1 = df_preds.pred_low,\n",
    "    y2 = df_preds.pred_high,\n",
    "    label = \"95% prediction interval\",\n",
    "    color = \"orange\",\n",
    "    alpha = 0.4\n",
    ")"
   ]
  },
  {
   "cell_type": "code",
   "execution_count": null,
   "id": "37bdfecd-2e1b-4c39-af23-6e4c3a9b5925",
   "metadata": {},
   "outputs": [],
   "source": [
    "# Predicted vs. actual plot, with input sequences"
   ]
  },
  {
   "cell_type": "code",
   "execution_count": null,
   "id": "25bc5993-8e19-48f9-b1d6-db9f1c66b28a",
   "metadata": {},
   "outputs": [],
   "source": [
    "# Predicted vs. actual plot, zoomed in to 2-4 input/output sequences?"
   ]
  },
  {
   "cell_type": "code",
   "execution_count": null,
   "id": "465df9b5-86ec-4014-a26c-8a7d5ce6720a",
   "metadata": {},
   "outputs": [],
   "source": [
    "# Predicted vs. actual plot, daily?"
   ]
  },
  {
   "cell_type": "code",
   "execution_count": null,
   "id": "1cf7b372-0c26-41f5-a27b-b080727bc869",
   "metadata": {},
   "outputs": [],
   "source": [
    "# Calculate performance metrics: MAE, RMSLE, MAPE"
   ]
  }
 ],
 "metadata": {
  "kernelspec": {
   "display_name": "Python 3 (ipykernel)",
   "language": "python",
   "name": "python3"
  },
  "language_info": {
   "codemirror_mode": {
    "name": "ipython",
    "version": 3
   },
   "file_extension": ".py",
   "mimetype": "text/x-python",
   "name": "python",
   "nbconvert_exporter": "python",
   "pygments_lexer": "ipython3",
   "version": "3.12.2"
  }
 },
 "nbformat": 4,
 "nbformat_minor": 5
}
