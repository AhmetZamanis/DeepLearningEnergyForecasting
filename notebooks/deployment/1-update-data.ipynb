{
 "cells": [
  {
   "cell_type": "code",
   "execution_count": 30,
   "id": "01a3d0a2-56f7-4a29-b8a7-e3219968369a",
   "metadata": {},
   "outputs": [],
   "source": [
    "import datetime\n",
    "import requests\n",
    "import json\n",
    "import pandas as pd\n",
    "import sys\n",
    "\n",
    "from dateutil.relativedelta import relativedelta\n",
    "from pathlib import Path\n",
    "from src.utils import get_root_dir"
   ]
  },
  {
   "cell_type": "code",
   "execution_count": 2,
   "id": "c1a27f08-0f74-419c-8ac8-93312527102d",
   "metadata": {},
   "outputs": [],
   "source": [
    "%load_ext autoreload\n",
    "%autoreload 2"
   ]
  },
  {
   "cell_type": "code",
   "execution_count": 3,
   "id": "75363285-f851-4478-b990-9292aec3d7e4",
   "metadata": {},
   "outputs": [],
   "source": [
    "root_dir = get_root_dir()\n",
    "data_dir = root_dir / \"data\" / \"deployment\" / \"raw\"\n",
    "filepath = data_dir / \"consumption.csv\""
   ]
  },
  {
   "cell_type": "code",
   "execution_count": 4,
   "id": "f19e9a1b-9bdb-48ff-85e0-4a248b0227e1",
   "metadata": {},
   "outputs": [],
   "source": [
    "years_of_data = 5\n",
    "consumption_lag = 2"
   ]
  },
  {
   "cell_type": "code",
   "execution_count": 5,
   "id": "a8f36cb9-4465-4065-86ff-386f8f738e10",
   "metadata": {},
   "outputs": [
    {
     "data": {
      "text/plain": [
       "'2024-09-16T16:51:05+03:00'"
      ]
     },
     "execution_count": 5,
     "metadata": {},
     "output_type": "execute_result"
    }
   ],
   "source": [
    "current_date = datetime.datetime.now().astimezone().replace(microsecond = 0)\n",
    "current_date.isoformat()"
   ]
  },
  {
   "cell_type": "code",
   "execution_count": 6,
   "id": "d7906d74-bf56-475e-ad88-00c9cb533a53",
   "metadata": {},
   "outputs": [
    {
     "data": {
      "text/plain": [
       "'2024-09-16T14:51:05+03:00'"
      ]
     },
     "execution_count": 6,
     "metadata": {},
     "output_type": "execute_result"
    }
   ],
   "source": [
    "end_date = current_date - datetime.timedelta(hours = 2)\n",
    "end_date.isoformat()"
   ]
  },
  {
   "cell_type": "code",
   "execution_count": 7,
   "id": "5e1cd058-7ade-4ce0-b0cf-501f4aa74ddc",
   "metadata": {},
   "outputs": [
    {
     "data": {
      "text/plain": [
       "'2019-09-16T14:51:05+03:00'"
      ]
     },
     "execution_count": 7,
     "metadata": {},
     "output_type": "execute_result"
    }
   ],
   "source": [
    "start_date = end_date - relativedelta(years = years_of_data)\n",
    "start_date.isoformat()"
   ]
  },
  {
   "cell_type": "markdown",
   "id": "549a9e42-dcfe-442d-a0e2-3e9c0f26ca40",
   "metadata": {},
   "source": [
    "## TGT request"
   ]
  },
  {
   "cell_type": "code",
   "execution_count": null,
   "id": "b0d6fb7a-00b8-4f8a-ba00-f5fde81b70ab",
   "metadata": {},
   "outputs": [],
   "source": [
    "https://seffaflik.epias.com.tr/electricity-service/technical/en/index.html#_adding_security_information_to_requests"
   ]
  },
  {
   "cell_type": "code",
   "execution_count": null,
   "id": "ce7d4f69-0f3d-4c51-964e-ce9577d4646a",
   "metadata": {},
   "outputs": [],
   "source": [
    "login_url = \"https://giris.epias.com.tr/cas/v1/tickets\""
   ]
  },
  {
   "cell_type": "markdown",
   "id": "ffbbb27f-6fe5-4b07-85cc-475793dc0a97",
   "metadata": {},
   "source": [
    "## Consumption data request"
   ]
  },
  {
   "cell_type": "code",
   "execution_count": null,
   "id": "87a205af-b9dd-45dd-ab31-95851a2bc8e3",
   "metadata": {},
   "outputs": [],
   "source": [
    "https://seffaflik.epias.com.tr/electricity-service/technical/tr/index.html#_realtime-consumption-export"
   ]
  },
  {
   "cell_type": "code",
   "execution_count": 8,
   "id": "c3449a1e-4835-4c58-a7f4-67018f429d0e",
   "metadata": {},
   "outputs": [],
   "source": [
    "base_url = \"https://seffaflik.epias.com.tr\""
   ]
  },
  {
   "cell_type": "code",
   "execution_count": 9,
   "id": "cbe77dc9-843b-4aff-b58c-6069f34eeece",
   "metadata": {},
   "outputs": [],
   "source": [
    "request_url = base_url + \"/v1/consumption/data/realtime-consumption\""
   ]
  },
  {
   "cell_type": "code",
   "execution_count": 10,
   "id": "06614651-2335-49fe-a4a8-e1e306321746",
   "metadata": {},
   "outputs": [],
   "source": [
    "body = {\n",
    "    \"endDate\": end_date.isoformat(),\n",
    "    \"startDate\": start_date.isoformat()\n",
    "}"
   ]
  },
  {
   "cell_type": "code",
   "execution_count": 11,
   "id": "3327cfb7-8266-44fa-90f3-bdc4290b120e",
   "metadata": {},
   "outputs": [],
   "source": [
    "headers = {\n",
    "    \"TGT\": ###\n",
    "    \"Content-Type\": \"application/json\",\n",
    "    \"Accept\": \"application/json\"\n",
    "}"
   ]
  },
  {
   "cell_type": "code",
   "execution_count": 12,
   "id": "8e6fdaf9-59fc-4bb2-b71a-359749d1214d",
   "metadata": {},
   "outputs": [],
   "source": [
    "response = requests.post(\n",
    "    request_url,\n",
    "    data = json.dumps(body),\n",
    "    headers = headers\n",
    ")"
   ]
  },
  {
   "cell_type": "code",
   "execution_count": 16,
   "id": "1d8ea456-44bd-4e3f-b6b8-b0cd6327638e",
   "metadata": {},
   "outputs": [
    {
     "data": {
      "text/plain": [
       "<Response [200]>"
      ]
     },
     "execution_count": 16,
     "metadata": {},
     "output_type": "execute_result"
    }
   ],
   "source": [
    "response"
   ]
  },
  {
   "cell_type": "code",
   "execution_count": 21,
   "id": "7f3bfb15-1bc1-4833-947a-f9d0520880d3",
   "metadata": {},
   "outputs": [
    {
     "data": {
      "text/plain": [
       "requests.models.Response"
      ]
     },
     "execution_count": 21,
     "metadata": {},
     "output_type": "execute_result"
    }
   ],
   "source": [
    "response_data = response.json()"
   ]
  },
  {
   "cell_type": "code",
   "execution_count": null,
   "id": "de1f723a-428c-41a6-92f4-3604588454a9",
   "metadata": {},
   "outputs": [],
   "source": []
  }
 ],
 "metadata": {
  "kernelspec": {
   "display_name": "Python 3 (ipykernel)",
   "language": "python",
   "name": "python3"
  },
  "language_info": {
   "codemirror_mode": {
    "name": "ipython",
    "version": 3
   },
   "file_extension": ".py",
   "mimetype": "text/x-python",
   "name": "python",
   "nbconvert_exporter": "python",
   "pygments_lexer": "ipython3",
   "version": "3.12.2"
  }
 },
 "nbformat": 4,
 "nbformat_minor": 5
}
