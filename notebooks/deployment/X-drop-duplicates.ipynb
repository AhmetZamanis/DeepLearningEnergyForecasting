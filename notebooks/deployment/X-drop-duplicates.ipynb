{
 "cells": [
  {
   "cell_type": "code",
   "execution_count": null,
   "id": "5318654a-99ee-4144-8731-c908668026ef",
   "metadata": {},
   "outputs": [],
   "source": [
    "import pandas as pd\n",
    "\n",
    "from src.utils import get_root_dir"
   ]
  },
  {
   "cell_type": "code",
   "execution_count": null,
   "id": "6b010c7d-9e06-478b-abf0-75609afc8926",
   "metadata": {},
   "outputs": [],
   "source": [
    "root_dir = get_root_dir()\n",
    "data_dir = root_dir / \"data\" / \"deployment\" / \"raw\"\n",
    "filepath = data_dir / \"consumption.csv\""
   ]
  },
  {
   "cell_type": "code",
   "execution_count": null,
   "id": "47f158e4-c252-40af-a5ba-4e7e344ebb90",
   "metadata": {},
   "outputs": [],
   "source": [
    "df = pd.read_csv(filepath)"
   ]
  },
  {
   "cell_type": "code",
   "execution_count": null,
   "id": "fc618cd5-0938-4a59-aef4-b1c47d03388f",
   "metadata": {},
   "outputs": [],
   "source": [
    "df"
   ]
  },
  {
   "cell_type": "code",
   "execution_count": null,
   "id": "aad35fa2-040b-4310-9515-8fe376aea4d3",
   "metadata": {},
   "outputs": [],
   "source": [
    "df.duplicated(subset = [\"date\"], keep = \"last\")"
   ]
  },
  {
   "cell_type": "code",
   "execution_count": null,
   "id": "5862f1fa-ab55-40e5-bde9-7940463955f5",
   "metadata": {},
   "outputs": [],
   "source": [
    "df.date.dtype"
   ]
  },
  {
   "cell_type": "code",
   "execution_count": null,
   "id": "89bf353d-ef07-4803-93ea-cd5c9de8fee1",
   "metadata": {},
   "outputs": [],
   "source": [
    "df.drop_duplicates(subset = [\"date\"], keep = \"last\", ignore_index = True)"
   ]
  },
  {
   "cell_type": "code",
   "execution_count": null,
   "id": "940d8a21-9963-4f61-bc98-5ad8906ee9de",
   "metadata": {},
   "outputs": [],
   "source": [
    "pd.concat([df, df]).drop_duplicates(subset = [\"date\"], keep = \"last\", ignore_index = True)"
   ]
  },
  {
   "cell_type": "code",
   "execution_count": null,
   "id": "a67abb97-78a9-408c-aecb-118ffa77502e",
   "metadata": {},
   "outputs": [],
   "source": [
    "df.date[0]"
   ]
  },
  {
   "cell_type": "code",
   "execution_count": null,
   "id": "945caf59-a0d0-40ae-a2b4-370b2d05ab27",
   "metadata": {},
   "outputs": [],
   "source": [
    "df = df.drop_duplicates(subset = [\"date\"], keep = \"last\", ignore_index = True)"
   ]
  },
  {
   "cell_type": "code",
   "execution_count": null,
   "id": "bf0aba8b-4985-40f3-b6d2-9cc9bd65cb2e",
   "metadata": {},
   "outputs": [],
   "source": [
    "df"
   ]
  },
  {
   "cell_type": "code",
   "execution_count": null,
   "id": "fef14b75-d4e2-46ab-b4d6-d20e4fdd5e80",
   "metadata": {},
   "outputs": [],
   "source": [
    "df2 = pd.read_csv(filepath)"
   ]
  },
  {
   "cell_type": "code",
   "execution_count": null,
   "id": "e8149143-912c-404a-86fe-3bf83e9a2fe6",
   "metadata": {},
   "outputs": [],
   "source": [
    "df2"
   ]
  },
  {
   "cell_type": "code",
   "execution_count": null,
   "id": "9fbc1a98-fb1a-4a77-affc-af7edf74c2fa",
   "metadata": {},
   "outputs": [],
   "source": [
    "pd.concat([df2, df]).drop_duplicates(subset = [\"date\"], keep = \"last\", ignore_index = True)"
   ]
  },
  {
   "cell_type": "markdown",
   "id": "5f5fc53d-b7ea-4be3-94d1-235f59619b95",
   "metadata": {},
   "source": [
    "New data format upon API return: `2023-09-25T00:00:00+03:00`\n",
    "\n",
    "Old data format upon reloading from csv: `2020-09-25 00:00:00+03:00`\n",
    "\n",
    "Both are of string datatype, so not considered duplicates after merge. Pandas doesn't raise an error because they're strings.\n",
    "\n",
    "The datetime conversion at the end before the export sets all strings to the latter format in the final .csv file, so the error goes unnoticed.\n",
    "\n",
    "Solution: Set both dataframes' date columns to datetime before concatenating them."
   ]
  }
 ],
 "metadata": {
  "kernelspec": {
   "display_name": "Python 3 (ipykernel)",
   "language": "python",
   "name": "python3"
  },
  "language_info": {
   "codemirror_mode": {
    "name": "ipython",
    "version": 3
   },
   "file_extension": ".py",
   "mimetype": "text/x-python",
   "name": "python",
   "nbconvert_exporter": "python",
   "pygments_lexer": "ipython3",
   "version": "3.12.2"
  }
 },
 "nbformat": 4,
 "nbformat_minor": 5
}
