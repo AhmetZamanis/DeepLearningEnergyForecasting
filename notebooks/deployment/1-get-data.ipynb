{
 "cells": [
  {
   "cell_type": "code",
   "execution_count": 7,
   "id": "01a3d0a2-56f7-4a29-b8a7-e3219968369a",
   "metadata": {},
   "outputs": [],
   "source": [
    "import datetime\n",
    "import requests\n",
    "import json\n",
    "import pandas as pd\n",
    "import os\n",
    "\n",
    "from dateutil.relativedelta import relativedelta\n",
    "from dotenv import load_dotenv\n",
    "from pathlib import Path\n",
    "from src.utils import get_root_dir"
   ]
  },
  {
   "cell_type": "code",
   "execution_count": 8,
   "id": "c1a27f08-0f74-419c-8ac8-93312527102d",
   "metadata": {},
   "outputs": [
    {
     "name": "stdout",
     "output_type": "stream",
     "text": [
      "The autoreload extension is already loaded. To reload it, use:\n",
      "  %reload_ext autoreload\n"
     ]
    }
   ],
   "source": [
    "%load_ext autoreload\n",
    "%autoreload 2"
   ]
  },
  {
   "cell_type": "markdown",
   "id": "5d31dd37-a746-4e47-aa97-09db543a63d9",
   "metadata": {},
   "source": [
    "## Setup"
   ]
  },
  {
   "cell_type": "code",
   "execution_count": 9,
   "id": "75363285-f851-4478-b990-9292aec3d7e4",
   "metadata": {},
   "outputs": [],
   "source": [
    "root_dir = get_root_dir()\n",
    "data_dir = root_dir / \"data\" / \"deployment\" / \"raw\"\n",
    "filepath = data_dir / \"consumption.csv\""
   ]
  },
  {
   "cell_type": "code",
   "execution_count": 10,
   "id": "c5d4a162-0fcf-4c1f-8d4b-71c1beb0b602",
   "metadata": {},
   "outputs": [],
   "source": [
    "load_dotenv()\n",
    "epias_username = os.getenv(\"epias_username\")\n",
    "epias_password = os.getenv(\"epias_password\")"
   ]
  },
  {
   "cell_type": "code",
   "execution_count": 11,
   "id": "f19e9a1b-9bdb-48ff-85e0-4a248b0227e1",
   "metadata": {},
   "outputs": [],
   "source": [
    "years_of_data = 1\n",
    "consumption_lag = 2"
   ]
  },
  {
   "cell_type": "code",
   "execution_count": 12,
   "id": "a8f36cb9-4465-4065-86ff-386f8f738e10",
   "metadata": {},
   "outputs": [
    {
     "data": {
      "text/plain": [
       "'2024-09-18T16:02:46+03:00'"
      ]
     },
     "execution_count": 12,
     "metadata": {},
     "output_type": "execute_result"
    }
   ],
   "source": [
    "current_date = datetime.datetime.now().astimezone().replace(microsecond = 0)\n",
    "current_date.isoformat()"
   ]
  },
  {
   "cell_type": "code",
   "execution_count": 13,
   "id": "9b2d0500-271a-4303-876b-3449dbd226e7",
   "metadata": {},
   "outputs": [
    {
     "data": {
      "text/plain": [
       "str"
      ]
     },
     "execution_count": 13,
     "metadata": {},
     "output_type": "execute_result"
    }
   ],
   "source": [
    "type(current_date.isoformat())"
   ]
  },
  {
   "cell_type": "code",
   "execution_count": 14,
   "id": "d7906d74-bf56-475e-ad88-00c9cb533a53",
   "metadata": {},
   "outputs": [
    {
     "data": {
      "text/plain": [
       "'2024-09-18T14:02:46+03:00'"
      ]
     },
     "execution_count": 14,
     "metadata": {},
     "output_type": "execute_result"
    }
   ],
   "source": [
    "end_date = current_date - datetime.timedelta(hours = 2)\n",
    "end_date.isoformat()"
   ]
  },
  {
   "cell_type": "code",
   "execution_count": 15,
   "id": "5e1cd058-7ade-4ce0-b0cf-501f4aa74ddc",
   "metadata": {},
   "outputs": [
    {
     "data": {
      "text/plain": [
       "'2023-09-18T14:02:46+03:00'"
      ]
     },
     "execution_count": 15,
     "metadata": {},
     "output_type": "execute_result"
    }
   ],
   "source": [
    "start_date = end_date - relativedelta(years = years_of_data)\n",
    "start_date.isoformat()"
   ]
  },
  {
   "cell_type": "markdown",
   "id": "549a9e42-dcfe-442d-a0e2-3e9c0f26ca40",
   "metadata": {},
   "source": [
    "## TGT request"
   ]
  },
  {
   "cell_type": "markdown",
   "id": "56b88a48-aca4-4171-adda-c73576aa0287",
   "metadata": {},
   "source": [
    "https://seffaflik.epias.com.tr/electricity-service/technical/en/index.html#_adding_security_information_to_requests"
   ]
  },
  {
   "cell_type": "code",
   "execution_count": 16,
   "id": "ce7d4f69-0f3d-4c51-964e-ce9577d4646a",
   "metadata": {},
   "outputs": [],
   "source": [
    "login_url = \"https://giris.epias.com.tr/cas/v1/tickets\""
   ]
  },
  {
   "cell_type": "code",
   "execution_count": 17,
   "id": "f0779115-1337-4de6-b939-3ea4692e3e94",
   "metadata": {},
   "outputs": [],
   "source": [
    "login_headers = {\n",
    "    \"Content-Type\": \"application/x-www-form-urlencoded\",\n",
    "    \"Accept\": \"text/plain\"\n",
    "}"
   ]
  },
  {
   "cell_type": "code",
   "execution_count": 18,
   "id": "1e0a73a1-a953-4205-b2a5-1500eda5429e",
   "metadata": {},
   "outputs": [],
   "source": [
    "login_body = {\n",
    "    \"username\": epias_username,\n",
    "    \"password\": epias_password\n",
    "}"
   ]
  },
  {
   "cell_type": "code",
   "execution_count": 19,
   "id": "6fc74b98-59b3-4168-a98e-abdce46ea66d",
   "metadata": {},
   "outputs": [],
   "source": [
    "tgt_request = requests.post(\n",
    "    login_url,\n",
    "    data = login_body,\n",
    "    headers = login_headers\n",
    ")"
   ]
  },
  {
   "cell_type": "code",
   "execution_count": 23,
   "id": "67617d09-8a4e-4c07-886a-328f6d7b60c4",
   "metadata": {},
   "outputs": [
    {
     "data": {
      "text/plain": [
       "True"
      ]
     },
     "execution_count": 23,
     "metadata": {},
     "output_type": "execute_result"
    }
   ],
   "source": [
    "tgt_request.ok"
   ]
  },
  {
   "cell_type": "code",
   "execution_count": 41,
   "id": "4c390c25-bd4e-4511-ac46-a2f7cead1b30",
   "metadata": {},
   "outputs": [
    {
     "data": {
      "text/plain": [
       "201"
      ]
     },
     "execution_count": 41,
     "metadata": {},
     "output_type": "execute_result"
    }
   ],
   "source": [
    "tgt_request.status_code"
   ]
  },
  {
   "cell_type": "code",
   "execution_count": 24,
   "id": "1867263d-977b-4ccb-8812-5abc7b780c9d",
   "metadata": {},
   "outputs": [],
   "source": [
    "tgt = tgt_request.text"
   ]
  },
  {
   "cell_type": "markdown",
   "id": "cb40b14c-423a-47fb-b176-10c8135e1f9c",
   "metadata": {},
   "source": [
    "TGT is returned as plaintext."
   ]
  },
  {
   "cell_type": "markdown",
   "id": "ffbbb27f-6fe5-4b07-85cc-475793dc0a97",
   "metadata": {},
   "source": [
    "## Real Time Consumption Data Listing Service"
   ]
  },
  {
   "cell_type": "markdown",
   "id": "a0624028-9680-484f-abb2-20585991f0dc",
   "metadata": {},
   "source": [
    "https://seffaflik.epias.com.tr/electricity-service/technical/tr/index.html#_realtime-consumption"
   ]
  },
  {
   "cell_type": "markdown",
   "id": "62b92b27-d8cd-47dd-9913-77d8a3ab0072",
   "metadata": {},
   "source": [
    "Endpoint returns 1 year of data maximum."
   ]
  },
  {
   "cell_type": "code",
   "execution_count": 25,
   "id": "c3449a1e-4835-4c58-a7f4-67018f429d0e",
   "metadata": {},
   "outputs": [],
   "source": [
    "base_url = \"https://seffaflik.epias.com.tr/electricity-service\""
   ]
  },
  {
   "cell_type": "code",
   "execution_count": 26,
   "id": "cbe77dc9-843b-4aff-b58c-6069f34eeece",
   "metadata": {},
   "outputs": [],
   "source": [
    "consumption_url = base_url + \"/v1/consumption/data/realtime-consumption\""
   ]
  },
  {
   "cell_type": "code",
   "execution_count": 27,
   "id": "bef6a35b-aef6-4b5b-84c1-90d5b9c94589",
   "metadata": {},
   "outputs": [
    {
     "data": {
      "text/plain": [
       "'https://seffaflik.epias.com.tr/electricity-service/v1/consumption/data/realtime-consumption'"
      ]
     },
     "execution_count": 27,
     "metadata": {},
     "output_type": "execute_result"
    }
   ],
   "source": [
    "consumption_url"
   ]
  },
  {
   "cell_type": "code",
   "execution_count": 28,
   "id": "06614651-2335-49fe-a4a8-e1e306321746",
   "metadata": {},
   "outputs": [],
   "source": [
    "consumption_body = {\n",
    "    \"startDate\": start_date.isoformat(),\n",
    "    \"endDate\": end_date.isoformat()\n",
    "}"
   ]
  },
  {
   "cell_type": "code",
   "execution_count": 29,
   "id": "3327cfb7-8266-44fa-90f3-bdc4290b120e",
   "metadata": {},
   "outputs": [],
   "source": [
    "consumption_headers = {\n",
    "    \"Accept-Language\": \"en\",\n",
    "    \"Accept\": \"application/json\",\n",
    "    \"Content-Type\": \"application/json\",\n",
    "    \"TGT\": tgt,\n",
    "}"
   ]
  },
  {
   "cell_type": "code",
   "execution_count": 30,
   "id": "8e6fdaf9-59fc-4bb2-b71a-359749d1214d",
   "metadata": {},
   "outputs": [],
   "source": [
    "consumption_response = requests.post(\n",
    "    consumption_url,\n",
    "    data = json.dumps(consumption_body),\n",
    "    #data = consumption_body,\n",
    "    headers = consumption_headers\n",
    ")"
   ]
  },
  {
   "cell_type": "code",
   "execution_count": 32,
   "id": "1d8ea456-44bd-4e3f-b6b8-b0cd6327638e",
   "metadata": {},
   "outputs": [
    {
     "data": {
      "text/plain": [
       "200"
      ]
     },
     "execution_count": 32,
     "metadata": {},
     "output_type": "execute_result"
    }
   ],
   "source": [
    "consumption_response.status_code"
   ]
  },
  {
   "cell_type": "code",
   "execution_count": 33,
   "id": "84be0fca-fdd1-4d69-b33c-a4605ae9bfcc",
   "metadata": {},
   "outputs": [
    {
     "data": {
      "text/plain": [
       "True"
      ]
     },
     "execution_count": 33,
     "metadata": {},
     "output_type": "execute_result"
    }
   ],
   "source": [
    "consumption_response.ok"
   ]
  },
  {
   "cell_type": "code",
   "execution_count": 34,
   "id": "7f3bfb15-1bc1-4833-947a-f9d0520880d3",
   "metadata": {},
   "outputs": [],
   "source": [
    "response_data = json.loads(consumption_response.text)"
   ]
  },
  {
   "cell_type": "code",
   "execution_count": 35,
   "id": "11ed5d8d-d9b8-4eb5-bb9e-75fca967e13f",
   "metadata": {},
   "outputs": [
    {
     "data": {
      "text/plain": [
       "{'consumptionTotal': 338319316.7,\n",
       " 'consumptionAvg': 38554.91,\n",
       " 'consumptionMin': 20062.44,\n",
       " 'consumptionMax': 57772.4}"
      ]
     },
     "execution_count": 35,
     "metadata": {},
     "output_type": "execute_result"
    }
   ],
   "source": [
    "# \"statistics\" holds min-max-avg-total values\n",
    "response_data[\"statistics\"]"
   ]
  },
  {
   "cell_type": "code",
   "execution_count": 36,
   "id": "de1f723a-428c-41a6-92f4-3604588454a9",
   "metadata": {},
   "outputs": [],
   "source": [
    "# \"items\" holds the time series data\n",
    "df = pd.DataFrame(response_data[\"items\"])"
   ]
  },
  {
   "cell_type": "code",
   "execution_count": 37,
   "id": "2907c9fb-e540-4d29-a2e4-23ec5b41af1b",
   "metadata": {},
   "outputs": [
    {
     "data": {
      "text/html": [
       "<div>\n",
       "<style scoped>\n",
       "    .dataframe tbody tr th:only-of-type {\n",
       "        vertical-align: middle;\n",
       "    }\n",
       "\n",
       "    .dataframe tbody tr th {\n",
       "        vertical-align: top;\n",
       "    }\n",
       "\n",
       "    .dataframe thead th {\n",
       "        text-align: right;\n",
       "    }\n",
       "</style>\n",
       "<table border=\"1\" class=\"dataframe\">\n",
       "  <thead>\n",
       "    <tr style=\"text-align: right;\">\n",
       "      <th></th>\n",
       "      <th>date</th>\n",
       "      <th>time</th>\n",
       "      <th>consumption</th>\n",
       "    </tr>\n",
       "  </thead>\n",
       "  <tbody>\n",
       "    <tr>\n",
       "      <th>0</th>\n",
       "      <td>2023-09-19T00:00:00+03:00</td>\n",
       "      <td>00:00</td>\n",
       "      <td>35876.29</td>\n",
       "    </tr>\n",
       "    <tr>\n",
       "      <th>1</th>\n",
       "      <td>2023-09-19T01:00:00+03:00</td>\n",
       "      <td>01:00</td>\n",
       "      <td>34437.03</td>\n",
       "    </tr>\n",
       "    <tr>\n",
       "      <th>2</th>\n",
       "      <td>2023-09-19T02:00:00+03:00</td>\n",
       "      <td>02:00</td>\n",
       "      <td>33390.71</td>\n",
       "    </tr>\n",
       "    <tr>\n",
       "      <th>3</th>\n",
       "      <td>2023-09-19T03:00:00+03:00</td>\n",
       "      <td>03:00</td>\n",
       "      <td>32695.29</td>\n",
       "    </tr>\n",
       "    <tr>\n",
       "      <th>4</th>\n",
       "      <td>2023-09-19T04:00:00+03:00</td>\n",
       "      <td>04:00</td>\n",
       "      <td>32319.74</td>\n",
       "    </tr>\n",
       "    <tr>\n",
       "      <th>...</th>\n",
       "      <td>...</td>\n",
       "      <td>...</td>\n",
       "      <td>...</td>\n",
       "    </tr>\n",
       "    <tr>\n",
       "      <th>8770</th>\n",
       "      <td>2024-09-18T10:00:00+03:00</td>\n",
       "      <td>10:00</td>\n",
       "      <td>44244.60</td>\n",
       "    </tr>\n",
       "    <tr>\n",
       "      <th>8771</th>\n",
       "      <td>2024-09-18T11:00:00+03:00</td>\n",
       "      <td>11:00</td>\n",
       "      <td>45237.84</td>\n",
       "    </tr>\n",
       "    <tr>\n",
       "      <th>8772</th>\n",
       "      <td>2024-09-18T12:00:00+03:00</td>\n",
       "      <td>12:00</td>\n",
       "      <td>43580.20</td>\n",
       "    </tr>\n",
       "    <tr>\n",
       "      <th>8773</th>\n",
       "      <td>2024-09-18T13:00:00+03:00</td>\n",
       "      <td>13:00</td>\n",
       "      <td>44611.92</td>\n",
       "    </tr>\n",
       "    <tr>\n",
       "      <th>8774</th>\n",
       "      <td>2024-09-18T14:00:00+03:00</td>\n",
       "      <td>14:00</td>\n",
       "      <td>45772.33</td>\n",
       "    </tr>\n",
       "  </tbody>\n",
       "</table>\n",
       "<p>8775 rows × 3 columns</p>\n",
       "</div>"
      ],
      "text/plain": [
       "                           date   time  consumption\n",
       "0     2023-09-19T00:00:00+03:00  00:00     35876.29\n",
       "1     2023-09-19T01:00:00+03:00  01:00     34437.03\n",
       "2     2023-09-19T02:00:00+03:00  02:00     33390.71\n",
       "3     2023-09-19T03:00:00+03:00  03:00     32695.29\n",
       "4     2023-09-19T04:00:00+03:00  04:00     32319.74\n",
       "...                         ...    ...          ...\n",
       "8770  2024-09-18T10:00:00+03:00  10:00     44244.60\n",
       "8771  2024-09-18T11:00:00+03:00  11:00     45237.84\n",
       "8772  2024-09-18T12:00:00+03:00  12:00     43580.20\n",
       "8773  2024-09-18T13:00:00+03:00  13:00     44611.92\n",
       "8774  2024-09-18T14:00:00+03:00  14:00     45772.33\n",
       "\n",
       "[8775 rows x 3 columns]"
      ]
     },
     "execution_count": 37,
     "metadata": {},
     "output_type": "execute_result"
    }
   ],
   "source": [
    "df"
   ]
  },
  {
   "cell_type": "markdown",
   "id": "35072371-d5d1-48c5-bfa0-fa68982c824b",
   "metadata": {},
   "source": [
    "End date is sometimes rounded up to the next hour: \n",
    "- Request date: 11:59am,\n",
    "- end_date: 9:59am,\n",
    "- Final date in returned data: 10:00am,\n",
    "\n",
    "Not a problem, as the data for 10-11am is nearly complete by 11:59am."
   ]
  },
  {
   "cell_type": "code",
   "execution_count": 38,
   "id": "f391ee68-5396-4594-8d48-ffc0aa704578",
   "metadata": {},
   "outputs": [],
   "source": [
    "df.to_csv(\n",
    "    filepath,\n",
    "    index = False\n",
    ")"
   ]
  },
  {
   "cell_type": "markdown",
   "id": "45737d6e-eb7f-4b22-ad0f-5c535edbfe94",
   "metadata": {},
   "source": [
    "## Real Time Consumption Export Service"
   ]
  },
  {
   "cell_type": "markdown",
   "id": "9464f715-4fef-4c65-b385-430fd963dbe3",
   "metadata": {},
   "source": [
    "https://seffaflik.epias.com.tr/electricity-service/technical/en/index.html#_realtime-consumption-export"
   ]
  },
  {
   "cell_type": "code",
   "execution_count": 29,
   "id": "2fdf8954-687b-4a84-949f-8f69e894bda5",
   "metadata": {},
   "outputs": [],
   "source": [
    "export_url = base_url + \"/v1/consumption/export/realtime-consumption\""
   ]
  },
  {
   "cell_type": "code",
   "execution_count": 30,
   "id": "82051c26-2600-4511-a054-0c73c9a68933",
   "metadata": {},
   "outputs": [
    {
     "data": {
      "text/plain": [
       "'https://seffaflik.epias.com.tr/electricity-service/v1/consumption/export/realtime-consumption'"
      ]
     },
     "execution_count": 30,
     "metadata": {},
     "output_type": "execute_result"
    }
   ],
   "source": [
    "export_url"
   ]
  },
  {
   "cell_type": "code",
   "execution_count": 31,
   "id": "1deb81ef-16d1-4d7c-beba-df3d61703ae5",
   "metadata": {},
   "outputs": [],
   "source": [
    "export_body = {\n",
    "    \"startDate\": start_date.isoformat(),\n",
    "    \"exportType\": \"CSV\",\n",
    "    \"endDate\": end_date.isoformat()\n",
    "}"
   ]
  },
  {
   "cell_type": "markdown",
   "id": "5d736002-69b1-4870-ab98-d52bb600c4b9",
   "metadata": {},
   "source": [
    "This endpoint also requires a TGT in the request body, **even though it's not listed in the documentation**."
   ]
  },
  {
   "cell_type": "code",
   "execution_count": 32,
   "id": "caca420d-3114-420a-8044-b7ad0a60d2e1",
   "metadata": {},
   "outputs": [],
   "source": [
    "export_headers = {\n",
    "    \"Accept-Language\": \"en\",\n",
    "    \"Accept\": \"application/json\",\n",
    "    \"Content-Type\": \"application/json\",\n",
    "    \"TGT\": tgt,\n",
    "}"
   ]
  },
  {
   "cell_type": "code",
   "execution_count": 33,
   "id": "7d324579-071b-4c4a-8926-ad0f7e0e070d",
   "metadata": {},
   "outputs": [],
   "source": [
    "export_response = requests.post(\n",
    "    export_url,\n",
    "    data = json.dumps(export_body),\n",
    "    #data = export_body,\n",
    "    headers = export_headers\n",
    ")"
   ]
  },
  {
   "cell_type": "code",
   "execution_count": 34,
   "id": "e51bbc00-e682-4664-9b93-b1bd8434d866",
   "metadata": {},
   "outputs": [
    {
     "data": {
      "text/plain": [
       "<Response [200]>"
      ]
     },
     "execution_count": 34,
     "metadata": {},
     "output_type": "execute_result"
    }
   ],
   "source": [
    "export_response"
   ]
  },
  {
   "cell_type": "markdown",
   "id": "c5a69f4e-a286-4a09-a6a0-8023078be42d",
   "metadata": {},
   "source": [
    "This endpoint seems to yield successful responses with <=1 year requests, but in HTML format. The code below can be used to print & save it. Could also be exported to .csv.\n",
    "\n",
    "It yields an error with with >1 year requests, same as the first endpoint. But the \"Content-Type\" changes to JSON."
   ]
  },
  {
   "cell_type": "raw",
   "id": "16bb8139-d5ce-473f-b486-cdfb424c3a83",
   "metadata": {},
   "source": [
    "# View HTML content \n",
    "from bs4 import BeautifulSoup\n",
    "\n",
    "html_content = export_response.text\n",
    "soup = BeautifulSoup(html_content, 'html.parser')\n",
    "print(soup.prettify())"
   ]
  },
  {
   "cell_type": "raw",
   "id": "49076b3e-823f-4f7c-9353-5f2313411025",
   "metadata": {},
   "source": [
    "# Save the HTML content to a file\n",
    "with open('response.html', 'w', encoding='utf-8') as file:\n",
    "    file.write(html_content)"
   ]
  }
 ],
 "metadata": {
  "kernelspec": {
   "display_name": "Python 3 (ipykernel)",
   "language": "python",
   "name": "python3"
  },
  "language_info": {
   "codemirror_mode": {
    "name": "ipython",
    "version": 3
   },
   "file_extension": ".py",
   "mimetype": "text/x-python",
   "name": "python",
   "nbconvert_exporter": "python",
   "pygments_lexer": "ipython3",
   "version": "3.12.2"
  }
 },
 "nbformat": 4,
 "nbformat_minor": 5
}
